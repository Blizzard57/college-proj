{
 "cells": [
  {
   "cell_type": "markdown",
   "source": [
    "# Assignment-1: Transformations and representations\n",
    "\n",
    "Team Name: Robotnix\n",
    "\n",
    "Roll number: 2018111010 2018113003"
   ],
   "metadata": {}
  },
  {
   "cell_type": "markdown",
   "source": [
    "# Instructions\n",
    "\n",
    "- Code must be written in Python in Jupyter Notebooks. We highly recommend using anaconda distribution or at the minimum, virtual environments for this assignment. See `Set Up` for detailed step-by-step instructions about the installation setup.\n",
    "- Save all your results in ```results/<question_number>/<sub_topic_number>/```\n",
    "- The **References** section provides you with important resources to solve the assignment.\n",
    "- For this assignment, you will be using Open3D extensively. Refer to [Open3D Documentation](http://www.open3d.org/docs/release/): you can use the in-built methods and **unless explicitly mentioned**, don't need to code from scratch for this assignment. \n",
    "- Make sure your code is modular since you may need to reuse parts for future assignments.\n",
    "- Answer the descriptive questions in your own words with context & clarity. Do not copy answers from online resources or lecture notes.\n",
    "- The **deadline** for this assignment is on 11/09/2021 at 11:55pm. Please note that there will be no extensions.\n",
    "- Plagiarism is **strictly prohibited**.\n"
   ],
   "metadata": {}
  },
  {
   "cell_type": "markdown",
   "source": [
    "# Submission Instructions\n",
    "\n",
    "1. Make sure your code runs without any errors after reinitializing the kernel and removing all saved variables.\n",
    "2. After completing your code and saving your results, zip the folder with name as ``Team_<team_name>_MR2021_Assignment_<assignment_number>.zip``"
   ],
   "metadata": {}
  },
  {
   "cell_type": "markdown",
   "source": [
    "# Set Up\n",
    "\n",
    "We highly recommend using anaconda distribution or at the minimum, virtual environments for this assignment. All assignments will be python based, hence familiarising yourself with Python is essential.\n"
   ],
   "metadata": {}
  },
  {
   "cell_type": "markdown",
   "source": [
    "## Setting up Anaconda environment (Recommended)\n",
    "\n",
    "1. Install Anaconda or Miniconda from [here](https://docs.conda.io/projects/conda/en/latest/user-guide/install/linux.html) depending on your requirements.\n",
    "2. Now simply run `conda env create -f environment.yml` in the current folder to create an environment `mr_assignment1` (`environment.yml` can be found in `misc/`).\n",
    "3. Activate it using `conda activate mr_assignment1`.\n",
    "\n",
    "## Setting up Virtual environment using venv\n",
    "\n",
    "You can also set up a virtual environment using venv\n",
    "\n",
    "1. Run `sudo apt-get install python3-venv` from command line.\n",
    "2. `python3 -m venv ~/virtual_env/mr_assignment1`. (you can set the environment path to anything)\n",
    "3. `source ~/virtual_env/mr_assignment1/bin/activate`\n",
    "4. `pip3 install -r requirements.txt` from the current folder (`requirements.txt` can be found in `misc/`)."
   ],
   "metadata": {}
  },
  {
   "cell_type": "markdown",
   "source": [
    "# 1. Getting started with Open3D\n",
    "\n",
    "Open3D is an open-source library that deals with 3D data, such as point clouds, mesh. We'll be using Open3D frequently as we work with point clouds. Let's start with something simple:\n",
    "\n",
    "<img src=\"misc/bunny.jpg\" alt=\"drawing\" width=\"200\"/>\n",
    "\n",
    "1. Read the Stanford Bunny file (in `data/`) given to you and visualise it using Open3D.\n",
    "2. Convert the mesh to a point cloud and change the colour of points.\n",
    "3. Set a predefined viewing angle (using Open3D) for visualization and display the axes while plotting.\n",
    "4. Scale, Transform, and Rotate the rabbit (visualise after each step).\n",
    "5. Save the point cloud as bunny.pcd."
   ],
   "metadata": {}
  },
  {
   "cell_type": "markdown",
   "source": [
    "#### Part 1 (Read bunny data and visualize mesh)"
   ],
   "metadata": {}
  },
  {
   "cell_type": "code",
   "execution_count": 2,
   "source": [
    "import open3d as o3d\n",
    "import numpy as np\n",
    "\n",
    "mesh = o3d.io.read_triangle_mesh(\"./data/bunny.ply\")\n",
    "o3d.visualization.draw_geometries([mesh])"
   ],
   "outputs": [],
   "metadata": {}
  },
  {
   "cell_type": "markdown",
   "source": [
    "#### Part 2 (Display as colored point cloud)"
   ],
   "metadata": {}
  },
  {
   "cell_type": "code",
   "execution_count": 3,
   "source": [
    "pcd = o3d.io.read_point_cloud(\"./data/bunny.ply\")\n",
    "pcd.paint_uniform_color([1, 0.7, 0])\n",
    "o3d.visualization.draw_geometries([pcd])"
   ],
   "outputs": [],
   "metadata": {}
  },
  {
   "cell_type": "markdown",
   "source": [
    "#### Part 3 (View from predefined angle with axes)"
   ],
   "metadata": {}
  },
  {
   "cell_type": "code",
   "execution_count": 4,
   "source": [
    "print(np.asarray(pcd.points))"
   ],
   "outputs": [
    {
     "output_type": "stream",
     "name": "stdout",
     "text": [
      "[[-0.0378297   0.12794     0.00447467]\n",
      " [-0.0447794   0.128887    0.00190497]\n",
      " [-0.0680095   0.151244    0.0371953 ]\n",
      " ...\n",
      " [-0.0704544   0.150585   -0.0434585 ]\n",
      " [-0.0310262   0.153728   -0.00354608]\n",
      " [-0.0400442   0.15362    -0.00816685]]\n"
     ]
    }
   ],
   "metadata": {}
  },
  {
   "cell_type": "code",
   "execution_count": 5,
   "source": [
    "coord = o3d.geometry.TriangleMesh.create_coordinate_frame(size=0.1)\n",
    "o3d.visualization.draw_geometries([pcd, coord],\n",
    "                                  zoom=1.5,\n",
    "                                  front=[2, 2, 2],\n",
    "                                  lookat=[0, 0, 0],\n",
    "                                  up=[0, 1, 0])"
   ],
   "outputs": [],
   "metadata": {}
  },
  {
   "cell_type": "markdown",
   "source": [
    "#### Part 4 (Scale, Translate, Rotate)"
   ],
   "metadata": {}
  },
  {
   "cell_type": "code",
   "execution_count": 6,
   "source": [
    "def get_rot_mat(alpha, beta, gamma):\n",
    "    Rx = np.zeros((3,3))\n",
    "    Rx[0,0] = 1\n",
    "    Rx[1,1] = np.cos(alpha)\n",
    "    Rx[1,2] = -np.sin(alpha)\n",
    "    Rx[2,1] = np.sin(alpha)\n",
    "    Rx[2,2] = np.cos(alpha)\n",
    "    \n",
    "    Ry = np.zeros((3,3))\n",
    "    Ry[1,1] = 1\n",
    "    Ry[0,0] = np.cos(beta)\n",
    "    Ry[0,2] = -np.sin(beta)\n",
    "    Ry[2,0] = np.sin(beta)\n",
    "    Ry[2,2] = np.cos(beta)\n",
    "    \n",
    "    Rz = np.zeros((3,3))\n",
    "    Rz[2,2] = 1\n",
    "    Rz[0,0] = np.cos(gamma)\n",
    "    Rz[0,1] = -np.sin(gamma)\n",
    "    Rz[1,0] = np.sin(gamma)\n",
    "    Rz[1,1] = np.cos(gamma)\n",
    "    \n",
    "    # X-Y-Z format\n",
    "#     print(Rx, Ry, Rz)\n",
    "    rotation_matrix = np.dot(Rx, np.dot(Ry, Rz))\n",
    "    return rotation_matrix"
   ],
   "outputs": [],
   "metadata": {}
  },
  {
   "cell_type": "code",
   "execution_count": 8,
   "source": [
    "# Initial\n",
    "\n",
    "pcd = o3d.io.read_point_cloud(\"./data/bunny.ply\")\n",
    "pcd.paint_uniform_color([1, 0.7, 0])\n",
    "o3d.visualization.draw_geometries([pcd, coord],\n",
    "                                  zoom=1.5,\n",
    "                                  front=[2, 2, 2],\n",
    "                                  lookat=[0, 0, 0],\n",
    "                                  up=[0, 1, 0])\n",
    "\n",
    "# Scale\n",
    "\n",
    "scale_factor = 3\n",
    "pcd = pcd.scale(scale_factor, center=[0.0,0.0,0.0])\n",
    "o3d.visualization.draw_geometries([pcd, coord],\n",
    "                                  zoom=1.5,\n",
    "                                  front=[2, 2, 2],\n",
    "                                  lookat=[0, 0, 0],\n",
    "                                  up=[0, 1, 0])\n",
    "\n",
    "# Rotate\n",
    "\n",
    "rotation_mat = get_rot_mat(0, np.pi/2, 0)\n",
    "pcd = pcd.rotate(rotation_mat)\n",
    "o3d.visualization.draw_geometries([pcd, coord],\n",
    "                                  zoom=1.5,\n",
    "                                  front=[2, 2, 2],\n",
    "                                  lookat=[0, 0, 0],\n",
    "                                  up=[0, 1, 0])\n",
    "\n",
    "# Translate\n",
    "\n",
    "translation_vector = [0, 0, 2]\n",
    "pcd = pcd.translate(translation_vector)\n",
    "o3d.visualization.draw_geometries([pcd, coord],\n",
    "                                  zoom=1.5,\n",
    "                                  front=[2, 2, 2],\n",
    "                                  lookat=[0, 0, 0],\n",
    "                                  up=[0, 1, 0])"
   ],
   "outputs": [],
   "metadata": {}
  },
  {
   "cell_type": "markdown",
   "source": [
    "(See the coordinate frame for reference for transformations)"
   ],
   "metadata": {}
  },
  {
   "cell_type": "markdown",
   "source": [
    "#### Part 4 (Save Point Cloud)"
   ],
   "metadata": {}
  },
  {
   "cell_type": "code",
   "execution_count": 9,
   "source": [
    "o3d.io.write_point_cloud('./data/bunny.pcd',pcd)"
   ],
   "outputs": [
    {
     "output_type": "execute_result",
     "data": {
      "text/plain": [
       "True"
      ]
     },
     "metadata": {},
     "execution_count": 9
    }
   ],
   "metadata": {}
  },
  {
   "cell_type": "markdown",
   "source": [
    "# 2. Transformations and representations"
   ],
   "metadata": {}
  },
  {
   "cell_type": "markdown",
   "source": [
    "## a) Euler angles\n",
    "1. Write a function that returns a rotation matrix given the angles $\\alpha$, $\\beta$, and $\\gamma$ in radians (X-Y-Z)\n",
    "\n",
    "2. Solve for angles using ```fsolve from scipy``` for three initializations of your choice and compare.\n",
    "$$M(\\alpha , \\beta ,\\gamma)=\\left[\\begin{array}{rrr}0.26200263 & -0.19674724 & 0.944799 \\\\0.21984631 & 0.96542533 & 0.14007684 \\\\\n",
    "    -0.93969262 & 0.17101007 & 0.29619813\\end{array}\\right] \n",
    "$$\n",
    "\n",
    "$$N(\\alpha , \\beta ,\\gamma)=\\left[\\begin{array}{rrr}0 & -0.173648178 &  0.984807753 \\\\0 & 0.984807753 & 0.173648178 \\\\\n",
    "    -1 & 0 & 0\\end{array}\\right] \n",
    "$$\n",
    "\n",
    "3. What is a Gimbal lock? \n",
    "\n",
    "4. Show an example where a Gimbal lock occurs and visualize the Gimbal lock on the given bunny point cloud. You have to show the above by **animation** (cube rotating along each axis one by one).\n",
    "    - *Hint: Use Open3D's non-blocking visualization and discretize the rotation to simulate the animation. For example, if you want to rotate by $30^{\\circ}$ around a particular axis, do in increments of $5^{\\circ}$ 6 times to make it look like an animation.*\n"
   ],
   "metadata": {}
  },
  {
   "cell_type": "markdown",
   "source": [
    "#### Part 1 (Get rotation mat)"
   ],
   "metadata": {}
  },
  {
   "cell_type": "code",
   "execution_count": 10,
   "source": [
    "import numpy as np\n",
    "\n",
    "# Part 1\n",
    "\n",
    "def get_rot_mat(alpha, beta, gamma):\n",
    "    Rx = np.zeros((3,3))\n",
    "    Rx[0,0] = 1\n",
    "    Rx[1,1] = np.cos(alpha)\n",
    "    Rx[1,2] = -np.sin(alpha)\n",
    "    Rx[2,1] = np.sin(alpha)\n",
    "    Rx[2,2] = np.cos(alpha)\n",
    "    \n",
    "    Ry = np.zeros((3,3))\n",
    "    Ry[1,1] = 1\n",
    "    Ry[0,0] = np.cos(beta)\n",
    "    Ry[0,2] = -np.sin(beta)\n",
    "    Ry[2,0] = np.sin(beta)\n",
    "    Ry[2,2] = np.cos(beta)\n",
    "    \n",
    "    Rz = np.zeros((3,3))\n",
    "    Rz[2,2] = 1\n",
    "    Rz[0,0] = np.cos(gamma)\n",
    "    Rz[0,1] = -np.sin(gamma)\n",
    "    Rz[1,0] = np.sin(gamma)\n",
    "    Rz[1,1] = np.cos(gamma)\n",
    "    \n",
    "    # X-Y-Z format\n",
    "#     print(Rx, Ry, Rz)\n",
    "    rotation_matrix = np.dot(Rx, np.dot(Ry, Rz))\n",
    "    return rotation_matrix"
   ],
   "outputs": [],
   "metadata": {}
  },
  {
   "cell_type": "code",
   "execution_count": 11,
   "source": [
    "print(get_rot_mat(0, 0, np.pi))"
   ],
   "outputs": [
    {
     "output_type": "stream",
     "name": "stdout",
     "text": [
      "[[-1.0000000e+00 -1.2246468e-16  0.0000000e+00]\n",
      " [ 1.2246468e-16 -1.0000000e+00  0.0000000e+00]\n",
      " [ 0.0000000e+00  0.0000000e+00  1.0000000e+00]]\n"
     ]
    }
   ],
   "metadata": {}
  },
  {
   "cell_type": "markdown",
   "source": [
    "#### Part 2 (solving for angles)"
   ],
   "metadata": {}
  },
  {
   "cell_type": "code",
   "execution_count": 12,
   "source": [
    "import scipy"
   ],
   "outputs": [],
   "metadata": {}
  },
  {
   "cell_type": "code",
   "execution_count": 13,
   "source": [
    "from scipy.optimize import fsolve\n",
    "\n",
    "# Part 2\n",
    "\n",
    "def func1(x):\n",
    "    mat = get_rot_mat(x[0], x[1], x[2])\n",
    "    M = [[0.26200263, -0.19674724, 0.944799],\n",
    "        [0.21984631, 0.96542533, 0.14007684],\n",
    "        [-0.93969262, 0.17101007, 0.29619813]]\n",
    "    M = np.array(M)\n",
    "    return (mat-M).ravel()\n",
    "    \n",
    "def func2(x):\n",
    "    mat = get_rot_mat(x[0], x[1], x[2])\n",
    "    N = [[0, -0.173648178, 0.984807753],\n",
    "        [0, 0.984807753, 0.173648178],\n",
    "        [-1, 0, 0]]\n",
    "    N = np.array(N)\n",
    "    return (mat-N).ravel()\n",
    "    \n",
    "initializations = [np.zeros((9)), np.ones((9)), np.full((9), np.pi)]\n",
    "print(\"Three answers for M\")\n",
    "for initialization in initializations:\n",
    "    root = fsolve(func1, initialization)\n",
    "    print(root[:3])  # Only first three are useful variables, rest are dummy variables\n",
    "print(\"Three answers for N\")\n",
    "for initialization in initializations:\n",
    "    root = fsolve(func2, initialization)\n",
    "    print(root[:3])  # Only first three are useful variables, rest are dummy variables\n",
    "    \n",
    "print(\"As we can see, we get same values of angles as solution if we solve using 0 or 1 as initail angles but we get a different answer with pi as initial angles\")"
   ],
   "outputs": [
    {
     "output_type": "stream",
     "name": "stdout",
     "text": [
      "Three answers for M\n",
      "[-0.44174662 -1.23698059  0.64409996]\n",
      "[-0.44174662 -1.23698059  0.64409996]\n",
      "[2.69984603 4.37857325 3.78569262]\n",
      "Three answers for N\n",
      "[-1.57079633 -1.3962634   1.57079633]\n",
      "[-1.57369192 -1.3972677   1.57369192]\n",
      "[1.57079633 4.53785605 4.71238898]\n",
      "As we can see, we get same values of angles as solution if we solve using 0 or 1 as initail angles but we get a different answer with pi as initial angles\n"
     ]
    },
    {
     "output_type": "stream",
     "name": "stderr",
     "text": [
      "/home/arpan/miniconda3/envs/mr_assignment1/lib/python3.8/site-packages/scipy/optimize/minpack.py:175: RuntimeWarning: The iteration is not making good progress, as measured by the \n",
      "  improvement from the last ten iterations.\n",
      "  warnings.warn(msg, RuntimeWarning)\n"
     ]
    }
   ],
   "metadata": {}
  },
  {
   "cell_type": "markdown",
   "source": [
    "#### Part 3 (What is a gimbal lock?)\n",
    "\n",
    "Gimbal lock is when a rotating body operating in euler rotation angles loses a degree of freedom when one of the axes (the middle one) rotates too far. For example, in XYZ system, if Y rotates by 90 degrees then the X and Z rotations are aligned and one of them becomes redundant. The other angle becomes unavailable for rotation and hence the rotations are restrained."
   ],
   "metadata": {}
  },
  {
   "cell_type": "markdown",
   "source": [
    "#### Part 4 (Gimbal Lock Animation)"
   ],
   "metadata": {}
  },
  {
   "cell_type": "code",
   "execution_count": 14,
   "source": [
    "import open3d as o3d\n",
    "import numpy as np"
   ],
   "outputs": [],
   "metadata": {}
  },
  {
   "cell_type": "code",
   "execution_count": 15,
   "source": [
    "import time\n",
    "speed = np.radians(5) # degrees\n",
    "\n",
    "def get_angle(obj, curr, required):\n",
    "    required = np.array(required)\n",
    "    curr = np.array(curr)\n",
    "    r1 = obj.get_rotation_matrix_from_zyx(curr)\n",
    "    r2 = obj.get_rotation_matrix_from_zyx(curr + required)\n",
    "    r3 = np.matmul(r2, r1.transpose())\n",
    "    return r3\n",
    "\n",
    "def run(obj, bunny, vis, center, curr, required):\n",
    "    required = np.radians(np.array(required))\n",
    "    curr = np.radians(np.array(curr)) \n",
    "\n",
    "    step = speed\n",
    "    if required[0] < 0:\n",
    "        step = -step\n",
    "    r = get_angle(obj, curr, (step, 0, 0))\n",
    "    for _ in range(int(abs(required[0])/speed)):\n",
    "        obj.rotate(r, center=center)\n",
    "        bunny.rotate(r, center=center)\n",
    "        vis.update_geometry(obj)\n",
    "        vis.update_geometry(bunny)\n",
    "        vis.poll_events()\n",
    "        vis.update_renderer()\n",
    "        time.sleep(0.15)\n",
    "    curr[0] += required[0]\n",
    "    step = speed\n",
    "    if required[1] < 0:\n",
    "        step = -step\n",
    "    r = get_angle(obj, curr, (0, step, 0))\n",
    "    for _ in range(int(abs(required[1])/speed)):\n",
    "        obj.rotate(r, center=center)\n",
    "        bunny.rotate(r, center=center)\n",
    "        vis.update_geometry(obj)\n",
    "        vis.update_geometry(bunny)\n",
    "        vis.poll_events()\n",
    "        vis.update_renderer()\n",
    "        time.sleep(0.15)\n",
    "    curr[1] += required[1]\n",
    "    step = speed\n",
    "    if required[2] < 0:\n",
    "        step = -step\n",
    "    r = get_angle(obj, curr, (0, 0, step))\n",
    "    for _ in range(int(abs(required[2])/speed)):\n",
    "        obj.rotate(r, center=center)\n",
    "        bunny.rotate(r, center=center)\n",
    "        vis.update_geometry(obj)\n",
    "        vis.update_geometry(bunny)\n",
    "        vis.poll_events()\n",
    "        vis.update_renderer()\n",
    "        time.sleep(0.15)\n",
    "    curr[2] += required[2]"
   ],
   "outputs": [],
   "metadata": {}
  },
  {
   "cell_type": "code",
   "execution_count": 16,
   "source": [
    "def gimbal(angle):\n",
    "\n",
    "#     shpere_obj = o3d.geometry.TriangleMesh.create_sphere(radius=0.03)\n",
    "#     shpere_obj.paint_uniform_color([0, 1, 1])\n",
    "#     shpere_obj.translate((0.75, 0.75, 0.75))\n",
    "\n",
    "    bunny = o3d.io.read_point_cloud(\"./data/bunny.ply\")\n",
    "    bunny = bunny.translate([0.01,-0.07,-0.01])\n",
    "    bunny = bunny.scale(3, [0,0,0])\n",
    "    bunny.paint_uniform_color([1, 0.7, 0])\n",
    "\n",
    "    self_frame = o3d.geometry.TriangleMesh.create_coordinate_frame(size=1)\n",
    "    world_frame = o3d.geometry.TriangleMesh.create_coordinate_frame(size=1)\n",
    "\n",
    "    win = o3d.visualization.Visualizer()\n",
    "    win.create_window()\n",
    "    win.add_geometry(world_frame)\n",
    "    win.add_geometry(self_frame)\n",
    "    win.add_geometry(bunny)\n",
    "    win.poll_events()\n",
    "    win.update_renderer()\n",
    "\n",
    "    time.sleep(1)\n",
    "    run(self_frame, bunny, win, (0, 0, 0), (0, 0, 0), angle)\n",
    "\n",
    "    time.sleep(1)\n",
    "    win.destroy_window()\n",
    "\n",
    "gimbal((-35, 90, 360))"
   ],
   "outputs": [],
   "metadata": {}
  },
  {
   "cell_type": "markdown",
   "source": [
    "As we can see, the 90 degree rotation about the green axis, aligns the red and blue axes. Thus, the coordinate frame is never able to rotate about the original red axis in the last rotation. This is the gimbal lock problem. "
   ],
   "metadata": {}
  },
  {
   "cell_type": "markdown",
   "source": [
    "## b) Quaternions\n",
    "\n",
    "1. What makes Quaternions popular in graphics? \n",
    "2. Convert a rotation matrix to quaternion and vice versa. Do not use inbuilt libraries for this question.\n",
    "3. Perform matrix multiplication of two $\\mathcal{R}_{3 \\times 3}$ rotation matrices and perform the same transformation in the quaternion space. Verify if the final transformation obtained in both the cases are the same.\n",
    "4. Try to interpolate any 3D model (cube / bunny / not sphere obviously!!) between two rotation matrices and visualize!\n",
    "\n",
    "The above questions require you to **code your own functions** and **only verify** using inbuilt functions."
   ],
   "metadata": {}
  },
  {
   "cell_type": "markdown",
   "source": [
    "#### Part 1 (Why are quaternions poular?)\n",
    "\n",
    "Quaternions solve a lot of the problems which are faced by euler angles for representing rotations. Quaternions are not susceptible to the problem of Gimbal Lock. Furthermore, quaternions make interpolation from one angle to another much smoother as compared to euler angles where the rotations may need to be out of plane. This is the reason quaternions are very popular alternatives for Euler angles in graphics."
   ],
   "metadata": {}
  },
  {
   "cell_type": "markdown",
   "source": [
    "#### Part 2 (Rotation Matrix to Quaternions and vice versa)"
   ],
   "metadata": {}
  },
  {
   "cell_type": "code",
   "execution_count": 17,
   "source": [
    "def quaternion_to_mat(quat):\n",
    "    mat = np.zeros((3,3))\n",
    "    x = quat[0]\n",
    "    y = quat[1]\n",
    "    z = quat[2]\n",
    "    w = quat[3]\n",
    "    mat[0,0] = 1-2*y*y-2*z*z\n",
    "    mat[1,1] = 1-2*x*x-2*z*z\n",
    "    mat[2,2] = 1-2*y*y-2*x*x\n",
    "    mat[0,1] = 2*(x*y+z*w)\n",
    "    mat[0,2] = 2*(x*z-y*w)\n",
    "    mat[1,0] = 2*(x*y-z*w)\n",
    "    mat[1,2] = 2*(y*z+x*w)\n",
    "    mat[2,0] = 2*(x*z+y*w)\n",
    "    mat[2,1] = 2*(y*z-x*w)\n",
    "    return mat\n",
    "\n",
    "def mat_to_quaternion(m):\n",
    "    if (m[2,2] < 0):\n",
    "        if (m[0,0] > m[1,1]):\n",
    "            t = 1 + m[0,0] - m[1,1] - m[2,2]\n",
    "            q = np.array([t, m[0,1]+m[1,0], m[2,0]+m[0,2], m[1,2]-m[2,1]])\n",
    "        else:\n",
    "            t = 1 - m[0,0] + m[1,1] - m[2,2]\n",
    "            q = np.array([m[0,1]+m[1,0], t, m[1,2]+m[2,1], m[2,0]-m[0,2]])\n",
    "    else:\n",
    "        if (m[0,0] < -m[1,1]):\n",
    "            t = 1 - m[0,0] - m[1,1] + m[2,2]\n",
    "            q = np.array([m[2,0]+m[0,2], m[1,2]+m[2,1], t, m[0,1]-m[1,0]])\n",
    "        else:\n",
    "            t = 1 + m[0,0] + m[1,1] + m[2,2]\n",
    "            q = np.array([m[1,2]-m[2,1], m[2,0]-m[0,2], m[0,1]-m[1,0], t])\n",
    "    q *= 0.5 / (t**(0.5));\n",
    "    return q"
   ],
   "outputs": [],
   "metadata": {}
  },
  {
   "cell_type": "code",
   "execution_count": 18,
   "source": [
    "quat = np.array([2**(-0.5), 0, 0, 2**(-0.5)])\n",
    "print(quat)\n",
    "mat = quaternion_to_mat(quat)\n",
    "print(mat)\n",
    "q2 = mat_to_quaternion(mat)\n",
    "print(q2)"
   ],
   "outputs": [
    {
     "output_type": "stream",
     "name": "stdout",
     "text": [
      "[0.70710678 0.         0.         0.70710678]\n",
      "[[ 1.00000000e+00  0.00000000e+00  0.00000000e+00]\n",
      " [ 0.00000000e+00 -2.22044605e-16  1.00000000e+00]\n",
      " [ 0.00000000e+00 -1.00000000e+00 -2.22044605e-16]]\n",
      "[0.70710678 0.         0.         0.70710678]\n"
     ]
    }
   ],
   "metadata": {}
  },
  {
   "cell_type": "markdown",
   "source": [
    "We can see that the quaternion is obtained back from the initial quaternion after conversion to rotation matrix and back"
   ],
   "metadata": {}
  },
  {
   "cell_type": "markdown",
   "source": [
    "#### Part 3 (Muliplication in quaternion and rot matrix space)"
   ],
   "metadata": {}
  },
  {
   "cell_type": "code",
   "execution_count": 19,
   "source": [
    "rot_matrices = [get_rot_mat(0, 0, np.pi), get_rot_mat(np.pi/2, np.pi/2, 0)]\n",
    "\n",
    "def mult_quaternions(q1, q2):\n",
    "    b, c, d, a = q1.tolist()\n",
    "    f, g, h, e = q2.tolist()\n",
    "    return np.array([a*f+b*e+c*h-d*g, a*g-b*h+c*e+d*f, a*h+b*g-c*f+d*e, a*e-b*f-c*g-d*h])\n",
    "\n",
    "new_rot_mat = np.dot(rot_matrices[1], rot_matrices[0])\n",
    "quats = [mat_to_quaternion(rot_matrices[0]), mat_to_quaternion(rot_matrices[1])]\n",
    "\n",
    "new_quaternion_1 = mult_quaternions(quats[0], quats[1])\n",
    "new_quaternion_2 = mult_quaternions(quats[1], quats[0])\n",
    "\n",
    "print(\"Two quaternions: \", new_quaternion_1, new_quaternion_2)\n",
    "print(\"Quaternion of multiplied rotation matrices: \", mat_to_quaternion(new_rot_mat))"
   ],
   "outputs": [
    {
     "output_type": "stream",
     "name": "stdout",
     "text": [
      "Two quaternions:  [-0.5 -0.5  0.5 -0.5] [ 0.5  0.5  0.5 -0.5]\n",
      "Quaternion of multiplied rotation matrices:  [ 0.5  0.5 -0.5  0.5]\n"
     ]
    }
   ],
   "metadata": {}
  },
  {
   "cell_type": "markdown",
   "source": [
    "As we can see, the final quaternions produced by the two methods of multiplication are the same (barring the sign, as q and -q produce the same rotation) for one of the two quaternions produced. The reason for 2 possible quaternions is that we can rotate in two ways (clockwise and anti-clockwise)."
   ],
   "metadata": {}
  },
  {
   "cell_type": "code",
   "execution_count": 20,
   "source": [
    "# Verification using scipy \n",
    "\n",
    "from scipy.spatial.transform import Rotation as R\n",
    "r1 = R.from_matrix(rot_matrices[0])\n",
    "r2 = R.from_matrix(rot_matrices[1])\n",
    "print((r2*r1).as_matrix())\n",
    "print(new_rot_mat)\n",
    "\n",
    "print(quats[0], quats[1])\n",
    "print(r1.as_quat(), r2.as_quat())\n",
    "\n",
    "print((r2*r1).as_quat())\n",
    "print((r1*r2).as_quat())\n",
    "print(mat_to_quaternion(new_rot_mat))\n",
    "print(mult_quaternions(quats[0], quats[1]))"
   ],
   "outputs": [
    {
     "output_type": "stream",
     "name": "stdout",
     "text": [
      "[[-1.66533454e-16 -1.66533454e-16 -1.00000000e+00]\n",
      " [ 1.00000000e+00 -5.55111512e-17 -1.66533454e-16]\n",
      " [ 0.00000000e+00 -1.00000000e+00  1.66533454e-16]]\n",
      "[[-6.12323400e-17 -7.49879891e-33 -1.00000000e+00]\n",
      " [ 1.00000000e+00  6.12323400e-17 -6.12323400e-17]\n",
      " [ 6.12323400e-17 -1.00000000e+00  3.74939946e-33]]\n",
      "[ 0.000000e+00  0.000000e+00  1.000000e+00 -6.123234e-17] [-0.5  0.5  0.5  0.5]\n",
      "[0.000000e+00 0.000000e+00 1.000000e+00 6.123234e-17] [ 0.5 -0.5 -0.5  0.5]\n",
      "[-0.5 -0.5  0.5  0.5]\n",
      "[0.5 0.5 0.5 0.5]\n",
      "[ 0.5  0.5 -0.5  0.5]\n",
      "[-0.5 -0.5  0.5 -0.5]\n"
     ]
    }
   ],
   "metadata": {}
  },
  {
   "cell_type": "markdown",
   "source": [
    "#### Part 4 (Quaternion Interpolation [Slerp])"
   ],
   "metadata": {}
  },
  {
   "cell_type": "code",
   "execution_count": 1,
   "source": [
    "import open3d as o3d\n",
    "import numpy as np\n",
    "import time"
   ],
   "outputs": [
    {
     "output_type": "stream",
     "name": "stdout",
     "text": [
      "Jupyter environment detected. Enabling Open3D WebVisualizer.\n",
      "[Open3D INFO] WebRTC GUI backend enabled.\n",
      "[Open3D INFO] WebRTCWindowSystem: HTTP handshake server disabled.\n"
     ]
    }
   ],
   "metadata": {}
  },
  {
   "cell_type": "code",
   "execution_count": 22,
   "source": [
    "from copy import deepcopy\n",
    "\n",
    "def get_rot_mat(alpha, beta, gamma):\n",
    "    Rx = np.zeros((3,3))\n",
    "    Rx[0,0] = 1\n",
    "    Rx[1,1] = np.cos(alpha)\n",
    "    Rx[1,2] = -np.sin(alpha)\n",
    "    Rx[2,1] = np.sin(alpha)\n",
    "    Rx[2,2] = np.cos(alpha)\n",
    "    \n",
    "    Ry = np.zeros((3,3))\n",
    "    Ry[1,1] = 1\n",
    "    Ry[0,0] = np.cos(beta)\n",
    "    Ry[0,2] = -np.sin(beta)\n",
    "    Ry[2,0] = np.sin(beta)\n",
    "    Ry[2,2] = np.cos(beta)\n",
    "    \n",
    "    Rz = np.zeros((3,3))\n",
    "    Rz[2,2] = 1\n",
    "    Rz[0,0] = np.cos(gamma)\n",
    "    Rz[0,1] = -np.sin(gamma)\n",
    "    Rz[1,0] = np.sin(gamma)\n",
    "    Rz[1,1] = np.cos(gamma)\n",
    "    \n",
    "    rotation_matrix = np.dot(Rx, np.dot(Ry, Rz))\n",
    "    return rotation_matrix\n",
    "\n",
    "def quaternion_to_mat(quat):\n",
    "    mat = np.zeros((3,3))\n",
    "    x = quat[0]\n",
    "    y = quat[1]\n",
    "    z = quat[2]\n",
    "    w = quat[3]\n",
    "    mat[0,0] = 1-2*y*y-2*z*z\n",
    "    mat[1,1] = 1-2*x*x-2*z*z\n",
    "    mat[2,2] = 1-2*y*y-2*x*x\n",
    "    mat[0,1] = 2*(x*y+z*w)\n",
    "    mat[0,2] = 2*(x*z-y*w)\n",
    "    mat[1,0] = 2*(x*y-z*w)\n",
    "    mat[1,2] = 2*(y*z+x*w)\n",
    "    mat[2,0] = 2*(x*z+y*w)\n",
    "    mat[2,1] = 2*(y*z-x*w)\n",
    "    return mat\n",
    "\n",
    "def mat_to_quaternion(m):\n",
    "    if (m[2,2] < 0):\n",
    "        if (m[0,0] > m[1,1]):\n",
    "            t = 1 + m[0,0] - m[1,1] - m[2,2]\n",
    "            q = np.array([t, m[0,1]+m[1,0], m[2,0]+m[0,2], m[1,2]-m[2,1]])\n",
    "        else:\n",
    "            t = 1 - m[0,0] + m[1,1] - m[2,2]\n",
    "            q = np.array([m[0,1]+m[1,0], t, m[1,2]+m[2,1], m[2,0]-m[0,2]])\n",
    "    else:\n",
    "        if (m[0,0] < -m[1,1]):\n",
    "            t = 1 - m[0,0] - m[1,1] + m[2,2]\n",
    "            q = np.array([m[2,0]+m[0,2], m[1,2]+m[2,1], t, m[0,1]-m[1,0]])\n",
    "        else:\n",
    "            t = 1 + m[0,0] + m[1,1] + m[2,2]\n",
    "            q = np.array([m[1,2]-m[2,1], m[2,0]-m[0,2], m[0,1]-m[1,0], t])\n",
    "    q *= 0.5 / (t**(0.5));\n",
    "    return q\n",
    "    \n",
    "def run(bunny, vis, center, mat1, mat2):\n",
    "    intervals = np.arange(0,1.001,0.05)\n",
    "    quat1 = mat_to_quaternion(mat1)\n",
    "    quat2 = mat_to_quaternion(mat2)\n",
    "    omega = np.arccos(np.dot(quat1, quat2))\n",
    "    prev = mat1.T\n",
    "    for val in intervals:\n",
    "        intermediate_quat = (np.sin((1-val)*omega)*quat1+np.sin(val*omega)*quat2)/np.sin(omega)\n",
    "        intermediate_mat = quaternion_to_mat(intermediate_quat)\n",
    "        bunny.rotate(prev, center=center)\n",
    "        bunny.rotate(intermediate_mat, center=center)\n",
    "        prev = intermediate_mat.T\n",
    "        vis.update_geometry(bunny)\n",
    "        vis.poll_events()\n",
    "        vis.update_renderer()\n",
    "        time.sleep(0.15)"
   ],
   "outputs": [],
   "metadata": {}
  },
  {
   "cell_type": "code",
   "execution_count": 23,
   "source": [
    "def interpolate(mat1, mat2):\n",
    "\n",
    "    bunny = o3d.io.read_point_cloud(\"./data/bunny.ply\")\n",
    "    bunny = bunny.translate([0.01,-0.07,-0.01])\n",
    "    bunny = bunny.scale(3, [0,0,0])\n",
    "    bunny = bunny.rotate(mat1, center=[0,0,0])\n",
    "\n",
    "    self_frame = o3d.geometry.TriangleMesh.create_coordinate_frame(size=1)\n",
    "    bunny = self_frame\n",
    "    world_frame = o3d.geometry.TriangleMesh.create_coordinate_frame(size=1)\n",
    "\n",
    "    win = o3d.visualization.Visualizer()\n",
    "    win.create_window()\n",
    "    win.add_geometry(world_frame)\n",
    "    win.add_geometry(self_frame)\n",
    "    win.add_geometry(bunny)\n",
    "    win.poll_events()\n",
    "    win.update_renderer()\n",
    "\n",
    "    time.sleep(1)\n",
    "    run(bunny, win, (0, 0, 0), mat1, mat2)\n",
    "\n",
    "    time.sleep(1)\n",
    "    win.destroy_window()\n",
    "\n",
    "interpolate(get_rot_mat(0, 0, 0), get_rot_mat(-np.pi/4, np.pi/2, np.pi/2))"
   ],
   "outputs": [],
   "metadata": {}
  },
  {
   "cell_type": "markdown",
   "source": [
    "As we can see, the rotation happens smoothly due to quaternion intepolation."
   ],
   "metadata": {}
  },
  {
   "cell_type": "markdown",
   "source": [
    "## c) Exponential maps (Bonus)\n",
    "\n",
    "1. What is the idea behind exponential map representation of rotation matrices?\n",
    "2. Perform matrix exponentiation and obtain the rotation matrix to rotate a vector $P$ around $\\omega$ for $\\theta$ seconds.\n",
    "$$\n",
    "\\omega = \\begin{bmatrix}2 \\\\ 1 \\\\ 15 \\end{bmatrix}\n",
    "$$\n",
    "\n",
    "$$\n",
    "\\theta = 4.1364\n",
    "$$\n",
    "\n",
    "3. Compute the logarithmic map (SO(3) to so(3)) of the rotation matrix to obtain the rotation vector and the angle of rotation\n",
    "$$\n",
    "\\begin{bmatrix}\n",
    "0.1 &  -0.9487 & 0.3 \\\\\n",
    "0.9487 & 0.  & -0.3162 \\\\\n",
    "0.3   &  0.3162  & 0.9 \n",
    "\\end{bmatrix}\n",
    "$$\n",
    "You can use inbuilt libraries **only to verify** your results."
   ],
   "metadata": {}
  },
  {
   "cell_type": "markdown",
   "source": [
    "#### Part 1 (What is the idea behind exponential map representation of rotation matrices?)"
   ],
   "metadata": {}
  },
  {
   "cell_type": "markdown",
   "source": [
    "The idea behind exponential maps is to change the coordinate system from cartesian to polar coordinates. This conversion is useful as some applications prefer polar coordiantes due to its geometric meaning."
   ],
   "metadata": {}
  },
  {
   "cell_type": "markdown",
   "source": [
    "#### Part 2 (Exponential Map to rotate around $\\omega$ for $\\theta$ seconds)"
   ],
   "metadata": {}
  },
  {
   "cell_type": "code",
   "execution_count": 15,
   "source": [
    "def exp_map(w,t):\n",
    "    ''' \n",
    "    Rodrigues formula is used for approximation of exponential map.\n",
    "    i.e. exp(wt) = I + [w]sin(t) + [w]^2(1 - cos(t))\n",
    "    \n",
    "    Note : [w] is a nxm matrix as follows : w x p (cross product) = [w]p\n",
    "    Hence, [w] = [[0,-w3,w2],[w3,0,-w1],[-w2,w1,0]] \n",
    "    '''\n",
    "\n",
    "    # The unit vector corresponding to rotation vector is required\n",
    "    w = w/np.linalg.norm(w)\n",
    "    w_matrix = np.array([[0,-w[2],w[1]],[w[2],0,-w[0]],[-w[1],w[0],0]])\n",
    "    \n",
    "    # Generating the Identity Matrix\n",
    "    iden = np.zeros(shape=(3,3))\n",
    "    for i in range(3):\n",
    "        iden[i][i] = 1\n",
    "    \n",
    "    res = iden + w_matrix*np.sin(t) + np.matmul(w_matrix,w_matrix)*(1 - np.cos(t))\n",
    "    return res"
   ],
   "outputs": [],
   "metadata": {}
  },
  {
   "cell_type": "code",
   "execution_count": 52,
   "source": [
    "R = exp_map(w = [2,1,15],t = 4.1364)\n",
    "print('The rotation matrix is :')\n",
    "print(R)"
   ],
   "outputs": [
    {
     "output_type": "stream",
     "name": "stdout",
     "text": [
      "The rotation matrix is :\n",
      "[[-0.51780074  0.84292002  0.14617876]\n",
      " [-0.81605629 -0.53794854  0.21133741]\n",
      " [ 0.25677718 -0.00985943  0.96642034]]\n"
     ]
    }
   ],
   "metadata": {}
  },
  {
   "cell_type": "markdown",
   "source": [
    "##### Verification"
   ],
   "metadata": {}
  },
  {
   "cell_type": "code",
   "execution_count": 58,
   "source": [
    "from scipy.spatial.transform import Rotation as R\n",
    "w = np.array([2,1,15])\n",
    "w = w/np.linalg.norm(w)\n",
    "t = 4.1364\n",
    "r = R.from_rotvec(t*w)\n",
    "r.as_matrix()"
   ],
   "outputs": [
    {
     "output_type": "execute_result",
     "data": {
      "text/plain": [
       "array([[-0.51780074,  0.84292002,  0.14617876],\n",
       "       [-0.81605629, -0.53794854,  0.21133741],\n",
       "       [ 0.25677718, -0.00985943,  0.96642034]])"
      ]
     },
     "metadata": {},
     "execution_count": 58
    }
   ],
   "metadata": {}
  },
  {
   "cell_type": "markdown",
   "source": [
    "Thus, the matrix generated is verified to be the same as the result from the inbuilt library"
   ],
   "metadata": {}
  },
  {
   "cell_type": "markdown",
   "source": [
    "#### Part 3 (SO(3) $\\rightarrow$ so(3))"
   ],
   "metadata": {}
  },
  {
   "cell_type": "code",
   "execution_count": 63,
   "source": [
    "def get_wt(R):\n",
    "    R = np.asarray(R)\n",
    "    iden = np.zeros(shape=(3,3))\n",
    "    for i in range(3):\n",
    "        iden[i][i] = 1\n",
    "\n",
    "    # If R == I, then the angle of rotation is 0 and the rotation vector is not defined\n",
    "    compare_identity = R == iden\n",
    "    if compare_identity.all():\n",
    "        return [0,np.inf]\n",
    "\n",
    "    # If trace(R) == -1, then there is a degeneracy of three in the rotation vector, of which one is chosen\n",
    "    # The angle of rotation is pi \n",
    "    elif np.trace(R) == -1:\n",
    "        t = np.pi\n",
    "        w = (1/np.sqrt(2*(1+R[2][2])))*[R[0][2],R[1][2],1 + R[2][2]]\n",
    "\n",
    "        return [w,t]\n",
    "\n",
    "    else:\n",
    "        t = np.arccos(0.5*(np.trace(R) - 1))\n",
    "        w = (1/(2*np.sin(t)))*np.array([R[2][1] - R[1][2],R[0][2] - R[2][0],R[1][0] - R[0][1]])\n",
    "\n",
    "        return [w,t]"
   ],
   "outputs": [],
   "metadata": {}
  },
  {
   "cell_type": "code",
   "execution_count": 61,
   "source": [
    "R = np.array([[0.1,-0.9487,0.3],[0.9487,0.0,-0.3162],[0.3,0.3162,0.9]])\n",
    "w,t = get_wt(R)\n",
    "print(\"The unit rotation vector is : \",w)\n",
    "print(\"The angle of rotation is : \",t)\n",
    "print(\"The combined rotation vector (used for verification) is : \",w*t)"
   ],
   "outputs": [
    {
     "output_type": "stream",
     "name": "stdout",
     "text": [
      "The unit rotation vector is :  [0.3162 0.     0.9487]\n",
      "The angle of rotation is :  1.5707963267948966\n",
      "The combined rotation vector (used for verification) is :  [0.4966858  0.         1.49021448]\n"
     ]
    }
   ],
   "metadata": {}
  },
  {
   "cell_type": "markdown",
   "source": [
    "##### Verification"
   ],
   "metadata": {}
  },
  {
   "cell_type": "code",
   "execution_count": 62,
   "source": [
    "from scipy.spatial.transform import Rotation as F\n",
    "R = np.array([[0.1,-0.9487,0.3],[0.9487,0.0,-0.3162],[0.3,0.3162,0.9]])\n",
    "r = F.from_matrix(R)\n",
    "print(\"The rotation vector is :\",r.as_rotvec())"
   ],
   "outputs": [
    {
     "output_type": "stream",
     "name": "stdout",
     "text": [
      "The rotation vector is : [0.49668452 0.         1.49021065]\n"
     ]
    }
   ],
   "metadata": {}
  },
  {
   "cell_type": "markdown",
   "source": [
    "Thus, the matrix generated is verified to be the same as the result from the inbuilt library"
   ],
   "metadata": {}
  },
  {
   "cell_type": "markdown",
   "source": [
    "# 3. Data representations"
   ],
   "metadata": {}
  },
  {
   "cell_type": "markdown",
   "source": [
    "## a) Octomaps\n",
    "\n",
    "1. Why is an Octomap memory efficient?\n",
    "2. When do we update an Octomap and why?\n",
    "3. When would you likely use an octomap instead of a point cloud?\n",
    " "
   ],
   "metadata": {}
  },
  {
   "cell_type": "markdown",
   "source": [
    "#### Part 1 (Why is an octomap memory efficient)"
   ],
   "metadata": {}
  },
  {
   "cell_type": "markdown",
   "source": [
    "Octomaps use two techniques to compress its memory footprint as compared to other solutions. One is clamping and other is pruning. Clamping is an update policy rule which limits the amount of updates required to declare a node free or occupied, with the limit defined by two free variables $l_{min}$ and $l_{max}$. Using this update rule, a bound on the confidence on the mapping can be availed. Due to this, neighbouring voxels can be pruned in order to reduce the total amount of voxels. This results in reduction of redundant information and thus octomap being memory efficient.\n",
    "\n",
    "There are other benifits which come from using octotrees as their data structure that the resolution of the space can be as coarse or fine as per the requirement. This means that one can safely make the octotree coarse and then add new nodes to it only if conflicting information is obtained. This saves a lot of space as the volume of indivdual volexs can differ greatly depending on whether they are on surface or not thus saving a lot of space."
   ],
   "metadata": {}
  },
  {
   "cell_type": "markdown",
   "source": [
    "#### Part 2 (When do we update an Octomap and why?)"
   ],
   "metadata": {}
  },
  {
   "cell_type": "markdown",
   "source": [
    "An octomap is updated when it gets contradicting infromation from future measurements. The update step changes the state of a voxel if it is contradicting, and it it still contradicts, then it gets children node till no contradiction information is recieved"
   ],
   "metadata": {}
  },
  {
   "cell_type": "markdown",
   "source": [
    "#### Part 3 (When would you likely use an octomap instead of a point cloud)"
   ],
   "metadata": {}
  },
  {
   "cell_type": "markdown",
   "source": [
    "A point cloud representation does not map free space or unknown areas nor does it take into account sensor noise and dynamic object information directly. It also is not memory efficient. These are areas where octomaps excels at. Thus in scenarios where the amount of memory is limited, the mapping of unknown and free spaces is important, and also cases where the location has mobile objects, an octomap is more likely to be used than a point cloud representation."
   ],
   "metadata": {}
  },
  {
   "cell_type": "markdown",
   "source": [
    "## b) Signed Distance Functions\n",
    "\n",
    "1. How do we determine object surfaces using SDF?\n",
    "2. How do we aggregate views from multiple cameras? (just a general overview is fine)\n",
    "3. Which preserves details better? Voxels or SDF? Why?\n",
    "4. What’s an advantage of SDF over a point cloud?\n"
   ],
   "metadata": {}
  },
  {
   "cell_type": "markdown",
   "source": [
    "#### Part 1 (How do we determine object surfaces using SDF?)"
   ],
   "metadata": {}
  },
  {
   "cell_type": "markdown",
   "source": [
    "Signed Distance Function (SDF) gives a distance metric for each voxel, the metric signifying the distance between the voxel and the surface. The negative signed distance signifying that the voxel is outside of the bound object and the positive distance signifying that the voxel is inside the bound surface. Thus the surface is the one, where the signed distance is zero. Hence, the object surface is determined where the SDF of the voxel returns zero."
   ],
   "metadata": {}
  },
  {
   "cell_type": "markdown",
   "source": [
    "#### Part 2 (How do we aggregate views from multiple cameras?)"
   ],
   "metadata": {}
  },
  {
   "cell_type": "markdown",
   "source": [
    "A single camera measures the distance and gives a reading D, which is the distance between the voxels and the surface. For multiple cameras, aggregation is done by taking a weighted average of all the distance taken by the cameras. \n",
    "\n",
    "For each camera, the update rule as given below is applied to every voxel which intersects the ray between the camera and the surface, thus giving an aggregate distance using information from all the cameras. \n",
    "\n",
    "The update rule : <br>\n",
    "$D \\leftarrow \\frac{WD + wd}{W + w}$ <br>\n",
    "$W \\leftarrow W + w$\n",
    "\n",
    "In this, D is the aggregated distance, W is the aggregated weight, with d and w being distance and weight of that particular camera observation."
   ],
   "metadata": {}
  },
  {
   "cell_type": "markdown",
   "source": [
    "#### Part 3 (Which preserves details better? Voxels or SDF? Why?)"
   ],
   "metadata": {}
  },
  {
   "cell_type": "markdown",
   "source": [
    "> Note : An assumption is taken that the comparision is between occupancy map and SDF rather than voxel as voxel is not a surface mapping algorithm to be compared but rather a notation for 3d point\n",
    "\n",
    "Occupancy maps stores the information of whether a particular voxel is occupied or if it free. SDF on the other hand gives a distance metric between the voxel and the surface, thus there is more information stored in an SDF compared to occupancy map. The distance metric helps in interpolation and thus gives a more precise information on the location of the surface. Thus SDF preserves details better then occupancy maps."
   ],
   "metadata": {}
  },
  {
   "cell_type": "markdown",
   "source": [
    "#### Part 4 (What’s an advantage of SDF over a point cloud?)"
   ],
   "metadata": {}
  },
  {
   "cell_type": "markdown",
   "source": [
    "An advantage that SDF has over point cloud is that maps both free space and occupied space as compared to point clouds which only map occupied space. Another advantage is that it takes constant memory for mapping which would be useful in densely occupied maps, where the amount of information required by point clouds would be too much as it takes three values per voxel as compared to SDF which only requires one. Thus in densely occupied regions (In regions where O(total_voxels) $\\approx$ O(occupied_voxels)), memory required required to store point clouds would be almost three times the memory required to store SDFs."
   ],
   "metadata": {}
  },
  {
   "cell_type": "markdown",
   "source": [
    "# References and Resources\n",
    "\n",
    "1. Gimbal locks and quaternions: https://youtu.be/YF5ZUlKxSgE\n",
    "2. Exponential map: \n",
    "    1. 3 Blue 1 Brown: https://youtu.be/O85OWBJ2ayo\n",
    "    2. Northwestern Robotics: https://youtu.be/v_KBHaG0mas\n",
    "3. Bunny ply is taken from: http://graphics.im.ntu.edu.tw/~robin/courses/cg03/model/"
   ],
   "metadata": {}
  }
 ],
 "metadata": {
  "kernelspec": {
   "name": "python3",
   "display_name": "Python 3.8.10 64-bit"
  },
  "language_info": {
   "codemirror_mode": {
    "name": "ipython",
    "version": 3
   },
   "file_extension": ".py",
   "mimetype": "text/x-python",
   "name": "python",
   "nbconvert_exporter": "python",
   "pygments_lexer": "ipython3",
   "version": "3.8.10"
  },
  "interpreter": {
   "hash": "916dbcbb3f70747c44a77c7bcd40155683ae19c65e1c03b4aa3499c5328201f1"
  }
 },
 "nbformat": 4,
 "nbformat_minor": 5
}