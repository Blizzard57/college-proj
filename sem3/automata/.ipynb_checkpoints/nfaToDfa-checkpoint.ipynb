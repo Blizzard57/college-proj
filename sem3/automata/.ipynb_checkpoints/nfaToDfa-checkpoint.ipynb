{
 "cells": [
  {
   "cell_type": "code",
   "execution_count": 51,
   "metadata": {},
   "outputs": [],
   "source": [
    "## Importing JSON API\n",
    "import json\n",
    "## Opening and accessing data from json file\n",
    "data = json.load(open('nfa.json'))"
   ]
  },
  {
   "cell_type": "code",
   "execution_count": 52,
   "metadata": {},
   "outputs": [
    {
     "name": "stdout",
     "output_type": "stream",
     "text": [
      "256\n"
     ]
    }
   ],
   "source": [
    "## No of states required for DFA\n",
    "s = 2**data['states']\n",
    "print(s)"
   ]
  },
  {
   "cell_type": "code",
   "execution_count": 57,
   "metadata": {},
   "outputs": [
    {
     "name": "stdout",
     "output_type": "stream",
     "text": [
      "[[1, 'a', [1, 3, 0, 5]], [3, 'b', [2, 5, 7]], [2, 'a', [1, 3, 0, 5]]]\n"
     ]
    }
   ],
   "source": [
    "print(data['t_func'])"
   ]
  },
  {
   "cell_type": "code",
   "execution_count": 61,
   "metadata": {},
   "outputs": [
    {
     "name": "stdout",
     "output_type": "stream",
     "text": [
      "[2, 5, 7]\n"
     ]
    }
   ],
   "source": [
    "print(data['t_func'][1][2])"
   ]
  },
  {
   "cell_type": "code",
   "execution_count": 56,
   "metadata": {},
   "outputs": [
    {
     "name": "stdout",
     "output_type": "stream",
     "text": [
      "[[1], 'a', [1, 3, 0, 5]]\n"
     ]
    }
   ],
   "source": [
    "tn = [[data['t_func'][0][0]],data['t_func'][0][1],data['t_func'][0][2]]\n",
    "print(tn)"
   ]
  },
  {
   "cell_type": "code",
   "execution_count": 50,
   "metadata": {},
   "outputs": [
    {
     "name": "stdout",
     "output_type": "stream",
     "text": [
      "1\n",
      "a\n",
      "[1, 3, 0, 5]\n",
      "\n",
      "3\n",
      "b\n",
      "[2, 5, 7]\n",
      "\n"
     ]
    }
   ],
   "source": [
    "for i in data['t_func']:\n",
    "    for j in range(len(i)):\n",
    "        print(i[j])\n",
    "        if i[j] == \n",
    "    print()"
   ]
  },
  {
   "cell_type": "code",
   "execution_count": 67,
   "metadata": {},
   "outputs": [
    {
     "ename": "SyntaxError",
     "evalue": "unexpected EOF while parsing (<ipython-input-67-c06ef8398a31>, line 7)",
     "output_type": "error",
     "traceback": [
      "\u001b[0;36m  File \u001b[0;32m\"<ipython-input-67-c06ef8398a31>\"\u001b[0;36m, line \u001b[0;32m7\u001b[0m\n\u001b[0;31m    \u001b[0m\n\u001b[0m    ^\u001b[0m\n\u001b[0;31mSyntaxError\u001b[0m\u001b[0;31m:\u001b[0m unexpected EOF while parsing\n"
     ]
    }
   ],
   "source": [
    "## Data type required [Same receiving value[Same alphabet[]]]\n",
    "new = [[data['t_func'][0][2],[data['t_func'][0][1],[data['t_func'][0][0]]]]]\n",
    "print(new)\n",
    "for i in range(len(data['t_func'])):\n",
    "    for j in range(len(new)):\n",
    "        if new[j][0] == data['t_func'][i][2]:\n",
    "            for k in range(len(new[j][1]))\n",
    "            if new[j][1][k] == data['t_func'][i][1]:\n",
    "                for l in range(len())"
   ]
  },
  {
   "cell_type": "code",
   "execution_count": 88,
   "metadata": {},
   "outputs": [
    {
     "name": "stdout",
     "output_type": "stream",
     "text": [
      "[1, 3, 0, 5]\n"
     ]
    }
   ],
   "source": [
    "new = [[data['t_func'][0][2],[data['t_func'][0][1],[data['t_func'][0][0]]]]]\n",
    "print(new[0][0])"
   ]
  },
  {
   "cell_type": "code",
   "execution_count": null,
   "metadata": {},
   "outputs": [],
   "source": [
    "## Next aproach\n",
    "## For every output value a new variable starting with Q\n",
    "## Then compression\n",
    "## "
   ]
  }
 ],
 "metadata": {
  "kernelspec": {
   "display_name": "Python 3",
   "language": "python",
   "name": "python3"
  },
  "language_info": {
   "codemirror_mode": {
    "name": "ipython",
    "version": 3
   },
   "file_extension": ".py",
   "mimetype": "text/x-python",
   "name": "python",
   "nbconvert_exporter": "python",
   "pygments_lexer": "ipython3",
   "version": "3.7.3"
  }
 },
 "nbformat": 4,
 "nbformat_minor": 2
}
