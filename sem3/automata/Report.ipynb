{
 "cells": [
  {
   "cell_type": "markdown",
   "metadata": {},
   "source": [
    "- Subject : Automata Theory\n",
    "- Assignment 1\n",
    "- Roll No : 2018113003"
   ]
  },
  {
   "cell_type": "code",
   "execution_count": 1,
   "metadata": {},
   "outputs": [],
   "source": [
    "### The script requires an nfa.json file as an input"
   ]
  },
  {
   "cell_type": "markdown",
   "metadata": {},
   "source": [
    "#### This code :\n",
    "- Imports JSON library which interprets the data given in the json\n",
    "- Loads the data in nfa.json to the dictionary 'data' "
   ]
  },
  {
   "cell_type": "code",
   "execution_count": 16,
   "metadata": {},
   "outputs": [],
   "source": [
    "import json\n",
    "data = json.load(open('nfa.json'))"
   ]
  },
  {
   "cell_type": "markdown",
   "metadata": {},
   "source": [
    "#### This code:\n",
    "- Finds the number of states (2<sup>Q</sup>) and saves it in the variable s"
   ]
  },
  {
   "cell_type": "code",
   "execution_count": 17,
   "metadata": {},
   "outputs": [
    {
     "name": "stdout",
     "output_type": "stream",
     "text": [
      "256\n"
     ]
    }
   ],
   "source": [
    "s = 2**data['states']\n",
    "print(s)"
   ]
  },
  {
   "cell_type": "markdown",
   "metadata": {},
   "source": [
    "#### This code:\n",
    "- Generates a list ls which stores all the states from 0 to Q-1"
   ]
  },
  {
   "cell_type": "code",
   "execution_count": 18,
   "metadata": {},
   "outputs": [
    {
     "name": "stdout",
     "output_type": "stream",
     "text": [
      "[0, 1, 2, 3, 4, 5, 6, 7]\n"
     ]
    }
   ],
   "source": [
    "ls=[]\n",
    "for i in range(data['states']):\n",
    "    ls.append(i)\n",
    "print(ls)"
   ]
  },
  {
   "cell_type": "markdown",
   "metadata": {},
   "source": [
    "#### This code:\n",
    "- Generates the powerset of the list given to it\n",
    "- It does it by using the chain library to iterate through all the combinations of the items in the list"
   ]
  },
  {
   "cell_type": "code",
   "execution_count": 19,
   "metadata": {},
   "outputs": [],
   "source": [
    "from itertools import chain, combinations\n",
    "def powerset(iterable):\n",
    "    \"powerset([1,2,3]) --> () (1,) (2,) (3,) (1,2) (1,3) (2,3) (1,2,3)\"\n",
    "    s = list(iterable)\n",
    "    return chain.from_iterable(combinations(s, r) for r in range(len(s)+1))"
   ]
  },
  {
   "cell_type": "code",
   "execution_count": 20,
   "metadata": {},
   "outputs": [],
   "source": [
    "pq = list(powerset(ls))"
   ]
  },
  {
   "cell_type": "markdown",
   "metadata": {},
   "source": [
    "#### This code:\n",
    "- Generates the $\\delta_D$ function from the $\\delta_N$ according to the rule :\n",
    "\n",
    "$\\delta_D(R_1,a)$ = $\\bigcup\\limits_{r \\in R_1} \\delta_N(r,a)$\n"
   ]
  },
  {
   "cell_type": "code",
   "execution_count": 21,
   "metadata": {},
   "outputs": [],
   "source": [
    "t = [] # The empty delta function\n",
    "for i in pq: # Iterating over all the elements of the powerset ==> All the states of the DFA\n",
    "    for j in data['letters']: # Iterating over all the letters present\n",
    "        # Creating a set to get the union operation when appending to it\n",
    "        # Resets itself for every new letter and state\n",
    "        nex_st = set()\n",
    "        for k in data['t_func']:\n",
    "            # Checking if the NFA has a transtion from i via j\n",
    "            if k[0] in i and j == k[1]:\n",
    "                # Updating for every transition the exists from i via j (Union operaion)\n",
    "                nex_st.update(k[2])\n",
    "        #After exhausting through all the transition states(of NFA), can write it to the delta function \n",
    "        t.append([list(i),j,list(nex_st)])"
   ]
  },
  {
   "cell_type": "code",
   "execution_count": 22,
   "metadata": {
    "scrolled": true
   },
   "outputs": [
    {
     "name": "stdout",
     "output_type": "stream",
     "text": [
      "[[], 'a', []]\n",
      "[[], 'b', []]\n",
      "[[], 'c', []]\n",
      "[[0], 'a', []]\n",
      "[[0], 'b', []]\n",
      "[[0], 'c', []]\n",
      "[[1], 'a', [0, 1, 3]]\n",
      "[[1], 'b', []]\n",
      "[[1], 'c', []]\n",
      "[[2], 'a', []]\n"
     ]
    }
   ],
   "source": [
    "for i in range(10):\n",
    "    print(t[i]) # Looping for clearer print statement"
   ]
  },
  {
   "cell_type": "markdown",
   "metadata": {},
   "source": [
    "#### This code:\n",
    "- Iterates over all the elements of the DFA and finds ones which have $i_N \\in Q_D$"
   ]
  },
  {
   "cell_type": "code",
   "execution_count": 23,
   "metadata": {},
   "outputs": [],
   "source": [
    "st=[]\n",
    "for i in pq:\n",
    "    if data['start'] in i:\n",
    "        st.append(list(i))"
   ]
  },
  {
   "cell_type": "code",
   "execution_count": 24,
   "metadata": {},
   "outputs": [
    {
     "name": "stdout",
     "output_type": "stream",
     "text": [
      "[0]\n",
      "[0, 1]\n",
      "[0, 2]\n",
      "[0, 3]\n",
      "[0, 4]\n",
      "[0, 5]\n",
      "[0, 6]\n",
      "[0, 7]\n",
      "[0, 1, 2]\n",
      "[0, 1, 3]\n"
     ]
    }
   ],
   "source": [
    "for i in range(10):\n",
    "    print(st[i])"
   ]
  },
  {
   "cell_type": "markdown",
   "metadata": {},
   "source": [
    "#### This code\n",
    "- Finds all final states according to the rule:\n",
    "\n",
    "$F_D = \\bigcup\\limits_{f_1 \\in F_N} \\{f_2 | f_2 \\in Q_D and f_2 \\cap f_1 \\neq \\phi\\}$"
   ]
  },
  {
   "cell_type": "code",
   "execution_count": 25,
   "metadata": {},
   "outputs": [],
   "source": [
    "fin=[]\n",
    "for i in pq: # Iterating over all the input states f2\n",
    "    for j in data['final']: # Iterating ove all the final states f1 in N \n",
    "        if j in i: # chcking if they have any element in common\n",
    "            fin.append(list(i))"
   ]
  },
  {
   "cell_type": "code",
   "execution_count": 26,
   "metadata": {},
   "outputs": [
    {
     "name": "stdout",
     "output_type": "stream",
     "text": [
      "[4]\n",
      "[0, 4]\n",
      "[1, 4]\n",
      "[2, 4]\n",
      "[3, 4]\n",
      "[4, 5]\n",
      "[4, 6]\n",
      "[4, 7]\n",
      "[0, 1, 4]\n",
      "[0, 2, 4]\n"
     ]
    }
   ],
   "source": [
    "for i in range(10):\n",
    "    print(fin[i])"
   ]
  },
  {
   "cell_type": "markdown",
   "metadata": {},
   "source": [
    "#### This code:\n",
    "- Makes a dictionary to save the output as a JSON"
   ]
  },
  {
   "cell_type": "code",
   "execution_count": 27,
   "metadata": {},
   "outputs": [],
   "source": [
    "out = {}\n",
    "out['states'] = s\n",
    "out['letters'] = data['letters'] # The sigma set does not change from NFA to DFA\n",
    "out['t_func'] = t\n",
    "out['start'] = st\n",
    "out['final'] = fin"
   ]
  },
  {
   "cell_type": "markdown",
   "metadata": {},
   "source": [
    "#### This code:\n",
    "- Stores the given dictionary and saves it as a JSON file (out.json)"
   ]
  },
  {
   "cell_type": "code",
   "execution_count": 28,
   "metadata": {},
   "outputs": [],
   "source": [
    "with open('out.json', 'w') as outfile:\n",
    "    json.dump(out, outfile,indent=4) # Formatting the output to make it viewable"
   ]
  }
 ],
 "metadata": {
  "kernelspec": {
   "display_name": "Python 3",
   "language": "python",
   "name": "python3"
  },
  "language_info": {
   "codemirror_mode": {
    "name": "ipython",
    "version": 3
   },
   "file_extension": ".py",
   "mimetype": "text/x-python",
   "name": "python",
   "nbconvert_exporter": "python",
   "pygments_lexer": "ipython3",
   "version": "3.7.4"
  }
 },
 "nbformat": 4,
 "nbformat_minor": 2
}
