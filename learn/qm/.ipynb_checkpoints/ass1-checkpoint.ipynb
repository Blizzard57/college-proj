{
 "cells": [
  {
   "cell_type": "markdown",
   "metadata": {},
   "source": [
    "## Sandbox for QM assignment 1"
   ]
  },
  {
   "cell_type": "code",
   "execution_count": 2,
   "metadata": {},
   "outputs": [],
   "source": [
    "import numpy as np"
   ]
  },
  {
   "cell_type": "code",
   "execution_count": 59,
   "metadata": {},
   "outputs": [
    {
     "data": {
      "text/plain": [
       "25"
      ]
     },
     "execution_count": 59,
     "metadata": {},
     "output_type": "execute_result"
    }
   ],
   "source": [
    "pi = 3141592653589793238462643\n",
    "len(str(pi))"
   ]
  },
  {
   "cell_type": "code",
   "execution_count": 83,
   "metadata": {},
   "outputs": [
    {
     "name": "stdout",
     "output_type": "stream",
     "text": [
      "0 0.0\n",
      "1 0.08\n",
      "2 0.12\n",
      "3 0.2\n",
      "4 0.12\n",
      "5 0.12\n",
      "6 0.12\n",
      "7 0.04\n",
      "8 0.08\n",
      "9 0.12\n",
      "22.278400000000005\n"
     ]
    }
   ],
   "source": [
    "pival = []\n",
    "p = 0\n",
    "ls = 0\n",
    "for j in range(10):\n",
    "    ls = 0\n",
    "    for i in str(pi):\n",
    "        if j == 0:\n",
    "            pival.append(int(i))\n",
    "        if int(i) == j:\n",
    "            ls = ls + 1\n",
    "    p = ls/25 * (j**1) + p\n",
    "    print(str(j) + \" \" + str(ls/25))\n",
    "print(p**2)"
   ]
  },
  {
   "cell_type": "code",
   "execution_count": 84,
   "metadata": {},
   "outputs": [
    {
     "name": "stdout",
     "output_type": "stream",
     "text": [
      "[3, 1, 4, 1, 5, 9, 2, 6, 5, 3, 5, 8, 9, 7, 9, 3, 2, 3, 8, 4, 6, 2, 6, 4, 3]\n",
      "Median 6.5\n"
     ]
    }
   ],
   "source": [
    "print(pival)\n",
    "pival.sort()\n",
    "print(\"Median\" , pival[int(len(pival)/2)] + pival[int(len(pival)/2 + 1)]/2)"
   ]
  },
  {
   "cell_type": "code",
   "execution_count": 75,
   "metadata": {},
   "outputs": [
    {
     "data": {
      "text/plain": [
       "25"
      ]
     },
     "execution_count": 75,
     "metadata": {},
     "output_type": "execute_result"
    }
   ],
   "source": [
    "len(pival)"
   ]
  },
  {
   "cell_type": "code",
   "execution_count": 79,
   "metadata": {},
   "outputs": [
    {
     "name": "stdout",
     "output_type": "stream",
     "text": [
      "4.72\n"
     ]
    }
   ],
   "source": [
    "j=0\n",
    "for i in pival:\n",
    "    j=j+i\n",
    "print(j/25)"
   ]
  },
  {
   "cell_type": "code",
   "execution_count": null,
   "metadata": {},
   "outputs": [],
   "source": []
  }
 ],
 "metadata": {
  "kernelspec": {
   "display_name": "Python 3",
   "language": "python",
   "name": "python3"
  },
  "language_info": {
   "codemirror_mode": {
    "name": "ipython",
    "version": 3
   },
   "file_extension": ".py",
   "mimetype": "text/x-python",
   "name": "python",
   "nbconvert_exporter": "python",
   "pygments_lexer": "ipython3",
   "version": "3.7.4"
  }
 },
 "nbformat": 4,
 "nbformat_minor": 2
}
