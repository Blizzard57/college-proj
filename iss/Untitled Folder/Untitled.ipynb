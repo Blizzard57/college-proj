{
 "cells": [
  {
   "cell_type": "code",
   "execution_count": 4,
   "metadata": {},
   "outputs": [],
   "source": [
    "import sys"
   ]
  },
  {
   "cell_type": "code",
   "execution_count": 5,
   "metadata": {},
   "outputs": [],
   "source": [
    "def isLeap(x):\n",
    "    if x%4!=0 :\n",
    "        return 0\n",
    "    elif x%100!=0 :\n",
    "        return 1\n",
    "    elif x%400!=0 :\n",
    "        return 0\n",
    "    return 1"
   ]
  },
  {
   "cell_type": "code",
   "execution_count": 13,
   "metadata": {},
   "outputs": [
    {
     "data": {
      "text/plain": [
       "1"
      ]
     },
     "execution_count": 13,
     "metadata": {},
     "output_type": "execute_result"
    }
   ],
   "source": [
    "isLeap(20)"
   ]
  },
  {
   "cell_type": "code",
   "execution_count": 20,
   "metadata": {},
   "outputs": [
    {
     "name": "stdout",
     "output_type": "stream",
     "text": [
      "How-are-you\n"
     ]
    }
   ],
   "source": [
    "def convert(x):\n",
    "    print(\"-\".join(x.split()))\n",
    "z=\"How are you\"\n",
    "convert(z)"
   ]
  },
  {
   "cell_type": "code",
   "execution_count": 47,
   "metadata": {},
   "outputs": [
    {
     "name": "stdout",
     "output_type": "stream",
     "text": [
      "['black', 'black', 'green', 'red', 'red', 'white']\n",
      "green\n",
      "{'red', 'green', 'black', 'white'}\n",
      "red, green, black, white\n"
     ]
    }
   ],
   "source": []
  },
  {
   "cell_type": "code",
   "execution_count": 54,
   "metadata": {},
   "outputs": [
    {
     "name": "stdout",
     "output_type": "stream",
     "text": [
      "['black', 'green', 'red', 'white']\n",
      "black, green, red, white\n"
     ]
    }
   ],
   "source": [
    "def UniqueSort(x):\n",
    "    z=x.split(\", \")\n",
    "    z.sort()\n",
    "    s=set()\n",
    "    n=len(z)\n",
    "    for i in range(0,n):\n",
    "        s.add(z[i])\n",
    "    p=sorted(s)\n",
    "    print(p)\n",
    "    print(\", \".join(p))\n",
    "UniqueSort(\"red, white, black, green, black, red\")"
   ]
  },
  {
   "cell_type": "code",
   "execution_count": null,
   "metadata": {},
   "outputs": [],
   "source": [
    "def "
   ]
  }
 ],
 "metadata": {
  "kernelspec": {
   "display_name": "Python 3",
   "language": "python",
   "name": "python3"
  },
  "language_info": {
   "codemirror_mode": {
    "name": "ipython",
    "version": 3
   },
   "file_extension": ".py",
   "mimetype": "text/x-python",
   "name": "python",
   "nbconvert_exporter": "python",
   "pygments_lexer": "ipython3",
   "version": "3.6.7"
  }
 },
 "nbformat": 4,
 "nbformat_minor": 2
}
