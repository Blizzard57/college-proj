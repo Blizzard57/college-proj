{
 "cells": [
  {
   "cell_type": "code",
   "execution_count": 15,
   "metadata": {},
   "outputs": [],
   "source": [
    "from Crypto.Cipher import AES\n",
    "import numpy as np\n",
    "from Crypto import Random\n",
    "from Crypto.Random import get_random_bytes\n",
    "from Crypto.Util import Counter"
   ]
  },
  {
   "cell_type": "markdown",
   "metadata": {},
   "source": [
    "## General Purpose Functions\n",
    "These functions are not encryption dependent but are used anywhere in the program "
   ]
  },
  {
   "cell_type": "code",
   "execution_count": 613,
   "metadata": {},
   "outputs": [],
   "source": [
    "def xor(str1,str2):\n",
    "    ''' Gives the XOR of two hex stings with same length'''\n",
    "    if(len(str1) == len(str2)):\n",
    "        return \"\".join([\"%x\" % (int(x,16) ^ int(y,16)) for (x, y) in zip(str1, str2)])\n",
    "    else :\n",
    "        raise ValueError(\"Enter strings of equal lengths for XOR\")\n",
    "    \n",
    "def printReadable(string, length):\n",
    "    ''' Prints the given string by splitting it with spaces for every n letters mentioned in length'''\n",
    "    try :\n",
    "        return ' '.join(string[i:i+length] for i in range(0,len(string),length))\n",
    "    except :\n",
    "        raise ValueError(\"Please enter either a string or a hex value of a byte string\")"
   ]
  },
  {
   "cell_type": "markdown",
   "metadata": {},
   "source": [
    "## AES Class \n",
    "The following class encloses all the required methods for the program specific to encoding"
   ]
  },
  {
   "cell_type": "code",
   "execution_count": 620,
   "metadata": {},
   "outputs": [],
   "source": [
    "class aesMeth :\n",
    "    ''' \n",
    "    The following class is a wrapper to the AES class by pyCrypto with AES encryption in mind\n",
    "    An object of this class can encrypt the data given with different modes of encryption defined in the init \n",
    "    '''\n",
    "    def __init__(self,mode = \"ECB\",size = 128,ptsize = 80):\n",
    "        ''' \n",
    "        The initialization function :\n",
    "        Input Method :\n",
    "        It has the following arguments given to it:\n",
    "            i)   Mode of operation - ECB by default\n",
    "            ii)  Key Size - 128, 192 or 256\n",
    "            iii) Text Size - Has to be a multiple of 16\n",
    "            \n",
    "        This function gives the following attributes to an object :\n",
    "        i)   Key - Randomly generated\n",
    "        ii)  Plain Text - Randomly generated\n",
    "        iii) An IV - Randomly generated\n",
    "        iv)  A Counter - Randomly generated\n",
    "        v)   The mode of operation :\n",
    "                Four options available : ECB, CBC, CTR, OFB\n",
    "        vi)  The Key size - Three options for AES Encryption (128,192,256)\n",
    "        vii) Text Size - Hes to be a multiple of 16\n",
    "        '''\n",
    "        \n",
    "        if mode != \"ECB\" and mode != \"CBC\" and mode != \"OFB\" and mode != \"CTR\" :\n",
    "            raise ValueError(\"Please enter a valid mode : CBC, ECB, OFB or CTR\" )\n",
    "        else :\n",
    "            self.mode = mode\n",
    "            \n",
    "        if size != 128 and size != 192 and size != 256 :\n",
    "            raise ValueError(\"The key should be of either 128 , 192 or 256 bits\")\n",
    "        else :\n",
    "            self.keySize = size\n",
    "            \n",
    "        if ptsize%16 != 0:\n",
    "            raise ValueError(\"Please enter value as a multiple of 16 for the text size\")\n",
    "        else:\n",
    "            self.textSize = ptsize\n",
    "        \n",
    "        # This generates an empty instance of the required fields\n",
    "        self.key = b''\n",
    "        self.iv = b''\n",
    "        self.ctr = b''\n",
    "        self.plaintext = b''\n",
    "        \n",
    "        #This calls the functions which gives an initial value to all the fields\n",
    "        self.genKey()\n",
    "        self.genPlainText()\n",
    "        self.genCtr()\n",
    "        self.genIV()\n",
    "    \n",
    "    # Generate functions\n",
    "    def genKey(self):\n",
    "        ''' Generates a random key of the given key size'''\n",
    "        self.key=get_random_bytes(int(self.keySize/8))\n",
    "        \n",
    "    def genPlainText(self):\n",
    "        ''' Generates a random key of the given plain text size'''\n",
    "        self.plaintext=get_random_bytes(self.textSize)\n",
    "            \n",
    "    def genIV(self):\n",
    "        ''' Generates a random IV'''\n",
    "        self.iv = get_random_bytes(16)\n",
    "        \n",
    "    def genCtr(self):\n",
    "        ''' Generates a random Control'''\n",
    "        self.ctr = get_random_bytes(8)\n",
    "    \n",
    "    # A single generate function\n",
    "    '''\n",
    "    def gen(self,prop):\n",
    "        if prop == \"Key\" :\n",
    "            self.key=get_random_bytes(int(self.keySize/8))\n",
    "        elif prop == \"Plain Text\" :\n",
    "            self.plaintext=get_random_bytes(self.textSize)\n",
    "        elif prop == \"iv\" :\n",
    "            self.iv = get_random_bytes(16)\n",
    "        elif prop == \"Ctr\" :\n",
    "            self.ctr = get_random_bytes(8)            \n",
    "    '''\n",
    "    \n",
    "    # Print functions\n",
    "    def printKey(self):\n",
    "        ''' Prints the key in hex form which is readable'''\n",
    "        print(printReadable(self.key.hex(),8))\n",
    "        \n",
    "    def printPt(self):\n",
    "        ''' Prints the plain text in hex form which is readable'''\n",
    "        string = self.plaintext.hex()\n",
    "        length = 8\n",
    "        for j in range(int(self.textSize/16)):\n",
    "            print(' '.join(string[i:i+length] for i in range(32*j,32*(j+1),length)))\n",
    "\n",
    "    def printCtr(self):\n",
    "        ''' Prints the control in hex form which is readable'''\n",
    "        print(printReadable(self.ctr.hex(),8))\n",
    "        \n",
    "    def printIV(self):\n",
    "        ''' Prints the IV in hex form which is readable'''\n",
    "        print(printReadable(self.iv.hex(),8))\n",
    "        \n",
    "    #Single print function\n",
    "    '''\n",
    "    def gen(self,prop):\n",
    "        if prop == \"Key\" :\n",
    "            print(printReadable(self.key.hex(),8))\n",
    "        elif prop == \"Plain Text\" :\n",
    "            string = self.plaintext.hex()\n",
    "            length = 8\n",
    "            for j in range(int(self.textSize/16)):\n",
    "                print(' '.join(string[i:i+length] for i in range(32*j,32*(j+1),length)))\n",
    "        elif prop == \"Ctr\" :\n",
    "                print(printReadable(self.ctr.hex(),8))\n",
    "        elif prop == \"iv\" :\n",
    "             print(printReadable(self.iv.hex(),8))\n",
    "    '''\n",
    "        \n",
    "    def encrypt(self):\n",
    "        ''' This function encrypts the given plaintext'''\n",
    "        if self.mode == \"ECB\" :\n",
    "            # ECB is an inbuilt function in pycrypto, hence just applying it\n",
    "            encObj = AES.new(self.key,AES.MODE_ECB)\n",
    "            return encObj.encrypt(self.plaintext)\n",
    "        \n",
    "        elif self.mode == \"CBC\" :\n",
    "            # CBC is an inbuilt function in pycrypto, hence just applying it\n",
    "            encObj = AES.new(self.key,AES.MODE_CBC,self.iv)\n",
    "            return encObj.encrypt(self.plaintext)\n",
    "        \n",
    "        elif self.mode == \"OFB\" :\n",
    "            # OFB is not an inbuilt function, hence applying the algorithm to get the encryption\n",
    "            # Encrypting each block of data seperately, so using ECB \n",
    "            # for each one of them as ECB for one block of code is just AES applied to it\n",
    "            obfObj = AES.new(key,AES.MODE_ECB)\n",
    "            tempText = obfObj.encrypt(ivStr)\n",
    "            \n",
    "            # This stores all the encrypted iv by the equation C_i = f(C_(i-1))\n",
    "            cArray = np.array([tempText]) \n",
    "            for i in range(int(self.textSize/16) - 1) :\n",
    "                temptext = obfObj.encrypt(cArray[-1])\n",
    "                cArray = np.append(cArray,temptext)\n",
    "            \n",
    "            # This array stores the XOR of the plain text and the encrypted iv\n",
    "            # The data is converted to its hex form to be able to XOR it\n",
    "            xorArr = np.array([]) \n",
    "            for i in range(int(self.textSize/16)):\n",
    "                xorArr = np.append(xorArr,xor(cArray[i].hex(),self.plaintext[16*i:16*(i+1)].hex()))\n",
    "            \n",
    "            # This string combines all of the encrypted data in a single byte string\n",
    "            encStr = b'' \n",
    "            for i in range(len(xorArr)):\n",
    "                encStr+=bytes.fromhex(xorArr[i])\n",
    "            return encStr\n",
    "        \n",
    "        elif self.mode == \"CTR\" :\n",
    "            # CTR is not an inbuilt function, hence applying the algorithm to get the encryption\n",
    "            # Encrypting each block of data seperately, so using ECB \n",
    "            # for each one of them as ECB for one block of code is just AES applied to it\n",
    "            ctrObj = AES.new(key,AES.MODE_ECB)\n",
    "            \n",
    "            # The ctrStr stores the concatenation of the Counter and number\n",
    "            # Thus effectively being ctrStr[i] = ctr + i\n",
    "            ctrStr = np.array([])\n",
    "            for i in range(int(self.textSize/16)):\n",
    "                appendStr = \"00000000\"\n",
    "                # The number in ites entirety must be of length 8, hence mutating it so that it remains of length 8\n",
    "                try :\n",
    "                    appendStr = appendStr[:len(appendStr) - len(str(i))]\n",
    "                except :\n",
    "                    raise ValueError(\"Please enter text of smaller size\")\n",
    "                ctrStr = np.append(ctrStr,self.ctr + (appendStr + str(i)).encode('ascii'))\n",
    "            \n",
    "            # This string combines all of the encrypted data in a single byte string\n",
    "            encArr = b''\n",
    "            for i in range(int(self.textSize/16)):\n",
    "                encArr += ctrObj.encrypt(ctrStr[i])\n",
    "            return encArr\n",
    "        \n",
    "        else :\n",
    "            # If none of the given methods are entered\n",
    "            raise ValueError(\"Enter a proper method : ECB, CBC, OFB or CTR\")"
   ]
  },
  {
   "cell_type": "code",
   "execution_count": 615,
   "metadata": {},
   "outputs": [
    {
     "name": "stdout",
     "output_type": "stream",
     "text": [
      "Key  :\n",
      "e58aaaf3 f98b213d 10f2588d acaa2fa6\n",
      "\n",
      "Plain Text  :\n",
      "df2a2e53 1e1add64 ae8de2c5 625ba6ce\n",
      "80c84dea fc409f72 260b30ab 13616932\n",
      "be57e103 960a1130 da9024c9 961c0aac\n",
      "be735798 5ea12276 d6a878ce aa90bd35\n",
      "46822602 ca72771d de8bbeb8 d7edc7a3\n",
      "\n",
      "IV  :\n",
      "f88844bd ba32c0fe 1af46cad bd428be7\n",
      "\n",
      "Counter  :\n",
      "b21e144c ded2e6ce\n"
     ]
    },
    {
     "data": {
      "text/plain": [
       "'a6f9c8397336c43aa0a79593719a78a9 1ae34005d34ded838291aa7f47dd002e 06605a6b5e980bc5591d6d35db2c529d 7c57a51a17ca70fcba17b4cc49aed683 f50a48199d028ff8053d1db855f1e4e0'"
      ]
     },
     "execution_count": 615,
     "metadata": {},
     "output_type": "execute_result"
    }
   ],
   "source": [
    "new = aesMeth(\"ECB\",128)\n",
    "print(\"Key  :\")\n",
    "new.printKey()\n",
    "print()\n",
    "print(\"Plain Text  :\")\n",
    "new.printPt()\n",
    "print()\n",
    "print(\"IV  :\")\n",
    "new.printIV()\n",
    "print()\n",
    "print(\"Counter  :\")\n",
    "new.printCtr()\n",
    "printReadable(new.encrypt().hex(),32)\n",
    "#obj = AES.new(new.key,AES.MODE_CBC,new.iv)\n",
    "#obj.decrypt(ans) == new.plaintext"
   ]
  },
  {
   "cell_type": "markdown",
   "metadata": {},
   "source": [
    "### Validation for the ECB method\n",
    "The following method is verified when the decryption of the encryted text equals the plain text given"
   ]
  },
  {
   "cell_type": "code",
   "execution_count": 616,
   "metadata": {},
   "outputs": [
    {
     "name": "stdout",
     "output_type": "stream",
     "text": [
      "Key  :\n",
      "4924427f 16733b7d 64531ddc ddb14d75 9b6d62a8 9d3be403\n",
      "\n",
      "Plain Text  :\n",
      "ab68c4c2 c4d67c3a 44e0cd19 5cac33e6\n",
      "729150fd c0a0b1ca 3a21cba4 dcb083d4\n",
      "c5509819 fdeab43e fb50ee51 b410e48d\n",
      "d33551c0 f3aacd28 ac4bee79 d868c313\n",
      "4c8339f2 9e2fc48f 0bfae8b9 38e0d4ac\n",
      "ea3646dd 6618b847 b1345a8f e6e04ffc\n"
     ]
    },
    {
     "data": {
      "text/plain": [
       "True"
      ]
     },
     "execution_count": 616,
     "metadata": {},
     "output_type": "execute_result"
    }
   ],
   "source": [
    "obj1 = aesMeth(\"ECB\",192,96)\n",
    "aes_obj = AES.new(obj1.key,AES.MODE_ECB)\n",
    "print(\"Key  :\")\n",
    "obj1.printKey()\n",
    "print()\n",
    "print(\"Plain Text  :\")\n",
    "obj1.printPt()\n",
    "aes_obj.decrypt(obj1.encrypt()) == obj1.plaintext"
   ]
  },
  {
   "cell_type": "markdown",
   "metadata": {},
   "source": [
    "### Validation for the CBC method\n",
    "The following method is verified when the decryption of the encryted text equals the plain text given"
   ]
  },
  {
   "cell_type": "code",
   "execution_count": 617,
   "metadata": {},
   "outputs": [
    {
     "name": "stdout",
     "output_type": "stream",
     "text": [
      "Key  :\n",
      "1ce740f6 a7c7f7d5 47e73a0a 19dcac92 d6d039e7 09679cb9\n",
      "\n",
      "Plain Text  :\n",
      "305fd03e a3d1772e d993585c 31b94593\n",
      "031db275 881769b5 bc57a711 21c2f707\n",
      "7ad03a17 a41be802 2ac3d6fa de68c3db\n",
      "8d711d26 bc640122 bc70a5c1 489d6407\n",
      "75b99f6c b39627f5 83adf1fc 9f2891fd\n",
      "4a3b419d a4384db1 aaa2b4c5 c8f0ab80\n",
      "\n",
      "IV  :\n",
      "2ea993df 01edc8bc ef33bca9 9b455c49\n",
      "\n"
     ]
    },
    {
     "data": {
      "text/plain": [
       "True"
      ]
     },
     "execution_count": 617,
     "metadata": {},
     "output_type": "execute_result"
    }
   ],
   "source": [
    "obj1 = aesMeth(\"CBC\",192,96)\n",
    "aes_obj = AES.new(obj1.key,AES.MODE_CBC,obj1.iv)\n",
    "print(\"Key  :\")\n",
    "obj1.printKey()\n",
    "print()\n",
    "print(\"Plain Text  :\")\n",
    "obj1.printPt()\n",
    "print()\n",
    "print(\"IV  :\")\n",
    "obj1.printIV()\n",
    "print()\n",
    "aes_obj.decrypt(obj1.encrypt()) == obj1.plaintext"
   ]
  },
  {
   "cell_type": "markdown",
   "metadata": {},
   "source": [
    "### OFB Method "
   ]
  },
  {
   "cell_type": "code",
   "execution_count": 618,
   "metadata": {},
   "outputs": [
    {
     "name": "stdout",
     "output_type": "stream",
     "text": [
      "Key  :\n",
      "68430e54 27758b78 ce6d9aa3 b3e5a37d\n",
      "\n",
      "Plain Text  :\n",
      "371b0b2a 511113df c5423de4 d75905a1\n",
      "53685d2d 074d9aa0 bba0ef73 61949005\n",
      "0dfdf959 b9a6a649 2fe8c6c0 16e635fb\n",
      "7b25b25d 487c57bc 81ab564d e76baa29\n",
      "117b2f4c 0624bf8c 15524d8b 93416fe4\n",
      "53ee145e 35ea810f 2f860860 67ffd5c1\n",
      "\n",
      "IV  :\n",
      "114ed609 d7489195 7149fa45 92699396\n",
      "\n",
      "Encrypted Data  :\n",
      "12e00e8c 8386fb4a ef3d54b0 e666d9de\n",
      "90e89520 bfaf42d3 9f83808c a805e1af\n",
      "dd755d1f 3abbad22 fe6963d8 2c808a2a\n",
      "db868d2c f2f8cc75 a09d22cf acc13d85\n",
      "5f7639da 413137db 66ddd611 4ca6d464\n",
      "ee60f9eb b5725614 1fc2b4aa 8befa93f\n"
     ]
    }
   ],
   "source": [
    "new = aesMeth(\"OFB\",128,96)\n",
    "print(\"Key  :\")\n",
    "new.printKey()\n",
    "print()\n",
    "print(\"Plain Text  :\")\n",
    "new.printPt()\n",
    "print()\n",
    "print(\"IV  :\")\n",
    "new.printIV()\n",
    "print()\n",
    "ans = new.encrypt().hex()\n",
    "print(\"Encrypted Data  :\")\n",
    "for i in range(int(len(ans)/32)):\n",
    "    print(printReadable(ans[32*i:32*(i+1)],8))"
   ]
  },
  {
   "cell_type": "markdown",
   "metadata": {},
   "source": [
    "## Ctr Method"
   ]
  },
  {
   "cell_type": "code",
   "execution_count": 619,
   "metadata": {},
   "outputs": [
    {
     "name": "stdout",
     "output_type": "stream",
     "text": [
      "Key  :\n",
      "49d4de1c 843a83f2 ac9c9c56 fa921534\n",
      "\n",
      "Plain Text  :\n",
      "b3aafa20 69af0f63 5c2c3f71 1546e4a7\n",
      "6819832f 1f45579b 11044076 d2450997\n",
      "6ee5e80f 38d60e6e f051bff3 1f543cb9\n",
      "a13f0cb3 1f90e0c2 02ab362b 8bc34955\n",
      "1a9c8371 57491283 bea44203 5c141745\n",
      "a2fc692e 59f476ba 7a21d7d0 d287f8fc\n",
      "\n",
      "Counter  :\n",
      "796d19f6 e07164e2\n",
      "\n",
      "Encrypted Data  :\n",
      "2cb804a3 798fd45d cd007596 4f5786d5\n",
      "045c30da 4c2c7202 fc81f6d0 5de60352\n",
      "1620d698 4f8f8c25 a971c3de 9d59e82f\n",
      "ca337d22 d45a67a2 9301ecb9 fdc9b245\n",
      "9a07ecf4 7f2e8a9d f06b907d d94c4ef7\n",
      "ca815ecb c236a952 de370103 b144bbff\n"
     ]
    }
   ],
   "source": [
    "new = aesMeth(\"CTR\",128,96)\n",
    "print(\"Key  :\")\n",
    "new.printKey()\n",
    "print()\n",
    "print(\"Plain Text  :\")\n",
    "new.printPt()\n",
    "print()\n",
    "print(\"Counter  :\")\n",
    "new.printCtr()\n",
    "ans = new.encrypt().hex()\n",
    "print()\n",
    "print(\"Encrypted Data  :\")\n",
    "for i in range(int(len(ans)/32)):\n",
    "    print(printReadable(ans[32*i:32*(i+1)],8))"
   ]
  },
  {
   "cell_type": "markdown",
   "metadata": {},
   "source": [
    "## Playground for Experimentation\n",
    "Rough work - Not required for the working of the main program"
   ]
  },
  {
   "cell_type": "code",
   "execution_count": 586,
   "metadata": {},
   "outputs": [],
   "source": [
    "?aesMeth"
   ]
  },
  {
   "cell_type": "code",
   "execution_count": 587,
   "metadata": {},
   "outputs": [
    {
     "name": "stdout",
     "output_type": "stream",
     "text": [
      "The Plain Text  :\n",
      "c79f8158 b19b23da 03f2474a 6fccd243 \n",
      "e7187886 55e773f9 dc5c0e1b 3d241312 \n",
      "522da52b e94fcb58 449d4ff0 be4fdbfc \n",
      "a0b8919b 28e41e91 555b64fb 74adf3ad \n",
      "f3aaeafe 23fa19f9 fac83dab 4828b061 \n",
      "\n",
      "The Key  :\n",
      "9f31760f fc7e79c5 fcda5b31 f2fd5015 7db5cbd3 2b040b9d \n",
      "\n",
      "The IV\n",
      "673645c8 72315cd2 2fc1a4f9 3b78ff03 \n",
      "\n",
      "The CTR  :\n",
      "3841a760 08136157 \n"
     ]
    }
   ],
   "source": [
    "size = 192\n",
    "mode = \"ECB\"\n",
    "mainStr =b''\n",
    "print(\"The Plain Text  :\")\n",
    "for i in range(5):\n",
    "    for j in range(4):\n",
    "        plaintext = get_random_bytes(4)\n",
    "        print(plaintext.hex(), end = \" \")\n",
    "        mainStr+=plaintext\n",
    "    print(\"\")\n",
    "    \n",
    "print()\n",
    "print(\"The Key  :\")\n",
    "keySize = 192\n",
    "key = b''\n",
    "for i in range(int(keySize/32)):\n",
    "    keyTemp=get_random_bytes(4)\n",
    "    print(keyTemp.hex(), end = \" \")\n",
    "    key+=keyTemp\n",
    "    \n",
    "print()\n",
    "print()\n",
    "ivStr=b''\n",
    "print(\"The IV\")\n",
    "for j in range(4):\n",
    "    ivTemp = get_random_bytes(4)\n",
    "    print(ivTemp.hex(), end = \" \")\n",
    "    ivStr+=ivTemp\n",
    "print(\"\")\n",
    "\n",
    "print()\n",
    "ctrStr=b''\n",
    "print(\"The CTR  :\")\n",
    "for j in range(2):\n",
    "    ctrTemp = get_random_bytes(4)\n",
    "    print(ctrTemp.hex(), end = \" \")\n",
    "    ctrStr+=ctrTemp\n",
    "print(\"\")"
   ]
  },
  {
   "cell_type": "code",
   "execution_count": 588,
   "metadata": {},
   "outputs": [],
   "source": [
    "def hexxor(a, b):\n",
    "    return \"\".join([\"%x\" % (int(x,16) ^ int(y,16)) for (x, y) in zip(a, b)])\n",
    "\n",
    "def encrypt(string, length):\n",
    "    return ' '.join(string[i:i+length] for i in range(0,len(string),length))"
   ]
  },
  {
   "cell_type": "code",
   "execution_count": 589,
   "metadata": {},
   "outputs": [
    {
     "name": "stdout",
     "output_type": "stream",
     "text": [
      "Give input for XOR\n",
      "f80733c78 e4f2517d 31bffc8c 985af16\n"
     ]
    }
   ],
   "source": [
    "print(\"Give input for XOR\")\n",
    "xorStr1 = key.hex()\n",
    "xorStr2 = ivStr.hex()\n",
    "xor = hexxor(xorStr1,xorStr2)\n",
    "for i in range(len(xor)):\n",
    "    print(xor[i],end = \"\")\n",
    "    if i % 8 == 0 and i != 0:\n",
    "        print(\" \",end = \"\")\n",
    "print()"
   ]
  },
  {
   "cell_type": "code",
   "execution_count": 590,
   "metadata": {
    "scrolled": false
   },
   "outputs": [
    {
     "name": "stdout",
     "output_type": "stream",
     "text": [
      "1a0f5810 290fd609 efec37b3 e279ba60\n"
     ]
    }
   ],
   "source": [
    "hex1 = '6fa75d49722276a11a8748aca562755a'\n",
    "hex2 = '75a805595b2da0a8f56b7f1f471bcf3a'\n",
    "x = hexxor(hex1,hex2)\n",
    "print(encrypt(x,8))"
   ]
  },
  {
   "cell_type": "code",
   "execution_count": 591,
   "metadata": {},
   "outputs": [],
   "source": [
    "obj = AES.new(key, AES.MODE_ECB)"
   ]
  },
  {
   "cell_type": "code",
   "execution_count": 592,
   "metadata": {},
   "outputs": [
    {
     "data": {
      "text/plain": [
       "'aa1fab64 3a32e4f2 728e007c fbaee6e3 aeed900a de4a3b4f cd302953 9a4b7fe6 2a01aba4 056f0abd 6029ad55 f44cd413 6645331e e237d0cc 4dfe61f9 0a1d7ba9 c8832844 93d4371a ef21c56f 757d7ba0'"
      ]
     },
     "execution_count": 592,
     "metadata": {},
     "output_type": "execute_result"
    }
   ],
   "source": [
    "encrypt(obj.encrypt(mainStr).hex(),8)"
   ]
  },
  {
   "cell_type": "code",
   "execution_count": 593,
   "metadata": {},
   "outputs": [
    {
     "data": {
      "text/plain": [
       "b'\\xc7\\x9f\\x81X\\xb1\\x9b#\\xda\\x03\\xf2GJo\\xcc\\xd2C\\xe7\\x18x\\x86U\\xe7s\\xf9\\xdc\\\\\\x0e\\x1b=$\\x13\\x12R-\\xa5+\\xe9O\\xcbXD\\x9dO\\xf0\\xbeO\\xdb\\xfc\\xa0\\xb8\\x91\\x9b(\\xe4\\x1e\\x91U[d\\xfbt\\xad\\xf3\\xad\\xf3\\xaa\\xea\\xfe#\\xfa\\x19\\xf9\\xfa\\xc8=\\xabH(\\xb0a'"
      ]
     },
     "execution_count": 593,
     "metadata": {},
     "output_type": "execute_result"
    }
   ],
   "source": [
    "obj.decrypt(obj.encrypt(mainStr))"
   ]
  },
  {
   "cell_type": "code",
   "execution_count": 594,
   "metadata": {},
   "outputs": [
    {
     "data": {
      "text/plain": [
       "b'\\xc7\\x9f\\x81X\\xb1\\x9b#\\xda\\x03\\xf2GJo\\xcc\\xd2C\\xe7\\x18x\\x86U\\xe7s\\xf9\\xdc\\\\\\x0e\\x1b=$\\x13\\x12R-\\xa5+\\xe9O\\xcbXD\\x9dO\\xf0\\xbeO\\xdb\\xfc\\xa0\\xb8\\x91\\x9b(\\xe4\\x1e\\x91U[d\\xfbt\\xad\\xf3\\xad\\xf3\\xaa\\xea\\xfe#\\xfa\\x19\\xf9\\xfa\\xc8=\\xabH(\\xb0a'"
      ]
     },
     "execution_count": 594,
     "metadata": {},
     "output_type": "execute_result"
    }
   ],
   "source": [
    "mainStr"
   ]
  },
  {
   "cell_type": "code",
   "execution_count": 595,
   "metadata": {},
   "outputs": [
    {
     "name": "stdout",
     "output_type": "stream",
     "text": [
      "b'\\xc7\\x9f\\x81X\\xb1\\x9b#\\xda\\x03\\xf2GJo\\xcc\\xd2C\\xe7\\x18x\\x86U\\xe7s\\xf9\\xdc\\\\\\x0e\\x1b=$\\x13\\x12R-\\xa5+\\xe9O\\xcbXD\\x9dO\\xf0\\xbeO\\xdb\\xfc\\xa0\\xb8\\x91\\x9b(\\xe4\\x1e\\x91U[d\\xfbt\\xad\\xf3\\xad\\xf3\\xaa\\xea\\xfe#\\xfa\\x19\\xf9\\xfa\\xc8=\\xabH(\\xb0a'\n"
     ]
    },
    {
     "data": {
      "text/plain": [
       "True"
      ]
     },
     "execution_count": 595,
     "metadata": {},
     "output_type": "execute_result"
    }
   ],
   "source": [
    "aes = AES.new(key, AES.MODE_CBC, ivStr)\n",
    "data = 'hello world 1234hello world 1234hello world 1234hello world 1234' # <- 16 bytes\n",
    "encd = aes.encrypt(mainStr)\n",
    "aes = AES.new(key, AES.MODE_CBC, ivStr)\n",
    "decd = aes.decrypt(encd)\n",
    "print (decd)\n",
    "decd == mainStr"
   ]
  },
  {
   "cell_type": "code",
   "execution_count": 596,
   "metadata": {},
   "outputs": [],
   "source": [
    "count = Counter.new(128,initial_value = int(ctrStr.hex(),16))\n",
    "ctr_obj = AES.new(key,AES.MODE_CTR,counter = count)"
   ]
  },
  {
   "cell_type": "code",
   "execution_count": 597,
   "metadata": {},
   "outputs": [],
   "source": [
    "prop = ctr_obj.encrypt(\"abcd\")\n",
    "ans = ctr_obj.decrypt(prop)\n",
    "ans = ctr_obj.decrypt(prop)\n",
    "ans = ctr_obj.decrypt(prop)\n",
    "ans = ctr_obj.decrypt(prop)"
   ]
  },
  {
   "cell_type": "code",
   "execution_count": 598,
   "metadata": {
    "scrolled": true
   },
   "outputs": [
    {
     "ename": "ValueError",
     "evalue": "Input strings must be a multiple of 16 in length",
     "output_type": "error",
     "traceback": [
      "\u001b[0;31m---------------------------------------------------------------------------\u001b[0m",
      "\u001b[0;31mValueError\u001b[0m                                Traceback (most recent call last)",
      "\u001b[0;32m<ipython-input-598-c0424f5a9688>\u001b[0m in \u001b[0;36m<module>\u001b[0;34m()\u001b[0m\n\u001b[1;32m      1\u001b[0m \u001b[0mobj\u001b[0m \u001b[0;34m=\u001b[0m \u001b[0mAES\u001b[0m\u001b[0;34m.\u001b[0m\u001b[0mnew\u001b[0m\u001b[0;34m(\u001b[0m\u001b[0mkey\u001b[0m\u001b[0;34m,\u001b[0m \u001b[0mAES\u001b[0m\u001b[0;34m.\u001b[0m\u001b[0mMODE_ECB\u001b[0m\u001b[0;34m)\u001b[0m\u001b[0;34m\u001b[0m\u001b[0;34m\u001b[0m\u001b[0m\n\u001b[0;32m----> 2\u001b[0;31m \u001b[0mtemp\u001b[0m \u001b[0;34m=\u001b[0m \u001b[0mencrypt\u001b[0m\u001b[0;34m(\u001b[0m\u001b[0mobj\u001b[0m\u001b[0;34m.\u001b[0m\u001b[0mencrypt\u001b[0m\u001b[0;34m(\u001b[0m\u001b[0mctrStr\u001b[0m\u001b[0;34m)\u001b[0m\u001b[0;34m)\u001b[0m\u001b[0;34m\u001b[0m\u001b[0;34m\u001b[0m\u001b[0m\n\u001b[0m\u001b[1;32m      3\u001b[0m \u001b[0mhexxor\u001b[0m\u001b[0;34m(\u001b[0m\u001b[0mtemp\u001b[0m\u001b[0;34m,\u001b[0m \u001b[0mmainStr\u001b[0m\u001b[0;34m)\u001b[0m\u001b[0;34m\u001b[0m\u001b[0;34m\u001b[0m\u001b[0m\n",
      "\u001b[0;32m/usr/lib/python3/dist-packages/Crypto/Cipher/blockalgo.py\u001b[0m in \u001b[0;36mencrypt\u001b[0;34m(self, plaintext)\u001b[0m\n\u001b[1;32m    242\u001b[0m             \u001b[0;32mreturn\u001b[0m \u001b[0mres\u001b[0m\u001b[0;34m\u001b[0m\u001b[0;34m\u001b[0m\u001b[0m\n\u001b[1;32m    243\u001b[0m \u001b[0;34m\u001b[0m\u001b[0m\n\u001b[0;32m--> 244\u001b[0;31m         \u001b[0;32mreturn\u001b[0m \u001b[0mself\u001b[0m\u001b[0;34m.\u001b[0m\u001b[0m_cipher\u001b[0m\u001b[0;34m.\u001b[0m\u001b[0mencrypt\u001b[0m\u001b[0;34m(\u001b[0m\u001b[0mplaintext\u001b[0m\u001b[0;34m)\u001b[0m\u001b[0;34m\u001b[0m\u001b[0;34m\u001b[0m\u001b[0m\n\u001b[0m\u001b[1;32m    245\u001b[0m \u001b[0;34m\u001b[0m\u001b[0m\n\u001b[1;32m    246\u001b[0m     \u001b[0;32mdef\u001b[0m \u001b[0mdecrypt\u001b[0m\u001b[0;34m(\u001b[0m\u001b[0mself\u001b[0m\u001b[0;34m,\u001b[0m \u001b[0mciphertext\u001b[0m\u001b[0;34m)\u001b[0m\u001b[0;34m:\u001b[0m\u001b[0;34m\u001b[0m\u001b[0;34m\u001b[0m\u001b[0m\n",
      "\u001b[0;31mValueError\u001b[0m: Input strings must be a multiple of 16 in length"
     ]
    }
   ],
   "source": [
    "obj = AES.new(key, AES.MODE_ECB)\n",
    "temp = encrypt(obj.encrypt(ctrStr))\n",
    "hexxor(temp, mainStr)"
   ]
  },
  {
   "cell_type": "code",
   "execution_count": 599,
   "metadata": {},
   "outputs": [
    {
     "ename": "ValueError",
     "evalue": "non-hexadecimal number found in fromhex() arg at position 1",
     "output_type": "error",
     "traceback": [
      "\u001b[0;31m---------------------------------------------------------------------------\u001b[0m",
      "\u001b[0;31mValueError\u001b[0m                                Traceback (most recent call last)",
      "\u001b[0;32m<ipython-input-599-abf94fb1bdb0>\u001b[0m in \u001b[0;36m<module>\u001b[0;34m()\u001b[0m\n\u001b[0;32m----> 1\u001b[0;31m \u001b[0mpt\u001b[0m \u001b[0;34m=\u001b[0m \u001b[0mbytes\u001b[0m\u001b[0;34m.\u001b[0m\u001b[0mfromhex\u001b[0m\u001b[0;34m(\u001b[0m\u001b[0mhex\u001b[0m\u001b[0;34m(\u001b[0m\u001b[0mint\u001b[0m\u001b[0;34m(\u001b[0m\u001b[0mctrStr\u001b[0m\u001b[0;34m.\u001b[0m\u001b[0mhex\u001b[0m\u001b[0;34m(\u001b[0m\u001b[0;34m)\u001b[0m\u001b[0;34m,\u001b[0m\u001b[0;36m16\u001b[0m\u001b[0;34m)\u001b[0m \u001b[0;34m+\u001b[0m \u001b[0;36m1\u001b[0m\u001b[0;34m)\u001b[0m\u001b[0;34m)\u001b[0m\u001b[0;34m\u001b[0m\u001b[0;34m\u001b[0m\u001b[0m\n\u001b[0m\u001b[1;32m      2\u001b[0m \u001b[0mprint\u001b[0m\u001b[0;34m(\u001b[0m\u001b[0mhex\u001b[0m\u001b[0;34m(\u001b[0m\u001b[0mint\u001b[0m\u001b[0;34m(\u001b[0m\u001b[0mctrStr\u001b[0m\u001b[0;34m.\u001b[0m\u001b[0mhex\u001b[0m\u001b[0;34m(\u001b[0m\u001b[0;34m)\u001b[0m\u001b[0;34m,\u001b[0m\u001b[0;36m16\u001b[0m\u001b[0;34m)\u001b[0m \u001b[0;34m+\u001b[0m \u001b[0;36m1\u001b[0m\u001b[0;34m)\u001b[0m\u001b[0;34m)\u001b[0m\u001b[0;34m\u001b[0m\u001b[0;34m\u001b[0m\u001b[0m\n",
      "\u001b[0;31mValueError\u001b[0m: non-hexadecimal number found in fromhex() arg at position 1"
     ]
    }
   ],
   "source": [
    "pt = bytes.fromhex(hex(int(ctrStr.hex(),16) + 1))\n",
    "print(hex(int(ctrStr.hex(),16) + 1))"
   ]
  },
  {
   "cell_type": "code",
   "execution_count": 600,
   "metadata": {},
   "outputs": [
    {
     "data": {
      "text/plain": [
       "b'\\xf6|\\x1a\\xeb\\xc7s\\xd2\\xa4KH\\x8e)J@\\xd0\\x8a'"
      ]
     },
     "execution_count": 600,
     "metadata": {},
     "output_type": "execute_result"
    }
   ],
   "source": [
    "obj.encrypt(pt)"
   ]
  },
  {
   "cell_type": "code",
   "execution_count": 601,
   "metadata": {},
   "outputs": [
    {
     "data": {
      "text/plain": [
       "4053705170504343897"
      ]
     },
     "execution_count": 601,
     "metadata": {},
     "output_type": "execute_result"
    }
   ],
   "source": [
    "int(count().hex(),16)"
   ]
  },
  {
   "cell_type": "code",
   "execution_count": 602,
   "metadata": {},
   "outputs": [
    {
     "data": {
      "text/plain": [
       "b'3841a7600813615700000001'"
      ]
     },
     "execution_count": 602,
     "metadata": {},
     "output_type": "execute_result"
    }
   ],
   "source": [
    "pt = (str(ctrStr.hex()) + \"00000001\").encode()\n",
    "pt"
   ]
  },
  {
   "cell_type": "code",
   "execution_count": 603,
   "metadata": {},
   "outputs": [
    {
     "ename": "ValueError",
     "evalue": "Input strings must be a multiple of 16 in length",
     "output_type": "error",
     "traceback": [
      "\u001b[0;31m---------------------------------------------------------------------------\u001b[0m",
      "\u001b[0;31mValueError\u001b[0m                                Traceback (most recent call last)",
      "\u001b[0;32m<ipython-input-603-7856537e3e51>\u001b[0m in \u001b[0;36m<module>\u001b[0;34m()\u001b[0m\n\u001b[0;32m----> 1\u001b[0;31m \u001b[0mhexxor\u001b[0m\u001b[0;34m(\u001b[0m\u001b[0mobj\u001b[0m\u001b[0;34m.\u001b[0m\u001b[0mencrypt\u001b[0m\u001b[0;34m(\u001b[0m\u001b[0mpt\u001b[0m\u001b[0;34m)\u001b[0m\u001b[0;34m.\u001b[0m\u001b[0mhex\u001b[0m\u001b[0;34m(\u001b[0m\u001b[0;34m)\u001b[0m\u001b[0;34m,\u001b[0m\u001b[0mmainStr\u001b[0m\u001b[0;34m[\u001b[0m\u001b[0;34m:\u001b[0m\u001b[0;36m8\u001b[0m\u001b[0;34m]\u001b[0m\u001b[0;34m.\u001b[0m\u001b[0mhex\u001b[0m\u001b[0;34m(\u001b[0m\u001b[0;34m)\u001b[0m\u001b[0;34m)\u001b[0m\u001b[0;34m\u001b[0m\u001b[0;34m\u001b[0m\u001b[0m\n\u001b[0m",
      "\u001b[0;32m/usr/lib/python3/dist-packages/Crypto/Cipher/blockalgo.py\u001b[0m in \u001b[0;36mencrypt\u001b[0;34m(self, plaintext)\u001b[0m\n\u001b[1;32m    242\u001b[0m             \u001b[0;32mreturn\u001b[0m \u001b[0mres\u001b[0m\u001b[0;34m\u001b[0m\u001b[0;34m\u001b[0m\u001b[0m\n\u001b[1;32m    243\u001b[0m \u001b[0;34m\u001b[0m\u001b[0m\n\u001b[0;32m--> 244\u001b[0;31m         \u001b[0;32mreturn\u001b[0m \u001b[0mself\u001b[0m\u001b[0;34m.\u001b[0m\u001b[0m_cipher\u001b[0m\u001b[0;34m.\u001b[0m\u001b[0mencrypt\u001b[0m\u001b[0;34m(\u001b[0m\u001b[0mplaintext\u001b[0m\u001b[0;34m)\u001b[0m\u001b[0;34m\u001b[0m\u001b[0;34m\u001b[0m\u001b[0m\n\u001b[0m\u001b[1;32m    245\u001b[0m \u001b[0;34m\u001b[0m\u001b[0m\n\u001b[1;32m    246\u001b[0m     \u001b[0;32mdef\u001b[0m \u001b[0mdecrypt\u001b[0m\u001b[0;34m(\u001b[0m\u001b[0mself\u001b[0m\u001b[0;34m,\u001b[0m \u001b[0mciphertext\u001b[0m\u001b[0;34m)\u001b[0m\u001b[0;34m:\u001b[0m\u001b[0;34m\u001b[0m\u001b[0;34m\u001b[0m\u001b[0m\n",
      "\u001b[0;31mValueError\u001b[0m: Input strings must be a multiple of 16 in length"
     ]
    }
   ],
   "source": [
    "hexxor(obj.encrypt(pt).hex(),mainStr[:8].hex())"
   ]
  },
  {
   "cell_type": "code",
   "execution_count": 604,
   "metadata": {},
   "outputs": [],
   "source": [
    "obfObj = AES.new(key,AES.MODE_ECB)\n",
    "temptext = obfObj.encrypt(ivStr)\n",
    "x = np.array([temptext])\n",
    "for i in range(int(80/16) - 1) :\n",
    "    temptext = obfObj.encrypt(x[-1])\n",
    "    x = np.append(x,temptext)"
   ]
  },
  {
   "cell_type": "code",
   "execution_count": 605,
   "metadata": {},
   "outputs": [],
   "source": [
    "y = np.array([])\n",
    "for i in range(int(80/16)):\n",
    "    y = np.append(y,hexxor(x[i].hex(),mainStr[i:i+8].hex()))"
   ]
  },
  {
   "cell_type": "code",
   "execution_count": 606,
   "metadata": {},
   "outputs": [
    {
     "data": {
      "text/plain": [
       "array(['e26484fe630ccb4f', '5c0190bc23c10270', '51d015dda0c70899',\n",
       "       'f812a4526087698e', 'ff96354c44e7cf1d'], dtype='<U32')"
      ]
     },
     "execution_count": 606,
     "metadata": {},
     "output_type": "execute_result"
    }
   ],
   "source": [
    "y"
   ]
  },
  {
   "cell_type": "code",
   "execution_count": 607,
   "metadata": {},
   "outputs": [],
   "source": [
    "#    def gen(self,prop,*args):\n",
    "#        if prop == \"Key\" :\n",
    "#            self.key=get_random_bytes(self.keySize/8)\n",
    "#        elif prop == \"Plain Text\" :\n",
    "#            if len(args) == 0:\n",
    "#                raise \"For Plain Text the text size is required to be entered\"\n",
    "#            else :\n",
    "#                if args[0]%16 != 0:\n",
    "#                    raise \"Please enter value as a multiple of 16 for the text size\"\n",
    "#                else:\n",
    "#                    self.plaintext=get_random_bytes(args[0])\n",
    "#        elif prop == \"IV\":\n",
    "#            self.iv = get_random_bytes(16)\n",
    "#        elif prop == \"CTR\":\n",
    "#            self.ctr = get_random_bytes(16)"
   ]
  },
  {
   "cell_type": "code",
   "execution_count": 608,
   "metadata": {},
   "outputs": [
    {
     "data": {
      "text/plain": [
       "b'8A\\xa7`\\x08\\x13aW00000001'"
      ]
     },
     "execution_count": 608,
     "metadata": {},
     "output_type": "execute_result"
    }
   ],
   "source": [
    "# Finding the CTR method\n",
    "new = ctrStr + b'00000001'\n",
    "new"
   ]
  },
  {
   "cell_type": "code",
   "execution_count": 609,
   "metadata": {},
   "outputs": [
    {
     "data": {
      "text/plain": [
       "array([b'8A\\xa7`\\x08\\x13aW00000000', b'8A\\xa7`\\x08\\x13aW00000001',\n",
       "       b'8A\\xa7`\\x08\\x13aW00000002', b'8A\\xa7`\\x08\\x13aW00000003',\n",
       "       b'8A\\xa7`\\x08\\x13aW00000004'], dtype='|S32')"
      ]
     },
     "execution_count": 609,
     "metadata": {},
     "output_type": "execute_result"
    }
   ],
   "source": [
    "ansStr = np.array([])\n",
    "for i in range(int(80/16)):\n",
    "    ansStr = np.append(ansStr,ctrStr + (\"0000000\" + str(i)).encode('ascii'))\n",
    "ansStr"
   ]
  },
  {
   "cell_type": "code",
   "execution_count": 610,
   "metadata": {},
   "outputs": [],
   "source": [
    "finNewObj = AES.new(key,AES.MODE_ECB)\n",
    "finStr = np.array([])\n",
    "for i in range(len(ansStr)):\n",
    "    finStr = np.append(finStr,finNewObj.encrypt(ansStr[i]))"
   ]
  },
  {
   "cell_type": "code",
   "execution_count": 611,
   "metadata": {},
   "outputs": [
    {
     "data": {
      "text/plain": [
       "array([b'\\x19Z\\xe3\\xd6\\x1f\\x05\\x03\\xb5Q\\xac\\x15\\xe2\\x1fip\\xee',\n",
       "       b'h\\x93\\xa7i\\xea\\xe8:\\xe2k\\xe9\\xbe\\x1e\\xf8\\xc1\\xd4a',\n",
       "       b'%\\xc1\\xd1\\xe3\\xca\\xaf\\xfb\\x8c\\xb0Py\\xc3\\xb2\\x8e^\\xf8',\n",
       "       b'y\\xf8S\\x19b\\xff\\xf8a>\\xef\\xd2\\xee\\xf7\\xba\\xf5\\xb5',\n",
       "       b'\\x8c\\x08\\xc6\\xab\\xe3\\x1e\\xc3@\\x1bdIR\\xef\\xeay\\\\'], dtype='|S32')"
      ]
     },
     "execution_count": 611,
     "metadata": {},
     "output_type": "execute_result"
    }
   ],
   "source": [
    "finStr"
   ]
  },
  {
   "cell_type": "code",
   "execution_count": 612,
   "metadata": {},
   "outputs": [],
   "source": [
    "i = 100\n",
    "a = \"00000000\"\n",
    "len(str(i))\n",
    "a = a[:len(a) - len(str(i))]"
   ]
  }
 ],
 "metadata": {
  "kernelspec": {
   "display_name": "Python 3",
   "language": "python",
   "name": "python3"
  },
  "language_info": {
   "codemirror_mode": {
    "name": "ipython",
    "version": 3
   },
   "file_extension": ".py",
   "mimetype": "text/x-python",
   "name": "python",
   "nbconvert_exporter": "python",
   "pygments_lexer": "ipython3",
   "version": "3.6.7"
  }
 },
 "nbformat": 4,
 "nbformat_minor": 2
}
