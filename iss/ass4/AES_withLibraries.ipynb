{
 "cells": [
  {
   "cell_type": "code",
   "execution_count": 25,
   "metadata": {},
   "outputs": [],
   "source": [
    "from Crypto.Cipher import AES\n",
    "import numpy as np\n",
    "from Crypto import Random\n",
    "from Crypto.Random import get_random_bytes\n",
    "from Crypto.Util import Counter"
   ]
  },
  {
   "cell_type": "markdown",
   "metadata": {},
   "source": [
    "## General Purpose Functions\n",
    "These functions are not encryption dependent but are used anywhere in the program "
   ]
  },
  {
   "cell_type": "code",
   "execution_count": 26,
   "metadata": {},
   "outputs": [],
   "source": [
    "def xor(str1,str2):\n",
    "    ''' Gives the XOR of two hex stings with same length'''\n",
    "    if(len(str1) == len(str2)):\n",
    "        return \"\".join([\"%x\" % (int(x,16) ^ int(y,16)) for (x, y) in zip(str1, str2)])\n",
    "    else :\n",
    "        raise ValueError(\"Enter strings of equal lengths for XOR\")\n",
    "    \n",
    "def printReadable(string, length):\n",
    "    ''' Prints the given string by splitting it with spaces for every n letters mentioned in length'''\n",
    "    try :\n",
    "        return ' '.join(string[i:i+length] for i in range(0,len(string),length))\n",
    "    except :\n",
    "        raise ValueError(\"Please enter either a string or a hex value of a byte string\")"
   ]
  },
  {
   "cell_type": "markdown",
   "metadata": {},
   "source": [
    "## AES Class \n",
    "The following class encloses all the required methods for the program specific to encoding"
   ]
  },
  {
   "cell_type": "code",
   "execution_count": 42,
   "metadata": {},
   "outputs": [],
   "source": [
    "class aesMeth :\n",
    "    ''' \n",
    "    The following class is a wrapper to the AES class by pyCrypto with AES encryption in mind\n",
    "    An object of this class can encrypt the data given with different modes of encryption defined in the init \n",
    "    '''\n",
    "    def __init__(self,mode = \"ECB\",size = 128,ptsize = 80):\n",
    "        ''' \n",
    "        The initialization function :\n",
    "        Input Method :\n",
    "        It has the following arguments given to it:\n",
    "            i)   Mode of operation - ECB by default\n",
    "            ii)  Key Size - 128, 192 or 256\n",
    "            iii) Text Size - Has to be a multiple of 16\n",
    "            \n",
    "        This function gives the following attributes to an object :\n",
    "        i)   Key - Randomly generated\n",
    "        ii)  Plain Text - Randomly generated\n",
    "        iii) An IV - Randomly generated\n",
    "        iv)  A Counter - Randomly generated\n",
    "        v)   The mode of operation :\n",
    "                Four options available : ECB, CBC, CTR, OFB\n",
    "        vi)  The Key size - Three options for AES Encryption (128,192,256)\n",
    "        vii) Text Size - Hes to be a multiple of 16\n",
    "        '''\n",
    "        \n",
    "        if mode != \"ECB\" and mode != \"CBC\" and mode != \"OFB\" and mode != \"CTR\" :\n",
    "            raise ValueError(\"Please enter a valid mode : CBC, ECB, OFB or CTR\" )\n",
    "        else :\n",
    "            self.mode = mode\n",
    "            \n",
    "        if size != 128 and size != 192 and size != 256 :\n",
    "            raise ValueError(\"The key should be of either 128 , 192 or 256 bits\")\n",
    "        else :\n",
    "            self.keySize = size\n",
    "            \n",
    "        if ptsize%16 != 0:\n",
    "            raise ValueError(\"Please enter value as a multiple of 16 for the text size\")\n",
    "        else:\n",
    "            self.textSize = ptsize\n",
    "        \n",
    "        # This generates an empty instance of the required fields\n",
    "        self.key = b''\n",
    "        self.iv = b''\n",
    "        self.ctr = b''\n",
    "        self.plaintext = b''\n",
    "        \n",
    "        #This calls the functions which gives an initial value to all the fields\n",
    "        self.genKey()\n",
    "        self.genPlainText()\n",
    "        self.genCtr()\n",
    "        self.genIV()\n",
    "    \n",
    "    # Generate functions\n",
    "    def genKey(self):\n",
    "        ''' Generates a random key of the given key size'''\n",
    "        self.key=get_random_bytes(int(self.keySize/8))\n",
    "        \n",
    "    def genPlainText(self):\n",
    "        ''' Generates a random key of the given plain text size'''\n",
    "        self.plaintext=get_random_bytes(self.textSize)\n",
    "            \n",
    "    def genIV(self):\n",
    "        ''' Generates a random IV'''\n",
    "        self.iv = get_random_bytes(16)\n",
    "        \n",
    "    def genCtr(self):\n",
    "        ''' Generates a random Control'''\n",
    "        self.ctr = get_random_bytes(8)\n",
    "    \n",
    "    # A single generate function\n",
    "    '''\n",
    "    def gen(self,prop):\n",
    "        if prop == \"Key\" :\n",
    "            self.key=get_random_bytes(int(self.keySize/8))\n",
    "        elif prop == \"Plain Text\" :\n",
    "            self.plaintext=get_random_bytes(self.textSize)\n",
    "        elif prop == \"iv\" :\n",
    "            self.iv = get_random_bytes(16)\n",
    "        elif prop == \"Ctr\" :\n",
    "            self.ctr = get_random_bytes(8)            \n",
    "    '''\n",
    "    \n",
    "    # Print functions\n",
    "    def printKey(self):\n",
    "        ''' Prints the key in hex form which is readable'''\n",
    "        print(printReadable(self.key.hex(),8))\n",
    "        \n",
    "    def printPt(self):\n",
    "        ''' Prints the plain text in hex form which is readable'''\n",
    "        string = self.plaintext.hex()\n",
    "        length = 8\n",
    "        for j in range(int(self.textSize/16)):\n",
    "            print(' '.join(string[i:i+length] for i in range(32*j,32*(j+1),length)))\n",
    "\n",
    "    def printCtr(self):\n",
    "        ''' Prints the control in hex form which is readable'''\n",
    "        print(printReadable(self.ctr.hex(),8))\n",
    "        \n",
    "    def printIV(self):\n",
    "        ''' Prints the IV in hex form which is readable'''\n",
    "        print(printReadable(self.iv.hex(),8))\n",
    "        \n",
    "    #Single print function\n",
    "    '''\n",
    "    def gen(self,prop):\n",
    "        if prop == \"Key\" :\n",
    "            print(printReadable(self.key.hex(),8))\n",
    "        elif prop == \"Plain Text\" :\n",
    "            string = self.plaintext.hex()\n",
    "            length = 8\n",
    "            for j in range(int(self.textSize/16)):\n",
    "                print(' '.join(string[i:i+length] for i in range(32*j,32*(j+1),length)))\n",
    "        elif prop == \"Ctr\" :\n",
    "                print(printReadable(self.ctr.hex(),8))\n",
    "        elif prop == \"iv\" :\n",
    "             print(printReadable(self.iv.hex(),8))\n",
    "    '''\n",
    "        \n",
    "    def encrypt(self):\n",
    "        ''' This function encrypts the given plaintext'''\n",
    "        if self.mode == \"ECB\" :\n",
    "            # ECB is an inbuilt function in pycrypto, hence just applying it\n",
    "            encObj = AES.new(self.key,AES.MODE_ECB)\n",
    "            return encObj.encrypt(self.plaintext)\n",
    "        \n",
    "        elif self.mode == \"CBC\" :\n",
    "            # CBC is an inbuilt function in pycrypto, hence just applying it\n",
    "            encObj = AES.new(self.key,AES.MODE_CBC,self.iv)\n",
    "            return encObj.encrypt(self.plaintext)\n",
    "        \n",
    "        elif self.mode == \"OFB\" :\n",
    "            # OFB is not an inbuilt function, hence applying the algorithm to get the encryption\n",
    "            # Encrypting each block of data seperately, so using ECB \n",
    "            # for each one of them as ECB for one block of code is just AES applied to it\n",
    "            obfObj = AES.new(self.key,AES.MODE_ECB)\n",
    "            tempText = obfObj.encrypt(self.iv)\n",
    "            \n",
    "            # This stores all the encrypted iv by the equation C_i = f(C_(i-1))\n",
    "            cArray = np.array([tempText]) \n",
    "            for i in range(int(self.textSize/16) - 1) :\n",
    "                temptext = obfObj.encrypt(cArray[-1])\n",
    "                cArray = np.append(cArray,temptext)\n",
    "            \n",
    "            # This array stores the XOR of the plain text and the encrypted iv\n",
    "            # The data is converted to its hex form to be able to XOR it\n",
    "            xorArr = np.array([]) \n",
    "            for i in range(int(self.textSize/16)):\n",
    "                xorArr = np.append(xorArr,xor(cArray[i].hex(),self.plaintext[16*i:16*(i+1)].hex()))\n",
    "            \n",
    "            # This string combines all of the encrypted data in a single byte string\n",
    "            encStr = b'' \n",
    "            for i in range(len(xorArr)):\n",
    "                encStr+=bytes.fromhex(xorArr[i])\n",
    "            return encStr\n",
    "        \n",
    "        elif self.mode == \"CTR\" :\n",
    "            # CTR is not an inbuilt function, hence applying the algorithm to get the encryption\n",
    "            # Encrypting each block of data seperately, so using ECB \n",
    "            # for each one of them as ECB for one block of code is just AES applied to it\n",
    "            ctrObj = AES.new(self.key,AES.MODE_ECB)\n",
    "            \n",
    "            # The ctrStr stores the concatenation of the Counter and number\n",
    "            # Thus effectively being ctrStr[i] = ctr + i\n",
    "            ctrStr = np.array([])\n",
    "            for i in range(int(self.textSize/16)):\n",
    "                appendStr = \"00000000\"\n",
    "                # The number in ites entirety must be of length 8, hence mutating it so that it remains of length 8\n",
    "                try :\n",
    "                    appendStr = appendStr[:len(appendStr) - len(str(i))]\n",
    "                except :\n",
    "                    raise ValueError(\"Please enter text of smaller size\")\n",
    "                ctrStr = np.append(ctrStr,self.ctr + (appendStr + str(i)).encode('ascii'))\n",
    "            \n",
    "            # This string combines all of the encrypted data in a single byte string\n",
    "            encArr = b''\n",
    "            for i in range(int(self.textSize/16)):\n",
    "                encArr += ctrObj.encrypt(ctrStr[i])\n",
    "            return encArr\n",
    "        \n",
    "        else :\n",
    "            # If none of the given methods are entered\n",
    "            raise ValueError(\"Enter a proper method : ECB, CBC, OFB or CTR\")"
   ]
  },
  {
   "cell_type": "code",
   "execution_count": 28,
   "metadata": {},
   "outputs": [
    {
     "name": "stdout",
     "output_type": "stream",
     "text": [
      "Key  :\n",
      "1d048d64 bd899359 678c3e74 388f0d16\n",
      "\n",
      "Plain Text  :\n",
      "ad84da02 68f49986 18cddf70 8ccd106b\n",
      "c0f1754a ea46d558 691b753d 6df39175\n",
      "9bf62131 8c0881a2 cf91486c 5fb07a3e\n",
      "93160070 39438278 0cc36a93 43237334\n",
      "232203c1 820b288d c42abf8b 39655ba5\n",
      "\n",
      "IV  :\n",
      "334f0f6b d599e272 ec66d9cd 5be0a425\n",
      "\n",
      "Counter  :\n",
      "a570f8df 0529af3e\n",
      "271e55b1e23a8d741e797cc9d25abb00 0740e3c1aa67c46b664fefcdb95ba725 83dfbbfd133f95851295658bf134dd07 ca73bd59a396b6385eea760864a1552a 150d80dee72d9ce63346ba497e0485b4\n"
     ]
    }
   ],
   "source": [
    "new = aesMeth(\"ECB\",128)\n",
    "print(\"Key  :\")\n",
    "new.printKey()\n",
    "print()\n",
    "print(\"Plain Text  :\")\n",
    "new.printPt()\n",
    "print()\n",
    "print(\"IV  :\")\n",
    "new.printIV()\n",
    "print()\n",
    "print(\"Counter  :\")\n",
    "new.printCtr()\n",
    "print(printReadable(new.encrypt().hex(),32))\n",
    "#obj = AES.new(new.key,AES.MODE_CBC,new.iv)\n",
    "#obj.decrypt(ans) == new.plaintext"
   ]
  },
  {
   "cell_type": "markdown",
   "metadata": {},
   "source": [
    "### Validation for the ECB method\n",
    "The following method is verified when the decryption of the encryted text equals the plain text given"
   ]
  },
  {
   "cell_type": "code",
   "execution_count": 29,
   "metadata": {},
   "outputs": [
    {
     "name": "stdout",
     "output_type": "stream",
     "text": [
      "Key  :\n",
      "6a0fc9f8 0d4fca47 46ce4179 d7ba6b97 3aa0e0eb 576463f1\n",
      "\n",
      "Plain Text  :\n",
      "71b4f971 7ae3f89c d7a066db d56c97a4\n",
      "99971eb2 6623bb6b b81881a7 8fd09629\n",
      "d32a1e1a 0962019f 0368488c b7aade80\n",
      "aa48c1b4 0befc61c bc52824b e91c44c0\n",
      "3ade5e5a 03940a6e 6c1723ba fa1272a4\n",
      "ba8d4de4 9270e410 5c793d00 5faef945\n",
      "\n",
      "True\n"
     ]
    }
   ],
   "source": [
    "obj1 = aesMeth(\"ECB\",192,96)\n",
    "aes_obj = AES.new(obj1.key,AES.MODE_ECB)\n",
    "print(\"Key  :\")\n",
    "obj1.printKey()\n",
    "print()\n",
    "print(\"Plain Text  :\")\n",
    "obj1.printPt()\n",
    "print()\n",
    "print(aes_obj.decrypt(obj1.encrypt()) == obj1.plaintext)"
   ]
  },
  {
   "cell_type": "markdown",
   "metadata": {},
   "source": [
    "### Validation for the CBC method\n",
    "The following method is verified when the decryption of the encryted text equals the plain text given"
   ]
  },
  {
   "cell_type": "code",
   "execution_count": 30,
   "metadata": {},
   "outputs": [
    {
     "name": "stdout",
     "output_type": "stream",
     "text": [
      "Key  :\n",
      "2374e2b6 580d8e2c cf6fa22b a9ec6a1b\n",
      "\n",
      "Plain Text  :\n",
      "24a46696 ec138149 00dba26e cda2b16f\n",
      "307ea4f4 714a7f71 bb2c93ac ab76f0bd\n",
      "c48572f5 98e64901 75a84b00 942ae0e2\n",
      "ea39e46b 26dbfc14 7c55e7b7 9830fcce\n",
      "3b971953 b10c13d5 0c99d647 36a5a61d\n",
      "\n",
      "IV  :\n",
      "49dcdd47 94d58ee1 6c73bc30 18e30cc6\n",
      "\n",
      "True\n"
     ]
    }
   ],
   "source": [
    "obj1 = aesMeth(\"CBC\",128)\n",
    "aes_obj = AES.new(obj1.key,AES.MODE_CBC,obj1.iv)\n",
    "print(\"Key  :\")\n",
    "obj1.printKey()\n",
    "print()\n",
    "print(\"Plain Text  :\")\n",
    "obj1.printPt()\n",
    "print()\n",
    "print(\"IV  :\")\n",
    "obj1.printIV()\n",
    "print()\n",
    "print(aes_obj.decrypt(obj1.encrypt()) == obj1.plaintext)"
   ]
  },
  {
   "cell_type": "markdown",
   "metadata": {},
   "source": [
    "### OFB Method "
   ]
  },
  {
   "cell_type": "code",
   "execution_count": 19,
   "metadata": {},
   "outputs": [
    {
     "name": "stdout",
     "output_type": "stream",
     "text": [
      "Key  :\n",
      "1fe4a060 336571ff f6581fc8 4e47190d\n",
      "\n",
      "Plain Text  :\n",
      "374a3811 0b948a0e be4a3305 7bc7b57a\n",
      "31c494ae 355c3923 665d227b 1d2c3dc4\n",
      "f26119bc 60de5487 dfb10551 c9ecd84b\n",
      "497a637a d00883e3 2383b9a9 92f0e218\n",
      "72a7acdd 68ae4fd0 88051598 59d85793\n",
      "92114d97 c7691017 865a5795 6f81b085\n",
      "\n",
      "IV  :\n",
      "2da0a274 25786192 f43d4213 dc2e67e0\n",
      "\n",
      "Encrypted Data  :\n",
      "49969aaf 9e7fd432 1592bfe6 8f025e3a\n",
      "ac1147d9 a57a2506 46c7815b 111a88ff\n",
      "bf30896f 48656a6d 8007adbc be53f8ec\n",
      "ba692aba 18cf448f 3cc7baa8 746aa193\n",
      "a3188777 c8a261c5 e0011984 de93ca94\n",
      "0684e2f5 0d68b7ca 8fff87c9 afd98a55\n"
     ]
    }
   ],
   "source": [
    "new = aesMeth(\"OFB\",128,96)\n",
    "print(\"Key  :\")\n",
    "new.printKey()\n",
    "print()\n",
    "print(\"Plain Text  :\")\n",
    "new.printPt()\n",
    "print()\n",
    "print(\"IV  :\")\n",
    "new.printIV()\n",
    "print()\n",
    "ans = new.encrypt().hex()\n",
    "print(\"Encrypted Data  :\")\n",
    "for i in range(int(len(ans)/32)):\n",
    "    print(printReadable(ans[32*i:32*(i+1)],8))"
   ]
  },
  {
   "cell_type": "markdown",
   "metadata": {},
   "source": [
    "## Ctr Method"
   ]
  },
  {
   "cell_type": "code",
   "execution_count": 20,
   "metadata": {},
   "outputs": [
    {
     "name": "stdout",
     "output_type": "stream",
     "text": [
      "Key  :\n",
      "3fb7933f 7bdf0445 097312d7 57e081dd\n",
      "\n",
      "Plain Text  :\n",
      "4a379380 2f02fd99 03001807 83f77990\n",
      "9e256529 d776d1e8 78b43875 8204265b\n",
      "2b5bfad1 52ec17e9 4ebb2ae7 caf12f2d\n",
      "a5543677 7ac60340 b3f75a20 a8db23fe\n",
      "381fcc3a dd786745 a003bd52 412f4ee3\n",
      "779d68a6 b45727c8 01b2899f 05b5723e\n",
      "\n",
      "Counter  :\n",
      "18459974 b8ca57fe\n",
      "\n",
      "Encrypted Data  :\n",
      "81e5ca8d 40de5e25 02c94692 6106816f\n",
      "8cad6b82 25a50127 1d999fc5 34e47478\n",
      "2dd29af4 6cbb7493 07058d79 b5de83fb\n",
      "f011b9f1 75b0385b 1932b484 1b98e264\n",
      "85791ae7 3224ee6d c2fad230 40a7b769\n",
      "ede3fe8a ea3e60c9 e903498b edce14bc\n"
     ]
    }
   ],
   "source": [
    "new = aesMeth(\"CTR\",128,96)\n",
    "print(\"Key  :\")\n",
    "new.printKey()\n",
    "print()\n",
    "print(\"Plain Text  :\")\n",
    "new.printPt()\n",
    "print()\n",
    "print(\"Counter  :\")\n",
    "new.printCtr()\n",
    "ans = new.encrypt().hex()\n",
    "print()\n",
    "print(\"Encrypted Data  :\")\n",
    "for i in range(int(len(ans)/32)):\n",
    "    print(printReadable(ans[32*i:32*(i+1)],8))"
   ]
  },
  {
   "cell_type": "markdown",
   "metadata": {},
   "source": [
    "## Playground for Experimentation\n",
    "Rough work - Not required for the working of the main program"
   ]
  },
  {
   "cell_type": "code",
   "execution_count": 26,
   "metadata": {},
   "outputs": [
    {
     "data": {
      "text/plain": [
       "[b'z\\xfd\\x91\\xce\\xa1\\x02d\\xe8{_\\xe66W\\x83(6>\\xcfGS\\xdc \\xa5\\x14\\xfd\\xd2w\\xe5j$\\xb1\\xc7\\n\\xc5I^\\xa7\\x8aT\\xe9V\\xb9\\x84;\\x91\\x89\\xbbiP\\x16\\xf8\\xd9\\xe6h\\xbeY\\xe3\\xea\\x16\\n\\xf5\\xff:`T\\x91\\x15X}\\xba[\\t\\xef\\x03_:\\xeb#\\x1d\\x1f-\\x0b\\x9b\\xa3-\\xef|w\\xcf\\xadZs\\xf4\\xe2\\xfb\\xd6',\n",
       " array([b'\\x95\\xcf9\\x05\\xfek\\xdb\\xa300000000',\n",
       "        b'\\x95\\xcf9\\x05\\xfek\\xdb\\xa300000001',\n",
       "        b'\\x95\\xcf9\\x05\\xfek\\xdb\\xa300000002',\n",
       "        b'\\x95\\xcf9\\x05\\xfek\\xdb\\xa300000003',\n",
       "        b'\\x95\\xcf9\\x05\\xfek\\xdb\\xa300000004',\n",
       "        b'\\x95\\xcf9\\x05\\xfek\\xdb\\xa300000005'], dtype='|S32')]"
      ]
     },
     "execution_count": 26,
     "metadata": {},
     "output_type": "execute_result"
    }
   ],
   "source": [
    "new = aesMeth(\"CTR\",128,96)\n",
    "new.encrypt()"
   ]
  },
  {
   "cell_type": "code",
   "execution_count": 587,
   "metadata": {},
   "outputs": [
    {
     "name": "stdout",
     "output_type": "stream",
     "text": [
      "The Plain Text  :\n",
      "c79f8158 b19b23da 03f2474a 6fccd243 \n",
      "e7187886 55e773f9 dc5c0e1b 3d241312 \n",
      "522da52b e94fcb58 449d4ff0 be4fdbfc \n",
      "a0b8919b 28e41e91 555b64fb 74adf3ad \n",
      "f3aaeafe 23fa19f9 fac83dab 4828b061 \n",
      "\n",
      "The Key  :\n",
      "9f31760f fc7e79c5 fcda5b31 f2fd5015 7db5cbd3 2b040b9d \n",
      "\n",
      "The IV\n",
      "673645c8 72315cd2 2fc1a4f9 3b78ff03 \n",
      "\n",
      "The CTR  :\n",
      "3841a760 08136157 \n"
     ]
    }
   ],
   "source": [
    "size = 192\n",
    "mode = \"ECB\"\n",
    "mainStr =b''\n",
    "print(\"The Plain Text  :\")\n",
    "for i in range(5):\n",
    "    for j in range(4):\n",
    "        plaintext = get_random_bytes(4)\n",
    "        print(plaintext.hex(), end = \" \")\n",
    "        mainStr+=plaintext\n",
    "    print(\"\")\n",
    "    \n",
    "print()\n",
    "print(\"The Key  :\")\n",
    "keySize = 192\n",
    "key = b''\n",
    "for i in range(int(keySize/32)):\n",
    "    keyTemp=get_random_bytes(4)\n",
    "    print(keyTemp.hex(), end = \" \")\n",
    "    key+=keyTemp\n",
    "    \n",
    "print()\n",
    "print()\n",
    "ivStr=b''\n",
    "print(\"The IV\")\n",
    "for j in range(4):\n",
    "    ivTemp = get_random_bytes(4)\n",
    "    print(ivTemp.hex(), end = \" \")\n",
    "    ivStr+=ivTemp\n",
    "print(\"\")\n",
    "\n",
    "print()\n",
    "ctrStr=b''\n",
    "print(\"The CTR  :\")\n",
    "for j in range(2):\n",
    "    ctrTemp = get_random_bytes(4)\n",
    "    print(ctrTemp.hex(), end = \" \")\n",
    "    ctrStr+=ctrTemp\n",
    "print(\"\")"
   ]
  },
  {
   "cell_type": "code",
   "execution_count": 588,
   "metadata": {},
   "outputs": [],
   "source": [
    "def hexxor(a, b):\n",
    "    return \"\".join([\"%x\" % (int(x,16) ^ int(y,16)) for (x, y) in zip(a, b)])\n",
    "\n",
    "def encrypt(string, length):\n",
    "    return ' '.join(string[i:i+length] for i in range(0,len(string),length))"
   ]
  },
  {
   "cell_type": "code",
   "execution_count": 589,
   "metadata": {},
   "outputs": [
    {
     "name": "stdout",
     "output_type": "stream",
     "text": [
      "Give input for XOR\n",
      "f80733c78 e4f2517d 31bffc8c 985af16\n"
     ]
    }
   ],
   "source": [
    "print(\"Give input for XOR\")\n",
    "xorStr1 = key.hex()\n",
    "xorStr2 = ivStr.hex()\n",
    "xor = hexxor(xorStr1,xorStr2)\n",
    "for i in range(len(xor)):\n",
    "    print(xor[i],end = \"\")\n",
    "    if i % 8 == 0 and i != 0:\n",
    "        print(\" \",end = \"\")\n",
    "print()"
   ]
  },
  {
   "cell_type": "code",
   "execution_count": 590,
   "metadata": {
    "scrolled": false
   },
   "outputs": [
    {
     "name": "stdout",
     "output_type": "stream",
     "text": [
      "1a0f5810 290fd609 efec37b3 e279ba60\n"
     ]
    }
   ],
   "source": [
    "hex1 = '6fa75d49722276a11a8748aca562755a'\n",
    "hex2 = '75a805595b2da0a8f56b7f1f471bcf3a'\n",
    "x = hexxor(hex1,hex2)\n",
    "print(encrypt(x,8))"
   ]
  },
  {
   "cell_type": "code",
   "execution_count": 591,
   "metadata": {},
   "outputs": [],
   "source": [
    "obj = AES.new(key, AES.MODE_ECB)"
   ]
  },
  {
   "cell_type": "code",
   "execution_count": 592,
   "metadata": {},
   "outputs": [
    {
     "data": {
      "text/plain": [
       "'aa1fab64 3a32e4f2 728e007c fbaee6e3 aeed900a de4a3b4f cd302953 9a4b7fe6 2a01aba4 056f0abd 6029ad55 f44cd413 6645331e e237d0cc 4dfe61f9 0a1d7ba9 c8832844 93d4371a ef21c56f 757d7ba0'"
      ]
     },
     "execution_count": 592,
     "metadata": {},
     "output_type": "execute_result"
    }
   ],
   "source": [
    "encrypt(obj.encrypt(mainStr).hex(),8)"
   ]
  },
  {
   "cell_type": "code",
   "execution_count": 593,
   "metadata": {},
   "outputs": [
    {
     "data": {
      "text/plain": [
       "b'\\xc7\\x9f\\x81X\\xb1\\x9b#\\xda\\x03\\xf2GJo\\xcc\\xd2C\\xe7\\x18x\\x86U\\xe7s\\xf9\\xdc\\\\\\x0e\\x1b=$\\x13\\x12R-\\xa5+\\xe9O\\xcbXD\\x9dO\\xf0\\xbeO\\xdb\\xfc\\xa0\\xb8\\x91\\x9b(\\xe4\\x1e\\x91U[d\\xfbt\\xad\\xf3\\xad\\xf3\\xaa\\xea\\xfe#\\xfa\\x19\\xf9\\xfa\\xc8=\\xabH(\\xb0a'"
      ]
     },
     "execution_count": 593,
     "metadata": {},
     "output_type": "execute_result"
    }
   ],
   "source": [
    "obj.decrypt(obj.encrypt(mainStr))"
   ]
  },
  {
   "cell_type": "code",
   "execution_count": 594,
   "metadata": {},
   "outputs": [
    {
     "data": {
      "text/plain": [
       "b'\\xc7\\x9f\\x81X\\xb1\\x9b#\\xda\\x03\\xf2GJo\\xcc\\xd2C\\xe7\\x18x\\x86U\\xe7s\\xf9\\xdc\\\\\\x0e\\x1b=$\\x13\\x12R-\\xa5+\\xe9O\\xcbXD\\x9dO\\xf0\\xbeO\\xdb\\xfc\\xa0\\xb8\\x91\\x9b(\\xe4\\x1e\\x91U[d\\xfbt\\xad\\xf3\\xad\\xf3\\xaa\\xea\\xfe#\\xfa\\x19\\xf9\\xfa\\xc8=\\xabH(\\xb0a'"
      ]
     },
     "execution_count": 594,
     "metadata": {},
     "output_type": "execute_result"
    }
   ],
   "source": [
    "mainStr"
   ]
  },
  {
   "cell_type": "code",
   "execution_count": 595,
   "metadata": {},
   "outputs": [
    {
     "name": "stdout",
     "output_type": "stream",
     "text": [
      "b'\\xc7\\x9f\\x81X\\xb1\\x9b#\\xda\\x03\\xf2GJo\\xcc\\xd2C\\xe7\\x18x\\x86U\\xe7s\\xf9\\xdc\\\\\\x0e\\x1b=$\\x13\\x12R-\\xa5+\\xe9O\\xcbXD\\x9dO\\xf0\\xbeO\\xdb\\xfc\\xa0\\xb8\\x91\\x9b(\\xe4\\x1e\\x91U[d\\xfbt\\xad\\xf3\\xad\\xf3\\xaa\\xea\\xfe#\\xfa\\x19\\xf9\\xfa\\xc8=\\xabH(\\xb0a'\n"
     ]
    },
    {
     "data": {
      "text/plain": [
       "True"
      ]
     },
     "execution_count": 595,
     "metadata": {},
     "output_type": "execute_result"
    }
   ],
   "source": [
    "aes = AES.new(key, AES.MODE_CBC, ivStr)\n",
    "data = 'hello world 1234hello world 1234hello world 1234hello world 1234' # <- 16 bytes\n",
    "encd = aes.encrypt(mainStr)\n",
    "aes = AES.new(key, AES.MODE_CBC, ivStr)\n",
    "decd = aes.decrypt(encd)\n",
    "print (decd)\n",
    "decd == mainStr"
   ]
  },
  {
   "cell_type": "code",
   "execution_count": 596,
   "metadata": {},
   "outputs": [],
   "source": [
    "count = Counter.new(128,initial_value = int(ctrStr.hex(),16))\n",
    "ctr_obj = AES.new(key,AES.MODE_CTR,counter = count)"
   ]
  },
  {
   "cell_type": "code",
   "execution_count": 597,
   "metadata": {},
   "outputs": [],
   "source": [
    "prop = ctr_obj.encrypt(\"abcd\")\n",
    "ans = ctr_obj.decrypt(prop)\n",
    "ans = ctr_obj.decrypt(prop)\n",
    "ans = ctr_obj.decrypt(prop)\n",
    "ans = ctr_obj.decrypt(prop)"
   ]
  },
  {
   "cell_type": "code",
   "execution_count": 598,
   "metadata": {
    "scrolled": true
   },
   "outputs": [
    {
     "ename": "ValueError",
     "evalue": "Input strings must be a multiple of 16 in length",
     "output_type": "error",
     "traceback": [
      "\u001b[0;31m---------------------------------------------------------------------------\u001b[0m",
      "\u001b[0;31mValueError\u001b[0m                                Traceback (most recent call last)",
      "\u001b[0;32m<ipython-input-598-c0424f5a9688>\u001b[0m in \u001b[0;36m<module>\u001b[0;34m()\u001b[0m\n\u001b[1;32m      1\u001b[0m \u001b[0mobj\u001b[0m \u001b[0;34m=\u001b[0m \u001b[0mAES\u001b[0m\u001b[0;34m.\u001b[0m\u001b[0mnew\u001b[0m\u001b[0;34m(\u001b[0m\u001b[0mkey\u001b[0m\u001b[0;34m,\u001b[0m \u001b[0mAES\u001b[0m\u001b[0;34m.\u001b[0m\u001b[0mMODE_ECB\u001b[0m\u001b[0;34m)\u001b[0m\u001b[0;34m\u001b[0m\u001b[0;34m\u001b[0m\u001b[0m\n\u001b[0;32m----> 2\u001b[0;31m \u001b[0mtemp\u001b[0m \u001b[0;34m=\u001b[0m \u001b[0mencrypt\u001b[0m\u001b[0;34m(\u001b[0m\u001b[0mobj\u001b[0m\u001b[0;34m.\u001b[0m\u001b[0mencrypt\u001b[0m\u001b[0;34m(\u001b[0m\u001b[0mctrStr\u001b[0m\u001b[0;34m)\u001b[0m\u001b[0;34m)\u001b[0m\u001b[0;34m\u001b[0m\u001b[0;34m\u001b[0m\u001b[0m\n\u001b[0m\u001b[1;32m      3\u001b[0m \u001b[0mhexxor\u001b[0m\u001b[0;34m(\u001b[0m\u001b[0mtemp\u001b[0m\u001b[0;34m,\u001b[0m \u001b[0mmainStr\u001b[0m\u001b[0;34m)\u001b[0m\u001b[0;34m\u001b[0m\u001b[0;34m\u001b[0m\u001b[0m\n",
      "\u001b[0;32m/usr/lib/python3/dist-packages/Crypto/Cipher/blockalgo.py\u001b[0m in \u001b[0;36mencrypt\u001b[0;34m(self, plaintext)\u001b[0m\n\u001b[1;32m    242\u001b[0m             \u001b[0;32mreturn\u001b[0m \u001b[0mres\u001b[0m\u001b[0;34m\u001b[0m\u001b[0;34m\u001b[0m\u001b[0m\n\u001b[1;32m    243\u001b[0m \u001b[0;34m\u001b[0m\u001b[0m\n\u001b[0;32m--> 244\u001b[0;31m         \u001b[0;32mreturn\u001b[0m \u001b[0mself\u001b[0m\u001b[0;34m.\u001b[0m\u001b[0m_cipher\u001b[0m\u001b[0;34m.\u001b[0m\u001b[0mencrypt\u001b[0m\u001b[0;34m(\u001b[0m\u001b[0mplaintext\u001b[0m\u001b[0;34m)\u001b[0m\u001b[0;34m\u001b[0m\u001b[0;34m\u001b[0m\u001b[0m\n\u001b[0m\u001b[1;32m    245\u001b[0m \u001b[0;34m\u001b[0m\u001b[0m\n\u001b[1;32m    246\u001b[0m     \u001b[0;32mdef\u001b[0m \u001b[0mdecrypt\u001b[0m\u001b[0;34m(\u001b[0m\u001b[0mself\u001b[0m\u001b[0;34m,\u001b[0m \u001b[0mciphertext\u001b[0m\u001b[0;34m)\u001b[0m\u001b[0;34m:\u001b[0m\u001b[0;34m\u001b[0m\u001b[0;34m\u001b[0m\u001b[0m\n",
      "\u001b[0;31mValueError\u001b[0m: Input strings must be a multiple of 16 in length"
     ]
    }
   ],
   "source": [
    "obj = AES.new(key, AES.MODE_ECB)\n",
    "temp = encrypt(obj.encrypt(ctrStr))\n",
    "hexxor(temp, mainStr)"
   ]
  },
  {
   "cell_type": "code",
   "execution_count": 599,
   "metadata": {},
   "outputs": [
    {
     "ename": "ValueError",
     "evalue": "non-hexadecimal number found in fromhex() arg at position 1",
     "output_type": "error",
     "traceback": [
      "\u001b[0;31m---------------------------------------------------------------------------\u001b[0m",
      "\u001b[0;31mValueError\u001b[0m                                Traceback (most recent call last)",
      "\u001b[0;32m<ipython-input-599-abf94fb1bdb0>\u001b[0m in \u001b[0;36m<module>\u001b[0;34m()\u001b[0m\n\u001b[0;32m----> 1\u001b[0;31m \u001b[0mpt\u001b[0m \u001b[0;34m=\u001b[0m \u001b[0mbytes\u001b[0m\u001b[0;34m.\u001b[0m\u001b[0mfromhex\u001b[0m\u001b[0;34m(\u001b[0m\u001b[0mhex\u001b[0m\u001b[0;34m(\u001b[0m\u001b[0mint\u001b[0m\u001b[0;34m(\u001b[0m\u001b[0mctrStr\u001b[0m\u001b[0;34m.\u001b[0m\u001b[0mhex\u001b[0m\u001b[0;34m(\u001b[0m\u001b[0;34m)\u001b[0m\u001b[0;34m,\u001b[0m\u001b[0;36m16\u001b[0m\u001b[0;34m)\u001b[0m \u001b[0;34m+\u001b[0m \u001b[0;36m1\u001b[0m\u001b[0;34m)\u001b[0m\u001b[0;34m)\u001b[0m\u001b[0;34m\u001b[0m\u001b[0;34m\u001b[0m\u001b[0m\n\u001b[0m\u001b[1;32m      2\u001b[0m \u001b[0mprint\u001b[0m\u001b[0;34m(\u001b[0m\u001b[0mhex\u001b[0m\u001b[0;34m(\u001b[0m\u001b[0mint\u001b[0m\u001b[0;34m(\u001b[0m\u001b[0mctrStr\u001b[0m\u001b[0;34m.\u001b[0m\u001b[0mhex\u001b[0m\u001b[0;34m(\u001b[0m\u001b[0;34m)\u001b[0m\u001b[0;34m,\u001b[0m\u001b[0;36m16\u001b[0m\u001b[0;34m)\u001b[0m \u001b[0;34m+\u001b[0m \u001b[0;36m1\u001b[0m\u001b[0;34m)\u001b[0m\u001b[0;34m)\u001b[0m\u001b[0;34m\u001b[0m\u001b[0;34m\u001b[0m\u001b[0m\n",
      "\u001b[0;31mValueError\u001b[0m: non-hexadecimal number found in fromhex() arg at position 1"
     ]
    }
   ],
   "source": [
    "pt = bytes.fromhex(hex(int(ctrStr.hex(),16) + 1))\n",
    "print(hex(int(ctrStr.hex(),16) + 1))"
   ]
  },
  {
   "cell_type": "code",
   "execution_count": 600,
   "metadata": {},
   "outputs": [
    {
     "data": {
      "text/plain": [
       "b'\\xf6|\\x1a\\xeb\\xc7s\\xd2\\xa4KH\\x8e)J@\\xd0\\x8a'"
      ]
     },
     "execution_count": 600,
     "metadata": {},
     "output_type": "execute_result"
    }
   ],
   "source": [
    "obj.encrypt(pt)"
   ]
  },
  {
   "cell_type": "code",
   "execution_count": 601,
   "metadata": {},
   "outputs": [
    {
     "data": {
      "text/plain": [
       "4053705170504343897"
      ]
     },
     "execution_count": 601,
     "metadata": {},
     "output_type": "execute_result"
    }
   ],
   "source": [
    "int(count().hex(),16)"
   ]
  },
  {
   "cell_type": "code",
   "execution_count": 602,
   "metadata": {},
   "outputs": [
    {
     "data": {
      "text/plain": [
       "b'3841a7600813615700000001'"
      ]
     },
     "execution_count": 602,
     "metadata": {},
     "output_type": "execute_result"
    }
   ],
   "source": [
    "pt = (str(ctrStr.hex()) + \"00000001\").encode()\n",
    "pt"
   ]
  },
  {
   "cell_type": "code",
   "execution_count": 603,
   "metadata": {},
   "outputs": [
    {
     "ename": "ValueError",
     "evalue": "Input strings must be a multiple of 16 in length",
     "output_type": "error",
     "traceback": [
      "\u001b[0;31m---------------------------------------------------------------------------\u001b[0m",
      "\u001b[0;31mValueError\u001b[0m                                Traceback (most recent call last)",
      "\u001b[0;32m<ipython-input-603-7856537e3e51>\u001b[0m in \u001b[0;36m<module>\u001b[0;34m()\u001b[0m\n\u001b[0;32m----> 1\u001b[0;31m \u001b[0mhexxor\u001b[0m\u001b[0;34m(\u001b[0m\u001b[0mobj\u001b[0m\u001b[0;34m.\u001b[0m\u001b[0mencrypt\u001b[0m\u001b[0;34m(\u001b[0m\u001b[0mpt\u001b[0m\u001b[0;34m)\u001b[0m\u001b[0;34m.\u001b[0m\u001b[0mhex\u001b[0m\u001b[0;34m(\u001b[0m\u001b[0;34m)\u001b[0m\u001b[0;34m,\u001b[0m\u001b[0mmainStr\u001b[0m\u001b[0;34m[\u001b[0m\u001b[0;34m:\u001b[0m\u001b[0;36m8\u001b[0m\u001b[0;34m]\u001b[0m\u001b[0;34m.\u001b[0m\u001b[0mhex\u001b[0m\u001b[0;34m(\u001b[0m\u001b[0;34m)\u001b[0m\u001b[0;34m)\u001b[0m\u001b[0;34m\u001b[0m\u001b[0;34m\u001b[0m\u001b[0m\n\u001b[0m",
      "\u001b[0;32m/usr/lib/python3/dist-packages/Crypto/Cipher/blockalgo.py\u001b[0m in \u001b[0;36mencrypt\u001b[0;34m(self, plaintext)\u001b[0m\n\u001b[1;32m    242\u001b[0m             \u001b[0;32mreturn\u001b[0m \u001b[0mres\u001b[0m\u001b[0;34m\u001b[0m\u001b[0;34m\u001b[0m\u001b[0m\n\u001b[1;32m    243\u001b[0m \u001b[0;34m\u001b[0m\u001b[0m\n\u001b[0;32m--> 244\u001b[0;31m         \u001b[0;32mreturn\u001b[0m \u001b[0mself\u001b[0m\u001b[0;34m.\u001b[0m\u001b[0m_cipher\u001b[0m\u001b[0;34m.\u001b[0m\u001b[0mencrypt\u001b[0m\u001b[0;34m(\u001b[0m\u001b[0mplaintext\u001b[0m\u001b[0;34m)\u001b[0m\u001b[0;34m\u001b[0m\u001b[0;34m\u001b[0m\u001b[0m\n\u001b[0m\u001b[1;32m    245\u001b[0m \u001b[0;34m\u001b[0m\u001b[0m\n\u001b[1;32m    246\u001b[0m     \u001b[0;32mdef\u001b[0m \u001b[0mdecrypt\u001b[0m\u001b[0;34m(\u001b[0m\u001b[0mself\u001b[0m\u001b[0;34m,\u001b[0m \u001b[0mciphertext\u001b[0m\u001b[0;34m)\u001b[0m\u001b[0;34m:\u001b[0m\u001b[0;34m\u001b[0m\u001b[0;34m\u001b[0m\u001b[0m\n",
      "\u001b[0;31mValueError\u001b[0m: Input strings must be a multiple of 16 in length"
     ]
    }
   ],
   "source": [
    "hexxor(obj.encrypt(pt).hex(),mainStr[:8].hex())"
   ]
  },
  {
   "cell_type": "code",
   "execution_count": 604,
   "metadata": {},
   "outputs": [],
   "source": [
    "obfObj = AES.new(key,AES.MODE_ECB)\n",
    "temptext = obfObj.encrypt(ivStr)\n",
    "x = np.array([temptext])\n",
    "for i in range(int(80/16) - 1) :\n",
    "    temptext = obfObj.encrypt(x[-1])\n",
    "    x = np.append(x,temptext)"
   ]
  },
  {
   "cell_type": "code",
   "execution_count": 605,
   "metadata": {},
   "outputs": [],
   "source": [
    "y = np.array([])\n",
    "for i in range(int(80/16)):\n",
    "    y = np.append(y,hexxor(x[i].hex(),mainStr[i:i+8].hex()))"
   ]
  },
  {
   "cell_type": "code",
   "execution_count": 606,
   "metadata": {},
   "outputs": [
    {
     "data": {
      "text/plain": [
       "array(['e26484fe630ccb4f', '5c0190bc23c10270', '51d015dda0c70899',\n",
       "       'f812a4526087698e', 'ff96354c44e7cf1d'], dtype='<U32')"
      ]
     },
     "execution_count": 606,
     "metadata": {},
     "output_type": "execute_result"
    }
   ],
   "source": [
    "y"
   ]
  },
  {
   "cell_type": "code",
   "execution_count": 607,
   "metadata": {},
   "outputs": [],
   "source": [
    "#    def gen(self,prop,*args):\n",
    "#        if prop == \"Key\" :\n",
    "#            self.key=get_random_bytes(self.keySize/8)\n",
    "#        elif prop == \"Plain Text\" :\n",
    "#            if len(args) == 0:\n",
    "#                raise \"For Plain Text the text size is required to be entered\"\n",
    "#            else :\n",
    "#                if args[0]%16 != 0:\n",
    "#                    raise \"Please enter value as a multiple of 16 for the text size\"\n",
    "#                else:\n",
    "#                    self.plaintext=get_random_bytes(args[0])\n",
    "#        elif prop == \"IV\":\n",
    "#            self.iv = get_random_bytes(16)\n",
    "#        elif prop == \"CTR\":\n",
    "#            self.ctr = get_random_bytes(16)"
   ]
  },
  {
   "cell_type": "code",
   "execution_count": 608,
   "metadata": {},
   "outputs": [
    {
     "data": {
      "text/plain": [
       "b'8A\\xa7`\\x08\\x13aW00000001'"
      ]
     },
     "execution_count": 608,
     "metadata": {},
     "output_type": "execute_result"
    }
   ],
   "source": [
    "# Finding the CTR method\n",
    "new = ctrStr + b'00000001'\n",
    "new"
   ]
  },
  {
   "cell_type": "code",
   "execution_count": 609,
   "metadata": {},
   "outputs": [
    {
     "data": {
      "text/plain": [
       "array([b'8A\\xa7`\\x08\\x13aW00000000', b'8A\\xa7`\\x08\\x13aW00000001',\n",
       "       b'8A\\xa7`\\x08\\x13aW00000002', b'8A\\xa7`\\x08\\x13aW00000003',\n",
       "       b'8A\\xa7`\\x08\\x13aW00000004'], dtype='|S32')"
      ]
     },
     "execution_count": 609,
     "metadata": {},
     "output_type": "execute_result"
    }
   ],
   "source": [
    "ansStr = np.array([])\n",
    "for i in range(int(80/16)):\n",
    "    ansStr = np.append(ansStr,ctrStr + (\"0000000\" + str(i)).encode('ascii'))\n",
    "ansStr"
   ]
  },
  {
   "cell_type": "code",
   "execution_count": 610,
   "metadata": {},
   "outputs": [],
   "source": [
    "finNewObj = AES.new(key,AES.MODE_ECB)\n",
    "finStr = np.array([])\n",
    "for i in range(len(ansStr)):\n",
    "    finStr = np.append(finStr,finNewObj.encrypt(ansStr[i]))"
   ]
  },
  {
   "cell_type": "code",
   "execution_count": 611,
   "metadata": {},
   "outputs": [
    {
     "data": {
      "text/plain": [
       "array([b'\\x19Z\\xe3\\xd6\\x1f\\x05\\x03\\xb5Q\\xac\\x15\\xe2\\x1fip\\xee',\n",
       "       b'h\\x93\\xa7i\\xea\\xe8:\\xe2k\\xe9\\xbe\\x1e\\xf8\\xc1\\xd4a',\n",
       "       b'%\\xc1\\xd1\\xe3\\xca\\xaf\\xfb\\x8c\\xb0Py\\xc3\\xb2\\x8e^\\xf8',\n",
       "       b'y\\xf8S\\x19b\\xff\\xf8a>\\xef\\xd2\\xee\\xf7\\xba\\xf5\\xb5',\n",
       "       b'\\x8c\\x08\\xc6\\xab\\xe3\\x1e\\xc3@\\x1bdIR\\xef\\xeay\\\\'], dtype='|S32')"
      ]
     },
     "execution_count": 611,
     "metadata": {},
     "output_type": "execute_result"
    }
   ],
   "source": [
    "finStr"
   ]
  },
  {
   "cell_type": "code",
   "execution_count": 612,
   "metadata": {},
   "outputs": [],
   "source": [
    "i = 100\n",
    "a = \"00000000\"\n",
    "len(str(i))\n",
    "a = a[:len(a) - len(str(i))]"
   ]
  },
  {
   "cell_type": "code",
   "execution_count": 16,
   "metadata": {},
   "outputs": [
    {
     "data": {
      "text/plain": [
       "'9b1baf4c3af82c8bfafd92af88ec5b27'"
      ]
     },
     "execution_count": 16,
     "metadata": {},
     "output_type": "execute_result"
    }
   ],
   "source": [
    "aes_ecb = AES.new(bytes.fromhex(\"4fdd7cf59199cafc9ce43ce37fdfe07b\"),AES.MODE_ECB)\n",
    "aes_ecb.decrypt(bytes.fromhex(\"5c781e23649ce3381e419330c4a97743\")).hex()"
   ]
  },
  {
   "cell_type": "code",
   "execution_count": 12,
   "metadata": {},
   "outputs": [
    {
     "data": {
      "text/plain": [
       "b'92cb94cb8755dc3df446d09bcc0ae4c67cab8a1a3ef75b172dcf182164505de4'"
      ]
     },
     "execution_count": 12,
     "metadata": {},
     "output_type": "execute_result"
    }
   ],
   "source": [
    "aes_ecb.encrypt(b'\\xf9\\x85QE\\xa4\\x7fL$\\xbd\\xe9\\xf0\\x84i3\\x1a\\xefDEW\\x14\\x9b\\xce\\xd3\\xe7Z\\xf3\\x1f\\xba\\xbaj\\x91i\\xa3>\\x1a\\xef\\n|\\xff\\x04\\x12\\xc4\\xc5Q\\xc0\\xf3\\x92Oh\\xe5\\x9aC5\\x14\\xe9z\\xcb\\xd3N\\xf4\\xd8-\\x14)')"
   ]
  },
  {
   "cell_type": "code",
   "execution_count": 18,
   "metadata": {},
   "outputs": [
    {
     "data": {
      "text/plain": [
       "'5c781e23649ce3381e419330c4a97743'"
      ]
     },
     "execution_count": 18,
     "metadata": {},
     "output_type": "execute_result"
    }
   ],
   "source": [
    "aes_ecb = AES.new(bytes.fromhex(\"4fdd7cf59199cafc9ce43ce37fdfe07b\"),AES.MODE_ECB)\n",
    "aes_ecb.encrypt(bytes.fromhex(\"9b1baf4c3af82c8bfafd92af88ec5b27\")).hex()"
   ]
  },
  {
   "cell_type": "code",
   "execution_count": 19,
   "metadata": {},
   "outputs": [
    {
     "data": {
      "text/plain": [
       "'9e2504148a364162257340e0b483110a'"
      ]
     },
     "execution_count": 19,
     "metadata": {},
     "output_type": "execute_result"
    }
   ],
   "source": [
    "aes_ecb = AES.new(bytes.fromhex(\"4fdd7cf59199cafc9ce43ce37fdfe07b\"),AES.MODE_ECB)\n",
    "aes_ecb.encrypt(bytes.fromhex(\"e4c7147f999f96d01676ab605abd54e0\")).hex()"
   ]
  },
  {
   "cell_type": "code",
   "execution_count": 22,
   "metadata": {},
   "outputs": [
    {
     "data": {
      "text/plain": [
       "'6efcc18759b4091fc27e1ae901da33f2d2d87efb529263b2eb2677b7846fd5ec537a83f2cda1f134acb60bd303bf3d7895f12b6dbfef7233e6d307a167a86b8eb67bfb6848ece712b92db5062efce9a3'"
      ]
     },
     "execution_count": 22,
     "metadata": {},
     "output_type": "execute_result"
    }
   ],
   "source": [
    "key = \"6efcc18759b4091fc27e1ae901da33f2 d2d87efb529263b2eb2677b7846fd5ec 537a83f2cda1f134acb60bd303bf3d78 95f12b6dbfef7233e6d307a167a86b8e b67bfb6848ece712b92db5062efce9a3\"\n",
    "\"\".join(key.split(\" \"))"
   ]
  },
  {
   "cell_type": "code",
   "execution_count": 36,
   "metadata": {},
   "outputs": [],
   "source": [
    "#For the ECB method\n",
    "key = \"c42abbad 545471f9 b52fc4cc 3b1fcab9\"\n",
    "plaintext = \"36a1a2df 6e589888 da407754 ead9564d 891725ec d6d61674 33b2cbce aafa574a dc7fc5af 95e4898d 2ed630f2 0ace0db3 bdd7a6c4 1ba98e92 fcf63ff3 80479b98 ba6dc685 97adeeef cfb36061 a53d0702\"\n",
    "iv = \"49dcdd47 94d58ee1 6c73bc30 18e30cc6\"\n",
    "ctr = \"18459974 b8ca57fe\"\n",
    "encyptedDataECB = \"6efcc18759b4091fc27e1ae901da33f2 d2d87efb529263b2eb2677b7846fd5ec 537a83f2cda1f134acb60bd303bf3d78 95f12b6dbfef7233e6d307a167a86b8e b67bfb6848ece712b92db5062efce9a3\"\n",
    "\n",
    "#All the variables in required format\n",
    "keyReq = bytes.fromhex(\"\".join(key.split(\" \")))\n",
    "plaintextReq = bytes.fromhex(\"\".join(plaintext.split(\" \")))\n",
    "ivReq = bytes.fromhex(\"\".join(iv.split(\" \")))\n",
    "ctrReq = bytes.fromhex(\"\".join(ctr.split(\" \")))"
   ]
  },
  {
   "cell_type": "code",
   "execution_count": 44,
   "metadata": {},
   "outputs": [
    {
     "data": {
      "text/plain": [
       "'ff5b16de 59fb7b84 15542088 504bb575 af7457f5 f98bf13b b4511688 1ba850cc 83b605fb afc1cdcc 9ceb6a7e 38dce73f 4ac681b5 93608d74 e864c747 9e56b931 f44310b1 72c434d9 1e67f07a eab6c527'"
      ]
     },
     "execution_count": 44,
     "metadata": {},
     "output_type": "execute_result"
    }
   ],
   "source": [
    "aes = aesMeth(\"CTR\")\n",
    "aes.key = keyReq\n",
    "aes.plaintext = plaintextReq\n",
    "aes.iv = ivReq\n",
    "aes.ctr = ctrReq\n",
    "printReadable(aes.encrypt().hex(),8)"
   ]
  },
  {
   "cell_type": "code",
   "execution_count": null,
   "metadata": {},
   "outputs": [],
   "source": []
  }
 ],
 "metadata": {
  "kernelspec": {
   "display_name": "Python 3",
   "language": "python",
   "name": "python3"
  },
  "language_info": {
   "codemirror_mode": {
    "name": "ipython",
    "version": 3
   },
   "file_extension": ".py",
   "mimetype": "text/x-python",
   "name": "python",
   "nbconvert_exporter": "python",
   "pygments_lexer": "ipython3",
   "version": "3.6.7"
  }
 },
 "nbformat": 4,
 "nbformat_minor": 2
}
