{
 "cells": [
  {
   "cell_type": "code",
   "execution_count": 2,
   "metadata": {},
   "outputs": [],
   "source": [
    "from Crypto.Cipher import AES\n",
    "import numpy as np\n",
    "from Crypto import Random\n",
    "from Crypto.Random import get_random_bytes\n",
    "from Crypto.Util import Counter"
   ]
  },
  {
   "cell_type": "markdown",
   "metadata": {},
   "source": [
    "## General Purpose Functions\n",
    "These functions are not encryption dependent but are used anywhere in the program "
   ]
  },
  {
   "cell_type": "code",
   "execution_count": 3,
   "metadata": {},
   "outputs": [],
   "source": [
    "def xor(str1,str2):\n",
    "    ''' Gives the XOR of two hex stings with same length'''\n",
    "    if(len(str1) == len(str2)):\n",
    "        return \"\".join([\"%x\" % (int(x,16) ^ int(y,16)) for (x, y) in zip(str1, str2)])\n",
    "    else :\n",
    "        raise ValueError(\"Enter strings of equal lengths for XOR\")\n",
    "    \n",
    "def printReadable(string, length):\n",
    "    ''' Prints the given string by splitting it with spaces for every n letters mentioned in length'''\n",
    "    try :\n",
    "        return ' '.join(string[i:i+length] for i in range(0,len(string),length))\n",
    "    except :\n",
    "        raise ValueError(\"Please enter either a string or a hex value of a byte string\")"
   ]
  },
  {
   "cell_type": "markdown",
   "metadata": {},
   "source": [
    "## AES Class \n",
    "The following class encloses all the required methods for the program specific to encoding"
   ]
  },
  {
   "cell_type": "code",
   "execution_count": 15,
   "metadata": {},
   "outputs": [],
   "source": [
    "class aesMeth :\n",
    "    ''' \n",
    "    The following class is a wrapper to the AES class by pyCrypto with AES encryption in mind\n",
    "    An object of this class can encrypt the data given with different modes of encryption defined in the init \n",
    "    '''\n",
    "    def __init__(self,mode = \"ECB\",size = 128,ptsize = 80):\n",
    "        ''' \n",
    "        The initialization function :\n",
    "        Input Method :\n",
    "        It has the following arguments given to it:\n",
    "            i)   Mode of operation - ECB by default\n",
    "            ii)  Key Size - 128, 192 or 256\n",
    "            iii) Text Size - Has to be a multiple of 16\n",
    "            \n",
    "        This function gives the following attributes to an object :\n",
    "        i)   Key - Randomly generated\n",
    "        ii)  Plain Text - Randomly generated\n",
    "        iii) An IV - Randomly generated\n",
    "        iv)  A Counter - Randomly generated\n",
    "        v)   The mode of operation :\n",
    "                Four options available : ECB, CBC, CTR, OFB\n",
    "        vi)  The Key size - Three options for AES Encryption (128,192,256)\n",
    "        vii) Text Size - Hes to be a multiple of 16\n",
    "        '''\n",
    "        \n",
    "        if mode != \"ECB\" and mode != \"CBC\" and mode != \"OFB\" and mode != \"CTR\" :\n",
    "            raise ValueError(\"Please enter a valid mode : CBC, ECB, OFB or CTR\" )\n",
    "        else :\n",
    "            self.mode = mode\n",
    "            \n",
    "        if size != 128 and size != 192 and size != 256 :\n",
    "            raise ValueError(\"The key should be of either 128 , 192 or 256 bits\")\n",
    "        else :\n",
    "            self.keySize = size\n",
    "            \n",
    "        if ptsize%16 != 0:\n",
    "            raise ValueError(\"Please enter value as a multiple of 16 for the text size\")\n",
    "        else:\n",
    "            self.textSize = ptsize\n",
    "        \n",
    "        # This generates an empty instance of the required fields\n",
    "        self.key = b''\n",
    "        self.iv = b''\n",
    "        self.ctr = b''\n",
    "        self.plaintext = b''\n",
    "        \n",
    "        #This calls the functions which gives an initial value to all the fields\n",
    "        self.genKey()\n",
    "        self.genPlainText()\n",
    "        self.genCtr()\n",
    "        self.genIV()\n",
    "    \n",
    "    # Generate functions\n",
    "    def genKey(self):\n",
    "        ''' Generates a random key of the given key size'''\n",
    "        self.key=get_random_bytes(int(self.keySize/8))\n",
    "        \n",
    "    def genPlainText(self):\n",
    "        ''' Generates a random key of the given plain text size'''\n",
    "        self.plaintext=get_random_bytes(self.textSize)\n",
    "            \n",
    "    def genIV(self):\n",
    "        ''' Generates a random IV'''\n",
    "        self.iv = get_random_bytes(16)\n",
    "        \n",
    "    def genCtr(self):\n",
    "        ''' Generates a random Control'''\n",
    "        self.ctr = get_random_bytes(8)\n",
    "    \n",
    "    # A single generate function\n",
    "    '''\n",
    "    def gen(self,prop):\n",
    "        if prop == \"Key\" :\n",
    "            self.key=get_random_bytes(int(self.keySize/8))\n",
    "        elif prop == \"Plain Text\" :\n",
    "            self.plaintext=get_random_bytes(self.textSize)\n",
    "        elif prop == \"iv\" :\n",
    "            self.iv = get_random_bytes(16)\n",
    "        elif prop == \"Ctr\" :\n",
    "            self.ctr = get_random_bytes(8)            \n",
    "    '''\n",
    "    \n",
    "    # Print functions\n",
    "    def printKey(self):\n",
    "        ''' Prints the key in hex form which is readable'''\n",
    "        print(printReadable(self.key.hex(),8))\n",
    "        \n",
    "    def printPt(self):\n",
    "        ''' Prints the plain text in hex form which is readable'''\n",
    "        string = self.plaintext.hex()\n",
    "        length = 8\n",
    "        for j in range(int(self.textSize/16)):\n",
    "            print(' '.join(string[i:i+length] for i in range(32*j,32*(j+1),length)))\n",
    "\n",
    "    def printCtr(self):\n",
    "        ''' Prints the control in hex form which is readable'''\n",
    "        print(printReadable(self.ctr.hex(),8))\n",
    "        \n",
    "    def printIV(self):\n",
    "        ''' Prints the IV in hex form which is readable'''\n",
    "        print(printReadable(self.iv.hex(),8))\n",
    "        \n",
    "    #Single print function\n",
    "    '''\n",
    "    def gen(self,prop):\n",
    "        if prop == \"Key\" :\n",
    "            print(printReadable(self.key.hex(),8))\n",
    "        elif prop == \"Plain Text\" :\n",
    "            string = self.plaintext.hex()\n",
    "            length = 8\n",
    "            for j in range(int(self.textSize/16)):\n",
    "                print(' '.join(string[i:i+length] for i in range(32*j,32*(j+1),length)))\n",
    "        elif prop == \"Ctr\" :\n",
    "                print(printReadable(self.ctr.hex(),8))\n",
    "        elif prop == \"iv\" :\n",
    "             print(printReadable(self.iv.hex(),8))\n",
    "    '''\n",
    "        \n",
    "    def encrypt(self):\n",
    "        ''' This function encrypts the given plaintext'''\n",
    "        if self.mode == \"ECB\" :\n",
    "            # ECB is an inbuilt function in pycrypto, hence just applying it\n",
    "            encObj = AES.new(self.key,AES.MODE_ECB)\n",
    "            return encObj.encrypt(self.plaintext)\n",
    "        \n",
    "        elif self.mode == \"CBC\" :\n",
    "            # CBC is an inbuilt function in pycrypto, hence just applying it\n",
    "            encObj = AES.new(self.key,AES.MODE_CBC,self.iv)\n",
    "            return encObj.encrypt(self.plaintext)\n",
    "        \n",
    "        elif self.mode == \"OFB\" :\n",
    "            # OFB is not an inbuilt function, hence applying the algorithm to get the encryption\n",
    "            # Encrypting each block of data seperately, so using ECB \n",
    "            # for each one of them as ECB for one block of code is just AES applied to it\n",
    "            obfObj = AES.new(self.key,AES.MODE_ECB)\n",
    "            tempText = obfObj.encrypt(self.iv)\n",
    "            \n",
    "            # This stores all the encrypted iv by the equation C_i = f(C_(i-1))\n",
    "            cArray = np.array([tempText]) \n",
    "            for i in range(int(self.textSize/16) - 1) :\n",
    "                temptext = obfObj.encrypt(cArray[-1])\n",
    "                cArray = np.append(cArray,temptext)\n",
    "            \n",
    "            # This array stores the XOR of the plain text and the encrypted iv\n",
    "            # The data is converted to its hex form to be able to XOR it\n",
    "            xorArr = np.array([]) \n",
    "            for i in range(int(self.textSize/16)):\n",
    "                xorArr = np.append(xorArr,xor(cArray[i].hex(),self.plaintext[16*i:16*(i+1)].hex()))\n",
    "            \n",
    "            # This string combines all of the encrypted data in a single byte string\n",
    "            encStr = b'' \n",
    "            for i in range(len(xorArr)):\n",
    "                encStr+=bytes.fromhex(xorArr[i])\n",
    "            return encStr\n",
    "        \n",
    "        elif self.mode == \"CTR\" :\n",
    "            # CTR is not an inbuilt function, hence applying the algorithm to get the encryption\n",
    "            # Encrypting each block of data seperately, so using ECB \n",
    "            # for each one of them as ECB for one block of code is just AES applied to it\n",
    "            ctrObj = AES.new(self.key,AES.MODE_ECB)\n",
    "            \n",
    "            # The ctrStr stores the concatenation of the Counter and number\n",
    "            # Thus effectively being ctrStr[i] = ctr + i\n",
    "            ctrStr = np.array([])\n",
    "            for i in range(int(self.textSize/16)):\n",
    "                appendStr = \"00000000\"\n",
    "                # The number in ites entirety must be of length 8, hence mutating it so that it remains of length 8\n",
    "                try :\n",
    "                    appendStr = appendStr[:len(appendStr) - len(str(i))]\n",
    "                except :\n",
    "                    raise ValueError(\"Please enter text of smaller size\")\n",
    "                ctrStr = np.append(ctrStr,self.ctr + (appendStr + str(i)).encode('ascii'))\n",
    "            \n",
    "            # This string combines all of the encrypted data in a single byte string\n",
    "            encArr = b''\n",
    "            for i in range(int(self.textSize/16)):\n",
    "                encArr += ctrObj.encrypt(ctrStr[i])\n",
    "            return encArr\n",
    "        \n",
    "        else :\n",
    "            # If none of the given methods are entered\n",
    "            raise ValueError(\"Enter a proper method : ECB, CBC, OFB or CTR\")"
   ]
  },
  {
   "cell_type": "code",
   "execution_count": 16,
   "metadata": {},
   "outputs": [
    {
     "name": "stdout",
     "output_type": "stream",
     "text": [
      "Key  :\n",
      "c42abbad 545471f9 b52fc4cc 3b1fcab9\n",
      "\n",
      "Plain Text  :\n",
      "36a1a2df 6e589888 da407754 ead9564d\n",
      "891725ec d6d61674 33b2cbce aafa574a\n",
      "dc7fc5af 95e4898d 2ed630f2 0ace0db3\n",
      "bdd7a6c4 1ba98e92 fcf63ff3 80479b98\n",
      "ba6dc685 97adeeef cfb36061 a53d0702\n",
      "\n",
      "IV  :\n",
      "591c0307 c809d4be 845e867c 2e45d424\n",
      "\n",
      "Counter  :\n",
      "e70966ef 2a044a54\n",
      "6efcc18759b4091fc27e1ae901da33f2 d2d87efb529263b2eb2677b7846fd5ec 537a83f2cda1f134acb60bd303bf3d78 95f12b6dbfef7233e6d307a167a86b8e b67bfb6848ece712b92db5062efce9a3\n"
     ]
    }
   ],
   "source": [
    "new = aesMeth(\"ECB\",128)\n",
    "print(\"Key  :\")\n",
    "new.printKey()\n",
    "print()\n",
    "print(\"Plain Text  :\")\n",
    "new.printPt()\n",
    "print()\n",
    "print(\"IV  :\")\n",
    "new.printIV()\n",
    "print()\n",
    "print(\"Counter  :\")\n",
    "new.printCtr()\n",
    "print(printReadable(new.encrypt().hex(),32))\n",
    "#obj = AES.new(new.key,AES.MODE_CBC,new.iv)\n",
    "#obj.decrypt(ans) == new.plaintext"
   ]
  },
  {
   "cell_type": "markdown",
   "metadata": {},
   "source": [
    "### Validation for the ECB method\n",
    "The following method is verified when the decryption of the encryted text equals the plain text given"
   ]
  },
  {
   "cell_type": "code",
   "execution_count": 22,
   "metadata": {},
   "outputs": [
    {
     "name": "stdout",
     "output_type": "stream",
     "text": [
      "Key  :\n",
      "139dbe9b 1c75aa35 2db9ca3a a20ab0ec 255378af aa30c86e\n",
      "\n",
      "Plain Text  :\n",
      "37ecf16a fe68df62 474a1029 6552441c\n",
      "3d2021f5 d4c5a5a4 348ff1dc 33cfc11f\n",
      "c789e7e6 f1f75c5c c1e8a318 955fc2dd\n",
      "3e675017 f1bab63e eb1de207 ebd1f051\n",
      "901d1b32 22a4a523 f02ce1c6 75982b00\n",
      "b2bc9d37 13c204df acb95db8 78e303fc\n",
      "\n",
      "True\n"
     ]
    }
   ],
   "source": [
    "obj1 = aesMeth(\"ECB\",192,96)\n",
    "aes_obj = AES.new(obj1.key,AES.MODE_ECB)\n",
    "print(\"Key  :\")\n",
    "obj1.printKey()\n",
    "print()\n",
    "print(\"Plain Text  :\")\n",
    "obj1.printPt()\n",
    "print()\n",
    "print(aes_obj.decrypt(obj1.encrypt()) == obj1.plaintext)"
   ]
  },
  {
   "cell_type": "markdown",
   "metadata": {},
   "source": [
    "### Validation for the CBC method\n",
    "The following method is verified when the decryption of the encryted text equals the plain text given"
   ]
  },
  {
   "cell_type": "code",
   "execution_count": 23,
   "metadata": {},
   "outputs": [
    {
     "name": "stdout",
     "output_type": "stream",
     "text": [
      "Key  :\n",
      "4a40df8c 8a921786 c7f1df1f b2578cb2 ae99aaf1 36ce2307\n",
      "\n",
      "Plain Text  :\n",
      "49ea98dd 17e53e3f 1e9f3fcb 9f813b7e\n",
      "b57fa92d 9b916070 4e6ae16a 0c5370fe\n",
      "9da12a95 0a49ce3f b5055fcf 6d239c59\n",
      "96af31d0 ed7800f1 4deb1c98 9c7aa4fe\n",
      "7a1f8346 3523b244 3b8a99e1 596744de\n",
      "0c250aa3 0f7177a2 1e6e2f16 5188ea29\n",
      "\n",
      "IV  :\n",
      "930952e1 57138ebf f05644ba 2c000747\n",
      "\n",
      "True\n"
     ]
    }
   ],
   "source": [
    "obj1 = aesMeth(\"CBC\",192,96)\n",
    "aes_obj = AES.new(obj1.key,AES.MODE_CBC,obj1.iv)\n",
    "print(\"Key  :\")\n",
    "obj1.printKey()\n",
    "print()\n",
    "print(\"Plain Text  :\")\n",
    "obj1.printPt()\n",
    "print()\n",
    "print(\"IV  :\")\n",
    "obj1.printIV()\n",
    "print()\n",
    "print(aes_obj.decrypt(obj1.encrypt()) == obj1.plaintext)"
   ]
  },
  {
   "cell_type": "markdown",
   "metadata": {},
   "source": [
    "### OFB Method "
   ]
  },
  {
   "cell_type": "code",
   "execution_count": 19,
   "metadata": {},
   "outputs": [
    {
     "name": "stdout",
     "output_type": "stream",
     "text": [
      "Key  :\n",
      "1fe4a060 336571ff f6581fc8 4e47190d\n",
      "\n",
      "Plain Text  :\n",
      "374a3811 0b948a0e be4a3305 7bc7b57a\n",
      "31c494ae 355c3923 665d227b 1d2c3dc4\n",
      "f26119bc 60de5487 dfb10551 c9ecd84b\n",
      "497a637a d00883e3 2383b9a9 92f0e218\n",
      "72a7acdd 68ae4fd0 88051598 59d85793\n",
      "92114d97 c7691017 865a5795 6f81b085\n",
      "\n",
      "IV  :\n",
      "2da0a274 25786192 f43d4213 dc2e67e0\n",
      "\n",
      "Encrypted Data  :\n",
      "49969aaf 9e7fd432 1592bfe6 8f025e3a\n",
      "ac1147d9 a57a2506 46c7815b 111a88ff\n",
      "bf30896f 48656a6d 8007adbc be53f8ec\n",
      "ba692aba 18cf448f 3cc7baa8 746aa193\n",
      "a3188777 c8a261c5 e0011984 de93ca94\n",
      "0684e2f5 0d68b7ca 8fff87c9 afd98a55\n"
     ]
    }
   ],
   "source": [
    "new = aesMeth(\"OFB\",128,96)\n",
    "print(\"Key  :\")\n",
    "new.printKey()\n",
    "print()\n",
    "print(\"Plain Text  :\")\n",
    "new.printPt()\n",
    "print()\n",
    "print(\"IV  :\")\n",
    "new.printIV()\n",
    "print()\n",
    "ans = new.encrypt().hex()\n",
    "print(\"Encrypted Data  :\")\n",
    "for i in range(int(len(ans)/32)):\n",
    "    print(printReadable(ans[32*i:32*(i+1)],8))"
   ]
  },
  {
   "cell_type": "markdown",
   "metadata": {},
   "source": [
    "## Ctr Method"
   ]
  },
  {
   "cell_type": "code",
   "execution_count": 20,
   "metadata": {},
   "outputs": [
    {
     "name": "stdout",
     "output_type": "stream",
     "text": [
      "Key  :\n",
      "3fb7933f 7bdf0445 097312d7 57e081dd\n",
      "\n",
      "Plain Text  :\n",
      "4a379380 2f02fd99 03001807 83f77990\n",
      "9e256529 d776d1e8 78b43875 8204265b\n",
      "2b5bfad1 52ec17e9 4ebb2ae7 caf12f2d\n",
      "a5543677 7ac60340 b3f75a20 a8db23fe\n",
      "381fcc3a dd786745 a003bd52 412f4ee3\n",
      "779d68a6 b45727c8 01b2899f 05b5723e\n",
      "\n",
      "Counter  :\n",
      "18459974 b8ca57fe\n",
      "\n",
      "Encrypted Data  :\n",
      "81e5ca8d 40de5e25 02c94692 6106816f\n",
      "8cad6b82 25a50127 1d999fc5 34e47478\n",
      "2dd29af4 6cbb7493 07058d79 b5de83fb\n",
      "f011b9f1 75b0385b 1932b484 1b98e264\n",
      "85791ae7 3224ee6d c2fad230 40a7b769\n",
      "ede3fe8a ea3e60c9 e903498b edce14bc\n"
     ]
    }
   ],
   "source": [
    "new = aesMeth(\"CTR\",128,96)\n",
    "print(\"Key  :\")\n",
    "new.printKey()\n",
    "print()\n",
    "print(\"Plain Text  :\")\n",
    "new.printPt()\n",
    "print()\n",
    "print(\"Counter  :\")\n",
    "new.printCtr()\n",
    "ans = new.encrypt().hex()\n",
    "print()\n",
    "print(\"Encrypted Data  :\")\n",
    "for i in range(int(len(ans)/32)):\n",
    "    print(printReadable(ans[32*i:32*(i+1)],8))"
   ]
  },
  {
   "cell_type": "markdown",
   "metadata": {},
   "source": [
    "## Playground for Experimentation\n",
    "Rough work - Not required for the working of the main program"
   ]
  },
  {
   "cell_type": "code",
   "execution_count": 586,
   "metadata": {},
   "outputs": [],
   "source": [
    "?aesMeth"
   ]
  },
  {
   "cell_type": "code",
   "execution_count": 587,
   "metadata": {},
   "outputs": [
    {
     "name": "stdout",
     "output_type": "stream",
     "text": [
      "The Plain Text  :\n",
      "c79f8158 b19b23da 03f2474a 6fccd243 \n",
      "e7187886 55e773f9 dc5c0e1b 3d241312 \n",
      "522da52b e94fcb58 449d4ff0 be4fdbfc \n",
      "a0b8919b 28e41e91 555b64fb 74adf3ad \n",
      "f3aaeafe 23fa19f9 fac83dab 4828b061 \n",
      "\n",
      "The Key  :\n",
      "9f31760f fc7e79c5 fcda5b31 f2fd5015 7db5cbd3 2b040b9d \n",
      "\n",
      "The IV\n",
      "673645c8 72315cd2 2fc1a4f9 3b78ff03 \n",
      "\n",
      "The CTR  :\n",
      "3841a760 08136157 \n"
     ]
    }
   ],
   "source": [
    "size = 192\n",
    "mode = \"ECB\"\n",
    "mainStr =b''\n",
    "print(\"The Plain Text  :\")\n",
    "for i in range(5):\n",
    "    for j in range(4):\n",
    "        plaintext = get_random_bytes(4)\n",
    "        print(plaintext.hex(), end = \" \")\n",
    "        mainStr+=plaintext\n",
    "    print(\"\")\n",
    "    \n",
    "print()\n",
    "print(\"The Key  :\")\n",
    "keySize = 192\n",
    "key = b''\n",
    "for i in range(int(keySize/32)):\n",
    "    keyTemp=get_random_bytes(4)\n",
    "    print(keyTemp.hex(), end = \" \")\n",
    "    key+=keyTemp\n",
    "    \n",
    "print()\n",
    "print()\n",
    "ivStr=b''\n",
    "print(\"The IV\")\n",
    "for j in range(4):\n",
    "    ivTemp = get_random_bytes(4)\n",
    "    print(ivTemp.hex(), end = \" \")\n",
    "    ivStr+=ivTemp\n",
    "print(\"\")\n",
    "\n",
    "print()\n",
    "ctrStr=b''\n",
    "print(\"The CTR  :\")\n",
    "for j in range(2):\n",
    "    ctrTemp = get_random_bytes(4)\n",
    "    print(ctrTemp.hex(), end = \" \")\n",
    "    ctrStr+=ctrTemp\n",
    "print(\"\")"
   ]
  },
  {
   "cell_type": "code",
   "execution_count": 588,
   "metadata": {},
   "outputs": [],
   "source": [
    "def hexxor(a, b):\n",
    "    return \"\".join([\"%x\" % (int(x,16) ^ int(y,16)) for (x, y) in zip(a, b)])\n",
    "\n",
    "def encrypt(string, length):\n",
    "    return ' '.join(string[i:i+length] for i in range(0,len(string),length))"
   ]
  },
  {
   "cell_type": "code",
   "execution_count": 589,
   "metadata": {},
   "outputs": [
    {
     "name": "stdout",
     "output_type": "stream",
     "text": [
      "Give input for XOR\n",
      "f80733c78 e4f2517d 31bffc8c 985af16\n"
     ]
    }
   ],
   "source": [
    "print(\"Give input for XOR\")\n",
    "xorStr1 = key.hex()\n",
    "xorStr2 = ivStr.hex()\n",
    "xor = hexxor(xorStr1,xorStr2)\n",
    "for i in range(len(xor)):\n",
    "    print(xor[i],end = \"\")\n",
    "    if i % 8 == 0 and i != 0:\n",
    "        print(\" \",end = \"\")\n",
    "print()"
   ]
  },
  {
   "cell_type": "code",
   "execution_count": 590,
   "metadata": {
    "scrolled": false
   },
   "outputs": [
    {
     "name": "stdout",
     "output_type": "stream",
     "text": [
      "1a0f5810 290fd609 efec37b3 e279ba60\n"
     ]
    }
   ],
   "source": [
    "hex1 = '6fa75d49722276a11a8748aca562755a'\n",
    "hex2 = '75a805595b2da0a8f56b7f1f471bcf3a'\n",
    "x = hexxor(hex1,hex2)\n",
    "print(encrypt(x,8))"
   ]
  },
  {
   "cell_type": "code",
   "execution_count": 591,
   "metadata": {},
   "outputs": [],
   "source": [
    "obj = AES.new(key, AES.MODE_ECB)"
   ]
  },
  {
   "cell_type": "code",
   "execution_count": 592,
   "metadata": {},
   "outputs": [
    {
     "data": {
      "text/plain": [
       "'aa1fab64 3a32e4f2 728e007c fbaee6e3 aeed900a de4a3b4f cd302953 9a4b7fe6 2a01aba4 056f0abd 6029ad55 f44cd413 6645331e e237d0cc 4dfe61f9 0a1d7ba9 c8832844 93d4371a ef21c56f 757d7ba0'"
      ]
     },
     "execution_count": 592,
     "metadata": {},
     "output_type": "execute_result"
    }
   ],
   "source": [
    "encrypt(obj.encrypt(mainStr).hex(),8)"
   ]
  },
  {
   "cell_type": "code",
   "execution_count": 593,
   "metadata": {},
   "outputs": [
    {
     "data": {
      "text/plain": [
       "b'\\xc7\\x9f\\x81X\\xb1\\x9b#\\xda\\x03\\xf2GJo\\xcc\\xd2C\\xe7\\x18x\\x86U\\xe7s\\xf9\\xdc\\\\\\x0e\\x1b=$\\x13\\x12R-\\xa5+\\xe9O\\xcbXD\\x9dO\\xf0\\xbeO\\xdb\\xfc\\xa0\\xb8\\x91\\x9b(\\xe4\\x1e\\x91U[d\\xfbt\\xad\\xf3\\xad\\xf3\\xaa\\xea\\xfe#\\xfa\\x19\\xf9\\xfa\\xc8=\\xabH(\\xb0a'"
      ]
     },
     "execution_count": 593,
     "metadata": {},
     "output_type": "execute_result"
    }
   ],
   "source": [
    "obj.decrypt(obj.encrypt(mainStr))"
   ]
  },
  {
   "cell_type": "code",
   "execution_count": 594,
   "metadata": {},
   "outputs": [
    {
     "data": {
      "text/plain": [
       "b'\\xc7\\x9f\\x81X\\xb1\\x9b#\\xda\\x03\\xf2GJo\\xcc\\xd2C\\xe7\\x18x\\x86U\\xe7s\\xf9\\xdc\\\\\\x0e\\x1b=$\\x13\\x12R-\\xa5+\\xe9O\\xcbXD\\x9dO\\xf0\\xbeO\\xdb\\xfc\\xa0\\xb8\\x91\\x9b(\\xe4\\x1e\\x91U[d\\xfbt\\xad\\xf3\\xad\\xf3\\xaa\\xea\\xfe#\\xfa\\x19\\xf9\\xfa\\xc8=\\xabH(\\xb0a'"
      ]
     },
     "execution_count": 594,
     "metadata": {},
     "output_type": "execute_result"
    }
   ],
   "source": [
    "mainStr"
   ]
  },
  {
   "cell_type": "code",
   "execution_count": 595,
   "metadata": {},
   "outputs": [
    {
     "name": "stdout",
     "output_type": "stream",
     "text": [
      "b'\\xc7\\x9f\\x81X\\xb1\\x9b#\\xda\\x03\\xf2GJo\\xcc\\xd2C\\xe7\\x18x\\x86U\\xe7s\\xf9\\xdc\\\\\\x0e\\x1b=$\\x13\\x12R-\\xa5+\\xe9O\\xcbXD\\x9dO\\xf0\\xbeO\\xdb\\xfc\\xa0\\xb8\\x91\\x9b(\\xe4\\x1e\\x91U[d\\xfbt\\xad\\xf3\\xad\\xf3\\xaa\\xea\\xfe#\\xfa\\x19\\xf9\\xfa\\xc8=\\xabH(\\xb0a'\n"
     ]
    },
    {
     "data": {
      "text/plain": [
       "True"
      ]
     },
     "execution_count": 595,
     "metadata": {},
     "output_type": "execute_result"
    }
   ],
   "source": [
    "aes = AES.new(key, AES.MODE_CBC, ivStr)\n",
    "data = 'hello world 1234hello world 1234hello world 1234hello world 1234' # <- 16 bytes\n",
    "encd = aes.encrypt(mainStr)\n",
    "aes = AES.new(key, AES.MODE_CBC, ivStr)\n",
    "decd = aes.decrypt(encd)\n",
    "print (decd)\n",
    "decd == mainStr"
   ]
  },
  {
   "cell_type": "code",
   "execution_count": 596,
   "metadata": {},
   "outputs": [],
   "source": [
    "count = Counter.new(128,initial_value = int(ctrStr.hex(),16))\n",
    "ctr_obj = AES.new(key,AES.MODE_CTR,counter = count)"
   ]
  },
  {
   "cell_type": "code",
   "execution_count": 597,
   "metadata": {},
   "outputs": [],
   "source": [
    "prop = ctr_obj.encrypt(\"abcd\")\n",
    "ans = ctr_obj.decrypt(prop)\n",
    "ans = ctr_obj.decrypt(prop)\n",
    "ans = ctr_obj.decrypt(prop)\n",
    "ans = ctr_obj.decrypt(prop)"
   ]
  },
  {
   "cell_type": "code",
   "execution_count": 598,
   "metadata": {
    "scrolled": true
   },
   "outputs": [
    {
     "ename": "ValueError",
     "evalue": "Input strings must be a multiple of 16 in length",
     "output_type": "error",
     "traceback": [
      "\u001b[0;31m---------------------------------------------------------------------------\u001b[0m",
      "\u001b[0;31mValueError\u001b[0m                                Traceback (most recent call last)",
      "\u001b[0;32m<ipython-input-598-c0424f5a9688>\u001b[0m in \u001b[0;36m<module>\u001b[0;34m()\u001b[0m\n\u001b[1;32m      1\u001b[0m \u001b[0mobj\u001b[0m \u001b[0;34m=\u001b[0m \u001b[0mAES\u001b[0m\u001b[0;34m.\u001b[0m\u001b[0mnew\u001b[0m\u001b[0;34m(\u001b[0m\u001b[0mkey\u001b[0m\u001b[0;34m,\u001b[0m \u001b[0mAES\u001b[0m\u001b[0;34m.\u001b[0m\u001b[0mMODE_ECB\u001b[0m\u001b[0;34m)\u001b[0m\u001b[0;34m\u001b[0m\u001b[0;34m\u001b[0m\u001b[0m\n\u001b[0;32m----> 2\u001b[0;31m \u001b[0mtemp\u001b[0m \u001b[0;34m=\u001b[0m \u001b[0mencrypt\u001b[0m\u001b[0;34m(\u001b[0m\u001b[0mobj\u001b[0m\u001b[0;34m.\u001b[0m\u001b[0mencrypt\u001b[0m\u001b[0;34m(\u001b[0m\u001b[0mctrStr\u001b[0m\u001b[0;34m)\u001b[0m\u001b[0;34m)\u001b[0m\u001b[0;34m\u001b[0m\u001b[0;34m\u001b[0m\u001b[0m\n\u001b[0m\u001b[1;32m      3\u001b[0m \u001b[0mhexxor\u001b[0m\u001b[0;34m(\u001b[0m\u001b[0mtemp\u001b[0m\u001b[0;34m,\u001b[0m \u001b[0mmainStr\u001b[0m\u001b[0;34m)\u001b[0m\u001b[0;34m\u001b[0m\u001b[0;34m\u001b[0m\u001b[0m\n",
      "\u001b[0;32m/usr/lib/python3/dist-packages/Crypto/Cipher/blockalgo.py\u001b[0m in \u001b[0;36mencrypt\u001b[0;34m(self, plaintext)\u001b[0m\n\u001b[1;32m    242\u001b[0m             \u001b[0;32mreturn\u001b[0m \u001b[0mres\u001b[0m\u001b[0;34m\u001b[0m\u001b[0;34m\u001b[0m\u001b[0m\n\u001b[1;32m    243\u001b[0m \u001b[0;34m\u001b[0m\u001b[0m\n\u001b[0;32m--> 244\u001b[0;31m         \u001b[0;32mreturn\u001b[0m \u001b[0mself\u001b[0m\u001b[0;34m.\u001b[0m\u001b[0m_cipher\u001b[0m\u001b[0;34m.\u001b[0m\u001b[0mencrypt\u001b[0m\u001b[0;34m(\u001b[0m\u001b[0mplaintext\u001b[0m\u001b[0;34m)\u001b[0m\u001b[0;34m\u001b[0m\u001b[0;34m\u001b[0m\u001b[0m\n\u001b[0m\u001b[1;32m    245\u001b[0m \u001b[0;34m\u001b[0m\u001b[0m\n\u001b[1;32m    246\u001b[0m     \u001b[0;32mdef\u001b[0m \u001b[0mdecrypt\u001b[0m\u001b[0;34m(\u001b[0m\u001b[0mself\u001b[0m\u001b[0;34m,\u001b[0m \u001b[0mciphertext\u001b[0m\u001b[0;34m)\u001b[0m\u001b[0;34m:\u001b[0m\u001b[0;34m\u001b[0m\u001b[0;34m\u001b[0m\u001b[0m\n",
      "\u001b[0;31mValueError\u001b[0m: Input strings must be a multiple of 16 in length"
     ]
    }
   ],
   "source": [
    "obj = AES.new(key, AES.MODE_ECB)\n",
    "temp = encrypt(obj.encrypt(ctrStr))\n",
    "hexxor(temp, mainStr)"
   ]
  },
  {
   "cell_type": "code",
   "execution_count": 599,
   "metadata": {},
   "outputs": [
    {
     "ename": "ValueError",
     "evalue": "non-hexadecimal number found in fromhex() arg at position 1",
     "output_type": "error",
     "traceback": [
      "\u001b[0;31m---------------------------------------------------------------------------\u001b[0m",
      "\u001b[0;31mValueError\u001b[0m                                Traceback (most recent call last)",
      "\u001b[0;32m<ipython-input-599-abf94fb1bdb0>\u001b[0m in \u001b[0;36m<module>\u001b[0;34m()\u001b[0m\n\u001b[0;32m----> 1\u001b[0;31m \u001b[0mpt\u001b[0m \u001b[0;34m=\u001b[0m \u001b[0mbytes\u001b[0m\u001b[0;34m.\u001b[0m\u001b[0mfromhex\u001b[0m\u001b[0;34m(\u001b[0m\u001b[0mhex\u001b[0m\u001b[0;34m(\u001b[0m\u001b[0mint\u001b[0m\u001b[0;34m(\u001b[0m\u001b[0mctrStr\u001b[0m\u001b[0;34m.\u001b[0m\u001b[0mhex\u001b[0m\u001b[0;34m(\u001b[0m\u001b[0;34m)\u001b[0m\u001b[0;34m,\u001b[0m\u001b[0;36m16\u001b[0m\u001b[0;34m)\u001b[0m \u001b[0;34m+\u001b[0m \u001b[0;36m1\u001b[0m\u001b[0;34m)\u001b[0m\u001b[0;34m)\u001b[0m\u001b[0;34m\u001b[0m\u001b[0;34m\u001b[0m\u001b[0m\n\u001b[0m\u001b[1;32m      2\u001b[0m \u001b[0mprint\u001b[0m\u001b[0;34m(\u001b[0m\u001b[0mhex\u001b[0m\u001b[0;34m(\u001b[0m\u001b[0mint\u001b[0m\u001b[0;34m(\u001b[0m\u001b[0mctrStr\u001b[0m\u001b[0;34m.\u001b[0m\u001b[0mhex\u001b[0m\u001b[0;34m(\u001b[0m\u001b[0;34m)\u001b[0m\u001b[0;34m,\u001b[0m\u001b[0;36m16\u001b[0m\u001b[0;34m)\u001b[0m \u001b[0;34m+\u001b[0m \u001b[0;36m1\u001b[0m\u001b[0;34m)\u001b[0m\u001b[0;34m)\u001b[0m\u001b[0;34m\u001b[0m\u001b[0;34m\u001b[0m\u001b[0m\n",
      "\u001b[0;31mValueError\u001b[0m: non-hexadecimal number found in fromhex() arg at position 1"
     ]
    }
   ],
   "source": [
    "pt = bytes.fromhex(hex(int(ctrStr.hex(),16) + 1))\n",
    "print(hex(int(ctrStr.hex(),16) + 1))"
   ]
  },
  {
   "cell_type": "code",
   "execution_count": 600,
   "metadata": {},
   "outputs": [
    {
     "data": {
      "text/plain": [
       "b'\\xf6|\\x1a\\xeb\\xc7s\\xd2\\xa4KH\\x8e)J@\\xd0\\x8a'"
      ]
     },
     "execution_count": 600,
     "metadata": {},
     "output_type": "execute_result"
    }
   ],
   "source": [
    "obj.encrypt(pt)"
   ]
  },
  {
   "cell_type": "code",
   "execution_count": 601,
   "metadata": {},
   "outputs": [
    {
     "data": {
      "text/plain": [
       "4053705170504343897"
      ]
     },
     "execution_count": 601,
     "metadata": {},
     "output_type": "execute_result"
    }
   ],
   "source": [
    "int(count().hex(),16)"
   ]
  },
  {
   "cell_type": "code",
   "execution_count": 602,
   "metadata": {},
   "outputs": [
    {
     "data": {
      "text/plain": [
       "b'3841a7600813615700000001'"
      ]
     },
     "execution_count": 602,
     "metadata": {},
     "output_type": "execute_result"
    }
   ],
   "source": [
    "pt = (str(ctrStr.hex()) + \"00000001\").encode()\n",
    "pt"
   ]
  },
  {
   "cell_type": "code",
   "execution_count": 603,
   "metadata": {},
   "outputs": [
    {
     "ename": "ValueError",
     "evalue": "Input strings must be a multiple of 16 in length",
     "output_type": "error",
     "traceback": [
      "\u001b[0;31m---------------------------------------------------------------------------\u001b[0m",
      "\u001b[0;31mValueError\u001b[0m                                Traceback (most recent call last)",
      "\u001b[0;32m<ipython-input-603-7856537e3e51>\u001b[0m in \u001b[0;36m<module>\u001b[0;34m()\u001b[0m\n\u001b[0;32m----> 1\u001b[0;31m \u001b[0mhexxor\u001b[0m\u001b[0;34m(\u001b[0m\u001b[0mobj\u001b[0m\u001b[0;34m.\u001b[0m\u001b[0mencrypt\u001b[0m\u001b[0;34m(\u001b[0m\u001b[0mpt\u001b[0m\u001b[0;34m)\u001b[0m\u001b[0;34m.\u001b[0m\u001b[0mhex\u001b[0m\u001b[0;34m(\u001b[0m\u001b[0;34m)\u001b[0m\u001b[0;34m,\u001b[0m\u001b[0mmainStr\u001b[0m\u001b[0;34m[\u001b[0m\u001b[0;34m:\u001b[0m\u001b[0;36m8\u001b[0m\u001b[0;34m]\u001b[0m\u001b[0;34m.\u001b[0m\u001b[0mhex\u001b[0m\u001b[0;34m(\u001b[0m\u001b[0;34m)\u001b[0m\u001b[0;34m)\u001b[0m\u001b[0;34m\u001b[0m\u001b[0;34m\u001b[0m\u001b[0m\n\u001b[0m",
      "\u001b[0;32m/usr/lib/python3/dist-packages/Crypto/Cipher/blockalgo.py\u001b[0m in \u001b[0;36mencrypt\u001b[0;34m(self, plaintext)\u001b[0m\n\u001b[1;32m    242\u001b[0m             \u001b[0;32mreturn\u001b[0m \u001b[0mres\u001b[0m\u001b[0;34m\u001b[0m\u001b[0;34m\u001b[0m\u001b[0m\n\u001b[1;32m    243\u001b[0m \u001b[0;34m\u001b[0m\u001b[0m\n\u001b[0;32m--> 244\u001b[0;31m         \u001b[0;32mreturn\u001b[0m \u001b[0mself\u001b[0m\u001b[0;34m.\u001b[0m\u001b[0m_cipher\u001b[0m\u001b[0;34m.\u001b[0m\u001b[0mencrypt\u001b[0m\u001b[0;34m(\u001b[0m\u001b[0mplaintext\u001b[0m\u001b[0;34m)\u001b[0m\u001b[0;34m\u001b[0m\u001b[0;34m\u001b[0m\u001b[0m\n\u001b[0m\u001b[1;32m    245\u001b[0m \u001b[0;34m\u001b[0m\u001b[0m\n\u001b[1;32m    246\u001b[0m     \u001b[0;32mdef\u001b[0m \u001b[0mdecrypt\u001b[0m\u001b[0;34m(\u001b[0m\u001b[0mself\u001b[0m\u001b[0;34m,\u001b[0m \u001b[0mciphertext\u001b[0m\u001b[0;34m)\u001b[0m\u001b[0;34m:\u001b[0m\u001b[0;34m\u001b[0m\u001b[0;34m\u001b[0m\u001b[0m\n",
      "\u001b[0;31mValueError\u001b[0m: Input strings must be a multiple of 16 in length"
     ]
    }
   ],
   "source": [
    "hexxor(obj.encrypt(pt).hex(),mainStr[:8].hex())"
   ]
  },
  {
   "cell_type": "code",
   "execution_count": 604,
   "metadata": {},
   "outputs": [],
   "source": [
    "obfObj = AES.new(key,AES.MODE_ECB)\n",
    "temptext = obfObj.encrypt(ivStr)\n",
    "x = np.array([temptext])\n",
    "for i in range(int(80/16) - 1) :\n",
    "    temptext = obfObj.encrypt(x[-1])\n",
    "    x = np.append(x,temptext)"
   ]
  },
  {
   "cell_type": "code",
   "execution_count": 605,
   "metadata": {},
   "outputs": [],
   "source": [
    "y = np.array([])\n",
    "for i in range(int(80/16)):\n",
    "    y = np.append(y,hexxor(x[i].hex(),mainStr[i:i+8].hex()))"
   ]
  },
  {
   "cell_type": "code",
   "execution_count": 606,
   "metadata": {},
   "outputs": [
    {
     "data": {
      "text/plain": [
       "array(['e26484fe630ccb4f', '5c0190bc23c10270', '51d015dda0c70899',\n",
       "       'f812a4526087698e', 'ff96354c44e7cf1d'], dtype='<U32')"
      ]
     },
     "execution_count": 606,
     "metadata": {},
     "output_type": "execute_result"
    }
   ],
   "source": [
    "y"
   ]
  },
  {
   "cell_type": "code",
   "execution_count": 607,
   "metadata": {},
   "outputs": [],
   "source": [
    "#    def gen(self,prop,*args):\n",
    "#        if prop == \"Key\" :\n",
    "#            self.key=get_random_bytes(self.keySize/8)\n",
    "#        elif prop == \"Plain Text\" :\n",
    "#            if len(args) == 0:\n",
    "#                raise \"For Plain Text the text size is required to be entered\"\n",
    "#            else :\n",
    "#                if args[0]%16 != 0:\n",
    "#                    raise \"Please enter value as a multiple of 16 for the text size\"\n",
    "#                else:\n",
    "#                    self.plaintext=get_random_bytes(args[0])\n",
    "#        elif prop == \"IV\":\n",
    "#            self.iv = get_random_bytes(16)\n",
    "#        elif prop == \"CTR\":\n",
    "#            self.ctr = get_random_bytes(16)"
   ]
  },
  {
   "cell_type": "code",
   "execution_count": 608,
   "metadata": {},
   "outputs": [
    {
     "data": {
      "text/plain": [
       "b'8A\\xa7`\\x08\\x13aW00000001'"
      ]
     },
     "execution_count": 608,
     "metadata": {},
     "output_type": "execute_result"
    }
   ],
   "source": [
    "# Finding the CTR method\n",
    "new = ctrStr + b'00000001'\n",
    "new"
   ]
  },
  {
   "cell_type": "code",
   "execution_count": 609,
   "metadata": {},
   "outputs": [
    {
     "data": {
      "text/plain": [
       "array([b'8A\\xa7`\\x08\\x13aW00000000', b'8A\\xa7`\\x08\\x13aW00000001',\n",
       "       b'8A\\xa7`\\x08\\x13aW00000002', b'8A\\xa7`\\x08\\x13aW00000003',\n",
       "       b'8A\\xa7`\\x08\\x13aW00000004'], dtype='|S32')"
      ]
     },
     "execution_count": 609,
     "metadata": {},
     "output_type": "execute_result"
    }
   ],
   "source": [
    "ansStr = np.array([])\n",
    "for i in range(int(80/16)):\n",
    "    ansStr = np.append(ansStr,ctrStr + (\"0000000\" + str(i)).encode('ascii'))\n",
    "ansStr"
   ]
  },
  {
   "cell_type": "code",
   "execution_count": 610,
   "metadata": {},
   "outputs": [],
   "source": [
    "finNewObj = AES.new(key,AES.MODE_ECB)\n",
    "finStr = np.array([])\n",
    "for i in range(len(ansStr)):\n",
    "    finStr = np.append(finStr,finNewObj.encrypt(ansStr[i]))"
   ]
  },
  {
   "cell_type": "code",
   "execution_count": 611,
   "metadata": {},
   "outputs": [
    {
     "data": {
      "text/plain": [
       "array([b'\\x19Z\\xe3\\xd6\\x1f\\x05\\x03\\xb5Q\\xac\\x15\\xe2\\x1fip\\xee',\n",
       "       b'h\\x93\\xa7i\\xea\\xe8:\\xe2k\\xe9\\xbe\\x1e\\xf8\\xc1\\xd4a',\n",
       "       b'%\\xc1\\xd1\\xe3\\xca\\xaf\\xfb\\x8c\\xb0Py\\xc3\\xb2\\x8e^\\xf8',\n",
       "       b'y\\xf8S\\x19b\\xff\\xf8a>\\xef\\xd2\\xee\\xf7\\xba\\xf5\\xb5',\n",
       "       b'\\x8c\\x08\\xc6\\xab\\xe3\\x1e\\xc3@\\x1bdIR\\xef\\xeay\\\\'], dtype='|S32')"
      ]
     },
     "execution_count": 611,
     "metadata": {},
     "output_type": "execute_result"
    }
   ],
   "source": [
    "finStr"
   ]
  },
  {
   "cell_type": "code",
   "execution_count": 612,
   "metadata": {},
   "outputs": [],
   "source": [
    "i = 100\n",
    "a = \"00000000\"\n",
    "len(str(i))\n",
    "a = a[:len(a) - len(str(i))]"
   ]
  }
 ],
 "metadata": {
  "kernelspec": {
   "display_name": "Python 3",
   "language": "python",
   "name": "python3"
  },
  "language_info": {
   "codemirror_mode": {
    "name": "ipython",
    "version": 3
   },
   "file_extension": ".py",
   "mimetype": "text/x-python",
   "name": "python",
   "nbconvert_exporter": "python",
   "pygments_lexer": "ipython3",
   "version": "3.6.7"
  }
 },
 "nbformat": 4,
 "nbformat_minor": 2
}
