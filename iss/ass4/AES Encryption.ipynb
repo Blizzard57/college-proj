{
 "cells": [
  {
   "cell_type": "code",
   "execution_count": 3,
   "metadata": {},
   "outputs": [],
   "source": [
    "import numpy as np"
   ]
  },
  {
   "cell_type": "markdown",
   "metadata": {},
   "source": [
    "## AES Encryption\n",
    "Methodolgy :\n",
    "- Input Pass Phrase and Key\n",
    "- Know size of key and have pass phrase of 32 bytes\n",
    "- Convert each to hex\n",
    "- Make a matrix\n",
    "- Matrix operations as required \n",
    "\n",
    "Class Requirements :\n",
    "\n",
    "- Object Properties :\n",
    "    - Key\n",
    "    - Pass Phrase\n",
    "    - Enrypted Data\n",
    "    \n",
    "- Object Methods :\n",
    "    - Encrypt\n",
    "    - Decrypt\n",
    "    - Convert to matrix\n",
    "    - Shift Rows\n",
    "    - Shift Columns\n",
    "    - Mix Columns\n",
    "    - Add Round Key"
   ]
  },
  {
   "cell_type": "code",
   "execution_count": 5,
   "metadata": {},
   "outputs": [],
   "source": [
    "class AES :\n",
    "    def __init__(self,key,data,keySize,flag = False):\n",
    "        self.key = key\n",
    "        self.size = keySize\n",
    "        self.keyMatrix = np.array([])\n",
    "        self.passMatrix = np.array([])\n",
    "        if flag :\n",
    "            self.passPhrase = data\n",
    "            self.cypher = \"\"\n",
    "        else :\n",
    "            self.passPhrase = \"\"\n",
    "            self.cypher = data\n",
    "\n",
    "    #def convertMarix(self,data):\n",
    "        "
   ]
  },
  {
   "cell_type": "code",
   "execution_count": null,
   "metadata": {},
   "outputs": [],
   "source": []
  }
 ],
 "metadata": {
  "kernelspec": {
   "display_name": "Python 3",
   "language": "python",
   "name": "python3"
  },
  "language_info": {
   "codemirror_mode": {
    "name": "ipython",
    "version": 3
   },
   "file_extension": ".py",
   "mimetype": "text/x-python",
   "name": "python",
   "nbconvert_exporter": "python",
   "pygments_lexer": "ipython3",
   "version": "3.6.7"
  }
 },
 "nbformat": 4,
 "nbformat_minor": 2
}
