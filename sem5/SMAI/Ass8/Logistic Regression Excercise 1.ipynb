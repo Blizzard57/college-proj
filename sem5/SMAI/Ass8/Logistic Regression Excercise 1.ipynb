{
 "cells": [
  {
   "cell_type": "markdown",
   "metadata": {},
   "source": [
    "## Excercise 1 - One vs One classifier\n",
    "\n",
    "The aim of the excercise is to build a multiclass classifier using a binary classifier using a one-vs-one classifier. Similar to the tutorial, you are provided with a 3 class synthetic dataset. In a one-vs-one classifier, a binary classifier is learnt between every pair of class. You are required to write the code and visualize the decision boundaries for the one-vs-one classifier setting."
   ]
  },
  {
   "cell_type": "code",
   "execution_count": 1,
   "metadata": {},
   "outputs": [
    {
     "name": "stdout",
     "output_type": "stream",
     "text": [
      "running importer\n"
     ]
    }
   ],
   "source": [
    "# Import util.ipynb for helper functions\n",
    "import io, os, sys, types\n",
    "from IPython import get_ipython\n",
    "from nbformat import read\n",
    "from IPython.core.interactiveshell import InteractiveShell\n",
    "\n",
    "def find_notebook(fullname, path=None):\n",
    "    \"\"\"find a notebook, given its fully qualified name and an optional path\n",
    "\n",
    "    This turns \"foo.bar\" into \"foo/bar.ipynb\"\n",
    "    and tries turning \"Foo_Bar\" into \"Foo Bar\" if Foo_Bar\n",
    "    does not exist.\n",
    "    \"\"\"\n",
    "    name = fullname.rsplit('.', 1)[-1]\n",
    "    if not path:\n",
    "        path = ['']\n",
    "    for d in path:\n",
    "        nb_path = os.path.join(d, name + \".ipynb\")\n",
    "        #print('searching: %s'%nb_path)\n",
    "        if os.path.isfile(nb_path):\n",
    "            return nb_path\n",
    "        # let import Notebook_Name find \"Notebook Name.ipynb\"\n",
    "        nb_path = nb_path.replace(\"_\", \" \")\n",
    "        #print('searching: %s' % nb_path)\n",
    "        if os.path.isfile(nb_path):\n",
    "            return nb_path\n",
    "\n",
    "class NotebookLoader(object):\n",
    "    \"\"\"Module Loader for Jupyter Notebooks\"\"\"\n",
    "    def __init__(self, path=None):\n",
    "        self.shell = InteractiveShell.instance()\n",
    "        self.path = path\n",
    "\n",
    "    def load_module(self, fullname):\n",
    "        \"\"\"import a notebook as a module\"\"\"\n",
    "        path = find_notebook(fullname, self.path)\n",
    "\n",
    "        print (\"importing Jupyter notebook from %s\" % path)\n",
    "\n",
    "        # load the notebook object\n",
    "        with io.open(path, 'r', encoding='utf-8') as f:\n",
    "            nb = read(f, 4)\n",
    "\n",
    "\n",
    "        # create the module and add it to sys.modules\n",
    "        # if name in sys.modules:\n",
    "        #    return sys.modules[name]\n",
    "        mod = types.ModuleType(fullname)\n",
    "        mod.__file__ = path\n",
    "        mod.__loader__ = self\n",
    "        mod.__dict__['get_ipython'] = get_ipython\n",
    "        sys.modules[fullname] = mod\n",
    "\n",
    "        # extra work to ensure that magics that would affect the user_ns\n",
    "        # actually affect the notebook module's ns\n",
    "        save_user_ns = self.shell.user_ns\n",
    "        self.shell.user_ns = mod.__dict__\n",
    "\n",
    "        #print('Found %d cells'%len(nb.cells))\n",
    "        try:\n",
    "            for cell in nb.cells:\n",
    "                if cell.cell_type == 'code':\n",
    "                    # transform the input to executable Python\n",
    "                    code = self.shell.input_transformer_manager.transform_cell(cell.source)\n",
    "                    # run the code in themodule\n",
    "                    exec(code, mod.__dict__)\n",
    "        finally:\n",
    "            self.shell.user_ns = save_user_ns\n",
    "        return mod\n",
    "\n",
    "class NotebookFinder(object):\n",
    "    \"\"\"Module finder that locates Jupyter Notebooks\"\"\"\n",
    "    def __init__(self):\n",
    "        self.loaders = {}\n",
    "\n",
    "    def find_module(self, fullname, path=None):\n",
    "        nb_path = find_notebook(fullname, path)\n",
    "        if not nb_path:\n",
    "            return\n",
    "\n",
    "        key = path\n",
    "        if path:\n",
    "            # lists aren't hashable\n",
    "            key = os.path.sep.join(path)\n",
    "\n",
    "        if key not in self.loaders:\n",
    "            self.loaders[key] = NotebookLoader(path)\n",
    "        return self.loaders[key]\n",
    "\n",
    "\n",
    "#  register the NotebookFinder with sys.meta_path\n",
    "print('running importer')\n",
    "sys.meta_path.append(NotebookFinder())"
   ]
  },
  {
   "cell_type": "code",
   "execution_count": 2,
   "metadata": {},
   "outputs": [
    {
     "name": "stdout",
     "output_type": "stream",
     "text": [
      "importing Jupyter notebook from utils.ipynb\n"
     ]
    }
   ],
   "source": [
    "# Imports\n",
    "\n",
    "from sklearn import datasets\n",
    "from sklearn.datasets import fetch_openml\n",
    "from sklearn.datasets import make_classification\n",
    "from sklearn.model_selection import train_test_split\n",
    "import matplotlib.pyplot as plt\n",
    "import gif\n",
    "import numpy as np\n",
    "import seaborn as sns; sns.set();\n",
    "import pandas as pd\n",
    "from utils import plot_decision_boundary, get_accuracy, get_prediction\n",
    "from utils import plot_2D_input_datapoints, generate_gifs, sigmoid, normalize\n",
    "import math\n",
    "from tqdm import tqdm\n",
    "import warnings\n",
    "warnings.filterwarnings('ignore')"
   ]
  },
  {
   "cell_type": "code",
   "execution_count": 3,
   "metadata": {},
   "outputs": [
    {
     "data": {
      "text/plain": [
       "<Figure size 576x576 with 0 Axes>"
      ]
     },
     "metadata": {},
     "output_type": "display_data"
    }
   ],
   "source": [
    "fig = plt.figure(figsize=(8,8));\n",
    "\n",
    "np.random.seed(4)\n",
    "\n",
    "# Getting only linearly separable dataset\n",
    "separable = False\n",
    "while not separable:\n",
    "    samples = make_classification(n_samples=450, n_features=2, n_redundant=0, n_informative=2, n_clusters_per_class=1, n_classes=3)\n",
    "    red = samples[0][samples[1] == 0]\n",
    "    blue = samples[0][samples[1] == 1]\n",
    "    green = samples[0][samples[1] == 2]\n",
    "    separable = any([red[:, k].max() < blue[:, k].min() or red[:, k].min() > blue[:, k].max() \n",
    "                  or green[:, k].min() > blue[:, k].max() or green[:, k].min() > red[:, k].max() \n",
    "                  or blue[:, k].min() > green[:, k].max() or red[:, k].min() > green[:, k].max() for k in range(2)])\n",
    "\n",
    "X, y = samples\n",
    "\n",
    "y = y.reshape((-1, 1))\n",
    "\n",
    "# Absorbing weight b of the hyperplane\n",
    "b_ones = np.ones((len(X), 1))\n",
    "X = np.hstack((X, b_ones))"
   ]
  },
  {
   "cell_type": "code",
   "execution_count": 4,
   "metadata": {},
   "outputs": [
    {
     "data": {
      "image/png": "[encoded data removed]",
      "text/plain": [
       "<Figure size 432x288 with 1 Axes>"
      ]
     },
     "metadata": {},
     "output_type": "display_data"
    }
   ],
   "source": [
    "plot_2D_input_datapoints(X[:, :2], y)"
   ]
  },
  {
   "cell_type": "code",
   "execution_count": 5,
   "metadata": {},
   "outputs": [
    {
     "name": "stdout",
     "output_type": "stream",
     "text": [
      "Training dataset:  (315, 3)\n",
      "Validation dataset:  (45, 3)\n",
      "Test dataset:  (90, 3)\n"
     ]
    }
   ],
   "source": [
    "# Train-Val-Test split\n",
    "X_train_val, X_test, Y_train_val, Y_test = train_test_split(X, y, shuffle=True, test_size = 0.2)\n",
    "X_train, X_val, Y_train, Y_val = train_test_split(X_train_val, Y_train_val, test_size = 0.125)\n",
    "\n",
    "print(\"Training dataset: \", X_train.shape)\n",
    "print(\"Validation dataset: \", X_val.shape)\n",
    "print(\"Test dataset: \", X_test.shape)"
   ]
  },
  {
   "cell_type": "markdown",
   "metadata": {},
   "source": [
    "### Write your code below"
   ]
  },
  {
   "cell_type": "code",
   "execution_count": 8,
   "metadata": {},
   "outputs": [
    {
     "name": "stdout",
     "output_type": "stream",
     "text": [
      "Training Accuracy:  0.9619047619047619\n",
      "Validation Accuracy:  0.9333333333333333\n",
      "Test Accuracy:  0.9777777777777777\n"
     ]
    }
   ],
   "source": [
    "class OVOClassifier:\n",
    "    \n",
    "    def __init__(self, n_classes=3):\n",
    "        from sklearn.linear_model import LogisticRegression\n",
    "        self.n_classes = n_classes\n",
    "        self.models = {(class_1, class_2): LogisticRegression() \n",
    "                       for class_1 in range(n_classes) \n",
    "                       for class_2 in range(class_1 + 1, n_classes)}\n",
    "\n",
    "    def get_subset(self, X, y, class_1, class_2):\n",
    "        y = y.ravel()\n",
    "        X = X[(y == class_1) | (y == class_2)]\n",
    "        y = y[(y == class_1) | (y == class_2)]\n",
    "        y = (y == class_1)\n",
    "        return X, y\n",
    "    \n",
    "    def train(self, dataset):\n",
    "        train_X, train_y = dataset\n",
    "        for key, model in self.models.items():\n",
    "            class_1, class_2 = key\n",
    "            X, y = self.get_subset(train_X, train_y, key[0], key[1])\n",
    "            model.fit(X, y)\n",
    "            \n",
    "    def evaluate(self, dataset):\n",
    "        val_X, val_y = dataset\n",
    "        preds = self.predict(val_X)\n",
    "        return np.mean(preds == val_y.reshape(-1))\n",
    "\n",
    "    def predict(self, val_X):\n",
    "        results = np.zeros((self.n_classes, len(val_X)), dtype=np.float64)\n",
    "        for key, model in self.models.items():\n",
    "            class_1, class_2 = key\n",
    "            model_out = model.predict_proba(val_X)\n",
    "            results[class_1, :] += model_out[:, 1]\n",
    "            results[class_2, :] += model_out[:, 0]\n",
    "        preds = np.argmax(results, axis=0)\n",
    "        return preds\n",
    "        \n",
    "model = OVOClassifier()\n",
    "model.train((X_train, Y_train))\n",
    "print('Training Accuracy: ', model.evaluate((X_train, Y_train)))\n",
    "print('Validation Accuracy: ', model.evaluate((X_val, Y_val)))\n",
    "print('Test Accuracy: ', model.evaluate((X_test, Y_test)))"
   ]
  },
  {
   "cell_type": "code",
   "execution_count": 18,
   "metadata": {},
   "outputs": [
    {
     "data": {
      "application/vnd.plotly.v1+json": {
       "config": {
        "plotlyServerURL": "https://plot.ly"
       },
       "data": [
        {
         "hovertemplate": "Feature 1=%{x}<br>Feature 2=%{y}<br>Feature 3=%{z}<br>Predictions=%{marker.color}<extra></extra>",
         "legendgroup": "",
         "marker": {
          "color": [
           2,
           2,
           1,
           1,
           0,
           0,
           1,
           2,
           1,
           1,
           1,
           0,
           2,
           2,
           2,
           1,
           0,
           2,
           2,
           0,
           1,
           2,
           0,
           0,
           0,
           2,
           1,
           1,
           0,
           1,
           0,
           0,
           0,
           1,
           0,
           1,
           2,
           2,
           1,
           1,
           2,
           2,
           2,
           2,
           2,
           0,
           0,
           0,
           0,
           1,
           2,
           2,
           1,
           0,
           0,
           0,
           0,
           0,
           0,
           0,
           1,
           1,
           1,
           2,
           2,
           0,
           1,
           1,
           0,
           2,
           2,
           0,
           0,
           0,
           0,
           2,
           2,
           0,
           1,
           1,
           0,
           0,
           2,
           1,
           1,
           0,
           0,
           0,
           0,
           0,
           0,
           2,
           0,
           1,
           1,
           1,
           1,
           1,
           1,
           2,
           2,
           0,
           2,
           0,
           0,
           1,
           2,
           2,
           2,
           2,
           1,
           2,
           1,
           2,
           2,
           0,
           1,
           1,
           1,
           1,
           2,
           2,
           1,
           1,
           1,
           1,
           1,
           2,
           2,
           0,
           2,
           2,
           2,
           0,
           0,
           1,
           2,
           2,
           1,
           2,
           1,
           1,
           0,
           1,
           1,
           2,
           1,
           1,
           0,
           2,
           0,
           2,
           2,
           0,
           2,
           2,
           0,
           0,
           1,
           1,
           1,
           0,
           1,
           1,
           2,
           1,
           1,
           1,
           0,
           2,
           2,
           2,
           0,
           0,
           0,
           1,
           2,
           1,
           2,
           2,
           0,
           2,
           1,
           0,
           2,
           1,
           1,
           0,
           1,
           0,
           1,
           0,
           1,
           0,
           2,
           2,
           2,
           0,
           2,
           1,
           0,
           0,
           1,
           1,
           1,
           1,
           0,
           2,
           0,
           2,
           1,
           2,
           1,
           2,
           0,
           1,
           0,
           1,
           0,
           1,
           2,
           2,
           1,
           1,
           2,
           1,
           0,
           2,
           0,
           0,
           0,
           1,
           2,
           2,
           0,
           0,
           2,
           0,
           0,
           2,
           2,
           1,
           1,
           0,
           0,
           1,
           2,
           1,
           2,
           2,
           0,
           1,
           1,
           0,
           2,
           1,
           2,
           1,
           0,
           1,
           1,
           2,
           0,
           0,
           2,
           0,
           2,
           0,
           1,
           1,
           1,
           0,
           2,
           1,
           0,
           1,
           1,
           1,
           0,
           1,
           1,
           1,
           2,
           0,
           1,
           2,
           0,
           2,
           0,
           1,
           2,
           0,
           0,
           0,
           1,
           1,
           1,
           0,
           2,
           0,
           2,
           0,
           2,
           1,
           1,
           0,
           2,
           2,
           0,
           2,
           0,
           2,
           1,
           2,
           2,
           1,
           2,
           1,
           0,
           0,
           1,
           2,
           0,
           1,
           0,
           2,
           0,
           1,
           1,
           0,
           1,
           2,
           2,
           0,
           0,
           0,
           2,
           1,
           2,
           1,
           0,
           1,
           1,
           1,
           1,
           0,
           2,
           2,
           2,
           0,
           2,
           0,
           2,
           1,
           1,
           1,
           2,
           0,
           0,
           0,
           0,
           0,
           1,
           2,
           0,
           0,
           1,
           1,
           2,
           1,
           0,
           1,
           1,
           0,
           2,
           1,
           0,
           2,
           1,
           0,
           0,
           0,
           1,
           2,
           1,
           0,
           0,
           1,
           1,
           0,
           0,
           1,
           1,
           0,
           1,
           1,
           0,
           0,
           1,
           1,
           1,
           2,
           1,
           1,
           2,
           0,
           2,
           2,
           2,
           2,
           1,
           2,
           1,
           2,
           1,
           2,
           2,
           0,
           2,
           2,
           1,
           2,
           1,
           2,
           0,
           0,
           2,
           0,
           0,
           1,
           0,
           1,
           1,
           1,
           1,
           2,
           1,
           0,
           0,
           1,
           0,
           0,
           0,
           2,
           0,
           0,
           0,
           2,
           0,
           0
          ],
          "coloraxis": "coloraxis",
          "opacity": 0.7,
          "symbol": "circle"
         },
         "mode": "markers",
         "name": "",
         "scene": "scene",
         "showlegend": false,
         "type": "scatter3d",
         "x": [
          1.2875614640807609,
          0.6324722442589914,
          1.1998587858249656,
          0.262669735320733,
          -1.4006140535587521,
          -0.7226696249965372,
          1.5936483142377105,
          1.1830996048510631,
          1.223861245311611,
          0.3576262559872734,
          0.6861329136235866,
          -0.7598030689900114,
          2.8045833705245125,
          0.7656888480809017,
          1.1991103398983833,
          1.088618347991037,
          -0.8518418246719888,
          0.7236823886856856,
          0.6103335974143176,
          -0.8573706191366922,
          0.7932513656039616,
          0.9286969732973102,
          -0.9785038688626729,
          -0.6910992361858106,
          -1.3029793418820739,
          1.08997380889951,
          0.7625560473018983,
          1.1134546056952344,
          -1.0428026192287163,
          -0.2691655733820951,
          -1.0458858455923639,
          -0.7334847584592912,
          -1.183868005258934,
          0.7398433161189929,
          -1.3484661799182895,
          -0.20421982121843052,
          -0.0419448492216723,
          0.735183916185661,
          1.25686565104573,
          1.0323144749336084,
          0.8638487550950139,
          0.4909733935461893,
          0.11604934128490141,
          1.1796907866817892,
          1.5418660132248778,
          -0.9887708682179474,
          -0.591518327594085,
          -1.4115446356980885,
          -1.1784225895748983,
          0.39512654359160104,
          0.038836912207707686,
          0.44838073789089106,
          1.274842010456449,
          -1.2206472830333581,
          -1.3659019267062749,
          -1.2741134080543637,
          -1.007351901717141,
          -1.2462108740899067,
          -1.4934842601647782,
          -1.4988748807285202,
          2.165557794372991,
          1.2102164367510495,
          0.1971177583909961,
          -0.2481552276170318,
          2.3526710852900257,
          -1.2024784297268163,
          0.18804019466583688,
          0.5649474765372872,
          -0.8618959299393671,
          1.8165410835361326,
          1.0213061440874336,
          -1.3750401490368374,
          -1.2588639046703747,
          -0.7843897493269332,
          -0.9865068776098581,
          0.4777877523251082,
          -0.3245234533583983,
          -1.2040372846091993,
          -0.2765801561978183,
          0.621060453320432,
          -0.5844763920378804,
          -0.7857273796899913,
          2.715651710937887,
          1.2953834376007105,
          1.1512768371421307,
          -1.1097030664068679,
          -1.1077668194076868,
          -1.1084589557576996,
          -1.7126652413434222,
          -0.9626212006237229,
          -1.3563505660957216,
          0.23120286707384974,
          -1.2522083208141144,
          1.6776253722507142,
          -0.0476862459592684,
          -0.2299379202670483,
          0.8038073175458115,
          1.0653016362593761,
          0.9529622790274602,
          1.0430909876258907,
          1.1467647018892464,
          -1.2687798023689576,
          3.1127640882540413,
          -1.178692375619419,
          -1.3465911261494845,
          0.5074320223110229,
          -0.158644061857679,
          1.7751317751003852,
          0.17977710077930165,
          2.595083312252433,
          1.9179341646225674,
          2.395799229575012,
          0.31452510404700984,
          0.08651629081197632,
          3.2674877611420894,
          -1.1190148543325527,
          1.827282438166208,
          0.9623061935084695,
          0.4959510919478429,
          0.47642356259991836,
          0.9234588467452461,
          0.9272965814414729,
          1.3856213371488637,
          1.1655595895370416,
          0.4041464519177498,
          0.9388676616691553,
          0.5448418593152132,
          1.4097394335593472,
          0.31998971369954843,
          -0.875696480039419,
          2.259103489956129,
          0.6381189547127841,
          0.8549444246584471,
          -1.5469443018942521,
          -1.264227012277218,
          0.6637556721185651,
          0.9219594911345284,
          0.9957352494672506,
          2.0799095173869944,
          1.169481754462193,
          2.0938547158951186,
          0.9634104375855637,
          -0.8012543559775467,
          0.9066790538559101,
          1.685161615014768,
          1.077039395825312,
          0.8682590386902507,
          1.2267559302365274,
          -0.538522893731503,
          1.2224967480209987,
          -1.4926813203192544,
          1.4590688669250795,
          0.8662284610741122,
          -1.1347940032625337,
          -0.2731880163714486,
          2.9212238224343015,
          -1.240647180279411,
          -1.0878044421994886,
          1.35758471079972,
          0.42217816895813254,
          0.6892915780477725,
          -1.362847828721639,
          0.9260533675083463,
          0.046146129370737365,
          1.2179677040725665,
          1.311725204244502,
          -0.3093663251710438,
          1.4544732240680762,
          -0.8479616488029419,
          0.44202829810910427,
          1.097903193549195,
          0.28892003160542434,
          -0.9598556300577364,
          -1.3215021967836273,
          -0.48820810158631667,
          1.5678587625978848,
          1.1272240787175605,
          0.8825424467970379,
          0.009211345926447234,
          1.1087025280755716,
          -0.8350542144498178,
          1.628496408558905,
          0.3264489202553793,
          -0.9470863946117419,
          1.4385121381288393,
          0.8492058120713594,
          0.7798123901000747,
          -1.0391966875828094,
          2.132998492829802,
          -0.8674425101978869,
          1.3113749852900325,
          -0.4852430296723018,
          0.980717319666049,
          -0.7061441784171596,
          0.7715178563105579,
          1.719811233198436,
          2.0870936093933548,
          -1.1783571101057957,
          1.6724353829555607,
          1.434339248359843,
          -0.8811261567785957,
          -0.6049803925260291,
          1.1105980722983504,
          0.9938601273540786,
          1.8320086144146281,
          0.34231323109727185,
          -1.174596645721554,
          0.37338090736410257,
          -1.6741269488701969,
          0.5686131756746892,
          0.9738233224025507,
          1.3776742201822114,
          0.7694174119731051,
          -0.09308171212752381,
          -0.7836166430684651,
          1.506371245000448,
          -1.0139744316825297,
          1.5649434359443823,
          -1.2344140486006814,
          1.4333916010883303,
          0.7864880201790526,
          0.27594494633794653,
          0.5172044920266945,
          0.35874993726331617,
          0.8015312203148175,
          1.221547446165492,
          -1.0392185771544624,
          2.8711312143459216,
          -0.9702728295154348,
          -0.6479997906132219,
          -0.9186225833012888,
          0.503101836472913,
          0.7758753528604346,
          1.6707754177572727,
          -1.268766883751454,
          -1.2110800047503474,
          0.9914846254808084,
          -1.1130930357728417,
          -1.0040375878095738,
          1.8437719192490705,
          3.8148238848412626,
          -0.05124938677870605,
          0.8996712978648436,
          -0.38363224877017044,
          -0.8391020501622507,
          0.7465311778078365,
          1.612370058651667,
          0.7656609562135863,
          1.7969974902885584,
          0.6608567793803566,
          -0.4127751952689507,
          1.1048512745990346,
          0.6372576000315229,
          -0.5262486596934921,
          1.3721551284225688,
          0.9267288574610193,
          1.3646657987941895,
          0.503813091313952,
          -0.6657417401330616,
          1.9979793876972107,
          0.817356414028992,
          0.013668221826721338,
          -0.44491120344127677,
          -1.0827225992961642,
          0.8890392844519228,
          -1.4392431457161954,
          1.911510867997928,
          -0.6150252738611683,
          0.756389342905855,
          1.4251063832880715,
          0.4362258078348573,
          -0.881720691780856,
          1.9688147954607114,
          1.8692763061622166,
          -1.239350924191439,
          0.9953833382068121,
          2.059328514934993,
          1.2213698874921803,
          -1.1417286272491431,
          0.20710361720739145,
          1.0163047555235216,
          0.06479819222810912,
          0.2003338342597688,
          -1.4547181288535298,
          1.187737560184916,
          0.14278299035903175,
          -1.0272376589631649,
          -0.09387009901739818,
          -1.271100208266175,
          0.5821499037878076,
          1.7885629944966452,
          -1.1604833993802752,
          -0.9893402956352648,
          -0.46628575807976524,
          -0.20096710854024402,
          1.3634005019497186,
          0.7690162967700614,
          -0.982802383342285,
          1.267351301734914,
          -0.9532223794657326,
          -0.2238369886797038,
          -1.2533445573013007,
          1.8010045535757613,
          1.566996781888716,
          0.005767041980543897,
          -1.012676555205954,
          1.4104053752807824,
          2.147571983563629,
          -0.7796576487679183,
          0.986632226779686,
          -1.0972696330237632,
          1.4416919599999156,
          1.117451190243024,
          1.3807338575646109,
          1.7718998981728757,
          0.9689724680631228,
          -0.2056540286301618,
          1.6373790410530904,
          -0.6000603416981201,
          -1.3215933063389291,
          0.4615364113318996,
          1.0785270719484525,
          -0.6968838960451458,
          0.5095061443595862,
          -0.6580278631965363,
          -0.023219436285717654,
          -1.211771416189722,
          0.8671166574626552,
          0.9970205530644856,
          -1.275098771400281,
          1.1603427352294227,
          0.10516755439308267,
          2.263513657119603,
          -1.1858154895941924,
          -0.9422455388770032,
          -1.1074001842032637,
          0.5356769713676371,
          1.4928057071584782,
          1.6997218040134667,
          1.6340322662386266,
          -1.1458850349410907,
          0.4790684057032576,
          -0.150269139038945,
          1.4568229830639376,
          0.8362440966501885,
          -1.860035918514759,
          1.2278452815478678,
          1.2575148854952796,
          0.13040543500381385,
          -1.073320955496117,
          1.2142813798875955,
          -0.6023441212878067,
          0.14787454185636273,
          1.5867211503495262,
          0.7008779256788484,
          1.552445012248996,
          1.3538449784951019,
          -0.7323317473561302,
          -1.08012836249059,
          -1.2542161228139437,
          -0.5510930613503913,
          -1.6417981571211029,
          0.8530100885471591,
          1.4985206752225815,
          -0.9188589988288391,
          -1.6300523456256402,
          0.746182220161949,
          1.2108134213724342,
          0.9678355162578383,
          0.24266502216938257,
          -0.9711733753347837,
          1.7368596525842088,
          0.1348674900090684,
          -0.9272244334163636,
          0.884565091024285,
          0.7505724919259809,
          -1.214170294218949,
          1.4832133530381277,
          0.7390460360436361,
          -0.448806035832259,
          -0.6607016034937421,
          -0.8757430761541117,
          0.9442889726554231,
          1.620030394680995,
          0.6286500025701165,
          -0.8365125265958248,
          -1.567536199669565,
          1.6965038031529152,
          0.8595198622872525,
          -0.6615371123898756,
          -1.2112272423775052,
          0.5679732930750758,
          1.938504947058521,
          -0.7815004151034992,
          1.2374344932097536,
          0.36406759716818493,
          -1.1409175763533907,
          -1.1973315453910596,
          0.9556255034341605,
          0.5172200810141263,
          0.7544540797115671,
          1.1147312506411178,
          0.6883023113654024,
          1.1937438867750607,
          0.7859088363651879,
          -0.7841985542484805,
          1.0558061896844275,
          1.6285127967736308,
          0.8348443929364643,
          2.483556426728448,
          0.9901574470087823,
          1.2774459198735644,
          0.4750126509864059,
          1.4463652966672096,
          0.4549554313001337,
          0.8893088503068836,
          2.220280686258861,
          -1.363779586952683,
          1.044091709040472,
          0.47466255224313103,
          2.0263985756407696,
          0.5876262684519967,
          0.40469070125911155,
          1.8749869453816808,
          -1.2937720671391677,
          -0.6887582267076646,
          1.63030657735849,
          -0.6466297215352127,
          -0.9510583545229973,
          1.4006323794312228,
          -1.400205021777405,
          0.18998353442277605,
          0.8670430213747963,
          0.7566463912020855,
          0.20078089511816144,
          0.6387107711724191,
          0.46800149420704085,
          -1.0003108397336071,
          -1.227815760584148,
          0.8176388262084444,
          -1.7199664005900752,
          -0.9990929939420574,
          -0.6818955286457307,
          1.7164066955215902,
          -1.3685137052991891,
          -0.4799093142061118,
          -1.2913555881082859,
          0.6098600629800746,
          -0.6741520419565742,
          -1.1554252753684333
         ],
         "y": [
          1.0572801317785259,
          1.2578369142285353,
          -0.9496893033825572,
          -1.0160681167483643,
          2.2911099192339073,
          0.07968081068774424,
          -1.3436861905022897,
          0.7766462716149183,
          -0.9846643606561647,
          -0.6594669260917378,
          -1.0386644103728342,
          0.49591249299695095,
          1.9704715768090013,
          0.44014948683199573,
          2.385346505488417,
          -1.010215883143485,
          0.9717000430229447,
          0.7979210036419325,
          0.532418349582461,
          0.20339632140111286,
          -0.8668605126539172,
          0.24473343974018935,
          0.8642423660239503,
          0.610565891120993,
          1.4669248213368005,
          0.6623572343856186,
          -1.0010899096556758,
          -1.1675912821540886,
          0.46653095182778015,
          -1.0091222409877454,
          0.9697974822234434,
          0.12353051412955074,
          1.6493868725575567,
          -0.8256586390795694,
          1.4524861161212446,
          -0.6780407012567489,
          0.7207517303305484,
          1.5825528532072486,
          -1.0403597602067691,
          -0.9996183867906808,
          1.1950383871294497,
          1.7179782221196707,
          0.3197982045049448,
          1.8005654842254413,
          1.5071126770047598,
          0.7635361183290635,
          -0.27727457329577465,
          2.482788344103341,
          1.1402830497414067,
          -0.865797018483809,
          0.465676214586889,
          0.8064687589482542,
          -1.1325982131008485,
          1.4071797338320569,
          2.247011866358065,
          1.8615626556381302,
          1.1735262975932579,
          1.8730480925522608,
          2.2642627203571073,
          2.0732635614376638,
          -1.3350831582570843,
          -1.1722968411282533,
          -0.8539076765119827,
          0.9025222020675524,
          1.7748316081472604,
          1.6731669400319389,
          -0.7987832724062773,
          -0.9654845906016777,
          0.26786438388751066,
          0.6738138726227971,
          1.2743556230704973,
          2.0757739328658786,
          2.1396394675518957,
          1.0835126194802256,
          0.9356727669717636,
          0.3031357670113496,
          0.8253073468905028,
          2.239852557698539,
          -0.8831878080526008,
          -0.750435958384333,
          0.8527598925337446,
          0.07510852329437723,
          1.2039866371364945,
          -1.0697022683587234,
          -1.0444583671839673,
          1.6468052388160808,
          1.566340631699619,
          1.7494904939116889,
          2.9436165699982277,
          1.1044295551681458,
          2.277359883674599,
          0.67113727378559,
          1.5353813134680063,
          -0.986956040014298,
          -0.7997380750740875,
          -1.421179619035783,
          -0.9338094183311798,
          -0.919521351725327,
          -1.0543155189832618,
          2.296908141683918,
          1.055950338132658,
          1.332579643282399,
          1.5548104241422682,
          1.5867511985402754,
          2.5573305260938524,
          -0.8174606226992754,
          0.8341378269008939,
          1.5579277375247507,
          0.5831470976695261,
          1.1700533372249617,
          -1.1450166414796998,
          1.0772584878089086,
          -0.828370482848543,
          2.0982871454359517,
          1.5247595597816608,
          1.2775485218962797,
          -1.3814289979815333,
          -0.9865403709161251,
          -0.7912729921471053,
          -0.7705455132366984,
          0.6293026819229552,
          1.3049667898556596,
          -1.012028172345107,
          -1.0560406557332154,
          -0.9114694149891376,
          -0.4992102453579992,
          -0.8354898203265567,
          0.6898453449435498,
          0.7850482234546117,
          0.6030826389910197,
          1.041143053229297,
          1.1661005137528817,
          0.590842577144112,
          2.7486966391230503,
          2.0461040602198226,
          -1.058337040632966,
          1.0342762233236273,
          2.31426327580853,
          -1.5175169618131497,
          0.7372205015281074,
          -1.3986307153518962,
          -0.8208007162059556,
          0.09274836149767507,
          -0.8181974417939656,
          -1.2875928066336901,
          0.9504817960825033,
          -0.8592556265969148,
          -1.0914996115210676,
          -0.30501946029609694,
          -0.14363644397000597,
          2.2806625467790633,
          0.4207496211348015,
          1.3571281116598866,
          1.5878151352245091,
          0.24122949383717984,
          1.998266626305655,
          1.7818864187305024,
          1.1301460827118028,
          -0.8777369075429048,
          -1.115129892295914,
          -0.8001312130583378,
          1.8321619840378762,
          -1.0255802772063998,
          -0.835953729636531,
          0.3938548126314414,
          -1.1593103876298003,
          -0.798198255967272,
          -1.0268930989302616,
          0.3338759260511561,
          0.7239973648954872,
          1.2140386248766373,
          1.0103570113079423,
          0.985341352604471,
          1.9459956679953008,
          -0.3038587835168993,
          -1.1570485213230444,
          1.4704482262482386,
          -1.0401083699033604,
          0.9854025880398817,
          0.9388573820325586,
          0.6835158221546134,
          0.922002939260391,
          -0.7032344567562661,
          0.8574144333351954,
          1.2566790600141395,
          -1.0715533270338213,
          -0.9447768280497283,
          1.2176768702598089,
          -1.2223850201397282,
          1.3101352831019517,
          -0.8677398653887785,
          -0.38843493126697526,
          -1.258657567558136,
          0.4373249512051297,
          0.9010773604573079,
          1.8538228065892888,
          1.8809339049177458,
          1.70733033037892,
          1.179916070584999,
          -1.0706940792502813,
          0.81673355428077,
          -0.20347071792537874,
          -0.9634119000612236,
          -0.9307799734763351,
          -1.0495355682478285,
          -1.0791350155430979,
          1.1566763758351744,
          0.9229899980846514,
          2.6220473957024497,
          1.2098861387914974,
          -1.1119280061620074,
          2.224680395135863,
          -0.8131603177903584,
          1.2367638150275693,
          0.8257437658720478,
          -1.1688846126267038,
          1.0177624277089299,
          -1.221415318854779,
          1.040737899954003,
          -1.2517612374572222,
          0.2864245669540868,
          0.7361145916983218,
          -0.7913644502791997,
          -0.7913865002605852,
          1.391790352693055,
          -0.953367047318038,
          1.1715886322889972,
          2.1104915731344054,
          0.7699034614487192,
          0.21617039986183773,
          0.43653832218559574,
          -0.9857525984032355,
          1.3020279266065278,
          1.7507381738629524,
          2.1471456003812968,
          1.145120178568572,
          2.1306173510518756,
          1.397636918637893,
          0.9139606737846149,
          1.5063227590090258,
          2.6016328829963506,
          -0.5217529261599554,
          -0.7848061141278312,
          -0.5877679195228374,
          0.9204736348901899,
          -1.2056414381221796,
          1.134701563221547,
          -0.9269334693220779,
          0.24358067128270455,
          1.0337554291780797,
          0.9043163450587786,
          -0.9584629676254156,
          -0.8802917682726437,
          -0.18363767339394066,
          1.3903476378396191,
          -0.9865425112653944,
          0.106816231291057,
          -0.8717770655022954,
          -0.27021739013213186,
          -1.1729979393454593,
          -1.0833335416231225,
          0.621988552474602,
          -0.6448993423679319,
          1.6247475258492075,
          1.630375206716601,
          1.938666655201971,
          0.7990446424967719,
          -0.3845667849842558,
          -0.8043973025030975,
          -1.2548958628477533,
          -0.918629464690137,
          0.6902952215593279,
          1.8593743372317513,
          -1.1884876899303896,
          1.34516659799444,
          -1.003950929830776,
          -1.1268722058567238,
          -0.9505602491312117,
          1.4733520000447569,
          -0.8101705709009219,
          -0.9967523820308266,
          -0.6625632911876763,
          0.7140694468454543,
          1.8823896939057727,
          -1.0470431317667135,
          1.2917329029950704,
          1.0918464445748275,
          1.4024230695818822,
          2.0566878732152585,
          -0.8854806175694463,
          0.7383983437928601,
          0.8440891878571858,
          0.7946134734319326,
          0.531426464274263,
          -0.8014924850455832,
          -1.0913721231447848,
          -1.0194687286523596,
          1.5950472036145806,
          1.3982990531411663,
          1.0157719017285114,
          -0.2921316585263243,
          1.5791184953978088,
          1.1138979734527166,
          -1.1738012841933265,
          -0.6081337804483105,
          1.693774566713715,
          0.27737490594248104,
          2.627127518565524,
          0.42026462594445424,
          0.6851647824190408,
          0.9453598020657845,
          1.3037651816152265,
          -1.2240363342797298,
          1.2733593287938565,
          0.9301489222373875,
          -0.9292663073912003,
          0.6606995798561655,
          -1.3138278532002983,
          -0.13809347523454085,
          1.984865877362932,
          -0.759493832221648,
          0.39377893657539254,
          0.19744732779573881,
          -0.8949131067283647,
          0.383316546229988,
          0.033705755388447556,
          1.0959676116459651,
          -0.8066575332982923,
          -0.8721923467498487,
          2.0430089523227037,
          -0.9731292590806973,
          0.40049068540478194,
          1.4597918652347928,
          1.141328606788559,
          1.1567494653810748,
          1.3934600658007894,
          -0.054931005298482605,
          -1.1607517908647436,
          1.1248056220195297,
          -1.1808299390645227,
          2.0039095309479484,
          -0.5261576732820612,
          -0.8175574097352084,
          -0.1426908723932656,
          -0.9103870496458687,
          3.413065556955999,
          1.3235141619363135,
          1.0640658963657637,
          0.622338007700501,
          1.112814274954702,
          1.7825785233241875,
          0.3241215876951731,
          0.007213439938061339,
          -1.2936684645491556,
          -1.0441704286852218,
          -1.2865246387397473,
          1.1133692971248668,
          0.0027328126276715548,
          1.2935050961472014,
          1.475335207327774,
          -0.35283207347549395,
          2.790015743541195,
          -0.9195752914411668,
          1.7740736732839482,
          0.7032446686125131,
          2.4591026343764515,
          -0.9524815239805047,
          -1.0634882344264625,
          1.4923338172450191,
          -0.5913812066182067,
          1.1312533179653939,
          -1.160299142410845,
          -0.7462837444118082,
          0.9928838488665159,
          0.46775272033164506,
          -0.722685409606378,
          1.9861227200051883,
          1.0546400446140975,
          -0.9941925878847386,
          0.7520571013975761,
          1.030391157311743,
          0.776355228035563,
          -1.0692817897693003,
          1.6177126853674562,
          -0.792471862634416,
          0.2302909186949743,
          2.539699306234925,
          -1.0839108792477843,
          -0.9554431808576147,
          0.6053104158283431,
          1.4896843723109308,
          -0.8312475046261922,
          -1.335179459883049,
          0.09786437134943193,
          -1.0761788444957945,
          -0.9196155815936551,
          1.0473150809815748,
          1.5468626024603247,
          -1.0059813906962205,
          -0.901073446464745,
          -0.8833657960015705,
          1.1252654030001576,
          -0.8613622094404128,
          -1.210085628059028,
          0.46149888163492947,
          0.8113753031872417,
          1.5437590419435299,
          0.9529284368302552,
          0.7274408439150027,
          2.1063733355825356,
          -0.836212023100465,
          1.4401281180290388,
          -1.1195818590500768,
          1.4908110211289765,
          -0.9052150465326847,
          0.46052560473245807,
          1.2534830784237805,
          1.8459163121174995,
          1.5673155679083408,
          1.2230626029822105,
          -1.2478073066805202,
          0.5926737348496718,
          -0.7839539634367401,
          0.7874285712670795,
          2.1459781165898058,
          0.056153541250901884,
          1.0530694497774413,
          -0.006332926982720144,
          0.9555805907857489,
          -1.168582083183033,
          1.743082605096192,
          -0.9661151958478325,
          -0.7449601413389992,
          -0.7006406064529903,
          -0.7666033665897551,
          0.028082693241765377,
          -0.876187402950911,
          0.7078575874861649,
          1.4376331902775894,
          -0.28301818132047174,
          2.686318404406828,
          0.9415822438642889,
          0.132663723308324,
          2.010950788370548,
          2.2768373772123907,
          -0.4251207838621085,
          1.72678971070521,
          0.34985176299506604,
          0.40254702585109614,
          1.3131711331202913
         ],
         "z": [
          1,
          1,
          1,
          1,
          1,
          1,
          1,
          1,
          1,
          1,
          1,
          1,
          1,
          1,
          1,
          1,
          1,
          1,
          1,
          1,
          1,
          1,
          1,
          1,
          1,
          1,
          1,
          1,
          1,
          1,
          1,
          1,
          1,
          1,
          1,
          1,
          1,
          1,
          1,
          1,
          1,
          1,
          1,
          1,
          1,
          1,
          1,
          1,
          1,
          1,
          1,
          1,
          1,
          1,
          1,
          1,
          1,
          1,
          1,
          1,
          1,
          1,
          1,
          1,
          1,
          1,
          1,
          1,
          1,
          1,
          1,
          1,
          1,
          1,
          1,
          1,
          1,
          1,
          1,
          1,
          1,
          1,
          1,
          1,
          1,
          1,
          1,
          1,
          1,
          1,
          1,
          1,
          1,
          1,
          1,
          1,
          1,
          1,
          1,
          1,
          1,
          1,
          1,
          1,
          1,
          1,
          1,
          1,
          1,
          1,
          1,
          1,
          1,
          1,
          1,
          1,
          1,
          1,
          1,
          1,
          1,
          1,
          1,
          1,
          1,
          1,
          1,
          1,
          1,
          1,
          1,
          1,
          1,
          1,
          1,
          1,
          1,
          1,
          1,
          1,
          1,
          1,
          1,
          1,
          1,
          1,
          1,
          1,
          1,
          1,
          1,
          1,
          1,
          1,
          1,
          1,
          1,
          1,
          1,
          1,
          1,
          1,
          1,
          1,
          1,
          1,
          1,
          1,
          1,
          1,
          1,
          1,
          1,
          1,
          1,
          1,
          1,
          1,
          1,
          1,
          1,
          1,
          1,
          1,
          1,
          1,
          1,
          1,
          1,
          1,
          1,
          1,
          1,
          1,
          1,
          1,
          1,
          1,
          1,
          1,
          1,
          1,
          1,
          1,
          1,
          1,
          1,
          1,
          1,
          1,
          1,
          1,
          1,
          1,
          1,
          1,
          1,
          1,
          1,
          1,
          1,
          1,
          1,
          1,
          1,
          1,
          1,
          1,
          1,
          1,
          1,
          1,
          1,
          1,
          1,
          1,
          1,
          1,
          1,
          1,
          1,
          1,
          1,
          1,
          1,
          1,
          1,
          1,
          1,
          1,
          1,
          1,
          1,
          1,
          1,
          1,
          1,
          1,
          1,
          1,
          1,
          1,
          1,
          1,
          1,
          1,
          1,
          1,
          1,
          1,
          1,
          1,
          1,
          1,
          1,
          1,
          1,
          1,
          1,
          1,
          1,
          1,
          1,
          1,
          1,
          1,
          1,
          1,
          1,
          1,
          1,
          1,
          1,
          1,
          1,
          1,
          1,
          1,
          1,
          1,
          1,
          1,
          1,
          1,
          1,
          1,
          1,
          1,
          1,
          1,
          1,
          1,
          1,
          1,
          1,
          1,
          1,
          1,
          1,
          1,
          1,
          1,
          1,
          1,
          1,
          1,
          1,
          1,
          1,
          1,
          1,
          1,
          1,
          1,
          1,
          1,
          1,
          1,
          1,
          1,
          1,
          1,
          1,
          1,
          1,
          1,
          1,
          1,
          1,
          1,
          1,
          1,
          1,
          1,
          1,
          1,
          1,
          1,
          1,
          1,
          1,
          1,
          1,
          1,
          1,
          1,
          1,
          1,
          1,
          1,
          1,
          1,
          1,
          1,
          1,
          1,
          1,
          1,
          1,
          1,
          1,
          1,
          1,
          1,
          1,
          1,
          1,
          1,
          1,
          1,
          1,
          1,
          1,
          1,
          1,
          1,
          1,
          1,
          1,
          1,
          1,
          1,
          1,
          1,
          1,
          1,
          1,
          1,
          1,
          1,
          1,
          1,
          1,
          1,
          1,
          1,
          1,
          1,
          1,
          1,
          1,
          1,
          1,
          1,
          1,
          1,
          1,
          1,
          1,
          1,
          1,
          1,
          1,
          1,
          1,
          1,
          1,
          1,
          1,
          1,
          1,
          1,
          1,
          1,
          1,
          1,
          1,
          1,
          1,
          1
         ]
        }
       ],
       "layout": {
        "coloraxis": {
         "colorbar": {
          "title": {
           "text": "Predictions"
          }
         },
         "colorscale": [
          [
           0,
           "#0d0887"
          ],
          [
           0.1111111111111111,
           "#46039f"
          ],
          [
           0.2222222222222222,
           "#7201a8"
          ],
          [
           0.3333333333333333,
           "#9c179e"
          ],
          [
           0.4444444444444444,
           "#bd3786"
          ],
          [
           0.5555555555555556,
           "#d8576b"
          ],
          [
           0.6666666666666666,
           "#ed7953"
          ],
          [
           0.7777777777777778,
           "#fb9f3a"
          ],
          [
           0.8888888888888888,
           "#fdca26"
          ],
          [
           1,
           "#f0f921"
          ]
         ]
        },
        "legend": {
         "tracegroupgap": 0
        },
        "margin": {
         "b": 0,
         "l": 0,
         "r": 0,
         "t": 0
        },
        "scene": {
         "domain": {
          "x": [
           0,
           1
          ],
          "y": [
           0,
           1
          ]
         },
         "xaxis": {
          "title": {
           "text": "Feature 1"
          }
         },
         "yaxis": {
          "title": {
           "text": "Feature 2"
          }
         },
         "zaxis": {
          "title": {
           "text": "Feature 3"
          }
         }
        },
        "template": {
         "data": {
          "bar": [
           {
            "error_x": {
             "color": "#2a3f5f"
            },
            "error_y": {
             "color": "#2a3f5f"
            },
            "marker": {
             "line": {
              "color": "#E5ECF6",
              "width": 0.5
             }
            },
            "type": "bar"
           }
          ],
          "barpolar": [
           {
            "marker": {
             "line": {
              "color": "#E5ECF6",
              "width": 0.5
             }
            },
            "type": "barpolar"
           }
          ],
          "carpet": [
           {
            "aaxis": {
             "endlinecolor": "#2a3f5f",
             "gridcolor": "white",
             "linecolor": "white",
             "minorgridcolor": "white",
             "startlinecolor": "#2a3f5f"
            },
            "baxis": {
             "endlinecolor": "#2a3f5f",
             "gridcolor": "white",
             "linecolor": "white",
             "minorgridcolor": "white",
             "startlinecolor": "#2a3f5f"
            },
            "type": "carpet"
           }
          ],
          "choropleth": [
           {
            "colorbar": {
             "outlinewidth": 0,
             "ticks": ""
            },
            "type": "choropleth"
           }
          ],
          "contour": [
           {
            "colorbar": {
             "outlinewidth": 0,
             "ticks": ""
            },
            "colorscale": [
             [
              0,
              "#0d0887"
             ],
             [
              0.1111111111111111,
              "#46039f"
             ],
             [
              0.2222222222222222,
              "#7201a8"
             ],
             [
              0.3333333333333333,
              "#9c179e"
             ],
             [
              0.4444444444444444,
              "#bd3786"
             ],
             [
              0.5555555555555556,
              "#d8576b"
             ],
             [
              0.6666666666666666,
              "#ed7953"
             ],
             [
              0.7777777777777778,
              "#fb9f3a"
             ],
             [
              0.8888888888888888,
              "#fdca26"
             ],
             [
              1,
              "#f0f921"
             ]
            ],
            "type": "contour"
           }
          ],
          "contourcarpet": [
           {
            "colorbar": {
             "outlinewidth": 0,
             "ticks": ""
            },
            "type": "contourcarpet"
           }
          ],
          "heatmap": [
           {
            "colorbar": {
             "outlinewidth": 0,
             "ticks": ""
            },
            "colorscale": [
             [
              0,
              "#0d0887"
             ],
             [
              0.1111111111111111,
              "#46039f"
             ],
             [
              0.2222222222222222,
              "#7201a8"
             ],
             [
              0.3333333333333333,
              "#9c179e"
             ],
             [
              0.4444444444444444,
              "#bd3786"
             ],
             [
              0.5555555555555556,
              "#d8576b"
             ],
             [
              0.6666666666666666,
              "#ed7953"
             ],
             [
              0.7777777777777778,
              "#fb9f3a"
             ],
             [
              0.8888888888888888,
              "#fdca26"
             ],
             [
              1,
              "#f0f921"
             ]
            ],
            "type": "heatmap"
           }
          ],
          "heatmapgl": [
           {
            "colorbar": {
             "outlinewidth": 0,
             "ticks": ""
            },
            "colorscale": [
             [
              0,
              "#0d0887"
             ],
             [
              0.1111111111111111,
              "#46039f"
             ],
             [
              0.2222222222222222,
              "#7201a8"
             ],
             [
              0.3333333333333333,
              "#9c179e"
             ],
             [
              0.4444444444444444,
              "#bd3786"
             ],
             [
              0.5555555555555556,
              "#d8576b"
             ],
             [
              0.6666666666666666,
              "#ed7953"
             ],
             [
              0.7777777777777778,
              "#fb9f3a"
             ],
             [
              0.8888888888888888,
              "#fdca26"
             ],
             [
              1,
              "#f0f921"
             ]
            ],
            "type": "heatmapgl"
           }
          ],
          "histogram": [
           {
            "marker": {
             "colorbar": {
              "outlinewidth": 0,
              "ticks": ""
             }
            },
            "type": "histogram"
           }
          ],
          "histogram2d": [
           {
            "colorbar": {
             "outlinewidth": 0,
             "ticks": ""
            },
            "colorscale": [
             [
              0,
              "#0d0887"
             ],
             [
              0.1111111111111111,
              "#46039f"
             ],
             [
              0.2222222222222222,
              "#7201a8"
             ],
             [
              0.3333333333333333,
              "#9c179e"
             ],
             [
              0.4444444444444444,
              "#bd3786"
             ],
             [
              0.5555555555555556,
              "#d8576b"
             ],
             [
              0.6666666666666666,
              "#ed7953"
             ],
             [
              0.7777777777777778,
              "#fb9f3a"
             ],
             [
              0.8888888888888888,
              "#fdca26"
             ],
             [
              1,
              "#f0f921"
             ]
            ],
            "type": "histogram2d"
           }
          ],
          "histogram2dcontour": [
           {
            "colorbar": {
             "outlinewidth": 0,
             "ticks": ""
            },
            "colorscale": [
             [
              0,
              "#0d0887"
             ],
             [
              0.1111111111111111,
              "#46039f"
             ],
             [
              0.2222222222222222,
              "#7201a8"
             ],
             [
              0.3333333333333333,
              "#9c179e"
             ],
             [
              0.4444444444444444,
              "#bd3786"
             ],
             [
              0.5555555555555556,
              "#d8576b"
             ],
             [
              0.6666666666666666,
              "#ed7953"
             ],
             [
              0.7777777777777778,
              "#fb9f3a"
             ],
             [
              0.8888888888888888,
              "#fdca26"
             ],
             [
              1,
              "#f0f921"
             ]
            ],
            "type": "histogram2dcontour"
           }
          ],
          "mesh3d": [
           {
            "colorbar": {
             "outlinewidth": 0,
             "ticks": ""
            },
            "type": "mesh3d"
           }
          ],
          "parcoords": [
           {
            "line": {
             "colorbar": {
              "outlinewidth": 0,
              "ticks": ""
             }
            },
            "type": "parcoords"
           }
          ],
          "pie": [
           {
            "automargin": true,
            "type": "pie"
           }
          ],
          "scatter": [
           {
            "marker": {
             "colorbar": {
              "outlinewidth": 0,
              "ticks": ""
             }
            },
            "type": "scatter"
           }
          ],
          "scatter3d": [
           {
            "line": {
             "colorbar": {
              "outlinewidth": 0,
              "ticks": ""
             }
            },
            "marker": {
             "colorbar": {
              "outlinewidth": 0,
              "ticks": ""
             }
            },
            "type": "scatter3d"
           }
          ],
          "scattercarpet": [
           {
            "marker": {
             "colorbar": {
              "outlinewidth": 0,
              "ticks": ""
             }
            },
            "type": "scattercarpet"
           }
          ],
          "scattergeo": [
           {
            "marker": {
             "colorbar": {
              "outlinewidth": 0,
              "ticks": ""
             }
            },
            "type": "scattergeo"
           }
          ],
          "scattergl": [
           {
            "marker": {
             "colorbar": {
              "outlinewidth": 0,
              "ticks": ""
             }
            },
            "type": "scattergl"
           }
          ],
          "scattermapbox": [
           {
            "marker": {
             "colorbar": {
              "outlinewidth": 0,
              "ticks": ""
             }
            },
            "type": "scattermapbox"
           }
          ],
          "scatterpolar": [
           {
            "marker": {
             "colorbar": {
              "outlinewidth": 0,
              "ticks": ""
             }
            },
            "type": "scatterpolar"
           }
          ],
          "scatterpolargl": [
           {
            "marker": {
             "colorbar": {
              "outlinewidth": 0,
              "ticks": ""
             }
            },
            "type": "scatterpolargl"
           }
          ],
          "scatterternary": [
           {
            "marker": {
             "colorbar": {
              "outlinewidth": 0,
              "ticks": ""
             }
            },
            "type": "scatterternary"
           }
          ],
          "surface": [
           {
            "colorbar": {
             "outlinewidth": 0,
             "ticks": ""
            },
            "colorscale": [
             [
              0,
              "#0d0887"
             ],
             [
              0.1111111111111111,
              "#46039f"
             ],
             [
              0.2222222222222222,
              "#7201a8"
             ],
             [
              0.3333333333333333,
              "#9c179e"
             ],
             [
              0.4444444444444444,
              "#bd3786"
             ],
             [
              0.5555555555555556,
              "#d8576b"
             ],
             [
              0.6666666666666666,
              "#ed7953"
             ],
             [
              0.7777777777777778,
              "#fb9f3a"
             ],
             [
              0.8888888888888888,
              "#fdca26"
             ],
             [
              1,
              "#f0f921"
             ]
            ],
            "type": "surface"
           }
          ],
          "table": [
           {
            "cells": {
             "fill": {
              "color": "#EBF0F8"
             },
             "line": {
              "color": "white"
             }
            },
            "header": {
             "fill": {
              "color": "#C8D4E3"
             },
             "line": {
              "color": "white"
             }
            },
            "type": "table"
           }
          ]
         },
         "layout": {
          "annotationdefaults": {
           "arrowcolor": "#2a3f5f",
           "arrowhead": 0,
           "arrowwidth": 1
          },
          "coloraxis": {
           "colorbar": {
            "outlinewidth": 0,
            "ticks": ""
           }
          },
          "colorscale": {
           "diverging": [
            [
             0,
             "#8e0152"
            ],
            [
             0.1,
             "#c51b7d"
            ],
            [
             0.2,
             "#de77ae"
            ],
            [
             0.3,
             "#f1b6da"
            ],
            [
             0.4,
             "#fde0ef"
            ],
            [
             0.5,
             "#f7f7f7"
            ],
            [
             0.6,
             "#e6f5d0"
            ],
            [
             0.7,
             "#b8e186"
            ],
            [
             0.8,
             "#7fbc41"
            ],
            [
             0.9,
             "#4d9221"
            ],
            [
             1,
             "#276419"
            ]
           ],
           "sequential": [
            [
             0,
             "#0d0887"
            ],
            [
             0.1111111111111111,
             "#46039f"
            ],
            [
             0.2222222222222222,
             "#7201a8"
            ],
            [
             0.3333333333333333,
             "#9c179e"
            ],
            [
             0.4444444444444444,
             "#bd3786"
            ],
            [
             0.5555555555555556,
             "#d8576b"
            ],
            [
             0.6666666666666666,
             "#ed7953"
            ],
            [
             0.7777777777777778,
             "#fb9f3a"
            ],
            [
             0.8888888888888888,
             "#fdca26"
            ],
            [
             1,
             "#f0f921"
            ]
           ],
           "sequentialminus": [
            [
             0,
             "#0d0887"
            ],
            [
             0.1111111111111111,
             "#46039f"
            ],
            [
             0.2222222222222222,
             "#7201a8"
            ],
            [
             0.3333333333333333,
             "#9c179e"
            ],
            [
             0.4444444444444444,
             "#bd3786"
            ],
            [
             0.5555555555555556,
             "#d8576b"
            ],
            [
             0.6666666666666666,
             "#ed7953"
            ],
            [
             0.7777777777777778,
             "#fb9f3a"
            ],
            [
             0.8888888888888888,
             "#fdca26"
            ],
            [
             1,
             "#f0f921"
            ]
           ]
          },
          "colorway": [
           "#636efa",
           "#EF553B",
           "#00cc96",
           "#ab63fa",
           "#FFA15A",
           "#19d3f3",
           "#FF6692",
           "#B6E880",
           "#FF97FF",
           "#FECB52"
          ],
          "font": {
           "color": "#2a3f5f"
          },
          "geo": {
           "bgcolor": "white",
           "lakecolor": "white",
           "landcolor": "#E5ECF6",
           "showlakes": true,
           "showland": true,
           "subunitcolor": "white"
          },
          "hoverlabel": {
           "align": "left"
          },
          "hovermode": "closest",
          "mapbox": {
           "style": "light"
          },
          "paper_bgcolor": "white",
          "plot_bgcolor": "#E5ECF6",
          "polar": {
           "angularaxis": {
            "gridcolor": "white",
            "linecolor": "white",
            "ticks": ""
           },
           "bgcolor": "#E5ECF6",
           "radialaxis": {
            "gridcolor": "white",
            "linecolor": "white",
            "ticks": ""
           }
          },
          "scene": {
           "xaxis": {
            "backgroundcolor": "#E5ECF6",
            "gridcolor": "white",
            "gridwidth": 2,
            "linecolor": "white",
            "showbackground": true,
            "ticks": "",
            "zerolinecolor": "white"
           },
           "yaxis": {
            "backgroundcolor": "#E5ECF6",
            "gridcolor": "white",
            "gridwidth": 2,
            "linecolor": "white",
            "showbackground": true,
            "ticks": "",
            "zerolinecolor": "white"
           },
           "zaxis": {
            "backgroundcolor": "#E5ECF6",
            "gridcolor": "white",
            "gridwidth": 2,
            "linecolor": "white",
            "showbackground": true,
            "ticks": "",
            "zerolinecolor": "white"
           }
          },
          "shapedefaults": {
           "line": {
            "color": "#2a3f5f"
           }
          },
          "ternary": {
           "aaxis": {
            "gridcolor": "white",
            "linecolor": "white",
            "ticks": ""
           },
           "baxis": {
            "gridcolor": "white",
            "linecolor": "white",
            "ticks": ""
           },
           "bgcolor": "#E5ECF6",
           "caxis": {
            "gridcolor": "white",
            "linecolor": "white",
            "ticks": ""
           }
          },
          "title": {
           "x": 0.05
          },
          "xaxis": {
           "automargin": true,
           "gridcolor": "white",
           "linecolor": "white",
           "ticks": "",
           "title": {
            "standoff": 15
           },
           "zerolinecolor": "white",
           "zerolinewidth": 2
          },
          "yaxis": {
           "automargin": true,
           "gridcolor": "white",
           "linecolor": "white",
           "ticks": "",
           "title": {
            "standoff": 15
           },
           "zerolinecolor": "white",
           "zerolinewidth": 2
          }
         }
        }
       }
      },
      "text/html": [
       "<div>                            <div id=\"653b0cdf-c138-4cb6-a2e4-c6f46a48a674\" class=\"plotly-graph-div\" style=\"height:525px; width:100%;\"></div>            <script type=\"text/javascript\">                require([\"plotly\"], function(Plotly) {                    window.PLOTLYENV=window.PLOTLYENV || {};                                    if (document.getElementById(\"653b0cdf-c138-4cb6-a2e4-c6f46a48a674\")) {                    Plotly.newPlot(                        \"653b0cdf-c138-4cb6-a2e4-c6f46a48a674\",                        [{\"hovertemplate\": \"Feature 1=%{x}<br>Feature 2=%{y}<br>Feature 3=%{z}<br>Predictions=%{marker.color}<extra></extra>\", \"legendgroup\": \"\", \"marker\": {\"color\": [2, 2, 1, 1, 0, 0, 1, 2, 1, 1, 1, 0, 2, 2, 2, 1, 0, 2, 2, 0, 1, 2, 0, 0, 0, 2, 1, 1, 0, 1, 0, 0, 0, 1, 0, 1, 2, 2, 1, 1, 2, 2, 2, 2, 2, 0, 0, 0, 0, 1, 2, 2, 1, 0, 0, 0, 0, 0, 0, 0, 1, 1, 1, 2, 2, 0, 1, 1, 0, 2, 2, 0, 0, 0, 0, 2, 2, 0, 1, 1, 0, 0, 2, 1, 1, 0, 0, 0, 0, 0, 0, 2, 0, 1, 1, 1, 1, 1, 1, 2, 2, 0, 2, 0, 0, 1, 2, 2, 2, 2, 1, 2, 1, 2, 2, 0, 1, 1, 1, 1, 2, 2, 1, 1, 1, 1, 1, 2, 2, 0, 2, 2, 2, 0, 0, 1, 2, 2, 1, 2, 1, 1, 0, 1, 1, 2, 1, 1, 0, 2, 0, 2, 2, 0, 2, 2, 0, 0, 1, 1, 1, 0, 1, 1, 2, 1, 1, 1, 0, 2, 2, 2, 0, 0, 0, 1, 2, 1, 2, 2, 0, 2, 1, 0, 2, 1, 1, 0, 1, 0, 1, 0, 1, 0, 2, 2, 2, 0, 2, 1, 0, 0, 1, 1, 1, 1, 0, 2, 0, 2, 1, 2, 1, 2, 0, 1, 0, 1, 0, 1, 2, 2, 1, 1, 2, 1, 0, 2, 0, 0, 0, 1, 2, 2, 0, 0, 2, 0, 0, 2, 2, 1, 1, 0, 0, 1, 2, 1, 2, 2, 0, 1, 1, 0, 2, 1, 2, 1, 0, 1, 1, 2, 0, 0, 2, 0, 2, 0, 1, 1, 1, 0, 2, 1, 0, 1, 1, 1, 0, 1, 1, 1, 2, 0, 1, 2, 0, 2, 0, 1, 2, 0, 0, 0, 1, 1, 1, 0, 2, 0, 2, 0, 2, 1, 1, 0, 2, 2, 0, 2, 0, 2, 1, 2, 2, 1, 2, 1, 0, 0, 1, 2, 0, 1, 0, 2, 0, 1, 1, 0, 1, 2, 2, 0, 0, 0, 2, 1, 2, 1, 0, 1, 1, 1, 1, 0, 2, 2, 2, 0, 2, 0, 2, 1, 1, 1, 2, 0, 0, 0, 0, 0, 1, 2, 0, 0, 1, 1, 2, 1, 0, 1, 1, 0, 2, 1, 0, 2, 1, 0, 0, 0, 1, 2, 1, 0, 0, 1, 1, 0, 0, 1, 1, 0, 1, 1, 0, 0, 1, 1, 1, 2, 1, 1, 2, 0, 2, 2, 2, 2, 1, 2, 1, 2, 1, 2, 2, 0, 2, 2, 1, 2, 1, 2, 0, 0, 2, 0, 0, 1, 0, 1, 1, 1, 1, 2, 1, 0, 0, 1, 0, 0, 0, 2, 0, 0, 0, 2, 0, 0], \"coloraxis\": \"coloraxis\", \"opacity\": 0.7, \"symbol\": \"circle\"}, \"mode\": \"markers\", \"name\": \"\", \"scene\": \"scene\", \"showlegend\": false, \"type\": \"scatter3d\", \"x\": [1.2875614640807609, 0.6324722442589914, 1.1998587858249656, 0.262669735320733, -1.4006140535587521, -0.7226696249965372, 1.5936483142377105, 1.1830996048510631, 1.223861245311611, 0.3576262559872734, 0.6861329136235866, -0.7598030689900114, 2.8045833705245125, 0.7656888480809017, 1.1991103398983833, 1.088618347991037, -0.8518418246719888, 0.7236823886856856, 0.6103335974143176, -0.8573706191366922, 0.7932513656039616, 0.9286969732973102, -0.9785038688626729, -0.6910992361858106, -1.3029793418820739, 1.08997380889951, 0.7625560473018983, 1.1134546056952344, -1.0428026192287163, -0.2691655733820951, -1.0458858455923639, -0.7334847584592912, -1.183868005258934, 0.7398433161189929, -1.3484661799182895, -0.20421982121843052, -0.0419448492216723, 0.735183916185661, 1.25686565104573, 1.0323144749336084, 0.8638487550950139, 0.4909733935461893, 0.11604934128490141, 1.1796907866817892, 1.5418660132248778, -0.9887708682179474, -0.591518327594085, -1.4115446356980885, -1.1784225895748983, 0.39512654359160104, 0.038836912207707686, 0.44838073789089106, 1.274842010456449, -1.2206472830333581, -1.3659019267062749, -1.2741134080543637, -1.007351901717141, -1.2462108740899067, -1.4934842601647782, -1.4988748807285202, 2.165557794372991, 1.2102164367510495, 0.1971177583909961, -0.2481552276170318, 2.3526710852900257, -1.2024784297268163, 0.18804019466583688, 0.5649474765372872, -0.8618959299393671, 1.8165410835361326, 1.0213061440874336, -1.3750401490368374, -1.2588639046703747, -0.7843897493269332, -0.9865068776098581, 0.4777877523251082, -0.3245234533583983, -1.2040372846091993, -0.2765801561978183, 0.621060453320432, -0.5844763920378804, -0.7857273796899913, 2.715651710937887, 1.2953834376007105, 1.1512768371421307, -1.1097030664068679, -1.1077668194076868, -1.1084589557576996, -1.7126652413434222, -0.9626212006237229, -1.3563505660957216, 0.23120286707384974, -1.2522083208141144, 1.6776253722507142, -0.0476862459592684, -0.2299379202670483, 0.8038073175458115, 1.0653016362593761, 0.9529622790274602, 1.0430909876258907, 1.1467647018892464, -1.2687798023689576, 3.1127640882540413, -1.178692375619419, -1.3465911261494845, 0.5074320223110229, -0.158644061857679, 1.7751317751003852, 0.17977710077930165, 2.595083312252433, 1.9179341646225674, 2.395799229575012, 0.31452510404700984, 0.08651629081197632, 3.2674877611420894, -1.1190148543325527, 1.827282438166208, 0.9623061935084695, 0.4959510919478429, 0.47642356259991836, 0.9234588467452461, 0.9272965814414729, 1.3856213371488637, 1.1655595895370416, 0.4041464519177498, 0.9388676616691553, 0.5448418593152132, 1.4097394335593472, 0.31998971369954843, -0.875696480039419, 2.259103489956129, 0.6381189547127841, 0.8549444246584471, -1.5469443018942521, -1.264227012277218, 0.6637556721185651, 0.9219594911345284, 0.9957352494672506, 2.0799095173869944, 1.169481754462193, 2.0938547158951186, 0.9634104375855637, -0.8012543559775467, 0.9066790538559101, 1.685161615014768, 1.077039395825312, 0.8682590386902507, 1.2267559302365274, -0.538522893731503, 1.2224967480209987, -1.4926813203192544, 1.4590688669250795, 0.8662284610741122, -1.1347940032625337, -0.2731880163714486, 2.9212238224343015, -1.240647180279411, -1.0878044421994886, 1.35758471079972, 0.42217816895813254, 0.6892915780477725, -1.362847828721639, 0.9260533675083463, 0.046146129370737365, 1.2179677040725665, 1.311725204244502, -0.3093663251710438, 1.4544732240680762, -0.8479616488029419, 0.44202829810910427, 1.097903193549195, 0.28892003160542434, -0.9598556300577364, -1.3215021967836273, -0.48820810158631667, 1.5678587625978848, 1.1272240787175605, 0.8825424467970379, 0.009211345926447234, 1.1087025280755716, -0.8350542144498178, 1.628496408558905, 0.3264489202553793, -0.9470863946117419, 1.4385121381288393, 0.8492058120713594, 0.7798123901000747, -1.0391966875828094, 2.132998492829802, -0.8674425101978869, 1.3113749852900325, -0.4852430296723018, 0.980717319666049, -0.7061441784171596, 0.7715178563105579, 1.719811233198436, 2.0870936093933548, -1.1783571101057957, 1.6724353829555607, 1.434339248359843, -0.8811261567785957, -0.6049803925260291, 1.1105980722983504, 0.9938601273540786, 1.8320086144146281, 0.34231323109727185, -1.174596645721554, 0.37338090736410257, -1.6741269488701969, 0.5686131756746892, 0.9738233224025507, 1.3776742201822114, 0.7694174119731051, -0.09308171212752381, -0.7836166430684651, 1.506371245000448, -1.0139744316825297, 1.5649434359443823, -1.2344140486006814, 1.4333916010883303, 0.7864880201790526, 0.27594494633794653, 0.5172044920266945, 0.35874993726331617, 0.8015312203148175, 1.221547446165492, -1.0392185771544624, 2.8711312143459216, -0.9702728295154348, -0.6479997906132219, -0.9186225833012888, 0.503101836472913, 0.7758753528604346, 1.6707754177572727, -1.268766883751454, -1.2110800047503474, 0.9914846254808084, -1.1130930357728417, -1.0040375878095738, 1.8437719192490705, 3.8148238848412626, -0.05124938677870605, 0.8996712978648436, -0.38363224877017044, -0.8391020501622507, 0.7465311778078365, 1.612370058651667, 0.7656609562135863, 1.7969974902885584, 0.6608567793803566, -0.4127751952689507, 1.1048512745990346, 0.6372576000315229, -0.5262486596934921, 1.3721551284225688, 0.9267288574610193, 1.3646657987941895, 0.503813091313952, -0.6657417401330616, 1.9979793876972107, 0.817356414028992, 0.013668221826721338, -0.44491120344127677, -1.0827225992961642, 0.8890392844519228, -1.4392431457161954, 1.911510867997928, -0.6150252738611683, 0.756389342905855, 1.4251063832880715, 0.4362258078348573, -0.881720691780856, 1.9688147954607114, 1.8692763061622166, -1.239350924191439, 0.9953833382068121, 2.059328514934993, 1.2213698874921803, -1.1417286272491431, 0.20710361720739145, 1.0163047555235216, 0.06479819222810912, 0.2003338342597688, -1.4547181288535298, 1.187737560184916, 0.14278299035903175, -1.0272376589631649, -0.09387009901739818, -1.271100208266175, 0.5821499037878076, 1.7885629944966452, -1.1604833993802752, -0.9893402956352648, -0.46628575807976524, -0.20096710854024402, 1.3634005019497186, 0.7690162967700614, -0.982802383342285, 1.267351301734914, -0.9532223794657326, -0.2238369886797038, -1.2533445573013007, 1.8010045535757613, 1.566996781888716, 0.005767041980543897, -1.012676555205954, 1.4104053752807824, 2.147571983563629, -0.7796576487679183, 0.986632226779686, -1.0972696330237632, 1.4416919599999156, 1.117451190243024, 1.3807338575646109, 1.7718998981728757, 0.9689724680631228, -0.2056540286301618, 1.6373790410530904, -0.6000603416981201, -1.3215933063389291, 0.4615364113318996, 1.0785270719484525, -0.6968838960451458, 0.5095061443595862, -0.6580278631965363, -0.023219436285717654, -1.211771416189722, 0.8671166574626552, 0.9970205530644856, -1.275098771400281, 1.1603427352294227, 0.10516755439308267, 2.263513657119603, -1.1858154895941924, -0.9422455388770032, -1.1074001842032637, 0.5356769713676371, 1.4928057071584782, 1.6997218040134667, 1.6340322662386266, -1.1458850349410907, 0.4790684057032576, -0.150269139038945, 1.4568229830639376, 0.8362440966501885, -1.860035918514759, 1.2278452815478678, 1.2575148854952796, 0.13040543500381385, -1.073320955496117, 1.2142813798875955, -0.6023441212878067, 0.14787454185636273, 1.5867211503495262, 0.7008779256788484, 1.552445012248996, 1.3538449784951019, -0.7323317473561302, -1.08012836249059, -1.2542161228139437, -0.5510930613503913, -1.6417981571211029, 0.8530100885471591, 1.4985206752225815, -0.9188589988288391, -1.6300523456256402, 0.746182220161949, 1.2108134213724342, 0.9678355162578383, 0.24266502216938257, -0.9711733753347837, 1.7368596525842088, 0.1348674900090684, -0.9272244334163636, 0.884565091024285, 0.7505724919259809, -1.214170294218949, 1.4832133530381277, 0.7390460360436361, -0.448806035832259, -0.6607016034937421, -0.8757430761541117, 0.9442889726554231, 1.620030394680995, 0.6286500025701165, -0.8365125265958248, -1.567536199669565, 1.6965038031529152, 0.8595198622872525, -0.6615371123898756, -1.2112272423775052, 0.5679732930750758, 1.938504947058521, -0.7815004151034992, 1.2374344932097536, 0.36406759716818493, -1.1409175763533907, -1.1973315453910596, 0.9556255034341605, 0.5172200810141263, 0.7544540797115671, 1.1147312506411178, 0.6883023113654024, 1.1937438867750607, 0.7859088363651879, -0.7841985542484805, 1.0558061896844275, 1.6285127967736308, 0.8348443929364643, 2.483556426728448, 0.9901574470087823, 1.2774459198735644, 0.4750126509864059, 1.4463652966672096, 0.4549554313001337, 0.8893088503068836, 2.220280686258861, -1.363779586952683, 1.044091709040472, 0.47466255224313103, 2.0263985756407696, 0.5876262684519967, 0.40469070125911155, 1.8749869453816808, -1.2937720671391677, -0.6887582267076646, 1.63030657735849, -0.6466297215352127, -0.9510583545229973, 1.4006323794312228, -1.400205021777405, 0.18998353442277605, 0.8670430213747963, 0.7566463912020855, 0.20078089511816144, 0.6387107711724191, 0.46800149420704085, -1.0003108397336071, -1.227815760584148, 0.8176388262084444, -1.7199664005900752, -0.9990929939420574, -0.6818955286457307, 1.7164066955215902, -1.3685137052991891, -0.4799093142061118, -1.2913555881082859, 0.6098600629800746, -0.6741520419565742, -1.1554252753684333], \"y\": [1.0572801317785259, 1.2578369142285353, -0.9496893033825572, -1.0160681167483643, 2.2911099192339073, 0.07968081068774424, -1.3436861905022897, 0.7766462716149183, -0.9846643606561647, -0.6594669260917378, -1.0386644103728342, 0.49591249299695095, 1.9704715768090013, 0.44014948683199573, 2.385346505488417, -1.010215883143485, 0.9717000430229447, 0.7979210036419325, 0.532418349582461, 0.20339632140111286, -0.8668605126539172, 0.24473343974018935, 0.8642423660239503, 0.610565891120993, 1.4669248213368005, 0.6623572343856186, -1.0010899096556758, -1.1675912821540886, 0.46653095182778015, -1.0091222409877454, 0.9697974822234434, 0.12353051412955074, 1.6493868725575567, -0.8256586390795694, 1.4524861161212446, -0.6780407012567489, 0.7207517303305484, 1.5825528532072486, -1.0403597602067691, -0.9996183867906808, 1.1950383871294497, 1.7179782221196707, 0.3197982045049448, 1.8005654842254413, 1.5071126770047598, 0.7635361183290635, -0.27727457329577465, 2.482788344103341, 1.1402830497414067, -0.865797018483809, 0.465676214586889, 0.8064687589482542, -1.1325982131008485, 1.4071797338320569, 2.247011866358065, 1.8615626556381302, 1.1735262975932579, 1.8730480925522608, 2.2642627203571073, 2.0732635614376638, -1.3350831582570843, -1.1722968411282533, -0.8539076765119827, 0.9025222020675524, 1.7748316081472604, 1.6731669400319389, -0.7987832724062773, -0.9654845906016777, 0.26786438388751066, 0.6738138726227971, 1.2743556230704973, 2.0757739328658786, 2.1396394675518957, 1.0835126194802256, 0.9356727669717636, 0.3031357670113496, 0.8253073468905028, 2.239852557698539, -0.8831878080526008, -0.750435958384333, 0.8527598925337446, 0.07510852329437723, 1.2039866371364945, -1.0697022683587234, -1.0444583671839673, 1.6468052388160808, 1.566340631699619, 1.7494904939116889, 2.9436165699982277, 1.1044295551681458, 2.277359883674599, 0.67113727378559, 1.5353813134680063, -0.986956040014298, -0.7997380750740875, -1.421179619035783, -0.9338094183311798, -0.919521351725327, -1.0543155189832618, 2.296908141683918, 1.055950338132658, 1.332579643282399, 1.5548104241422682, 1.5867511985402754, 2.5573305260938524, -0.8174606226992754, 0.8341378269008939, 1.5579277375247507, 0.5831470976695261, 1.1700533372249617, -1.1450166414796998, 1.0772584878089086, -0.828370482848543, 2.0982871454359517, 1.5247595597816608, 1.2775485218962797, -1.3814289979815333, -0.9865403709161251, -0.7912729921471053, -0.7705455132366984, 0.6293026819229552, 1.3049667898556596, -1.012028172345107, -1.0560406557332154, -0.9114694149891376, -0.4992102453579992, -0.8354898203265567, 0.6898453449435498, 0.7850482234546117, 0.6030826389910197, 1.041143053229297, 1.1661005137528817, 0.590842577144112, 2.7486966391230503, 2.0461040602198226, -1.058337040632966, 1.0342762233236273, 2.31426327580853, -1.5175169618131497, 0.7372205015281074, -1.3986307153518962, -0.8208007162059556, 0.09274836149767507, -0.8181974417939656, -1.2875928066336901, 0.9504817960825033, -0.8592556265969148, -1.0914996115210676, -0.30501946029609694, -0.14363644397000597, 2.2806625467790633, 0.4207496211348015, 1.3571281116598866, 1.5878151352245091, 0.24122949383717984, 1.998266626305655, 1.7818864187305024, 1.1301460827118028, -0.8777369075429048, -1.115129892295914, -0.8001312130583378, 1.8321619840378762, -1.0255802772063998, -0.835953729636531, 0.3938548126314414, -1.1593103876298003, -0.798198255967272, -1.0268930989302616, 0.3338759260511561, 0.7239973648954872, 1.2140386248766373, 1.0103570113079423, 0.985341352604471, 1.9459956679953008, -0.3038587835168993, -1.1570485213230444, 1.4704482262482386, -1.0401083699033604, 0.9854025880398817, 0.9388573820325586, 0.6835158221546134, 0.922002939260391, -0.7032344567562661, 0.8574144333351954, 1.2566790600141395, -1.0715533270338213, -0.9447768280497283, 1.2176768702598089, -1.2223850201397282, 1.3101352831019517, -0.8677398653887785, -0.38843493126697526, -1.258657567558136, 0.4373249512051297, 0.9010773604573079, 1.8538228065892888, 1.8809339049177458, 1.70733033037892, 1.179916070584999, -1.0706940792502813, 0.81673355428077, -0.20347071792537874, -0.9634119000612236, -0.9307799734763351, -1.0495355682478285, -1.0791350155430979, 1.1566763758351744, 0.9229899980846514, 2.6220473957024497, 1.2098861387914974, -1.1119280061620074, 2.224680395135863, -0.8131603177903584, 1.2367638150275693, 0.8257437658720478, -1.1688846126267038, 1.0177624277089299, -1.221415318854779, 1.040737899954003, -1.2517612374572222, 0.2864245669540868, 0.7361145916983218, -0.7913644502791997, -0.7913865002605852, 1.391790352693055, -0.953367047318038, 1.1715886322889972, 2.1104915731344054, 0.7699034614487192, 0.21617039986183773, 0.43653832218559574, -0.9857525984032355, 1.3020279266065278, 1.7507381738629524, 2.1471456003812968, 1.145120178568572, 2.1306173510518756, 1.397636918637893, 0.9139606737846149, 1.5063227590090258, 2.6016328829963506, -0.5217529261599554, -0.7848061141278312, -0.5877679195228374, 0.9204736348901899, -1.2056414381221796, 1.134701563221547, -0.9269334693220779, 0.24358067128270455, 1.0337554291780797, 0.9043163450587786, -0.9584629676254156, -0.8802917682726437, -0.18363767339394066, 1.3903476378396191, -0.9865425112653944, 0.106816231291057, -0.8717770655022954, -0.27021739013213186, -1.1729979393454593, -1.0833335416231225, 0.621988552474602, -0.6448993423679319, 1.6247475258492075, 1.630375206716601, 1.938666655201971, 0.7990446424967719, -0.3845667849842558, -0.8043973025030975, -1.2548958628477533, -0.918629464690137, 0.6902952215593279, 1.8593743372317513, -1.1884876899303896, 1.34516659799444, -1.003950929830776, -1.1268722058567238, -0.9505602491312117, 1.4733520000447569, -0.8101705709009219, -0.9967523820308266, -0.6625632911876763, 0.7140694468454543, 1.8823896939057727, -1.0470431317667135, 1.2917329029950704, 1.0918464445748275, 1.4024230695818822, 2.0566878732152585, -0.8854806175694463, 0.7383983437928601, 0.8440891878571858, 0.7946134734319326, 0.531426464274263, -0.8014924850455832, -1.0913721231447848, -1.0194687286523596, 1.5950472036145806, 1.3982990531411663, 1.0157719017285114, -0.2921316585263243, 1.5791184953978088, 1.1138979734527166, -1.1738012841933265, -0.6081337804483105, 1.693774566713715, 0.27737490594248104, 2.627127518565524, 0.42026462594445424, 0.6851647824190408, 0.9453598020657845, 1.3037651816152265, -1.2240363342797298, 1.2733593287938565, 0.9301489222373875, -0.9292663073912003, 0.6606995798561655, -1.3138278532002983, -0.13809347523454085, 1.984865877362932, -0.759493832221648, 0.39377893657539254, 0.19744732779573881, -0.8949131067283647, 0.383316546229988, 0.033705755388447556, 1.0959676116459651, -0.8066575332982923, -0.8721923467498487, 2.0430089523227037, -0.9731292590806973, 0.40049068540478194, 1.4597918652347928, 1.141328606788559, 1.1567494653810748, 1.3934600658007894, -0.054931005298482605, -1.1607517908647436, 1.1248056220195297, -1.1808299390645227, 2.0039095309479484, -0.5261576732820612, -0.8175574097352084, -0.1426908723932656, -0.9103870496458687, 3.413065556955999, 1.3235141619363135, 1.0640658963657637, 0.622338007700501, 1.112814274954702, 1.7825785233241875, 0.3241215876951731, 0.007213439938061339, -1.2936684645491556, -1.0441704286852218, -1.2865246387397473, 1.1133692971248668, 0.0027328126276715548, 1.2935050961472014, 1.475335207327774, -0.35283207347549395, 2.790015743541195, -0.9195752914411668, 1.7740736732839482, 0.7032446686125131, 2.4591026343764515, -0.9524815239805047, -1.0634882344264625, 1.4923338172450191, -0.5913812066182067, 1.1312533179653939, -1.160299142410845, -0.7462837444118082, 0.9928838488665159, 0.46775272033164506, -0.722685409606378, 1.9861227200051883, 1.0546400446140975, -0.9941925878847386, 0.7520571013975761, 1.030391157311743, 0.776355228035563, -1.0692817897693003, 1.6177126853674562, -0.792471862634416, 0.2302909186949743, 2.539699306234925, -1.0839108792477843, -0.9554431808576147, 0.6053104158283431, 1.4896843723109308, -0.8312475046261922, -1.335179459883049, 0.09786437134943193, -1.0761788444957945, -0.9196155815936551, 1.0473150809815748, 1.5468626024603247, -1.0059813906962205, -0.901073446464745, -0.8833657960015705, 1.1252654030001576, -0.8613622094404128, -1.210085628059028, 0.46149888163492947, 0.8113753031872417, 1.5437590419435299, 0.9529284368302552, 0.7274408439150027, 2.1063733355825356, -0.836212023100465, 1.4401281180290388, -1.1195818590500768, 1.4908110211289765, -0.9052150465326847, 0.46052560473245807, 1.2534830784237805, 1.8459163121174995, 1.5673155679083408, 1.2230626029822105, -1.2478073066805202, 0.5926737348496718, -0.7839539634367401, 0.7874285712670795, 2.1459781165898058, 0.056153541250901884, 1.0530694497774413, -0.006332926982720144, 0.9555805907857489, -1.168582083183033, 1.743082605096192, -0.9661151958478325, -0.7449601413389992, -0.7006406064529903, -0.7666033665897551, 0.028082693241765377, -0.876187402950911, 0.7078575874861649, 1.4376331902775894, -0.28301818132047174, 2.686318404406828, 0.9415822438642889, 0.132663723308324, 2.010950788370548, 2.2768373772123907, -0.4251207838621085, 1.72678971070521, 0.34985176299506604, 0.40254702585109614, 1.3131711331202913], \"z\": [1.0, 1.0, 1.0, 1.0, 1.0, 1.0, 1.0, 1.0, 1.0, 1.0, 1.0, 1.0, 1.0, 1.0, 1.0, 1.0, 1.0, 1.0, 1.0, 1.0, 1.0, 1.0, 1.0, 1.0, 1.0, 1.0, 1.0, 1.0, 1.0, 1.0, 1.0, 1.0, 1.0, 1.0, 1.0, 1.0, 1.0, 1.0, 1.0, 1.0, 1.0, 1.0, 1.0, 1.0, 1.0, 1.0, 1.0, 1.0, 1.0, 1.0, 1.0, 1.0, 1.0, 1.0, 1.0, 1.0, 1.0, 1.0, 1.0, 1.0, 1.0, 1.0, 1.0, 1.0, 1.0, 1.0, 1.0, 1.0, 1.0, 1.0, 1.0, 1.0, 1.0, 1.0, 1.0, 1.0, 1.0, 1.0, 1.0, 1.0, 1.0, 1.0, 1.0, 1.0, 1.0, 1.0, 1.0, 1.0, 1.0, 1.0, 1.0, 1.0, 1.0, 1.0, 1.0, 1.0, 1.0, 1.0, 1.0, 1.0, 1.0, 1.0, 1.0, 1.0, 1.0, 1.0, 1.0, 1.0, 1.0, 1.0, 1.0, 1.0, 1.0, 1.0, 1.0, 1.0, 1.0, 1.0, 1.0, 1.0, 1.0, 1.0, 1.0, 1.0, 1.0, 1.0, 1.0, 1.0, 1.0, 1.0, 1.0, 1.0, 1.0, 1.0, 1.0, 1.0, 1.0, 1.0, 1.0, 1.0, 1.0, 1.0, 1.0, 1.0, 1.0, 1.0, 1.0, 1.0, 1.0, 1.0, 1.0, 1.0, 1.0, 1.0, 1.0, 1.0, 1.0, 1.0, 1.0, 1.0, 1.0, 1.0, 1.0, 1.0, 1.0, 1.0, 1.0, 1.0, 1.0, 1.0, 1.0, 1.0, 1.0, 1.0, 1.0, 1.0, 1.0, 1.0, 1.0, 1.0, 1.0, 1.0, 1.0, 1.0, 1.0, 1.0, 1.0, 1.0, 1.0, 1.0, 1.0, 1.0, 1.0, 1.0, 1.0, 1.0, 1.0, 1.0, 1.0, 1.0, 1.0, 1.0, 1.0, 1.0, 1.0, 1.0, 1.0, 1.0, 1.0, 1.0, 1.0, 1.0, 1.0, 1.0, 1.0, 1.0, 1.0, 1.0, 1.0, 1.0, 1.0, 1.0, 1.0, 1.0, 1.0, 1.0, 1.0, 1.0, 1.0, 1.0, 1.0, 1.0, 1.0, 1.0, 1.0, 1.0, 1.0, 1.0, 1.0, 1.0, 1.0, 1.0, 1.0, 1.0, 1.0, 1.0, 1.0, 1.0, 1.0, 1.0, 1.0, 1.0, 1.0, 1.0, 1.0, 1.0, 1.0, 1.0, 1.0, 1.0, 1.0, 1.0, 1.0, 1.0, 1.0, 1.0, 1.0, 1.0, 1.0, 1.0, 1.0, 1.0, 1.0, 1.0, 1.0, 1.0, 1.0, 1.0, 1.0, 1.0, 1.0, 1.0, 1.0, 1.0, 1.0, 1.0, 1.0, 1.0, 1.0, 1.0, 1.0, 1.0, 1.0, 1.0, 1.0, 1.0, 1.0, 1.0, 1.0, 1.0, 1.0, 1.0, 1.0, 1.0, 1.0, 1.0, 1.0, 1.0, 1.0, 1.0, 1.0, 1.0, 1.0, 1.0, 1.0, 1.0, 1.0, 1.0, 1.0, 1.0, 1.0, 1.0, 1.0, 1.0, 1.0, 1.0, 1.0, 1.0, 1.0, 1.0, 1.0, 1.0, 1.0, 1.0, 1.0, 1.0, 1.0, 1.0, 1.0, 1.0, 1.0, 1.0, 1.0, 1.0, 1.0, 1.0, 1.0, 1.0, 1.0, 1.0, 1.0, 1.0, 1.0, 1.0, 1.0, 1.0, 1.0, 1.0, 1.0, 1.0, 1.0, 1.0, 1.0, 1.0, 1.0, 1.0, 1.0, 1.0, 1.0, 1.0, 1.0, 1.0, 1.0, 1.0, 1.0, 1.0, 1.0, 1.0, 1.0, 1.0, 1.0, 1.0, 1.0, 1.0, 1.0, 1.0, 1.0, 1.0, 1.0, 1.0, 1.0, 1.0, 1.0, 1.0, 1.0, 1.0, 1.0, 1.0, 1.0, 1.0, 1.0, 1.0, 1.0, 1.0, 1.0, 1.0, 1.0, 1.0, 1.0, 1.0, 1.0, 1.0, 1.0, 1.0, 1.0, 1.0, 1.0, 1.0, 1.0, 1.0, 1.0, 1.0, 1.0, 1.0, 1.0, 1.0, 1.0, 1.0, 1.0, 1.0, 1.0, 1.0, 1.0, 1.0, 1.0, 1.0, 1.0, 1.0, 1.0, 1.0, 1.0, 1.0, 1.0, 1.0, 1.0, 1.0, 1.0, 1.0, 1.0, 1.0]}],                        {\"coloraxis\": {\"colorbar\": {\"title\": {\"text\": \"Predictions\"}}, \"colorscale\": [[0.0, \"#0d0887\"], [0.1111111111111111, \"#46039f\"], [0.2222222222222222, \"#7201a8\"], [0.3333333333333333, \"#9c179e\"], [0.4444444444444444, \"#bd3786\"], [0.5555555555555556, \"#d8576b\"], [0.6666666666666666, \"#ed7953\"], [0.7777777777777778, \"#fb9f3a\"], [0.8888888888888888, \"#fdca26\"], [1.0, \"#f0f921\"]]}, \"legend\": {\"tracegroupgap\": 0}, \"margin\": {\"b\": 0, \"l\": 0, \"r\": 0, \"t\": 0}, \"scene\": {\"domain\": {\"x\": [0.0, 1.0], \"y\": [0.0, 1.0]}, \"xaxis\": {\"title\": {\"text\": \"Feature 1\"}}, \"yaxis\": {\"title\": {\"text\": \"Feature 2\"}}, \"zaxis\": {\"title\": {\"text\": \"Feature 3\"}}}, \"template\": {\"data\": {\"bar\": [{\"error_x\": {\"color\": \"#2a3f5f\"}, \"error_y\": {\"color\": \"#2a3f5f\"}, \"marker\": {\"line\": {\"color\": \"#E5ECF6\", \"width\": 0.5}}, \"type\": \"bar\"}], \"barpolar\": [{\"marker\": {\"line\": {\"color\": \"#E5ECF6\", \"width\": 0.5}}, \"type\": \"barpolar\"}], \"carpet\": [{\"aaxis\": {\"endlinecolor\": \"#2a3f5f\", \"gridcolor\": \"white\", \"linecolor\": \"white\", \"minorgridcolor\": \"white\", \"startlinecolor\": \"#2a3f5f\"}, \"baxis\": {\"endlinecolor\": \"#2a3f5f\", \"gridcolor\": \"white\", \"linecolor\": \"white\", \"minorgridcolor\": \"white\", \"startlinecolor\": \"#2a3f5f\"}, \"type\": \"carpet\"}], \"choropleth\": [{\"colorbar\": {\"outlinewidth\": 0, \"ticks\": \"\"}, \"type\": \"choropleth\"}], \"contour\": [{\"colorbar\": {\"outlinewidth\": 0, \"ticks\": \"\"}, \"colorscale\": [[0.0, \"#0d0887\"], [0.1111111111111111, \"#46039f\"], [0.2222222222222222, \"#7201a8\"], [0.3333333333333333, \"#9c179e\"], [0.4444444444444444, \"#bd3786\"], [0.5555555555555556, \"#d8576b\"], [0.6666666666666666, \"#ed7953\"], [0.7777777777777778, \"#fb9f3a\"], [0.8888888888888888, \"#fdca26\"], [1.0, \"#f0f921\"]], \"type\": \"contour\"}], \"contourcarpet\": [{\"colorbar\": {\"outlinewidth\": 0, \"ticks\": \"\"}, \"type\": \"contourcarpet\"}], \"heatmap\": [{\"colorbar\": {\"outlinewidth\": 0, \"ticks\": \"\"}, \"colorscale\": [[0.0, \"#0d0887\"], [0.1111111111111111, \"#46039f\"], [0.2222222222222222, \"#7201a8\"], [0.3333333333333333, \"#9c179e\"], [0.4444444444444444, \"#bd3786\"], [0.5555555555555556, \"#d8576b\"], [0.6666666666666666, \"#ed7953\"], [0.7777777777777778, \"#fb9f3a\"], [0.8888888888888888, \"#fdca26\"], [1.0, \"#f0f921\"]], \"type\": \"heatmap\"}], \"heatmapgl\": [{\"colorbar\": {\"outlinewidth\": 0, \"ticks\": \"\"}, \"colorscale\": [[0.0, \"#0d0887\"], [0.1111111111111111, \"#46039f\"], [0.2222222222222222, \"#7201a8\"], [0.3333333333333333, \"#9c179e\"], [0.4444444444444444, \"#bd3786\"], [0.5555555555555556, \"#d8576b\"], [0.6666666666666666, \"#ed7953\"], [0.7777777777777778, \"#fb9f3a\"], [0.8888888888888888, \"#fdca26\"], [1.0, \"#f0f921\"]], \"type\": \"heatmapgl\"}], \"histogram\": [{\"marker\": {\"colorbar\": {\"outlinewidth\": 0, \"ticks\": \"\"}}, \"type\": \"histogram\"}], \"histogram2d\": [{\"colorbar\": {\"outlinewidth\": 0, \"ticks\": \"\"}, \"colorscale\": [[0.0, \"#0d0887\"], [0.1111111111111111, \"#46039f\"], [0.2222222222222222, \"#7201a8\"], [0.3333333333333333, \"#9c179e\"], [0.4444444444444444, \"#bd3786\"], [0.5555555555555556, \"#d8576b\"], [0.6666666666666666, \"#ed7953\"], [0.7777777777777778, \"#fb9f3a\"], [0.8888888888888888, \"#fdca26\"], [1.0, \"#f0f921\"]], \"type\": \"histogram2d\"}], \"histogram2dcontour\": [{\"colorbar\": {\"outlinewidth\": 0, \"ticks\": \"\"}, \"colorscale\": [[0.0, \"#0d0887\"], [0.1111111111111111, \"#46039f\"], [0.2222222222222222, \"#7201a8\"], [0.3333333333333333, \"#9c179e\"], [0.4444444444444444, \"#bd3786\"], [0.5555555555555556, \"#d8576b\"], [0.6666666666666666, \"#ed7953\"], [0.7777777777777778, \"#fb9f3a\"], [0.8888888888888888, \"#fdca26\"], [1.0, \"#f0f921\"]], \"type\": \"histogram2dcontour\"}], \"mesh3d\": [{\"colorbar\": {\"outlinewidth\": 0, \"ticks\": \"\"}, \"type\": \"mesh3d\"}], \"parcoords\": [{\"line\": {\"colorbar\": {\"outlinewidth\": 0, \"ticks\": \"\"}}, \"type\": \"parcoords\"}], \"pie\": [{\"automargin\": true, \"type\": \"pie\"}], \"scatter\": [{\"marker\": {\"colorbar\": {\"outlinewidth\": 0, \"ticks\": \"\"}}, \"type\": \"scatter\"}], \"scatter3d\": [{\"line\": {\"colorbar\": {\"outlinewidth\": 0, \"ticks\": \"\"}}, \"marker\": {\"colorbar\": {\"outlinewidth\": 0, \"ticks\": \"\"}}, \"type\": \"scatter3d\"}], \"scattercarpet\": [{\"marker\": {\"colorbar\": {\"outlinewidth\": 0, \"ticks\": \"\"}}, \"type\": \"scattercarpet\"}], \"scattergeo\": [{\"marker\": {\"colorbar\": {\"outlinewidth\": 0, \"ticks\": \"\"}}, \"type\": \"scattergeo\"}], \"scattergl\": [{\"marker\": {\"colorbar\": {\"outlinewidth\": 0, \"ticks\": \"\"}}, \"type\": \"scattergl\"}], \"scattermapbox\": [{\"marker\": {\"colorbar\": {\"outlinewidth\": 0, \"ticks\": \"\"}}, \"type\": \"scattermapbox\"}], \"scatterpolar\": [{\"marker\": {\"colorbar\": {\"outlinewidth\": 0, \"ticks\": \"\"}}, \"type\": \"scatterpolar\"}], \"scatterpolargl\": [{\"marker\": {\"colorbar\": {\"outlinewidth\": 0, \"ticks\": \"\"}}, \"type\": \"scatterpolargl\"}], \"scatterternary\": [{\"marker\": {\"colorbar\": {\"outlinewidth\": 0, \"ticks\": \"\"}}, \"type\": \"scatterternary\"}], \"surface\": [{\"colorbar\": {\"outlinewidth\": 0, \"ticks\": \"\"}, \"colorscale\": [[0.0, \"#0d0887\"], [0.1111111111111111, \"#46039f\"], [0.2222222222222222, \"#7201a8\"], [0.3333333333333333, \"#9c179e\"], [0.4444444444444444, \"#bd3786\"], [0.5555555555555556, \"#d8576b\"], [0.6666666666666666, \"#ed7953\"], [0.7777777777777778, \"#fb9f3a\"], [0.8888888888888888, \"#fdca26\"], [1.0, \"#f0f921\"]], \"type\": \"surface\"}], \"table\": [{\"cells\": {\"fill\": {\"color\": \"#EBF0F8\"}, \"line\": {\"color\": \"white\"}}, \"header\": {\"fill\": {\"color\": \"#C8D4E3\"}, \"line\": {\"color\": \"white\"}}, \"type\": \"table\"}]}, \"layout\": {\"annotationdefaults\": {\"arrowcolor\": \"#2a3f5f\", \"arrowhead\": 0, \"arrowwidth\": 1}, \"coloraxis\": {\"colorbar\": {\"outlinewidth\": 0, \"ticks\": \"\"}}, \"colorscale\": {\"diverging\": [[0, \"#8e0152\"], [0.1, \"#c51b7d\"], [0.2, \"#de77ae\"], [0.3, \"#f1b6da\"], [0.4, \"#fde0ef\"], [0.5, \"#f7f7f7\"], [0.6, \"#e6f5d0\"], [0.7, \"#b8e186\"], [0.8, \"#7fbc41\"], [0.9, \"#4d9221\"], [1, \"#276419\"]], \"sequential\": [[0.0, \"#0d0887\"], [0.1111111111111111, \"#46039f\"], [0.2222222222222222, \"#7201a8\"], [0.3333333333333333, \"#9c179e\"], [0.4444444444444444, \"#bd3786\"], [0.5555555555555556, \"#d8576b\"], [0.6666666666666666, \"#ed7953\"], [0.7777777777777778, \"#fb9f3a\"], [0.8888888888888888, \"#fdca26\"], [1.0, \"#f0f921\"]], \"sequentialminus\": [[0.0, \"#0d0887\"], [0.1111111111111111, \"#46039f\"], [0.2222222222222222, \"#7201a8\"], [0.3333333333333333, \"#9c179e\"], [0.4444444444444444, \"#bd3786\"], [0.5555555555555556, \"#d8576b\"], [0.6666666666666666, \"#ed7953\"], [0.7777777777777778, \"#fb9f3a\"], [0.8888888888888888, \"#fdca26\"], [1.0, \"#f0f921\"]]}, \"colorway\": [\"#636efa\", \"#EF553B\", \"#00cc96\", \"#ab63fa\", \"#FFA15A\", \"#19d3f3\", \"#FF6692\", \"#B6E880\", \"#FF97FF\", \"#FECB52\"], \"font\": {\"color\": \"#2a3f5f\"}, \"geo\": {\"bgcolor\": \"white\", \"lakecolor\": \"white\", \"landcolor\": \"#E5ECF6\", \"showlakes\": true, \"showland\": true, \"subunitcolor\": \"white\"}, \"hoverlabel\": {\"align\": \"left\"}, \"hovermode\": \"closest\", \"mapbox\": {\"style\": \"light\"}, \"paper_bgcolor\": \"white\", \"plot_bgcolor\": \"#E5ECF6\", \"polar\": {\"angularaxis\": {\"gridcolor\": \"white\", \"linecolor\": \"white\", \"ticks\": \"\"}, \"bgcolor\": \"#E5ECF6\", \"radialaxis\": {\"gridcolor\": \"white\", \"linecolor\": \"white\", \"ticks\": \"\"}}, \"scene\": {\"xaxis\": {\"backgroundcolor\": \"#E5ECF6\", \"gridcolor\": \"white\", \"gridwidth\": 2, \"linecolor\": \"white\", \"showbackground\": true, \"ticks\": \"\", \"zerolinecolor\": \"white\"}, \"yaxis\": {\"backgroundcolor\": \"#E5ECF6\", \"gridcolor\": \"white\", \"gridwidth\": 2, \"linecolor\": \"white\", \"showbackground\": true, \"ticks\": \"\", \"zerolinecolor\": \"white\"}, \"zaxis\": {\"backgroundcolor\": \"#E5ECF6\", \"gridcolor\": \"white\", \"gridwidth\": 2, \"linecolor\": \"white\", \"showbackground\": true, \"ticks\": \"\", \"zerolinecolor\": \"white\"}}, \"shapedefaults\": {\"line\": {\"color\": \"#2a3f5f\"}}, \"ternary\": {\"aaxis\": {\"gridcolor\": \"white\", \"linecolor\": \"white\", \"ticks\": \"\"}, \"baxis\": {\"gridcolor\": \"white\", \"linecolor\": \"white\", \"ticks\": \"\"}, \"bgcolor\": \"#E5ECF6\", \"caxis\": {\"gridcolor\": \"white\", \"linecolor\": \"white\", \"ticks\": \"\"}}, \"title\": {\"x\": 0.05}, \"xaxis\": {\"automargin\": true, \"gridcolor\": \"white\", \"linecolor\": \"white\", \"ticks\": \"\", \"title\": {\"standoff\": 15}, \"zerolinecolor\": \"white\", \"zerolinewidth\": 2}, \"yaxis\": {\"automargin\": true, \"gridcolor\": \"white\", \"linecolor\": \"white\", \"ticks\": \"\", \"title\": {\"standoff\": 15}, \"zerolinecolor\": \"white\", \"zerolinewidth\": 2}}}},                        {\"responsive\": true}                    ).then(function(){\n",
       "                            \n",
       "var gd = document.getElementById('653b0cdf-c138-4cb6-a2e4-c6f46a48a674');\n",
       "var x = new MutationObserver(function (mutations, observer) {{\n",
       "        var display = window.getComputedStyle(gd).display;\n",
       "        if (!display || display === 'none') {{\n",
       "            console.log([gd, 'removed!']);\n",
       "            Plotly.purge(gd);\n",
       "            observer.disconnect();\n",
       "        }}\n",
       "}});\n",
       "\n",
       "// Listen for the removal of the full notebook cells\n",
       "var notebookContainer = gd.closest('#notebook-container');\n",
       "if (notebookContainer) {{\n",
       "    x.observe(notebookContainer, {childList: true});\n",
       "}}\n",
       "\n",
       "// Listen for the clearing of the current output cell\n",
       "var outputEl = gd.closest('.output');\n",
       "if (outputEl) {{\n",
       "    x.observe(outputEl, {childList: true});\n",
       "}}\n",
       "\n",
       "                        })                };                });            </script>        </div>"
      ]
     },
     "metadata": {},
     "output_type": "display_data"
    }
   ],
   "source": [
    "import plotly.express as px\n",
    "import pandas as pd\n",
    "\n",
    "X = np.concatenate([X_train, X_val, X_test])\n",
    "y = np.concatenate([Y_train, Y_val, Y_test])\n",
    "y_pred = model.predict(X)\n",
    "df = pd.DataFrame({\n",
    "    'Feature 1': X[:, 0], 'Feature 2': X[:, 1], 'Feature 3': X[:, 2], \n",
    "    'Predictions': y_pred, 'Truth': y.reshape(-1), 'Correct': y_pred == y.reshape(-1)})\n",
    "df.head()\n",
    "fig = px.scatter_3d(df, x='Feature 1', y='Feature 2', z='Feature 3',\n",
    "                    color='Predictions', opacity=0.7)\n",
    "\n",
    "# tight layout\n",
    "fig.update_layout(margin=dict(l=0, r=0, b=0, t=0))"
   ]
  }
 ],
 "metadata": {
  "kernelspec": {
   "display_name": "Python 3",
   "language": "python",
   "name": "python3"
  },
  "language_info": {
   "codemirror_mode": {
    "name": "ipython",
    "version": 3
   },
   "file_extension": ".py",
   "mimetype": "text/x-python",
   "name": "python",
   "nbconvert_exporter": "python",
   "pygments_lexer": "ipython3",
   "version": "3.8.5"
  }
 },
 "nbformat": 4,
 "nbformat_minor": 2
}
