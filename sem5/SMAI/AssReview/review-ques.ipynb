{
 "metadata": {
  "language_info": {
   "codemirror_mode": {
    "name": "ipython",
    "version": 3
   },
   "file_extension": ".py",
   "mimetype": "text/x-python",
   "name": "python",
   "nbconvert_exporter": "python",
   "pygments_lexer": "ipython3",
   "version": "3.8.2-final"
  },
  "orig_nbformat": 2,
  "kernelspec": {
   "name": "python_defaultSpec_1599622998301",
   "display_name": "Python 3.8.2 64-bit"
  }
 },
 "nbformat": 4,
 "nbformat_minor": 2,
 "cells": [
  {
   "cell_type": "code",
   "execution_count": 7,
   "metadata": {},
   "outputs": [],
   "source": [
    "import numpy as np"
   ]
  },
  {
   "cell_type": "code",
   "execution_count": 33,
   "metadata": {
    "tags": []
   },
   "outputs": [
    {
     "output_type": "stream",
     "name": "stdout",
     "text": "The Covariance Matrix : \n [[ 2.5 -2.5]\n [-2.5  2.5]]\n\nThe diagonized matrix is : \n [5.0000000e+00 4.4408921e-16]\n"
    }
   ],
   "source": [
    "X = np.array([[-2,-3,-4,-5,-6],[2,3,4,5,6]])\n",
    "print(\"The Covariance Matrix : \\n\",np.cov(X))\n",
    "print(\"\\nThe diagonized matrix is : \\n\",np.linalg.eigvals(np.cov(X)))"
   ]
  },
  {
   "cell_type": "code",
   "execution_count": 32,
   "metadata": {
    "tags": []
   },
   "outputs": [
    {
     "output_type": "stream",
     "name": "stdout",
     "text": "(array([5.0000000e+00, 4.4408921e-16]), array([[ 0.70710678,  0.70710678],\n       [-0.70710678,  0.70710678]]))\n"
    }
   ],
   "source": [
    "print(np.linalg.eig(np.cov(X)))"
   ]
  },
  {
   "cell_type": "code",
   "execution_count": null,
   "metadata": {},
   "outputs": [],
   "source": []
  }
 ]
}