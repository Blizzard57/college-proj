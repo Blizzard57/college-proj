{
 "metadata": {
  "language_info": {
   "codemirror_mode": {
    "name": "ipython",
    "version": 3
   },
   "file_extension": ".py",
   "mimetype": "text/x-python",
   "name": "python",
   "nbconvert_exporter": "python",
   "pygments_lexer": "ipython3",
   "version": "3.8.2-final"
  },
  "orig_nbformat": 2,
  "kernelspec": {
   "name": "python_defaultSpec_1600062699833",
   "display_name": "Python 3.8.2 64-bit"
  }
 },
 "nbformat": 4,
 "nbformat_minor": 2,
 "cells": [
  {
   "source": [
    "# Assignment 4\n",
    "\n",
    "Subject : Bioinformatics<br>\n",
    "Roll No : 2018113003<br>"
   ],
   "cell_type": "markdown",
   "metadata": {}
  },
  {
   "source": [
    "## Problem 1\n",
    "\n",
    "Given : <br>\n",
    "Seq1 : GGCTGCAACTAGCTC, Seq2 : GGGTAAGCTTGC <br>\n",
    "Scoring Matrix : M <br>\n",
    "Gap Penalty : -3\n"
   ],
   "cell_type": "markdown",
   "metadata": {}
  },
  {
   "cell_type": "code",
   "execution_count": 2,
   "metadata": {},
   "outputs": [],
   "source": [
    "import numpy as np\n",
    "import scipy"
   ]
  },
  {
   "cell_type": "code",
   "execution_count": 7,
   "metadata": {},
   "outputs": [],
   "source": [
    "# Variable Definitions\n",
    "\n",
    "M = np.array([[4,-1,1,-1],[-1,4,-1,1],[1,-1,4,-1],[-1,1,-1,4]])\n",
    "Seq1 = 'GGCTGCAACTAGCTC'\n",
    "Seq2 = 'GGGTAAGCTTGC'"
   ]
  },
  {
   "cell_type": "code",
   "execution_count": 5,
   "metadata": {},
   "outputs": [
    {
     "output_type": "execute_result",
     "data": {
      "text/plain": "array([[ 4, -1,  1, -1],\n       [-1,  4, -1,  1],\n       [ 1, -1,  4, -1],\n       [-1,  1, -1,  4]])"
     },
     "metadata": {},
     "execution_count": 5
    }
   ],
   "source": []
  },
  {
   "cell_type": "code",
   "execution_count": null,
   "metadata": {},
   "outputs": [],
   "source": []
  }
 ]
}