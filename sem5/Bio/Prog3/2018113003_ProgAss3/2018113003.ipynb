{
 "metadata": {
  "language_info": {
   "codemirror_mode": {
    "name": "ipython",
    "version": 3
   },
   "file_extension": ".py",
   "mimetype": "text/x-python",
   "name": "python",
   "nbconvert_exporter": "python",
   "pygments_lexer": "ipython3",
   "version": "3.8.2-final"
  },
  "orig_nbformat": 2,
  "kernelspec": {
   "name": "python_defaultSpec_1600243527371",
   "display_name": "Python 3.8.2 64-bit"
  }
 },
 "nbformat": 4,
 "nbformat_minor": 2,
 "cells": [
  {
   "source": [
    "# Assignment 3\n",
    "\n",
    "Subject : Bioinformatics <br>\n",
    "Roll No : 2018113003 <br>"
   ],
   "cell_type": "markdown",
   "metadata": {}
  },
  {
   "source": [
    "## Problem 1\n",
    "\n",
    "Implement Needleman-Wunch Algorithm for Global Alignment"
   ],
   "cell_type": "markdown",
   "metadata": {}
  },
  {
   "source": [
    "## Solution"
   ],
   "cell_type": "markdown",
   "metadata": {}
  },
  {
   "cell_type": "code",
   "execution_count": 19,
   "metadata": {},
   "outputs": [],
   "source": [
    "## Imports\n",
    "\n",
    "import numpy as np"
   ]
  },
  {
   "cell_type": "code",
   "execution_count": 20,
   "metadata": {},
   "outputs": [],
   "source": [
    "## Global Variables\n",
    "\n",
    "d = -3 # Gap Penalty\n",
    "S_dna = [[5,-4,-4,-4],[-4,5,-4,-4],[-4,-4,5,-4],[-4,-4,-4,5]] # Similarity Martix (DNA)\n",
    "\n",
    "S_pro = [[ 4 ,-1 ,-2, -2,  0 ,-1 ,-1,  0, -2, -1, -1, -1, -1 ,-2 ,-1,  1,  0, -3, -2,  0 ,-2, -1,  0],\n",
    "[-1 , 5 , 0, -2, -3 , 1 , 0, -2,  0, -3, -2,  2, -1 ,-3 ,-2, -1, -1, -3, -2, -3 ,-1,  0, -1], \n",
    "[-2 , 0 , 6,  1, -3 , 0 , 0,  0,  1, -3, -3,  0, -2 ,-3 ,-2,  1,  0, -4, -2, -3 , 3,  0, -1], \n",
    "[-2 ,-2 , 1,  6, -3 , 0 , 2, -1, -1, -3, -4, -1, -3 ,-3 ,-1,  0, -1, -4, -3, -3 , 4,  1, -1], \n",
    "[ 0 ,-3 ,-3, -3,  9 ,-3 ,-4, -3, -3, -1, -1, -3, -1 ,-2 ,-3, -1, -1, -2, -2, -1 ,-3, -3, -2], \n",
    "[-1 , 1 , 0,  0, -3 , 5 , 2, -2,  0, -3, -2,  1,  0 ,-3 ,-1,  0, -1, -2, -1, -2 , 0,  3, -1], \n",
    "[-1 , 0 , 0,  2, -4 , 2 , 5, -2,  0, -3, -3,  1, -2 ,-3 ,-1,  0, -1, -3, -2, -2 , 1,  4, -1], \n",
    "[ 0 ,-2 , 0, -1, -3 ,-2 ,-2,  6, -2, -4, -4, -2, -3 ,-3 ,-2,  0, -2, -2, -3, -3 ,-1, -2, -1], \n",
    "[-2 , 0 , 1, -1, -3 , 0 , 0, -2,  8, -3, -3, -1, -2 ,-1 ,-2, -1, -2, -2,  2, -3 , 0,  0, -1], \n",
    "[-1 ,-3 ,-3, -3, -1 ,-3 ,-3, -4, -3,  4,  2, -3,  1 , 0 ,-3, -2, -1, -3, -1,  3 ,-3, -3, -1], \n",
    "[-1 ,-2 ,-3, -4, -1 ,-2 ,-3, -4, -3,  2,  4, -2,  2 , 0 ,-3, -2, -1, -2, -1,  1 ,-4, -3, -1], \n",
    "[-1 , 2 , 0, -1, -3 , 1 , 1, -2, -1, -3, -2,  5, -1 ,-3 ,-1,  0, -1, -3, -2, -2 , 0,  1, -1], \n",
    "[-1 ,-1 ,-2, -3, -1 , 0 ,-2, -3, -2,  1,  2, -1,  5 , 0 ,-2, -1, -1, -1, -1,  1 ,-3, -1, -1], \n",
    "[-2 ,-3 ,-3, -3, -2 ,-3 ,-3, -3, -1,  0,  0, -3,  0 , 6 ,-4, -2, -2,  1,  3, -1 ,-3, -3, -1], \n",
    "[-1 ,-2 ,-2, -1, -3 ,-1 ,-1, -2, -2, -3, -3, -1, -2 ,-4 , 7, -1, -1, -4, -3, -2 ,-2, -1, -2], \n",
    "[ 1 ,-1 , 1,  0, -1 , 0 , 0,  0, -1, -2, -2,  0, -1 ,-2 ,-1,  4,  1, -3, -2, -2 , 0,  0,  0], \n",
    "[ 0 ,-1 , 0, -1, -1 ,-1 ,-1, -2, -2, -1, -1, -1, -1 ,-2 ,-1,  1,  5, -2, -2,  0 ,-1, -1,  0], \n",
    "[-3 ,-3 ,-4, -4, -2 ,-2 ,-3, -2, -2, -3, -2, -3, -1 , 1 ,-4, -3, -2, 11,  2, -3 ,-4, -3, -2], \n",
    "[-2 ,-2 ,-2, -3, -2 ,-1 ,-2, -3,  2, -1, -1, -2, -1 , 3 ,-3, -2, -2,  2,  7, -1 ,-3, -2, -1], \n",
    "[ 0 ,-3 ,-3, -3, -1 ,-2 ,-2, -3, -3,  3,  1, -2,  1 ,-1 ,-2, -2,  0, -3, -1,  4 ,-3, -2, -1], \n",
    "[-2 ,-1 , 3,  4, -3 , 0 , 1, -1,  0, -3, -4,  0, -3 ,-3 ,-2,  0, -1, -4, -3, -3 , 4,  1, -1], \n",
    "[-1 , 0 , 0,  1, -3 , 3 , 4, -2,  0, -3, -3,  1, -1 ,-3 ,-1,  0, -1, -3, -2, -2 , 1,  4, -1], \n",
    "[ 0 ,-1 ,-1, -1, -2 ,-1 ,-1, -1, -1, -1, -1, -1, -1 ,-1 ,-2,  0,  0, -2, -1, -1 ,-1, -1, -1], \n",
    "[-4 ,-4 ,-4, -4, -4 ,-4 ,-4, -4, -4, -4, -4, -4, -4 ,-4 ,-4, -4, -4, -4, -4, -4 ,-4, -4, -4]] # Similariy Matrix (Protein)"
   ]
  },
  {
   "cell_type": "code",
   "execution_count": 33,
   "metadata": {},
   "outputs": [],
   "source": [
    "## Utility Functions\n",
    "\n",
    "def find_sim(ca : chr,dna : bool):\n",
    "    '''\n",
    "    Gives address of DNA or Protein molecule in the similarity matrix\n",
    "    '''\n",
    "    if dna: # If the sequence is DNA\n",
    "        if ca == 'A':\n",
    "            return 0\n",
    "        elif ca == 'C':\n",
    "            return 1\n",
    "        elif ca == 'G':\n",
    "            return 2\n",
    "        elif ca == 'T':\n",
    "            return 3\n",
    "        else:\n",
    "            raise ValueError('Needleman-Wunch : The encoding is not supported')\n",
    "    \n",
    "    else: # If the sequence is Protein\n",
    "        if ca == 'A':\n",
    "            return 0\n",
    "        elif ca == 'R':\n",
    "            return 1\n",
    "        elif ca == 'N':\n",
    "            return 2\n",
    "        elif ca == 'D':\n",
    "            return 3\n",
    "        elif ca == 'C':\n",
    "            return 4\n",
    "        elif ca == 'Q':\n",
    "            return 5\n",
    "        elif ca == 'E':\n",
    "            return 6\n",
    "        elif ca == 'G':\n",
    "            return 7\n",
    "        elif ca == 'H':\n",
    "            return 8\n",
    "        elif ca == 'I':\n",
    "            return 9\n",
    "        elif ca == 'L':\n",
    "            return 10\n",
    "        elif ca == 'K':\n",
    "            return 11\n",
    "        elif ca == 'M':\n",
    "            return 12\n",
    "        elif ca == 'F':\n",
    "            return 13\n",
    "        elif ca == 'P':\n",
    "            return 14\n",
    "        elif ca == 'S':\n",
    "            return 15\n",
    "        elif ca == 'T':\n",
    "            return 16\n",
    "        elif ca == 'W':\n",
    "            return 17\n",
    "        elif ca == 'Y':\n",
    "            return 18\n",
    "        elif ca == 'V':\n",
    "            return 19\n",
    "        elif ca == 'B':\n",
    "            return 20\n",
    "        elif ca == 'Z':\n",
    "            return 21\n",
    "        elif ca == 'X':\n",
    "            return 22\n",
    "        else:\n",
    "            raise ValueError('Needleman-Wunch : The encoding is not supported')\n",
    "\n",
    "def get_max(a,b,c):\n",
    "    '''\n",
    "    Find and return max(a,b,c)\n",
    "    '''\n",
    "    if a > b and a > c:\n",
    "        return a\n",
    "    elif b > a and b > c:\n",
    "        return b\n",
    "    else :\n",
    "        return c\n",
    "\n",
    "def print_readable(s : str):\n",
    "    import re\n",
    "    print(re.sub(\"(.{100})\", \"\\\\1\\n\", s, 0, re.DOTALL))"
   ]
  },
  {
   "cell_type": "code",
   "execution_count": 35,
   "metadata": {},
   "outputs": [],
   "source": [
    "def needle_wunch(seq1 : str,seq2 : str,S : list,d : int,dna : bool = True):\n",
    "    '''\n",
    "    The Needleman-Wunch Algorithm for Global Alignments\n",
    "    '''\n",
    "    M = np.zeros((len(seq1) + 1,len(seq2) + 1))\n",
    "    for i in range(0,len(seq1) + 1):\n",
    "        M[i][0] = d*i\n",
    "\n",
    "    for j in range(0,len(seq2) + 1):\n",
    "        M[0][j] = d*j\n",
    "\n",
    "    for i in range(1,len(seq1) + 1):\n",
    "        for j in range(1,len(seq2) + 1):\n",
    "            corr = M[i-1][j-1] + S[find_sim(seq1[i-1],dna)][find_sim(seq2[j-1],dna)]\n",
    "            dell = M[i-1][j] + d\n",
    "            inse = M[i][j-1] + d\n",
    "            M[i][j] = get_max(corr,dell,inse)\n",
    "\n",
    "    align1 = ''\n",
    "    align2 = ''\n",
    "\n",
    "    i = len(seq1)\n",
    "    j = len(seq2)\n",
    "    score = 0\n",
    "\n",
    "    while(i > 0 or j > 0):\n",
    "        if i>0 and j > 0 and M[i][j] == M[i-1][j-1] + S[find_sim(seq1[i-1],dna)][find_sim(seq2[j-1],dna)]:\n",
    "            align1 = seq1[i-1] + align1\n",
    "            align2 = seq2[j-1] + align2\n",
    "            i = i-1\n",
    "            j = j-1\n",
    "\n",
    "        elif i > 0 and M[i][j] == M[i-1][j] + d:\n",
    "            align1 = seq1[i-1] + align1\n",
    "            align2 = '-' + align2 \n",
    "            i=i-1\n",
    "\n",
    "        else :\n",
    "            align1 = '-' + align1\n",
    "            align2 = seq2[j-1] + align2\n",
    "            j=j-1\n",
    "        \n",
    "        score += M[i][j]\n",
    "\n",
    "    return align1, align2, score"
   ]
  },
  {
   "cell_type": "code",
   "execution_count": 37,
   "metadata": {
    "tags": []
   },
   "outputs": [
    {
     "output_type": "stream",
     "name": "stdout",
     "text": "The sequence alignments are :\n GG--GTAAGCTTG--C \n GGCTGCAA-CTAGCTC\n\nThe score for the given sequences is :  194.0\n"
    }
   ],
   "source": [
    "seq1 = 'GGGTAAGCTTGC'\n",
    "seq2 = 'GGCTGCAACTAGCTC'\n",
    "s1,s2, score = needle_wunch(seq1,seq2,S_dna,d,True)\n",
    "print(\"The sequence alignments are :\\n\",s1,'\\n',s2)\n",
    "print(\"\\nThe score for the given sequences is : \",score)"
   ]
  },
  {
   "source": [
    "## Problem 2\n",
    "\n",
    "Implement Smith-Waterman Algorithm for local alignment"
   ],
   "cell_type": "markdown",
   "metadata": {}
  },
  {
   "source": [
    "## Solution"
   ],
   "cell_type": "markdown",
   "metadata": {}
  },
  {
   "cell_type": "code",
   "execution_count": 38,
   "metadata": {},
   "outputs": [],
   "source": [
    "def smith_water(seq1 : str,seq2 : str,S : list,d : int,dna : bool = True):\n",
    "    \n",
    "    '''\n",
    "    The Smith-Waterman Algorithm for Local Alignments\n",
    "    '''\n",
    "    M = np.zeros((len(seq1) + 1,len(seq2) + 1))\n",
    "    max = 0\n",
    "\n",
    "    for i in range(0,len(seq1) + 1):\n",
    "        M[i][0] = 0\n",
    "\n",
    "    for j in range(0,len(seq2) + 1):\n",
    "        M[0][j] = 0\n",
    "\n",
    "    for i in range(1,len(seq1) + 1):\n",
    "        for j in range(1,len(seq2) + 1):\n",
    "            corr = M[i-1][j-1] + S[find_sim(seq1[i-1],dna)][find_sim(seq2[j-1],dna)]\n",
    "            dell = M[i-1][j] + d\n",
    "            inse = M[i][j-1] + d\n",
    "            val = get_max(corr,dell,inse)\n",
    "            \n",
    "            if val > max:\n",
    "                max = val\n",
    "                im = i\n",
    "                jm = j\n",
    "            M[i][j] = val if val > 0 else 0\n",
    "\n",
    "    align1 = ''\n",
    "    align2 = ''\n",
    "\n",
    "    i = im\n",
    "    j = jm\n",
    "    score = 0\n",
    "\n",
    "    while((i > 0 or j > 0) and M[i][j] > 0):\n",
    "        \n",
    "        if i > 0 and j > 0 and M[i][j] == M[i-1][j-1] + S[find_sim(seq1[i-1],dna)][find_sim(seq2[j-1],dna)]:\n",
    "            align1 = seq1[i-1] + align1\n",
    "            align2 = seq2[j-1] + align2\n",
    "            i = i-1\n",
    "            j = j-1\n",
    "\n",
    "        elif i > 0 and M[i][j] == M[i-1][j] + d:\n",
    "            align1 = seq1[i-1] + align1\n",
    "            align2 = '-' + align2 \n",
    "            i=i-1\n",
    "\n",
    "        else:\n",
    "            align1 = '-' + align1\n",
    "            align2 = seq2[j-1] + align2\n",
    "            j=j-1\n",
    "\n",
    "        score += M[i][j]\n",
    "\n",
    "    return align1,align2,score"
   ]
  },
  {
   "cell_type": "code",
   "execution_count": 39,
   "metadata": {
    "tags": []
   },
   "outputs": [
    {
     "output_type": "stream",
     "name": "stdout",
     "text": "The sequence alignments are :\n GG-T--AAGCTTGC \n GGCTGCAA-CTAGC\n\nThe score for the given sequences is :  173.0\n"
    }
   ],
   "source": [
    "seq1 = 'GGGTAAGCTTGC'\n",
    "seq2 = 'GGCTGCAACTAGCTC'\n",
    "s1,s2,score = smith_water(seq1,seq2,S_dna,d,True)\n",
    "print(\"The sequence alignments are :\\n\",s1,'\\n',s2)\n",
    "print(\"\\nThe score for the given sequences is : \",score)"
   ]
  },
  {
   "source": [
    "## Comparision\n",
    "\n",
    "Comparision of these algorithms with EMBOSS needle and water"
   ],
   "cell_type": "markdown",
   "metadata": {}
  },
  {
   "source": [
    "### Global Alignment\n",
    "\n",
    "The comparision between EMBOSS needle and Needleman-Wunch algorithm implemented"
   ],
   "cell_type": "markdown",
   "metadata": {}
  },
  {
   "source": [
    "#### DNA Sequences"
   ],
   "cell_type": "markdown",
   "metadata": {}
  },
  {
   "cell_type": "code",
   "execution_count": 48,
   "metadata": {},
   "outputs": [],
   "source": [
    "## DNA Molecules\n",
    "\n",
    "seq1 = 'TTCAGTAAACATTACGATTGTGCAAAAGTAAAGAGTGTGTTTATTTGTAAAACAAGAATTAGGTTTGGCTCAATACTCATGCAATACCTACAACTGAGGATTCTTCCCAGGGGGACCGCAGCCTGTCAGCATGGCTCAAGAGTGTGGGAACTACAAAATCCAGCCTGGGAAGGTGGTTGTGTTCATCAAGCCCACCTTCCCATTCTGCAGGAGGACCCAAGAGATCCTCAGTCAACTGCCCATCAAACAAGGGCTTCTGGAATTTGTCGAGATCACAACCACCAACCACACTAACAAGATTCAAGATTATTTGGAACAGCTCACGGGAGCAAGAATGGGGCCTTGAGTCTTTATCAGTAAAGATTGTATAGGCAGATGCAGTGATCTAGTCACTATGCAATAGAGTGGGGAACTGCTGACGCGGCTAAAGCAGATTGGAGTTTTGCAGTAACCACAGAGCAGGCCACACGCTGACTTTCCTCCTCAAGAGCTGGATGGCATTGCATGTGATGACAGCACTTCCTGGTGGATGAATTTGGGGGGCACAAACAGCTTTTTTCTTCTTTTGCCTCAGTATTTAAAAGTGGATCAACTTGCTCTTGACCACGGGGCCAAGAAGGTTGATGGGCCATCTTGGTTTTCTTCTTGATGTGCTCTTTGGTTTTCAGAAGATTGTGACAAGTTCTGGCCTAGGATTCGCTCACTCACCCTCAATTGTTCTTTCTCTTTGGCACGCGTTTCTTACTGTTCTCCACGTGTCGGCATGCCTCTGCCTCTAAGCCAGTGTTTTTCAACTATGTTTCTACAGACTCCTTCTCCACAATGATGAATCCTTGGTTGGTTTTCTGCTACTGCCCATTAGCTGAAATCATTTTTCCTCTTGACTTTGTGGAGTTGGTGTTATGAAATCAGTGGGTATTTTGAATGTGTTCTTTCAAACGACTGCATCTCTCCGGAGACACAACCCCACCCCATCCCATCCCACCTTGAGAATCACTGCTCTGAACCAGTGTTGTCCACCTTGTCCTCTCACAGATCTCATAGGAAATGTTCAACAATTCTGTGAAAGCTCTCAGGACTCAACTGGAGAAATCATATGAAAAGTTAAGCATAGTTGGTCTTGCTGTCATATGGATCAGAGGCACAAGTGCAGAGGCTGTGGTCGTGTAGAACACTCTGTTATTTAAGATGGCCATCCAGATAATCCTGAACACTGTGTATTTATTTGATTTAGAGTACCAGCAAAAATTAAAGCACAAAATGTAAAACATTGAGAAAACTTACAGCCCCCTACCCTAAGAGTGTATCTCTGAAAGAGCCCCCAATGCTTTGAAAACTAAGAATCCCTTGGGCCAGGCGCAGTGGCTGACGCCTGTAATCCCAGCACTTTGGGAGGCCGAGGCAGGCAGATCACGAGGTCAGGAGATCGAGACCATCCTGGCTAACACGGTGAAACCCCGTCTCTACTAAAAATACAAAAATATTAGCCGGGCATGGTGG' # ID : AF358259.1\n",
    "\n",
    "seq2 = 'ATGCCGCGCGTCGTCCCGGACCAGAGGAGCAAGTTCGAGAACGAGGAGTTCTTCAGGAAGCTGAGCCGCGAGTGCGAGATTAAGTACACGGGCTTCAGGGACCGGCCCCACGAGGAGCGCCAGACACGCTTCCAGAACGCCTGCCGCGACGGTCGCTCGGAGATCGCTTTTGTGGCTACAGGAACCAATCTGTCTCTCCAGTTTTTTCCGGCCAGCTGGCAGGGAGAACAGCGACAAACACCTAGCCGGGAATATGTCGACTTAGAGAGAGAAGCAGGCAAGGTATACTTGAAGGCTCCCATGATTCTGAATGGAGTGTGTGTTATATGGAAGGGCTGGATTGATCTCCACAGATTGGATGGTATGGGTTGCCTGGAGTTTGATGAGGAGCGAGCCCAGCAGGAAGATGCATTAGCACAACAGGCCTTTGAAGAGGCTCGAAGAAGAACTCGAGAATTTGAGGATAGAGACAGGTCTCACCGGGAGGAAATGGAGGCAAGAAGACAGCAAGACCCTAGTCCTGGTTCTAACTTAGGTGGCGGTGATGATCTCAAACTTCGTTAAGTGGAGCACAGCTTATGTGCCCCATCTCTACACACACTGCTTCTAGTTGGTATAAATAACTCATTGGGCGACCAGAAACTGTGACAACTGGAGGGACTGCAGTTGGTTTCATGGCCTGAGGCAGTGAAGACGTCACCCACTGCCATGGTTTTGCACTATAATGCCTGCATTTCTAATTTTTAAAATATGTAGCCAGTAATAATTTGAAATTTTTTTCTATGCAAGCTTATCTTGTTGGCATTATTTTAGTTGTATCGAAAGTATATACTTTCTTCATTTTAACTTAAAAGCTCATGTCATTTAGAAACAAGATAAGAAATTAAAATTTGTATCAGGGTTGCTTAACATTCTTTTATACTTTCAGACGAGTTGGTTATACAGCTTTCCTCCTTAGATAAGGGTTCTTGGTTTTTGTTTGTTTTCTCTACATCATTTCGTGTTTTTGTATTCTGCACCATTTTACAAATGAAGATGTGTTTGCAGTTATTTTTTCCAGCTATAAACCTAGAATAGAGCTGTCTGCCACAGCCTCCTAAAACAAACGTTTACAGTTGTTAAAGCCACAGTATCCTTTCAAATGCTGATAGTCACCCTATCCCCTTTAGACAAAAATTCACATTAGTATTAGTACAGTTAATGAACTGGCTTCAACAGACTAGCCACATGGCAGGTCCATACTATCCACAGGAGCTTCCCACAGTAAGCCACTGAAGCAAAAGAAAATGTTTAAGCACACAAGTAGAAGTCTATGAAGAAACGCCATAGTTCCCATGGTGGGGCCTGACTGTATTCAGACAGTTCATGGCATTTTGCATTAAGGGAACTGCAGCATCAGTTGCAAACAGTCAAGACAAACCCATCGTAAGGCCACAGGAATGAACGACCATAAGTTCACTTTAAAAAATGAAAAAGGTACAAAGAGGAGACACAAAGTTCTGTTAGTTCTTGGCATGGAATTC' # ID : L03306.1"
   ]
  },
  {
   "cell_type": "code",
   "execution_count": 49,
   "metadata": {
    "tags": []
   },
   "outputs": [],
   "source": [
    "s1,s2,score = needle_wunch(seq1,seq2,S_dna,d,True)"
   ]
  },
  {
   "cell_type": "code",
   "execution_count": 59,
   "metadata": {
    "tags": [
     "outputPrepend"
    ]
   },
   "outputs": [
    {
     "output_type": "stream",
     "name": "stdout",
     "text": "TAC---------A-A-AAA----TATTAG-\nL03306.1  \t ACTTTAAAAAATGAAAAAGGTACAAAGAGGAGACACAAAGTTCTGTTAGT\n\nAF358259.1\t CTCT----ACT-AAAAA--TAC---------A-A-AAA----TATTAG--\nL03306.1  \t CTTTAAAAAATGAAAAAGGTACAAAGAGGAGACACAAAGTTCTGTTAGTT\n\nAF358259.1\t TCT----ACT-AAAAA--TAC---------A-A-AAA----TATTAG--C\nL03306.1  \t TTTAAAAAATGAAAAAGGTACAAAGAGGAGACACAAAGTTCTGTTAGTTC\n\nAF358259.1\t CT----ACT-AAAAA--TAC---------A-A-AAA----TATTAG--CC\nL03306.1  \t TTAAAAAATGAAAAAGGTACAAAGAGGAGACACAAAGTTCTGTTAGTTCT\n\nAF358259.1\t T----ACT-AAAAA--TAC---------A-A-AAA----TATTAG--CCG\nL03306.1  \t TAAAAAATGAAAAAGGTACAAAGAGGAGACACAAAGTTCTGTTAGTTCTT\n\nAF358259.1\t ----ACT-AAAAA--TAC---------A-A-AAA----TATTAG--CCGG\nL03306.1  \t AAAAAATGAAAAAGGTACAAAGAGGAGACACAAAGTTCTGTTAGTTCTTG\n\nAF358259.1\t ---ACT-AAAAA--TAC---------A-A-AAA----TATTAG--CCGGG\nL03306.1  \t AAAAATGAAAAAGGTACAAAGAGGAGACACAAAGTTCTGTTAGTTCTTGG\n\nAF358259.1\t --ACT-AAAAA--TAC---------A-A-AAA----TATTAG--CCGGGC\nL03306.1  \t AAAATGAAAAAGGTACAAAGAGGAGACACAAAGTTCTGTTAGTTCTTGGC\n\nAF358259.1\t -ACT-AAAAA--TAC---------A-A-AAA----TATTAG--CCGGGCA\nL03306.1  \t AAATGAAAAAGGTACAAAGAGGAGACACAAAGTTCTGTTAGTTCTTGGCA\n\nAF358259.1\t ACT-AAAAA--TAC---------A-A-AAA----TATTAG--CCGGGCAT\nL03306.1  \t AATGAAAAAGGTACAAAGAGGAGACACAAAGTTCTGTTAGTTCTTGGCAT\n\nAF358259.1\t CT-AAAAA--TAC---------A-A-AAA----TATTAG--CCGGGCATG\nL03306.1  \t ATGAAAAAGGTACAAAGAGGAGACACAAAGTTCTGTTAGTTCTTGGCATG\n\nAF358259.1\t T-AAAAA--TAC---------A-A-AAA----TATTAG--CCGGGCATGG\nL03306.1  \t TGAAAAAGGTACAAAGAGGAGACACAAAGTTCTGTTAGTTCTTGGCATGG\n\nAF358259.1\t -AAAAA--TAC---------A-A-AAA----TATTAG--CCGGGCATGG-\nL03306.1  \t GAAAAAGGTACAAAGAGGAGACACAAAGTTCTGTTAGTTCTTGGCATGGA\n\nAF358259.1\t AAAAA--TAC---------A-A-AAA----TATTAG--CCGGGCATGG--\nL03306.1  \t AAAAAGGTACAAAGAGGAGACACAAAGTTCTGTTAGTTCTTGGCATGGAA\n\nAF358259.1\t AAAA--TAC---------A-A-AAA----TATTAG--CCGGGCATGG--T\nL03306.1  \t AAAAGGTACAAAGAGGAGACACAAAGTTCTGTTAGTTCTTGGCATGGAAT\n\nAF358259.1\t AAA--TAC---------A-A-AAA----TATTAG--CCGGGCATGG--TG\nL03306.1  \t AAAGGTACAAAGAGGAGACACAAAGTTCTGTTAGTTCTTGGCATGGAATT\n\n"
    }
   ],
   "source": [
    "print(\"The sequence alignments are :\\n\")\n",
    "for i in range(len(s1)-50):\n",
    "    print('AF358259.1\\t',s1[i:i+50])\n",
    "    print('L03306.1  \\t',s2[i:i+50])\n",
    "    print()"
   ]
  },
  {
   "cell_type": "code",
   "execution_count": 43,
   "metadata": {
    "tags": []
   },
   "outputs": [
    {
     "output_type": "stream",
     "name": "stdout",
     "text": "The score for the above sequences is :  1692193.0\n"
    }
   ],
   "source": [
    "print('The score for the above sequences is : ',score)"
   ]
  },
  {
   "source": [
    "#### Needle\n",
    "\n",
    "The needle output is :\n",
    "\n",
    "```\n",
    "AF358259.1         1 --------------------------------------------------      0\n",
    "                                                                       \n",
    "L03306.1           1 ATGCCGCGCGTCGTCCCGGACCAGAGGAGCAAGTTCGAGAACGAGGAGTT     50\n",
    "\n",
    "AF358259.1         1 -TTCAGTAAACATTA----CGATTGTGCAAAAGTAAAGAGTGTGTTTATT     45\n",
    "                      |||||.||.| |.|    |||  ||||.|.|.||   |||         \n",
    "L03306.1          51 CTTCAGGAAGC-TGAGCCGCGA--GTGCGAGATTA---AGT---------     85\n",
    "\n",
    "AF358259.1        46 TGTAAAACAAGAATTAGGTTTGGCTCAATACTCATGCAATACCTACAACT     95\n",
    "                           |||.|          ||||      |||.|   .|||..|    \n",
    "L03306.1          86 ------ACACG----------GGCT------TCAGG---GACCGGC----    106\n",
    "\n",
    "AF358259.1        96 GAGGATTCTTCCCAGGGGGACCGCAGCCTGTCAG-CATGGCTCAAGAGTG    144\n",
    "                               ||||.|.|||.|||       ||| ||.|..||.||    \n",
    "L03306.1         107 ----------CCCACGAGGAGCGC-------CAGACACGCTTCCAG----    135\n",
    "\n",
    "AF358259.1       145 TGGGAACTACAAAATCCAGCCTGGGAAGGTGG--------------TTGT    180\n",
    "                                ||..||.||| |.||.|||.|              ||||\n",
    "L03306.1         136 -----------AACGCCTGCC-GCGACGGTCGCTCGGAGATCGCTTTTGT    173\n",
    "\n",
    "AF358259.1       181 G--TTCATCAAGCCCACCT-----TCCCATTCT-------------GCA-    209\n",
    "                     |  |.||..|| ||.|.||     |||..||.|             ||| \n",
    "L03306.1         174 GGCTACAGGAA-CCAATCTGTCTCTCCAGTTTTTTCCGGCCAGCTGGCAG    222\n",
    "\n",
    "AF358259.1       210 GGAGGACCCAAGAGATCCTCAGTCAACTGCCCATCAAACA---AGGGCTT    256\n",
    "                     ||||.||   ||.||                   ||||||   ||    .\n",
    "L03306.1         223 GGAGAAC---AGCGA-------------------CAAACACCTAG----C    246\n",
    "\n",
    "AF358259.1       257 CTGGAATTTGTC------GAGATCACAACCA--CCAACCACACT--AA--    294\n",
    "                     |.|||||.||||      |||| .|.||.||  |.|...|.|||  ||  \n",
    "L03306.1         247 CGGGAATATGTCGACTTAGAGA-GAGAAGCAGGCAAGGTATACTTGAAGG    295\n",
    "\n",
    "AF358259.1       295 ----CAAGATTC--AA--GA-------TTATTTGGAACAGCT--------    321\n",
    "                         ||.|||||  ||  ||       ||||.|||||..|||        \n",
    "L03306.1         296 CTCCCATGATTCTGAATGGAGTGTGTGTTATATGGAAGGGCTGGATTGAT    345\n",
    "\n",
    "AF358259.1       322 ---CACGGGAGCAAGA---------ATGGG--GCCTTGAGTCTTTATCAG    357\n",
    "                        |||       |||         |||||  ||||.|||| ||.||.||\n",
    "L03306.1         346 CTCCAC-------AGATTGGATGGTATGGGTTGCCTGGAGT-TTGATGAG    387\n",
    "\n",
    "AF358259.1       358 TAAAGATTGTA-TAGGCAGATGCAGTGATCTAGTCACTATGCAATAGAGT    406\n",
    "                     .|..||....| .|||.|||||||     .||| ||     |||.||   \n",
    "L03306.1         388 GAGCGAGCCCAGCAGGAAGATGCA-----TTAG-CA-----CAACAG---    423\n",
    "\n",
    "AF358259.1       407 GGGGAACTGC---TGACGCGGCT-AAAGCAG-ATTGGAG-TTTTGCAGTA    450\n",
    "                             ||   |||.|.|||| .|||.|| |.|.||| .||||     \n",
    "L03306.1         424 --------GCCTTTGAAGAGGCTCGAAGAAGAACTCGAGAATTTG-----    460\n",
    "\n",
    "AF358259.1       451 ACCACAGAG-CAGGCCACACGCTGACTTTCCTCCTCAAGAGCTGGATGGC    499\n",
    "                     |..|.|||| ||||.|.|||            |...|.||..|||| |||\n",
    "L03306.1         461 AGGATAGAGACAGGTCTCAC------------CGGGAGGAAATGGA-GGC    497\n",
    "\n",
    "AF358259.1       500 ATTGCATGTGATGACAGCA-----CT--TCCTGGTGGAT-GAATTTGGGG    541\n",
    "                     |       .||.|||||||     ||  |||||||   | .||.||.||.\n",
    "L03306.1         498 A-------AGAAGACAGCAAGACCCTAGTCCTGGT---TCTAACTTAGGT    537\n",
    "\n",
    "AF358259.1       542 GG----------CACAAACAGCTTTTTTCTTCTTTTGCCTCAGTATTTAA    581\n",
    "                     ||          |.||||          ||||.||               \n",
    "L03306.1         538 GGCGGTGATGATCTCAAA----------CTTCGTT---------------    562\n",
    "\n",
    "AF358259.1       582 AAGTGGATCAACTTGCTCTTGACCACGGGGCCAAGAAGGTTGATGGG--C    629\n",
    "                     |||||||.||             ||             |.|.|||.|  |\n",
    "L03306.1         563 AAGTGGAGCA-------------CA-------------GCTTATGTGCCC    586\n",
    "\n",
    "AF358259.1       630 CATCT----------TGGTTTTCTTCTTGATGTG---------CTCTTTG    660\n",
    "                     |||||          ||     |||||.|.|| |         |||.|||\n",
    "L03306.1         587 CATCTCTACACACACTG-----CTTCTAGTTG-GTATAAATAACTCATTG    630\n",
    "\n",
    "AF358259.1       661 GTTTT-----CAGAAGATTGTGACA--------------AGTT------C    685\n",
    "                     |         ||||| |.|||||||              ||||      .\n",
    "L03306.1         631 G----GCGACCAGAA-ACTGTGACAACTGGAGGGACTGCAGTTGGTTTCA    675\n",
    "\n",
    "AF358259.1       686 TGGCCT-AGG------ATTCGCTCACTCAC--CCTCAATTGTTCTTTCTC    726\n",
    "                     |||||| |||      |..|| ||||.|||  ||   ||.||| ||.|.|\n",
    "L03306.1         676 TGGCCTGAGGCAGTGAAGACG-TCACCCACTGCC---ATGGTT-TTGCAC    720\n",
    "\n",
    "AF358259.1       727 TTT--GGCACGCGTTTCTTACTGTTCTCCACGTGTCGGCATGCCTCTGCC    774\n",
    "                     |.|  .||..||.|||| ||.|.||....|..|||               \n",
    "L03306.1         721 TATAATGCCTGCATTTC-TAATTTTTAAAATATGT---------------    754\n",
    "\n",
    "AF358259.1       775 TCTAAGCCAGTGTT--TTTCAACTATGTTTCTA---CAGACTCCTTCTC-    818\n",
    "                         |||||||..|  |||.||.|.|.||||||   .||    |||.|| \n",
    "L03306.1         755 ----AGCCAGTAATAATTTGAAATTTTTTTCTATGCAAG----CTTATCT    796\n",
    "\n",
    "AF358259.1       819 ------CACAAT----GATGAATC-----------CTTGGTTGGTTTT--    845\n",
    "                           ||..||    |.||.|||           |||..||..||||  \n",
    "L03306.1         797 TGTTGGCATTATTTTAGTTGTATCGAAAGTATATACTTTCTTCATTTTAA    846\n",
    "\n",
    "AF358259.1       846 CT-----GCTACTGCCCATT--------AGCT--GAAAT---CATTT---    874\n",
    "                     ||     |||..|| .||||        ||.|  |||||   .||||   \n",
    "L03306.1         847 CTTAAAAGCTCATG-TCATTTAGAAACAAGATAAGAAATTAAAATTTGTA    895\n",
    "\n",
    "AF358259.1       875 ----------------TTCCTCTTGACTTT--GTGGAGTTGGTGTTA---    903\n",
    "                                     |||.|.|..|||||  |..||||||||..||   \n",
    "L03306.1         896 TCAGGGTTGCTTAACATTCTTTTATACTTTCAGACGAGTTGGTTATACAG    945\n",
    "\n",
    "AF358259.1       904 ---------TGAAATCAG-----TGGGTATTTTGAATGTGTTCTTTCAAA    939\n",
    "                              |.|.||.||     |.||| |||||..|||.||||      \n",
    "L03306.1         946 CTTTCCTCCTTAGATAAGGGTTCTTGGT-TTTTGTTTGTTTTCT------    988\n",
    "\n",
    "AF358259.1       940 CGACTGCATCTC------------TCCGGAGACACAACCCCACCCCATCC    977\n",
    "                     |.||..|||.||            ||.|              |.||||  \n",
    "L03306.1         989 CTACATCATTTCGTGTTTTTGTATTCTG--------------CACCAT--   1022\n",
    "\n",
    "AF358259.1       978 CATCCCACCTTGAGAATCACTGCTCTGAACCAGTG------------TTG   1015\n",
    "                              ||.|.||        .||||...|||            ||.\n",
    "L03306.1        1023 ---------TTTACAA--------ATGAAGATGTGTTTGCAGTTATTTTT   1055\n",
    "\n",
    "AF358259.1      1016 TCCACCT------------------TGTCCTCTCACAGATCTC--ATAGG   1045\n",
    "                     ||||.||                  ||| ||..||||| .|||  |.|..\n",
    "L03306.1        1056 TCCAGCTATAAACCTAGAATAGAGCTGT-CTGCCACAG-CCTCCTAAAAC   1103\n",
    "\n",
    "AF358259.1      1046 AAATGTTCAACAATTCTGTGAAAGCTCTCAGGA----CTCAACTG-----   1086\n",
    "                     |||.||| .|||.|  |||.||||| |.|||.|    .||||.||     \n",
    "L03306.1        1104 AAACGTT-TACAGT--TGTTAAAGC-CACAGTATCCTTTCAAATGCTGAT   1149\n",
    "\n",
    "AF358259.1      1087 -------------------GAGAAA---TCATAT--------GAAAAGTT   1106\n",
    "                                        ||.|||   |||.||        |.|.||||\n",
    "L03306.1        1150 AGTCACCCTATCCCCTTTAGACAAAAATTCACATTAGTATTAGTACAGTT   1199\n",
    "\n",
    "AF358259.1      1107 AAGCATAGTTGGTCTTGCTGTCATATGGATCAG---AGGCACAAGTGCAG   1153\n",
    "                     ||       ||..||.||| ||      |.|||   ||.||||.| ||| \n",
    "L03306.1        1200 AA-------TGAACTGGCT-TC------AACAGACTAGCCACATG-GCA-   1233\n",
    "\n",
    "AF358259.1      1154 AGGCTGTGGTCGTGTAGAACACTCTGTTATTTA----AGATGGCCATCCA   1199\n",
    "                            ||||        ||   |..|||..|    ||.|..|||  ||\n",
    "L03306.1        1234 -------GGTC--------CA---TACTATCCACAGGAGCTTCCCA--CA   1263\n",
    "\n",
    "AF358259.1      1200 GATAATCCTGAACACTGTGTATTTATTTGATTTAGAGTACCAGCAAAAAT   1249\n",
    "                     | |||.|     |||||                 .||.|..||.|||..|\n",
    "L03306.1        1264 G-TAAGC-----CACTG-----------------AAGCAAAAGAAAATGT   1290\n",
    "\n",
    "AF358259.1      1250 TAAAGCACAAAATGTAAAA---CATTGAGAAA------ACTTACAGCCC-   1289\n",
    "                     |.|||||||.|| |||.||   .||..|||||      |.||    ||| \n",
    "L03306.1        1291 TTAAGCACACAA-GTAGAAGTCTATGAAGAAACGCCATAGTT----CCCA   1335\n",
    "\n",
    "AF358259.1      1290 --------CCTACCCTAAGAGTGTATCTCTGAAAGAGCCCCCAATG---C   1328\n",
    "                             |||       ||.||||| ||.||.||..|     |||   .\n",
    "L03306.1        1336 TGGTGGGGCCT-------GACTGTAT-TCAGACAGTTC-----ATGGCAT   1372\n",
    "\n",
    "AF358259.1      1329 TTTGAA-------AACT-AAGAATCCCTTGGGCCAGGCGCAGTGGC-TGA   1369\n",
    "                     ||||.|       |||| .||.|||..|||   ||  ..||||  | .||\n",
    "L03306.1        1373 TTTGCATTAAGGGAACTGCAGCATCAGTTG---CA--AACAGT--CAAGA   1415\n",
    "\n",
    "AF358259.1      1370 CGCCTGTAATCCCAGCACTTTGGGAGGCCGAGGCAGGCAGATCACGAGGT   1419\n",
    "                     |      ||.||||     |.|..|||||                    .\n",
    "L03306.1        1416 C------AAACCCA-----TCGTAAGGCC--------------------A   1434\n",
    "\n",
    "AF358259.1      1420 CAGGA--GATCGAGACCATCCTGGCTAA---CACGGTGAAACCCCGTCTC   1464\n",
    "                     |||||  ||.|  |||||       |||   |||..|.|||         \n",
    "L03306.1        1435 CAGGAATGAAC--GACCA-------TAAGTTCACTTTAAAA---------   1466\n",
    "\n",
    "AF358259.1      1465 TACTAAAAA---TACAAAAA---------------TATTAG--CCGGGCA   1494\n",
    "                      |.|.||||   ||||||.|               |.||||  |..||||\n",
    "L03306.1        1467 -AATGAAAAAGGTACAAAGAGGAGACACAAAGTTCTGTTAGTTCTTGGCA   1515\n",
    "\n",
    "AF358259.1      1495 TGG---TGG   1500\n",
    "                     |||   |. \n",
    "L03306.1        1516 TGGAATTC-   1523\n",
    "```"
   ],
   "cell_type": "markdown",
   "metadata": {}
  },
  {
   "source": [
    "#### Protein Sequences"
   ],
   "cell_type": "markdown",
   "metadata": {}
  },
  {
   "cell_type": "code",
   "execution_count": 61,
   "metadata": {},
   "outputs": [],
   "source": [
    "seq1 = 'MSSSSWLLLSLVAVTAAQSTIEEQAKTFLDKFNHEAEDLFYQSSLASWNYNTNITEENVQNMNNAGDKWSAFLKEQSTLAQMYPLQEIQNLTVKLQLQALQQNGSSVLSEDKSKRLNTILNTMSTIYSTGKVCNPDNPQECLLLEPGLNEIMANSLDYNERLWAWESWRSEVGKQLRPLYEEYVVLKNEMARANHYEDYGDYWRGDYEVNGVDGYDYSRGQLIEDVEHTFEEIKPLYEHLHAYVRAKLMNAYPSYISPIGCLPAHLLGDMWGRFWTNLYSLTVPFGQKPNIDVTDAMVDQAWDAQRIFKEAEKFFVSVGLPNMTQGFWENSMLTDPGNVQKAVCHPTAWDLGKGDFRILMCTKVTMDDFLTAHHEMGHIQYDMAYAAQPFLLRNGANEGFHEAVGEIMSLSAATPKHLKSIGLLSPDFQEDNETEINFLLKQALTIVGTLPFTYMLEKWRWMVFKGEIPKDQWMKKWWEMKREIVGVVEPVPHDETYCDPASLFHVSNDYSFIRYYTRTLYQFQFQEALCQAAKHEGPLHKCDISNSTEAGQKLFNMLRLGKSEPWTLALENVVGAKNMNVRPLLNYFEPLFTWLKDQNKNSFVGWSTDWSPYADQSIKVRISLKSALGDKAYEWNDNEMYLFRSSVAYAMRQYFLKVKNQMILFGEEDVRVANLKPRISFNFFVTAPKNVSDIIPRTEVEKAIRMSRSRINDAFRLNDNSLEFLGIQPTLGPPNQPPVSIWLIVFGVVMGVIVVGIVILIFTGIRDRKKKNKARSGENPYASIDISKGENNPGFQNTDDVQTSF' \n",
    "# ID : sp|Q9BYF1|ACE2_HUMAN\n",
    "\n",
    "seq2 = 'MSSSCWLLLSLVAVATAQSLIEEKAESFLNKFNQEAEDLSYQSSLASWNYNTNITEENAQKMNEAAAKWSAFYEEQSKIAQNFSLQEIQNATIKRQLKALQQSGSSALSPDKNKQLNTILNTMSTIYSTGKVCNSMNPQECFLLEPGLDEIMATSTDYNRRLWAWEGWRAEVGKQLRPLYEEYVVLKNEMARANNYEDYGDYWRGDYEAEGVEGYNYNRNQLIEDVENTFKEIKPLYEQLHAYVRTKLMEVYPSYISPTGCLPAHLLGDMWGRFWTNLYPLTTPFLQKPNIDVTDAMVNQSWDAERIFKEAEKFFVSVGLPQMTPGFWTNSMLTEPGDDRKVVCHPTAWDLGHGDFRIKMCTKVTMDNFLTAHHEMGHIQYDMAYAKQPFLLRNGANEGFHEAVGEIMSLSAATPKHLKSIGLLPSNFQEDNETEINFLLKQALTIVGTLPFTYMLEKWRWMVFQDKIPREQWTKKWWEMKREIVGVVEPLPHDETYCDPASLFHVSNDYSFIRYYTRTIYQFQFQEALCQAAKHDGPLHKCDISNSTEAGQKLLNMLSLGNSGPWTLALENVVGSRNMDVKPLLNYFQPLFVWLKEQNRNSTVGWSTDWSPYADQSIKVRISLKSALGKNAYEWTDNEMYLFRSSVAYAMREYFSREKNQTVPFGEADVWVSDLKPRVSFNFFVTSPKNVSDIIPRSEVEEAIRMSRGRINDIFGLNDNSLEFLGIYPTLKPPYEPPVTIWLIIFGVVMGTVVVGIVILIVTGIKGRKKKNETKREENPYDSMDIGKGESNAGFQNSDDAQTSF' \n",
    "# ID : sp|Q5EGZ1|ACE2_RAT"
   ]
  },
  {
   "cell_type": "code",
   "execution_count": 62,
   "metadata": {},
   "outputs": [],
   "source": [
    "s1,s2,score = needle_wunch(seq1,seq2,S_pro,d,False)"
   ]
  },
  {
   "source": [
    "print(\"The sequence alignments are :\\n\")\n",
    "for i in range(len(s1)-50):\n",
    "    print('sp|Q9BYF1|ACE2_HUMAN\\t',s1[i:i+50])\n",
    "    print('sp|Q5EGZ1|ACE2_RAT  \\t',s2[i:i+50])\n",
    "    print()"
   ],
   "cell_type": "code",
   "metadata": {
    "tags": [
     "outputPrepend"
    ]
   },
   "execution_count": 69,
   "outputs": [
    {
     "output_type": "stream",
     "name": "stdout",
     "text": "ACAAAAATA-TTAG\nsp|Q5EGZ1|ACE2_RAT  \t A-GGAATGAACGACCATAAGTTCACTTTAAAAAATGAAAAAGGTACAAAG\n\nsp|Q9BYF1|ACE2_HUMAN\t CGG--TGAA--ACC--CCG-TCTCTACTAAAAAT-ACAAAAATA-TTAGC\nsp|Q5EGZ1|ACE2_RAT  \t -GGAATGAACGACCATAAGTTCACTTTAAAAAATGAAAAAGGTACAAAGA\n\nsp|Q9BYF1|ACE2_HUMAN\t GG--TGAA--ACC--CCG-TCTCTACTAAAAAT-ACAAAAATA-TTAGCC\nsp|Q5EGZ1|ACE2_RAT  \t GGAATGAACGACCATAAGTTCACTTTAAAAAATGAAAAAGGTACAAAGAG\n\nsp|Q9BYF1|ACE2_HUMAN\t G--TGAA--ACC--CCG-TCTCTACTAAAAAT-ACAAAAATA-TTAGCCG\nsp|Q5EGZ1|ACE2_RAT  \t GAATGAACGACCATAAGTTCACTTTAAAAAATGAAAAAGGTACAAAGAGG\n\nsp|Q9BYF1|ACE2_HUMAN\t --TGAA--ACC--CCG-TCTCTACTAAAAAT-ACAAAAATA-TTAGCCG-\nsp|Q5EGZ1|ACE2_RAT  \t AATGAACGACCATAAGTTCACTTTAAAAAATGAAAAAGGTACAAAGAGGA\n\nsp|Q9BYF1|ACE2_HUMAN\t -TGAA--ACC--CCG-TCTCTACTAAAAAT-ACAAAAATA-TTAGCCG-G\nsp|Q5EGZ1|ACE2_RAT  \t ATGAACGACCATAAGTTCACTTTAAAAAATGAAAAAGGTACAAAGAGGAG\n\nsp|Q9BYF1|ACE2_HUMAN\t TGAA--ACC--CCG-TCTCTACTAAAAAT-ACAAAAATA-TTAGCCG-G-\nsp|Q5EGZ1|ACE2_RAT  \t TGAACGACCATAAGTTCACTTTAAAAAATGAAAAAGGTACAAAGAGGAGA\n\nsp|Q9BYF1|ACE2_HUMAN\t GAA--ACC--CCG-TCTCTACTAAAAAT-ACAAAAATA-TTAGCCG-G--\nsp|Q5EGZ1|ACE2_RAT  \t GAACGACCATAAGTTCACTTTAAAAAATGAAAAAGGTACAAAGAGGAGAC\n\nsp|Q9BYF1|ACE2_HUMAN\t AA--ACC--CCG-TCTCTACTAAAAAT-ACAAAAATA-TTAGCCG-G--G\nsp|Q5EGZ1|ACE2_RAT  \t AACGACCATAAGTTCACTTTAAAAAATGAAAAAGGTACAAAGAGGAGACA\n\nsp|Q9BYF1|ACE2_HUMAN\t A--ACC--CCG-TCTCTACTAAAAAT-ACAAAAATA-TTAGCCG-G--GC\nsp|Q5EGZ1|ACE2_RAT  \t ACGACCATAAGTTCACTTTAAAAAATGAAAAAGGTACAAAGAGGAGACAC\n\nsp|Q9BYF1|ACE2_HUMAN\t --ACC--CCG-TCTCTACTAAAAAT-ACAAAAATA-TTAGCCG-G--GCA\nsp|Q5EGZ1|ACE2_RAT  \t CGACCATAAGTTCACTTTAAAAAATGAAAAAGGTACAAAGAGGAGACACA\n\nsp|Q9BYF1|ACE2_HUMAN\t -ACC--CCG-TCTCTACTAAAAAT-ACAAAAATA-TTAGCCG-G--GCAT\nsp|Q5EGZ1|ACE2_RAT  \t GACCATAAGTTCACTTTAAAAAATGAAAAAGGTACAAAGAGGAGACACAA\n\nsp|Q9BYF1|ACE2_HUMAN\t ACC--CCG-TCTCTACTAAAAAT-ACAAAAATA-TTAGCCG-G--GCATG\nsp|Q5EGZ1|ACE2_RAT  \t ACCATAAGTTCACTTTAAAAAATGAAAAAGGTACAAAGAGGAGACACAAA\n\nsp|Q9BYF1|ACE2_HUMAN\t CC--CCG-TCTCTACTAAAAAT-ACAAAAATA-TTAGCCG-G--GCATGG\nsp|Q5EGZ1|ACE2_RAT  \t CCATAAGTTCACTTTAAAAAATGAAAAAGGTACAAAGAGGAGACACAAAG\n\n"
    }
   ]
  },
  {
   "cell_type": "code",
   "execution_count": 66,
   "metadata": {
    "tags": []
   },
   "outputs": [
    {
     "output_type": "stream",
     "name": "stdout",
     "text": "The score for the above sequences is :  1448430.0\n"
    }
   ],
   "source": [
    "print('The score for the above sequences is : ',score)"
   ]
  },
  {
   "source": [
    "#### Needle\n",
    "\n",
    "The output given by Needle is :\n",
    "\n",
    "```\n",
    "ACE2_HUMAN         1 MSSSSWLLLSLVAVTAAQSTIEEQAKTFLDKFNHEAEDLFYQSSLASWNY     50\n",
    "                     ||||.|||||||||..|||.|||:|::||:|||.|||||.||||||||||\n",
    "ACE2_RAT           1 MSSSCWLLLSLVAVATAQSLIEEKAESFLNKFNQEAEDLSYQSSLASWNY     50\n",
    "\n",
    "ACE2_HUMAN        51 NTNITEENVQNMNNAGDKWSAFLKEQSTLAQMYPLQEIQNLTVKLQLQAL    100\n",
    "                     ||||||||.|.||.|..|||||.:|||.:||.:.||||||.|:|.||:||\n",
    "ACE2_RAT          51 NTNITEENAQKMNEAAAKWSAFYEEQSKIAQNFSLQEIQNATIKRQLKAL    100\n",
    "\n",
    "ACE2_HUMAN       101 QQNGSSVLSEDKSKRLNTILNTMSTIYSTGKVCNPDNPQECLLLEPGLNE    150\n",
    "                     ||:|||.||.||:|:|||||||||||||||||||..|||||.||||||:|\n",
    "ACE2_RAT         101 QQSGSSALSPDKNKQLNTILNTMSTIYSTGKVCNSMNPQECFLLEPGLDE    150\n",
    "\n",
    "ACE2_HUMAN       151 IMANSLDYNERLWAWESWRSEVGKQLRPLYEEYVVLKNEMARANHYEDYG    200\n",
    "                     |||.|.|||.||||||.||:||||||||||||||||||||||||:|||||\n",
    "ACE2_RAT         151 IMATSTDYNRRLWAWEGWRAEVGKQLRPLYEEYVVLKNEMARANNYEDYG    200\n",
    "\n",
    "ACE2_HUMAN       201 DYWRGDYEVNGVDGYDYSRGQLIEDVEHTFEEIKPLYEHLHAYVRAKLMN    250\n",
    "                     ||||||||..||:||:|:|.|||||||:||:|||||||.||||||.|||.\n",
    "ACE2_RAT         201 DYWRGDYEAEGVEGYNYNRNQLIEDVENTFKEIKPLYEQLHAYVRTKLME    250\n",
    "\n",
    "ACE2_HUMAN       251 AYPSYISPIGCLPAHLLGDMWGRFWTNLYSLTVPFGQKPNIDVTDAMVDQ    300\n",
    "                     .|||||||.||||||||||||||||||||.||.||.||||||||||||:|\n",
    "ACE2_RAT         251 VYPSYISPTGCLPAHLLGDMWGRFWTNLYPLTTPFLQKPNIDVTDAMVNQ    300\n",
    "\n",
    "ACE2_HUMAN       301 AWDAQRIFKEAEKFFVSVGLPNMTQGFWENSMLTDPGNVQKAVCHPTAWD    350\n",
    "                     :|||:||||||||||||||||.||.|||.|||||:||:.:|.||||||||\n",
    "ACE2_RAT         301 SWDAERIFKEAEKFFVSVGLPQMTPGFWTNSMLTEPGDDRKVVCHPTAWD    350\n",
    "\n",
    "ACE2_HUMAN       351 LGKGDFRILMCTKVTMDDFLTAHHEMGHIQYDMAYAAQPFLLRNGANEGF    400\n",
    "                     ||.|||||.||||||||:||||||||||||||||||.|||||||||||||\n",
    "ACE2_RAT         351 LGHGDFRIKMCTKVTMDNFLTAHHEMGHIQYDMAYAKQPFLLRNGANEGF    400\n",
    "\n",
    "ACE2_HUMAN       401 HEAVGEIMSLSAATPKHLKSIGLLSPDFQEDNETEINFLLKQALTIVGTL    450\n",
    "                     ||||||||||||||||||||||||..:|||||||||||||||||||||||\n",
    "ACE2_RAT         401 HEAVGEIMSLSAATPKHLKSIGLLPSNFQEDNETEINFLLKQALTIVGTL    450\n",
    "\n",
    "ACE2_HUMAN       451 PFTYMLEKWRWMVFKGEIPKDQWMKKWWEMKREIVGVVEPVPHDETYCDP    500\n",
    "                     ||||||||||||||:.:||::||.||||||||||||||||:|||||||||\n",
    "ACE2_RAT         451 PFTYMLEKWRWMVFQDKIPREQWTKKWWEMKREIVGVVEPLPHDETYCDP    500\n",
    "\n",
    "ACE2_HUMAN       501 ASLFHVSNDYSFIRYYTRTLYQFQFQEALCQAAKHEGPLHKCDISNSTEA    550\n",
    "                     |||||||||||||||||||:|||||||||||||||:||||||||||||||\n",
    "ACE2_RAT         501 ASLFHVSNDYSFIRYYTRTIYQFQFQEALCQAAKHDGPLHKCDISNSTEA    550\n",
    "\n",
    "ACE2_HUMAN       551 GQKLFNMLRLGKSEPWTLALENVVGAKNMNVRPLLNYFEPLFTWLKDQNK    600\n",
    "                     ||||.|||.||.|.|||||||||||::||:|:||||||:|||.|||:||:\n",
    "ACE2_RAT         551 GQKLLNMLSLGNSGPWTLALENVVGSRNMDVKPLLNYFQPLFVWLKEQNR    600\n",
    "\n",
    "ACE2_HUMAN       601 NSFVGWSTDWSPYADQSIKVRISLKSALGDKAYEWNDNEMYLFRSSVAYA    650\n",
    "                     ||.||||||||||||||||||||||||||..||||.||||||||||||||\n",
    "ACE2_RAT         601 NSTVGWSTDWSPYADQSIKVRISLKSALGKNAYEWTDNEMYLFRSSVAYA    650\n",
    "\n",
    "ACE2_HUMAN       651 MRQYFLKVKNQMILFGEEDVRVANLKPRISFNFFVTAPKNVSDIIPRTEV    700\n",
    "                     ||:||.:.|||.:.|||.||.|::||||:|||||||:||||||||||:||\n",
    "ACE2_RAT         651 MREYFSREKNQTVPFGEADVWVSDLKPRVSFNFFVTSPKNVSDIIPRSEV    700\n",
    "\n",
    "ACE2_HUMAN       701 EKAIRMSRSRINDAFRLNDNSLEFLGIQPTLGPPNQPPVSIWLIVFGVVM    750\n",
    "                     |:||||||.||||.|.|||||||||||.|||.||.:|||:||||:|||||\n",
    "ACE2_RAT         701 EEAIRMSRGRINDIFGLNDNSLEFLGIYPTLKPPYEPPVTIWLIIFGVVM    750\n",
    "\n",
    "ACE2_HUMAN       751 GVIVVGIVILIFTGIRDRKKKNKARSGENPYASIDISKGENNPGFQNTDD    800\n",
    "                     |.:||||||||.|||:.|||||:.:..||||.|:||.|||:|.||||:||\n",
    "ACE2_RAT         751 GTVVVGIVILIVTGIKGRKKKNETKREENPYDSMDIGKGESNAGFQNSDD    800\n",
    "\n",
    "ACE2_HUMAN       801 VQTSF    805\n",
    "                     .||||\n",
    "ACE2_RAT         801 AQTSF    805\n",
    "```"
   ],
   "cell_type": "markdown",
   "metadata": {}
  },
  {
   "source": [
    "### Local Alignment\n",
    "\n",
    "The comparision between EMBOSS water and Smith-Waterman algorithm implemented"
   ],
   "cell_type": "markdown",
   "metadata": {}
  },
  {
   "source": [
    "#### DNA Sequences"
   ],
   "cell_type": "markdown",
   "metadata": {}
  },
  {
   "cell_type": "code",
   "execution_count": 67,
   "metadata": {},
   "outputs": [],
   "source": [
    "## DNA Molecules\n",
    "\n",
    "seq1 = 'TTCAGTAAACATTACGATTGTGCAAAAGTAAAGAGTGTGTTTATTTGTAAAACAAGAATTAGGTTTGGCTCAATACTCATGCAATACCTACAACTGAGGATTCTTCCCAGGGGGACCGCAGCCTGTCAGCATGGCTCAAGAGTGTGGGAACTACAAAATCCAGCCTGGGAAGGTGGTTGTGTTCATCAAGCCCACCTTCCCATTCTGCAGGAGGACCCAAGAGATCCTCAGTCAACTGCCCATCAAACAAGGGCTTCTGGAATTTGTCGAGATCACAACCACCAACCACACTAACAAGATTCAAGATTATTTGGAACAGCTCACGGGAGCAAGAATGGGGCCTTGAGTCTTTATCAGTAAAGATTGTATAGGCAGATGCAGTGATCTAGTCACTATGCAATAGAGTGGGGAACTGCTGACGCGGCTAAAGCAGATTGGAGTTTTGCAGTAACCACAGAGCAGGCCACACGCTGACTTTCCTCCTCAAGAGCTGGATGGCATTGCATGTGATGACAGCACTTCCTGGTGGATGAATTTGGGGGGCACAAACAGCTTTTTTCTTCTTTTGCCTCAGTATTTAAAAGTGGATCAACTTGCTCTTGACCACGGGGCCAAGAAGGTTGATGGGCCATCTTGGTTTTCTTCTTGATGTGCTCTTTGGTTTTCAGAAGATTGTGACAAGTTCTGGCCTAGGATTCGCTCACTCACCCTCAATTGTTCTTTCTCTTTGGCACGCGTTTCTTACTGTTCTCCACGTGTCGGCATGCCTCTGCCTCTAAGCCAGTGTTTTTCAACTATGTTTCTACAGACTCCTTCTCCACAATGATGAATCCTTGGTTGGTTTTCTGCTACTGCCCATTAGCTGAAATCATTTTTCCTCTTGACTTTGTGGAGTTGGTGTTATGAAATCAGTGGGTATTTTGAATGTGTTCTTTCAAACGACTGCATCTCTCCGGAGACACAACCCCACCCCATCCCATCCCACCTTGAGAATCACTGCTCTGAACCAGTGTTGTCCACCTTGTCCTCTCACAGATCTCATAGGAAATGTTCAACAATTCTGTGAAAGCTCTCAGGACTCAACTGGAGAAATCATATGAAAAGTTAAGCATAGTTGGTCTTGCTGTCATATGGATCAGAGGCACAAGTGCAGAGGCTGTGGTCGTGTAGAACACTCTGTTATTTAAGATGGCCATCCAGATAATCCTGAACACTGTGTATTTATTTGATTTAGAGTACCAGCAAAAATTAAAGCACAAAATGTAAAACATTGAGAAAACTTACAGCCCCCTACCCTAAGAGTGTATCTCTGAAAGAGCCCCCAATGCTTTGAAAACTAAGAATCCCTTGGGCCAGGCGCAGTGGCTGACGCCTGTAATCCCAGCACTTTGGGAGGCCGAGGCAGGCAGATCACGAGGTCAGGAGATCGAGACCATCCTGGCTAACACGGTGAAACCCCGTCTCTACTAAAAATACAAAAATATTAGCCGGGCATGGTGG' # ID : AF358259.1\n",
    "\n",
    "seq2 = 'ATGCCGCGCGTCGTCCCGGACCAGAGGAGCAAGTTCGAGAACGAGGAGTTCTTCAGGAAGCTGAGCCGCGAGTGCGAGATTAAGTACACGGGCTTCAGGGACCGGCCCCACGAGGAGCGCCAGACACGCTTCCAGAACGCCTGCCGCGACGGTCGCTCGGAGATCGCTTTTGTGGCTACAGGAACCAATCTGTCTCTCCAGTTTTTTCCGGCCAGCTGGCAGGGAGAACAGCGACAAACACCTAGCCGGGAATATGTCGACTTAGAGAGAGAAGCAGGCAAGGTATACTTGAAGGCTCCCATGATTCTGAATGGAGTGTGTGTTATATGGAAGGGCTGGATTGATCTCCACAGATTGGATGGTATGGGTTGCCTGGAGTTTGATGAGGAGCGAGCCCAGCAGGAAGATGCATTAGCACAACAGGCCTTTGAAGAGGCTCGAAGAAGAACTCGAGAATTTGAGGATAGAGACAGGTCTCACCGGGAGGAAATGGAGGCAAGAAGACAGCAAGACCCTAGTCCTGGTTCTAACTTAGGTGGCGGTGATGATCTCAAACTTCGTTAAGTGGAGCACAGCTTATGTGCCCCATCTCTACACACACTGCTTCTAGTTGGTATAAATAACTCATTGGGCGACCAGAAACTGTGACAACTGGAGGGACTGCAGTTGGTTTCATGGCCTGAGGCAGTGAAGACGTCACCCACTGCCATGGTTTTGCACTATAATGCCTGCATTTCTAATTTTTAAAATATGTAGCCAGTAATAATTTGAAATTTTTTTCTATGCAAGCTTATCTTGTTGGCATTATTTTAGTTGTATCGAAAGTATATACTTTCTTCATTTTAACTTAAAAGCTCATGTCATTTAGAAACAAGATAAGAAATTAAAATTTGTATCAGGGTTGCTTAACATTCTTTTATACTTTCAGACGAGTTGGTTATACAGCTTTCCTCCTTAGATAAGGGTTCTTGGTTTTTGTTTGTTTTCTCTACATCATTTCGTGTTTTTGTATTCTGCACCATTTTACAAATGAAGATGTGTTTGCAGTTATTTTTTCCAGCTATAAACCTAGAATAGAGCTGTCTGCCACAGCCTCCTAAAACAAACGTTTACAGTTGTTAAAGCCACAGTATCCTTTCAAATGCTGATAGTCACCCTATCCCCTTTAGACAAAAATTCACATTAGTATTAGTACAGTTAATGAACTGGCTTCAACAGACTAGCCACATGGCAGGTCCATACTATCCACAGGAGCTTCCCACAGTAAGCCACTGAAGCAAAAGAAAATGTTTAAGCACACAAGTAGAAGTCTATGAAGAAACGCCATAGTTCCCATGGTGGGGCCTGACTGTATTCAGACAGTTCATGGCATTTTGCATTAAGGGAACTGCAGCATCAGTTGCAAACAGTCAAGACAAACCCATCGTAAGGCCACAGGAATGAACGACCATAAGTTCACTTTAAAAAATGAAAAAGGTACAAAGAGGAGACACAAAGTTCTGTTAGTTCTTGGCATGGAATTC' # ID : L03306.1"
   ]
  },
  {
   "cell_type": "code",
   "execution_count": 68,
   "metadata": {},
   "outputs": [],
   "source": [
    "s1,s2,score = smith_water(seq1,seq2,S_pro,d,False)"
   ]
  },
  {
   "cell_type": "code",
   "execution_count": 70,
   "metadata": {
    "tags": [
     "outputPrepend"
    ]
   },
   "outputs": [
    {
     "output_type": "stream",
     "name": "stdout",
     "text": "CG-TCTCTACTAAAAAT-ACAAAAATA-TT\nL03306.1  \t ACA-GGAATGAACGACCATAAGTTCACTTTAAAAAATGAAAAAGGTACAA\n\nAF358259.1\t CACGG--TGAA--ACC--CCG-TCTCTACTAAAAAT-ACAAAAATA-TTA\nL03306.1  \t CA-GGAATGAACGACCATAAGTTCACTTTAAAAAATGAAAAAGGTACAAA\n\nAF358259.1\t ACGG--TGAA--ACC--CCG-TCTCTACTAAAAAT-ACAAAAATA-TTAG\nL03306.1  \t A-GGAATGAACGACCATAAGTTCACTTTAAAAAATGAAAAAGGTACAAAG\n\nAF358259.1\t CGG--TGAA--ACC--CCG-TCTCTACTAAAAAT-ACAAAAATA-TTAGC\nL03306.1  \t -GGAATGAACGACCATAAGTTCACTTTAAAAAATGAAAAAGGTACAAAGA\n\nAF358259.1\t GG--TGAA--ACC--CCG-TCTCTACTAAAAAT-ACAAAAATA-TTAGCC\nL03306.1  \t GGAATGAACGACCATAAGTTCACTTTAAAAAATGAAAAAGGTACAAAGAG\n\nAF358259.1\t G--TGAA--ACC--CCG-TCTCTACTAAAAAT-ACAAAAATA-TTAGCCG\nL03306.1  \t GAATGAACGACCATAAGTTCACTTTAAAAAATGAAAAAGGTACAAAGAGG\n\nAF358259.1\t --TGAA--ACC--CCG-TCTCTACTAAAAAT-ACAAAAATA-TTAGCCG-\nL03306.1  \t AATGAACGACCATAAGTTCACTTTAAAAAATGAAAAAGGTACAAAGAGGA\n\nAF358259.1\t -TGAA--ACC--CCG-TCTCTACTAAAAAT-ACAAAAATA-TTAGCCG-G\nL03306.1  \t ATGAACGACCATAAGTTCACTTTAAAAAATGAAAAAGGTACAAAGAGGAG\n\nAF358259.1\t TGAA--ACC--CCG-TCTCTACTAAAAAT-ACAAAAATA-TTAGCCG-G-\nL03306.1  \t TGAACGACCATAAGTTCACTTTAAAAAATGAAAAAGGTACAAAGAGGAGA\n\nAF358259.1\t GAA--ACC--CCG-TCTCTACTAAAAAT-ACAAAAATA-TTAGCCG-G--\nL03306.1  \t GAACGACCATAAGTTCACTTTAAAAAATGAAAAAGGTACAAAGAGGAGAC\n\nAF358259.1\t AA--ACC--CCG-TCTCTACTAAAAAT-ACAAAAATA-TTAGCCG-G--G\nL03306.1  \t AACGACCATAAGTTCACTTTAAAAAATGAAAAAGGTACAAAGAGGAGACA\n\nAF358259.1\t A--ACC--CCG-TCTCTACTAAAAAT-ACAAAAATA-TTAGCCG-G--GC\nL03306.1  \t ACGACCATAAGTTCACTTTAAAAAATGAAAAAGGTACAAAGAGGAGACAC\n\nAF358259.1\t --ACC--CCG-TCTCTACTAAAAAT-ACAAAAATA-TTAGCCG-G--GCA\nL03306.1  \t CGACCATAAGTTCACTTTAAAAAATGAAAAAGGTACAAAGAGGAGACACA\n\nAF358259.1\t -ACC--CCG-TCTCTACTAAAAAT-ACAAAAATA-TTAGCCG-G--GCAT\nL03306.1  \t GACCATAAGTTCACTTTAAAAAATGAAAAAGGTACAAAGAGGAGACACAA\n\nAF358259.1\t ACC--CCG-TCTCTACTAAAAAT-ACAAAAATA-TTAGCCG-G--GCATG\nL03306.1  \t ACCATAAGTTCACTTTAAAAAATGAAAAAGGTACAAAGAGGAGACACAAA\n\nAF358259.1\t CC--CCG-TCTCTACTAAAAAT-ACAAAAATA-TTAGCCG-G--GCATGG\nL03306.1  \t CCATAAGTTCACTTTAAAAAATGAAAAAGGTACAAAGAGGAGACACAAAG\n\n"
    }
   ],
   "source": [
    "print(\"The sequence alignments are :\\n\")\n",
    "for i in range(len(s1)-50):\n",
    "    print('AF358259.1\\t',s1[i:i+50])\n",
    "    print('L03306.1  \\t',s2[i:i+50])\n",
    "    print()"
   ]
  },
  {
   "cell_type": "code",
   "execution_count": 72,
   "metadata": {
    "tags": []
   },
   "outputs": [
    {
     "output_type": "stream",
     "name": "stdout",
     "text": "The score for the above sequences is :  3192539.0\n"
    }
   ],
   "source": [
    "print('The score for the above sequences is : ',score)"
   ]
  },
  {
   "source": [
    "#### Water\n",
    "\n",
    "The output given by EMBOSS water is :\n",
    "\n",
    "```\n",
    "AF358259.1         1 TTCAGTAAACATTA----CGATTGTGCAAAAGTAAAGAGTGTGTTTATTT     46\n",
    "                     |||||.||.| |.|    |||  ||||.|.|.|||               \n",
    "L03306.1          52 TTCAGGAAGC-TGAGCCGCGA--GTGCGAGATTAA---------------     83\n",
    "\n",
    "AF358259.1        47 GTAAAACAAGAATTAGGTTTGGCTCAATACTCATGCAATACCTACAACTG     96\n",
    "                     ||   |||.|          ||||      |||.|   .|||..|     \n",
    "L03306.1          84 GT---ACACG----------GGCT------TCAGG---GACCGGC-----    106\n",
    "\n",
    "AF358259.1        97 AGGATTCTTCCCAGGGGGACCGCAGCCTGTCAG-CATGGCTCAAGAGTGT    145\n",
    "                              ||||.|.|||.|||       ||| ||.|..||.||     \n",
    "L03306.1         107 ---------CCCACGAGGAGCGC-------CAGACACGCTTCCAG-----    135\n",
    "\n",
    "AF358259.1       146 GGGAACTACAAAATCCAGCCTGGGAAGGTGG--------------TTGTG    181\n",
    "                               ||..||.||| |.||.|||.|              |||||\n",
    "L03306.1         136 ----------AACGCCTGCC-GCGACGGTCGCTCGGAGATCGCTTTTGTG    174\n",
    "\n",
    "AF358259.1       182 --TTCATCAAGCCCACCT-----TCCCATTCT-------------GCA-G    210\n",
    "                       |.||..|| ||.|.||     |||..||.|             ||| |\n",
    "L03306.1         175 GCTACAGGAA-CCAATCTGTCTCTCCAGTTTTTTCCGGCCAGCTGGCAGG    223\n",
    "\n",
    "AF358259.1       211 GAGGACCCAAGAGATCCTCAGTCAACTGCCCATCAAACA---AGGGCTTC    257\n",
    "                     |||.||   ||.||                   ||||||   ||    .|\n",
    "L03306.1         224 GAGAAC---AGCGA-------------------CAAACACCTAG----CC    247\n",
    "\n",
    "AF358259.1       258 TGGAATTTGTC------GAGATCACAACCA--CCAACCACACT--AA---    294\n",
    "                     .|||||.||||      |||| .|.||.||  |.|...|.|||  ||   \n",
    "L03306.1         248 GGGAATATGTCGACTTAGAGA-GAGAAGCAGGCAAGGTATACTTGAAGGC    296\n",
    "\n",
    "AF358259.1       295 ---CAAGATTC--AA--GA-------TTATTTGGAACAGCT---------    321\n",
    "                        ||.|||||  ||  ||       ||||.|||||..|||         \n",
    "L03306.1         297 TCCCATGATTCTGAATGGAGTGTGTGTTATATGGAAGGGCTGGATTGATC    346\n",
    "\n",
    "AF358259.1       322 --CACGGGAGCAAGA---------ATGGG--GCCTTGAGTCTTTATCAGT    358\n",
    "                       |||       |||         |||||  ||||.|||| ||.||.||.\n",
    "L03306.1         347 TCCAC-------AGATTGGATGGTATGGGTTGCCTGGAGT-TTGATGAGG    388\n",
    "\n",
    "AF358259.1       359 AAAGATTGTA-TAGGCAGATGCAGTGATCTAGTCACTATGCAATAGAGTG    407\n",
    "                     |..||....| .|||.|||||||     .||| ||     |||.||    \n",
    "L03306.1         389 AGCGAGCCCAGCAGGAAGATGCA-----TTAG-CA-----CAACAG----    423\n",
    "\n",
    "AF358259.1       408 GGGAACTGC---TGACGCGGCT-AAAGCAG-ATTGGAG-TTTTGCAGTAA    451\n",
    "                            ||   |||.|.|||| .|||.|| |.|.||| .||||     |\n",
    "L03306.1         424 -------GCCTTTGAAGAGGCTCGAAGAAGAACTCGAGAATTTG-----A    461\n",
    "\n",
    "AF358259.1       452 CCACAGAG-CAGGCCACACGCTGACTTTCCTCCTCAAGAGCTGGATGGCA    500\n",
    "                     ..|.|||| ||||.|.|||            |...|.||..|||| ||||\n",
    "L03306.1         462 GGATAGAGACAGGTCTCAC------------CGGGAGGAAATGGA-GGCA    498\n",
    "\n",
    "AF358259.1       501 TTGCATGTGATGACAGCA-----CT--TCCTGGTGGAT-GAATTTGGGGG    542\n",
    "                            .||.|||||||     ||  |||||||   | .||.||.||.|\n",
    "L03306.1         499 -------AGAAGACAGCAAGACCCTAGTCCTGGT---TCTAACTTAGGTG    538\n",
    "\n",
    "AF358259.1       543 G----------CACAAACAGCTTTTTTCTTCTTTTGCCTCAGTATTTAAA    582\n",
    "                     |          |.||||          ||||.||               |\n",
    "L03306.1         539 GCGGTGATGATCTCAAA----------CTTCGTT---------------A    563\n",
    "\n",
    "AF358259.1       583 AGTGGATCAACTTGCTCTTGACCACGGGGCCAAGAAGGTTGATGGG--CC    630\n",
    "                     ||||||.||                     ||     |.|.|||.|  ||\n",
    "L03306.1         564 AGTGGAGCA---------------------CA-----GCTTATGTGCCCC    587\n",
    "\n",
    "AF358259.1       631 ATCT----------TGGTTTTCTTCTTGATGTG---------CTCTTTGG    661\n",
    "                     ||||          ||     |||||.|.|| |         |||.||||\n",
    "L03306.1         588 ATCTCTACACACACTG-----CTTCTAGTTG-GTATAAATAACTCATTGG    631\n",
    "\n",
    "AF358259.1       662 TTTT-----CAGAAGATTGTGACAA------------------GTT--CT    686\n",
    "                              ||||| |.||||||||                  |||  .|\n",
    "L03306.1         632 ----GCGACCAGAA-ACTGTGACAACTGGAGGGACTGCAGTTGGTTTCAT    676\n",
    "\n",
    "AF358259.1       687 GGCCT-AGG------ATTCGCTCACTCAC--CCTCAATTGTTCTTTCTCT    727\n",
    "                     ||||| |||      |..|| ||||.|||  ||   ||.||| ||.|.||\n",
    "L03306.1         677 GGCCTGAGGCAGTGAAGACG-TCACCCACTGCC---ATGGTT-TTGCACT    721\n",
    "\n",
    "AF358259.1       728 TT--GGCACGCGTTTCTTACTGTTCTCCACGTGTCGGCATGCCTCTGCCT    775\n",
    "                     .|  .||..||.|||| ||.|.||....|..|||                \n",
    "L03306.1         722 ATAATGCCTGCATTTC-TAATTTTTAAAATATGT----------------    754\n",
    "\n",
    "AF358259.1       776 CTAAGCCAGTGTT--TTTCAACTATGTTTCTA---CAGACTCCTTCTC--    818\n",
    "                        |||||||..|  |||.||.|.|.||||||   .||    |||.||  \n",
    "L03306.1         755 ---AGCCAGTAATAATTTGAAATTTTTTTCTATGCAAG----CTTATCTT    797\n",
    "\n",
    "AF358259.1       819 -----CACAAT----GATGAATC-----------CTTGGTTGGTTTT--C    846\n",
    "                          ||..||    |.||.|||           |||..||..||||  |\n",
    "L03306.1         798 GTTGGCATTATTTTAGTTGTATCGAAAGTATATACTTTCTTCATTTTAAC    847\n",
    "\n",
    "AF358259.1       847 T-----GCTACTGCCCATT--------AGCT--GAAAT---CATTT----    874\n",
    "                     |     |||..|| .||||        ||.|  |||||   .||||    \n",
    "L03306.1         848 TTAAAAGCTCATG-TCATTTAGAAACAAGATAAGAAATTAAAATTTGTAT    896\n",
    "\n",
    "AF358259.1       875 ---------------TTCCTCTTGACTTT--GTGGAGTTGGTGTTA----    903\n",
    "                                    |||.|.|..|||||  |..||||||||..||    \n",
    "L03306.1         897 CAGGGTTGCTTAACATTCTTTTATACTTTCAGACGAGTTGGTTATACAGC    946\n",
    "\n",
    "AF358259.1       904 --------TGAAATCAG-----TGGGTATTTTGAATGTGTTCTTTCAAAC    940\n",
    "                             |.|.||.||     |.||| |||||..|||.||||      |\n",
    "L03306.1         947 TTTCCTCCTTAGATAAGGGTTCTTGGT-TTTTGTTTGTTTTCT------C    989\n",
    "\n",
    "AF358259.1       941 GACTGCATCTC------------TCCGGAGACACAACCCCACCCCATCCC    978\n",
    "                     .||..|||.||            ||.|.|                   ||\n",
    "L03306.1         990 TACATCATTTCGTGTTTTTGTATTCTGCA-------------------CC   1020\n",
    "\n",
    "AF358259.1       979 ATCCCACCTTGAGAATCACTGCTCTGAACCAGTG------------TTGT   1016\n",
    "                     ||      ||.|.||        .||||...|||            ||.|\n",
    "L03306.1        1021 AT------TTTACAA--------ATGAAGATGTGTTTGCAGTTATTTTTT   1056\n",
    "\n",
    "AF358259.1      1017 CCACCT------------------TGTCCTCTCACAGATCTC--ATAGGA   1046\n",
    "                     |||.||                  ||| ||..||||| .|||  |.|..|\n",
    "L03306.1        1057 CCAGCTATAAACCTAGAATAGAGCTGT-CTGCCACAG-CCTCCTAAAACA   1104\n",
    "\n",
    "AF358259.1      1047 AATGTTCAACAATTCTGTGAAAGCTCTCAGGA----CTCAACTG------   1086\n",
    "                     ||.||| .|||.|  |||.||||| |.|||.|    .||||.||      \n",
    "L03306.1        1105 AACGTT-TACAGT--TGTTAAAGC-CACAGTATCCTTTCAAATGCTGATA   1150\n",
    "\n",
    "AF358259.1      1087 ------------------GAGAAA---TCATAT--------GAAAAGTTA   1107\n",
    "                                       ||.|||   |||.||        |.|.|||||\n",
    "L03306.1        1151 GTCACCCTATCCCCTTTAGACAAAAATTCACATTAGTATTAGTACAGTTA   1200\n",
    "\n",
    "AF358259.1      1108 AGCATAGTTGGTCTTGCTGTCATATGGATCAG---AGGCACAAGTGCAGA   1154\n",
    "                     |       ||..||.||| ||      |.|||   ||.||||.| |||  \n",
    "L03306.1        1201 A-------TGAACTGGCT-TC------AACAGACTAGCCACATG-GCA--   1233\n",
    "\n",
    "AF358259.1      1155 GGCTGTGGTCGTGTAGAACACTCTGTTATTTA----AGATGGCCATCCAG   1200\n",
    "                           ||||        ||   |..|||..|    ||.|..|||  |||\n",
    "L03306.1        1234 ------GGTC--------CA---TACTATCCACAGGAGCTTCCCA--CAG   1264\n",
    "\n",
    "AF358259.1      1201 ATAATCCTGAACACTGTGTATTTATTTGATTTAGAGTACCAGCAAAAATT   1250\n",
    "                      |||.|     |||||                 .||.|..||.|||..||\n",
    "L03306.1        1265 -TAAGC-----CACTG-----------------AAGCAAAAGAAAATGTT   1291\n",
    "\n",
    "AF358259.1      1251 AAAGCACAAAATGTAAAA---CATTGAGAAA------ACTTACAGCCC--   1289\n",
    "                     .|||||||.|| |||.||   .||..|||||      |.||    |||  \n",
    "L03306.1        1292 TAAGCACACAA-GTAGAAGTCTATGAAGAAACGCCATAGTT----CCCAT   1336\n",
    "\n",
    "AF358259.1      1290 -------CCTACCCTAAGAGTGTATCTCTGAAAGAGCCCCCAATG---CT   1329\n",
    "                            |||       ||.||||| ||.||.||..|     |||   .|\n",
    "L03306.1        1337 GGTGGGGCCT-------GACTGTAT-TCAGACAGTTC-----ATGGCATT   1373\n",
    "\n",
    "AF358259.1      1330 TTGAA-------AACT-AAGAATCCCTTGGGCCAGGCGCAGTGGC-TGAC   1370\n",
    "                     |||.|       |||| .||.|||..|||   ||  ..||||  | .|||\n",
    "L03306.1        1374 TTGCATTAAGGGAACTGCAGCATCAGTTG---CA--AACAGT--CAAGAC   1416\n",
    "\n",
    "AF358259.1      1371 GCCTGTAATCCCAGCACTTTGGGAGGCCGAGGCAGGCAGATCACGAGGTC   1420\n",
    "                           ||.||||     |.|..|||||                    .|\n",
    "L03306.1        1417 ------AAACCCA-----TCGTAAGGCC--------------------AC   1435\n",
    "\n",
    "AF358259.1      1421 AGGA--GATCGAGACCATCCTGGCTAA---CACGGTGAAACCCCGTCTCT   1465\n",
    "                     ||||  ||.|  |||||       |||   |||..|.|||          \n",
    "L03306.1        1436 AGGAATGAAC--GACCA-------TAAGTTCACTTTAAAA----------   1466\n",
    "\n",
    "AF358259.1      1466 ACTAAAAA---TACAAAAA---------------TATTAG--CCGGGCAT   1495\n",
    "                     |.|.||||   ||||||.|               |.||||  |..|||||\n",
    "L03306.1        1467 AATGAAAAAGGTACAAAGAGGAGACACAAAGTTCTGTTAGTTCTTGGCAT   1516\n",
    "\n",
    "AF358259.1      1496 GG   1497\n",
    "                     ||\n",
    "L03306.1        1517 GG   1518\n",
    "```"
   ],
   "cell_type": "markdown",
   "metadata": {}
  },
  {
   "source": [
    "#### Protein"
   ],
   "cell_type": "markdown",
   "metadata": {}
  },
  {
   "cell_type": "code",
   "execution_count": 73,
   "metadata": {},
   "outputs": [],
   "source": [
    "seq1 = 'MSSSSWLLLSLVAVTAAQSTIEEQAKTFLDKFNHEAEDLFYQSSLASWNYNTNITEENVQNMNNAGDKWSAFLKEQSTLAQMYPLQEIQNLTVKLQLQALQQNGSSVLSEDKSKRLNTILNTMSTIYSTGKVCNPDNPQECLLLEPGLNEIMANSLDYNERLWAWESWRSEVGKQLRPLYEEYVVLKNEMARANHYEDYGDYWRGDYEVNGVDGYDYSRGQLIEDVEHTFEEIKPLYEHLHAYVRAKLMNAYPSYISPIGCLPAHLLGDMWGRFWTNLYSLTVPFGQKPNIDVTDAMVDQAWDAQRIFKEAEKFFVSVGLPNMTQGFWENSMLTDPGNVQKAVCHPTAWDLGKGDFRILMCTKVTMDDFLTAHHEMGHIQYDMAYAAQPFLLRNGANEGFHEAVGEIMSLSAATPKHLKSIGLLSPDFQEDNETEINFLLKQALTIVGTLPFTYMLEKWRWMVFKGEIPKDQWMKKWWEMKREIVGVVEPVPHDETYCDPASLFHVSNDYSFIRYYTRTLYQFQFQEALCQAAKHEGPLHKCDISNSTEAGQKLFNMLRLGKSEPWTLALENVVGAKNMNVRPLLNYFEPLFTWLKDQNKNSFVGWSTDWSPYADQSIKVRISLKSALGDKAYEWNDNEMYLFRSSVAYAMRQYFLKVKNQMILFGEEDVRVANLKPRISFNFFVTAPKNVSDIIPRTEVEKAIRMSRSRINDAFRLNDNSLEFLGIQPTLGPPNQPPVSIWLIVFGVVMGVIVVGIVILIFTGIRDRKKKNKARSGENPYASIDISKGENNPGFQNTDDVQTSF' \n",
    "# ID : sp|Q9BYF1|ACE2_HUMAN\n",
    "\n",
    "seq2 = 'MSSSCWLLLSLVAVATAQSLIEEKAESFLNKFNQEAEDLSYQSSLASWNYNTNITEENAQKMNEAAAKWSAFYEEQSKIAQNFSLQEIQNATIKRQLKALQQSGSSALSPDKNKQLNTILNTMSTIYSTGKVCNSMNPQECFLLEPGLDEIMATSTDYNRRLWAWEGWRAEVGKQLRPLYEEYVVLKNEMARANNYEDYGDYWRGDYEAEGVEGYNYNRNQLIEDVENTFKEIKPLYEQLHAYVRTKLMEVYPSYISPTGCLPAHLLGDMWGRFWTNLYPLTTPFLQKPNIDVTDAMVNQSWDAERIFKEAEKFFVSVGLPQMTPGFWTNSMLTEPGDDRKVVCHPTAWDLGHGDFRIKMCTKVTMDNFLTAHHEMGHIQYDMAYAKQPFLLRNGANEGFHEAVGEIMSLSAATPKHLKSIGLLPSNFQEDNETEINFLLKQALTIVGTLPFTYMLEKWRWMVFQDKIPREQWTKKWWEMKREIVGVVEPLPHDETYCDPASLFHVSNDYSFIRYYTRTIYQFQFQEALCQAAKHDGPLHKCDISNSTEAGQKLLNMLSLGNSGPWTLALENVVGSRNMDVKPLLNYFQPLFVWLKEQNRNSTVGWSTDWSPYADQSIKVRISLKSALGKNAYEWTDNEMYLFRSSVAYAMREYFSREKNQTVPFGEADVWVSDLKPRVSFNFFVTSPKNVSDIIPRSEVEEAIRMSRGRINDIFGLNDNSLEFLGIYPTLKPPYEPPVTIWLIIFGVVMGTVVVGIVILIVTGIKGRKKKNETKREENPYDSMDIGKGESNAGFQNSDDAQTSF' \n",
    "# ID : sp|Q5EGZ1|ACE2_RAT"
   ]
  },
  {
   "cell_type": "code",
   "execution_count": 74,
   "metadata": {},
   "outputs": [],
   "source": [
    "s1,s2,score = smith_water(seq1,seq2,S_pro,d,False)"
   ]
  },
  {
   "cell_type": "code",
   "execution_count": 75,
   "metadata": {
    "tags": [
     "outputPrepend"
    ]
   },
   "outputs": [
    {
     "output_type": "stream",
     "name": "stdout",
     "text": "ENPYASIDISKGEN\nsp|Q5EGZ1|ACE2_RAT  \t LIIFGVVMGTVVVGIVILIVTGIKGRKKKNETKR-EENPYDSMDIGKGES\n\nsp|Q9BYF1|ACE2_HUMAN\t IVFGVVMGVIVVGIVILIFTGIRDRKKKNKARSG-ENPYASIDISKGENN\nsp|Q5EGZ1|ACE2_RAT  \t IIFGVVMGTVVVGIVILIVTGIKGRKKKNETKR-EENPYDSMDIGKGESN\n\nsp|Q9BYF1|ACE2_HUMAN\t VFGVVMGVIVVGIVILIFTGIRDRKKKNKARSG-ENPYASIDISKGENNP\nsp|Q5EGZ1|ACE2_RAT  \t IFGVVMGTVVVGIVILIVTGIKGRKKKNETKR-EENPYDSMDIGKGESNA\n\nsp|Q9BYF1|ACE2_HUMAN\t FGVVMGVIVVGIVILIFTGIRDRKKKNKARSG-ENPYASIDISKGENNPG\nsp|Q5EGZ1|ACE2_RAT  \t FGVVMGTVVVGIVILIVTGIKGRKKKNETKR-EENPYDSMDIGKGESNAG\n\nsp|Q9BYF1|ACE2_HUMAN\t GVVMGVIVVGIVILIFTGIRDRKKKNKARSG-ENPYASIDISKGENNPGF\nsp|Q5EGZ1|ACE2_RAT  \t GVVMGTVVVGIVILIVTGIKGRKKKNETKR-EENPYDSMDIGKGESNAGF\n\nsp|Q9BYF1|ACE2_HUMAN\t VVMGVIVVGIVILIFTGIRDRKKKNKARSG-ENPYASIDISKGENNPGFQ\nsp|Q5EGZ1|ACE2_RAT  \t VVMGTVVVGIVILIVTGIKGRKKKNETKR-EENPYDSMDIGKGESNAGFQ\n\nsp|Q9BYF1|ACE2_HUMAN\t VMGVIVVGIVILIFTGIRDRKKKNKARSG-ENPYASIDISKGENNPGFQN\nsp|Q5EGZ1|ACE2_RAT  \t VMGTVVVGIVILIVTGIKGRKKKNETKR-EENPYDSMDIGKGESNAGFQN\n\nsp|Q9BYF1|ACE2_HUMAN\t MGVIVVGIVILIFTGIRDRKKKNKARSG-ENPYASIDISKGENNPGFQNT\nsp|Q5EGZ1|ACE2_RAT  \t MGTVVVGIVILIVTGIKGRKKKNETKR-EENPYDSMDIGKGESNAGFQNS\n\nsp|Q9BYF1|ACE2_HUMAN\t GVIVVGIVILIFTGIRDRKKKNKARSG-ENPYASIDISKGENNPGFQNTD\nsp|Q5EGZ1|ACE2_RAT  \t GTVVVGIVILIVTGIKGRKKKNETKR-EENPYDSMDIGKGESNAGFQNSD\n\nsp|Q9BYF1|ACE2_HUMAN\t VIVVGIVILIFTGIRDRKKKNKARSG-ENPYASIDISKGENNPGFQNTDD\nsp|Q5EGZ1|ACE2_RAT  \t TVVVGIVILIVTGIKGRKKKNETKR-EENPYDSMDIGKGESNAGFQNSDD\n\nsp|Q9BYF1|ACE2_HUMAN\t IVVGIVILIFTGIRDRKKKNKARSG-ENPYASIDISKGENNPGFQNTDDV\nsp|Q5EGZ1|ACE2_RAT  \t VVVGIVILIVTGIKGRKKKNETKR-EENPYDSMDIGKGESNAGFQNSDDA\n\nsp|Q9BYF1|ACE2_HUMAN\t VVGIVILIFTGIRDRKKKNKARSG-ENPYASIDISKGENNPGFQNTDDVQ\nsp|Q5EGZ1|ACE2_RAT  \t VVGIVILIVTGIKGRKKKNETKR-EENPYDSMDIGKGESNAGFQNSDDAQ\n\nsp|Q9BYF1|ACE2_HUMAN\t VGIVILIFTGIRDRKKKNKARSG-ENPYASIDISKGENNPGFQNTDDVQT\nsp|Q5EGZ1|ACE2_RAT  \t VGIVILIVTGIKGRKKKNETKR-EENPYDSMDIGKGESNAGFQNSDDAQT\n\nsp|Q9BYF1|ACE2_HUMAN\t GIVILIFTGIRDRKKKNKARSG-ENPYASIDISKGENNPGFQNTDDVQTS\nsp|Q5EGZ1|ACE2_RAT  \t GIVILIVTGIKGRKKKNETKR-EENPYDSMDIGKGESNAGFQNSDDAQTS\n\n"
    }
   ],
   "source": [
    "print(\"The sequence alignments are :\\n\")\n",
    "for i in range(len(s1)-50):\n",
    "    print('sp|Q9BYF1|ACE2_HUMAN\\t',s1[i:i+50])\n",
    "    print('sp|Q5EGZ1|ACE2_RAT  \\t',s2[i:i+50])\n",
    "    print()"
   ]
  },
  {
   "cell_type": "code",
   "execution_count": 76,
   "metadata": {
    "tags": []
   },
   "outputs": [
    {
     "output_type": "stream",
     "name": "stdout",
     "text": "The score for the above sequences is :  1448430.0\n"
    }
   ],
   "source": [
    "print('The score for the above sequences is : ',score)"
   ]
  },
  {
   "source": [
    "#### Water\n",
    "\n",
    "The output of EMBOSS water is :\n",
    "\n",
    "```\n",
    "ACE2_HUMAN         1 MSSSSWLLLSLVAVTAAQSTIEEQAKTFLDKFNHEAEDLFYQSSLASWNY     50\n",
    "                     ||||.|||||||||..|||.|||:|::||:|||.|||||.||||||||||\n",
    "ACE2_RAT           1 MSSSCWLLLSLVAVATAQSLIEEKAESFLNKFNQEAEDLSYQSSLASWNY     50\n",
    "\n",
    "ACE2_HUMAN        51 NTNITEENVQNMNNAGDKWSAFLKEQSTLAQMYPLQEIQNLTVKLQLQAL    100\n",
    "                     ||||||||.|.||.|..|||||.:|||.:||.:.||||||.|:|.||:||\n",
    "ACE2_RAT          51 NTNITEENAQKMNEAAAKWSAFYEEQSKIAQNFSLQEIQNATIKRQLKAL    100\n",
    "\n",
    "ACE2_HUMAN       101 QQNGSSVLSEDKSKRLNTILNTMSTIYSTGKVCNPDNPQECLLLEPGLNE    150\n",
    "                     ||:|||.||.||:|:|||||||||||||||||||..|||||.||||||:|\n",
    "ACE2_RAT         101 QQSGSSALSPDKNKQLNTILNTMSTIYSTGKVCNSMNPQECFLLEPGLDE    150\n",
    "\n",
    "ACE2_HUMAN       151 IMANSLDYNERLWAWESWRSEVGKQLRPLYEEYVVLKNEMARANHYEDYG    200\n",
    "                     |||.|.|||.||||||.||:||||||||||||||||||||||||:|||||\n",
    "ACE2_RAT         151 IMATSTDYNRRLWAWEGWRAEVGKQLRPLYEEYVVLKNEMARANNYEDYG    200\n",
    "\n",
    "ACE2_HUMAN       201 DYWRGDYEVNGVDGYDYSRGQLIEDVEHTFEEIKPLYEHLHAYVRAKLMN    250\n",
    "                     ||||||||..||:||:|:|.|||||||:||:|||||||.||||||.|||.\n",
    "ACE2_RAT         201 DYWRGDYEAEGVEGYNYNRNQLIEDVENTFKEIKPLYEQLHAYVRTKLME    250\n",
    "\n",
    "ACE2_HUMAN       251 AYPSYISPIGCLPAHLLGDMWGRFWTNLYSLTVPFGQKPNIDVTDAMVDQ    300\n",
    "                     .|||||||.||||||||||||||||||||.||.||.||||||||||||:|\n",
    "ACE2_RAT         251 VYPSYISPTGCLPAHLLGDMWGRFWTNLYPLTTPFLQKPNIDVTDAMVNQ    300\n",
    "\n",
    "ACE2_HUMAN       301 AWDAQRIFKEAEKFFVSVGLPNMTQGFWENSMLTDPGNVQKAVCHPTAWD    350\n",
    "                     :|||:||||||||||||||||.||.|||.|||||:||:.:|.||||||||\n",
    "ACE2_RAT         301 SWDAERIFKEAEKFFVSVGLPQMTPGFWTNSMLTEPGDDRKVVCHPTAWD    350\n",
    "\n",
    "ACE2_HUMAN       351 LGKGDFRILMCTKVTMDDFLTAHHEMGHIQYDMAYAAQPFLLRNGANEGF    400\n",
    "                     ||.|||||.||||||||:||||||||||||||||||.|||||||||||||\n",
    "ACE2_RAT         351 LGHGDFRIKMCTKVTMDNFLTAHHEMGHIQYDMAYAKQPFLLRNGANEGF    400\n",
    "\n",
    "ACE2_HUMAN       401 HEAVGEIMSLSAATPKHLKSIGLLSPDFQEDNETEINFLLKQALTIVGTL    450\n",
    "                     ||||||||||||||||||||||||..:|||||||||||||||||||||||\n",
    "ACE2_RAT         401 HEAVGEIMSLSAATPKHLKSIGLLPSNFQEDNETEINFLLKQALTIVGTL    450\n",
    "\n",
    "ACE2_HUMAN       451 PFTYMLEKWRWMVFKGEIPKDQWMKKWWEMKREIVGVVEPVPHDETYCDP    500\n",
    "                     ||||||||||||||:.:||::||.||||||||||||||||:|||||||||\n",
    "ACE2_RAT         451 PFTYMLEKWRWMVFQDKIPREQWTKKWWEMKREIVGVVEPLPHDETYCDP    500\n",
    "\n",
    "ACE2_HUMAN       501 ASLFHVSNDYSFIRYYTRTLYQFQFQEALCQAAKHEGPLHKCDISNSTEA    550\n",
    "                     |||||||||||||||||||:|||||||||||||||:||||||||||||||\n",
    "ACE2_RAT         501 ASLFHVSNDYSFIRYYTRTIYQFQFQEALCQAAKHDGPLHKCDISNSTEA    550\n",
    "\n",
    "ACE2_HUMAN       551 GQKLFNMLRLGKSEPWTLALENVVGAKNMNVRPLLNYFEPLFTWLKDQNK    600\n",
    "                     ||||.|||.||.|.|||||||||||::||:|:||||||:|||.|||:||:\n",
    "ACE2_RAT         551 GQKLLNMLSLGNSGPWTLALENVVGSRNMDVKPLLNYFQPLFVWLKEQNR    600\n",
    "\n",
    "ACE2_HUMAN       601 NSFVGWSTDWSPYADQSIKVRISLKSALGDKAYEWNDNEMYLFRSSVAYA    650\n",
    "                     ||.||||||||||||||||||||||||||..||||.||||||||||||||\n",
    "ACE2_RAT         601 NSTVGWSTDWSPYADQSIKVRISLKSALGKNAYEWTDNEMYLFRSSVAYA    650\n",
    "\n",
    "ACE2_HUMAN       651 MRQYFLKVKNQMILFGEEDVRVANLKPRISFNFFVTAPKNVSDIIPRTEV    700\n",
    "                     ||:||.:.|||.:.|||.||.|::||||:|||||||:||||||||||:||\n",
    "ACE2_RAT         651 MREYFSREKNQTVPFGEADVWVSDLKPRVSFNFFVTSPKNVSDIIPRSEV    700\n",
    "\n",
    "ACE2_HUMAN       701 EKAIRMSRSRINDAFRLNDNSLEFLGIQPTLGPPNQPPVSIWLIVFGVVM    750\n",
    "                     |:||||||.||||.|.|||||||||||.|||.||.:|||:||||:|||||\n",
    "ACE2_RAT         701 EEAIRMSRGRINDIFGLNDNSLEFLGIYPTLKPPYEPPVTIWLIIFGVVM    750\n",
    "\n",
    "ACE2_HUMAN       751 GVIVVGIVILIFTGIRDRKKKNKARSGENPYASIDISKGENNPGFQNTDD    800\n",
    "                     |.:||||||||.|||:.|||||:.:..||||.|:||.|||:|.||||:||\n",
    "ACE2_RAT         751 GTVVVGIVILIVTGIKGRKKKNETKREENPYDSMDIGKGESNAGFQNSDD    800\n",
    "\n",
    "ACE2_HUMAN       801 VQTSF    805\n",
    "                     .||||\n",
    "ACE2_RAT         801 AQTSF    805\n",
    "```"
   ],
   "cell_type": "markdown",
   "metadata": {}
  },
  {
   "source": [
    "## Conclusion\n",
    "\n",
    "It can be clearly seen that EMBOSS needle and water do a better job of global and local alignment"
   ],
   "cell_type": "markdown",
   "metadata": {}
  }
 ]
}