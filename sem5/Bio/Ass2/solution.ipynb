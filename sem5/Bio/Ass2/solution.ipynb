{
 "metadata": {
  "language_info": {
   "codemirror_mode": {
    "name": "ipython",
    "version": 3
   },
   "file_extension": ".py",
   "mimetype": "text/x-python",
   "name": "python",
   "nbconvert_exporter": "python",
   "pygments_lexer": "ipython3",
   "version": "3.8.2-final"
  },
  "orig_nbformat": 2,
  "kernelspec": {
   "name": "python_defaultSpec_1599558230766",
   "display_name": "Python 3.8.2 64-bit"
  }
 },
 "nbformat": 4,
 "nbformat_minor": 2,
 "cells": [
  {
   "cell_type": "markdown",
   "metadata": {},
   "source": [
    "# Assignment 2\n",
    "\n",
    "Subject : Bioinformatics <br>\n",
    "Name : Kalp <br>\n",
    "Roll No : 2018113003 <br>"
   ]
  },
  {
   "cell_type": "code",
   "execution_count": 1,
   "metadata": {},
   "outputs": [],
   "source": [
    "import os\n",
    "import math\n",
    "import collections\n",
    "import itertools\n",
    "import re\n",
    "import numpy as np\n",
    "from matplotlib import pyplot as plt\n",
    "import seaborn as sns"
   ]
  },
  {
   "cell_type": "markdown",
   "metadata": {},
   "source": [
    "## Problem 1\n",
    "\n",
    "Write a program to change format of a DNA sequence: from Fasta format to Flat file format and vice versa. "
   ]
  },
  {
   "cell_type": "markdown",
   "metadata": {},
   "source": [
    "## Solution\n",
    "\n",
    "Use the BioPython library to do the conversion"
   ]
  },
  {
   "cell_type": "markdown",
   "metadata": {},
   "source": [
    "### Conversion\n",
    "\n",
    "Flat Format $\\rightarrow$ Fasta "
   ]
  },
  {
   "cell_type": "code",
   "execution_count": 2,
   "metadata": {},
   "outputs": [
    {
     "output_type": "error",
     "ename": "TypeError",
     "evalue": "'method' object is not subscriptable",
     "traceback": [
      "\u001b[0;31m---------------------------------------------------------------------------\u001b[0m",
      "\u001b[0;31mTypeError\u001b[0m                                 Traceback (most recent call last)",
      "\u001b[0;32m<ipython-input-2-a3cbd71c476a>\u001b[0m in \u001b[0;36m<module>\u001b[0;34m\u001b[0m\n\u001b[1;32m     37\u001b[0m \u001b[0;34m\u001b[0m\u001b[0m\n\u001b[1;32m     38\u001b[0m \u001b[0moutput\u001b[0m \u001b[0;34m=\u001b[0m \u001b[0minput\u001b[0m\u001b[0;34m(\u001b[0m\u001b[0;34m\"The output file name : \"\u001b[0m\u001b[0;34m)\u001b[0m\u001b[0;34m\u001b[0m\u001b[0;34m\u001b[0m\u001b[0m\n\u001b[0;32m---> 39\u001b[0;31m \u001b[0;32mif\u001b[0m \u001b[0;34m'.fasta'\u001b[0m \u001b[0;34m!=\u001b[0m \u001b[0minput\u001b[0m\u001b[0;34m[\u001b[0m\u001b[0;34m-\u001b[0m\u001b[0;36m6\u001b[0m\u001b[0;34m:\u001b[0m\u001b[0;34m]\u001b[0m\u001b[0;34m:\u001b[0m\u001b[0;34m\u001b[0m\u001b[0;34m\u001b[0m\u001b[0m\n\u001b[0m\u001b[1;32m     40\u001b[0m     \u001b[0minput\u001b[0m \u001b[0;34m=\u001b[0m \u001b[0minput\u001b[0m \u001b[0;34m+\u001b[0m \u001b[0;34m'.fasta'\u001b[0m\u001b[0;34m\u001b[0m\u001b[0;34m\u001b[0m\u001b[0m\n\u001b[1;32m     41\u001b[0m \u001b[0;34m\u001b[0m\u001b[0m\n",
      "\u001b[0;31mTypeError\u001b[0m: 'method' object is not subscriptable"
     ]
    }
   ],
   "source": [
    "def flat_to_fasta(input):\n",
    "    '''\n",
    "    The function which does a line by line conversion of .fasta file to .gb file\n",
    "\n",
    "    Parameters :\n",
    "    ------------\n",
    "    definition : str\n",
    "\n",
    "    accession : str\n",
    "\n",
    "    sequence : str\n",
    "    '''\n",
    "    ## Variables\n",
    "    definition = None \n",
    "    accession = None\n",
    "    sequence = None\n",
    "\n",
    "    ## Combining defintions and sequences\n",
    "    for strings in input.readlines():\n",
    "        if strings[:10] == 'DEFINITION':\n",
    "            definition = \" \".join(strings.split(\" \")[1:]).strip()\n",
    "        elif strings[:9] == \"ACCESSION\":\n",
    "            accession = \" \".join(strings.split(\" \")[1:]).strip()\n",
    "        elif strings[:6] == \"ORIGIN\":\n",
    "            sequence = \"\"\n",
    "        elif strings[:1] == \" \" and sequence is not None:\n",
    "            break\n",
    "        elif sequence is not None:\n",
    "            string += strings.strip().upper()\n",
    "    return '>' + definition + ' ' + accession + '\\n' + (sequence if sequence is not None else '')\n",
    "\n",
    "## Input and Output files\n",
    "## If file extension not provided, add it itself\n",
    "input_file = input(\"The input file name : \")\n",
    "if '.gb' != input_file[-2:]:\n",
    "    input_file = input_file + '.gb'\n",
    "\n",
    "output = input(\"The output file name : \")\n",
    "if '.fasta' != output[-6:]:\n",
    "    output = output + '.fasta'\n",
    "\n",
    "with open(output, 'w') as f:\n",
    "    f.write(flat_to_fasta(open(input_file, 'r')))"
   ]
  },
  {
   "cell_type": "code",
   "execution_count": 7,
   "metadata": {},
   "outputs": [
    {
     "output_type": "execute_result",
     "data": {
      "text/plain": "True"
     },
     "metadata": {},
     "execution_count": 7
    }
   ],
   "source": [
    "file = 'DEFINITION Hell'\n",
    "file[:10] == 'DEFINITION'"
   ]
  },
  {
   "cell_type": "markdown",
   "metadata": {},
   "source": [
    "### Conversion\n",
    "\n",
    "Fasta $\\rightarrow$ Flat Format "
   ]
  },
  {
   "cell_type": "code",
   "execution_count": 7,
   "metadata": {},
   "outputs": [
    {
     "output_type": "error",
     "ename": "FileNotFoundError",
     "evalue": "[Errno 2] No such file or directory: '.fasta'",
     "traceback": [
      "\u001b[0;31m---------------------------------------------------------------------------\u001b[0m",
      "\u001b[0;31mFileNotFoundError\u001b[0m                         Traceback (most recent call last)",
      "\u001b[0;32m<ipython-input-7-4ef91b89b594>\u001b[0m in \u001b[0;36m<module>\u001b[0;34m\u001b[0m\n\u001b[1;32m     52\u001b[0m \u001b[0;34m\u001b[0m\u001b[0m\n\u001b[1;32m     53\u001b[0m \u001b[0;32mwith\u001b[0m \u001b[0mopen\u001b[0m\u001b[0;34m(\u001b[0m\u001b[0moutput\u001b[0m\u001b[0;34m,\u001b[0m \u001b[0;34m'w'\u001b[0m\u001b[0;34m)\u001b[0m \u001b[0;32mas\u001b[0m \u001b[0mf\u001b[0m\u001b[0;34m:\u001b[0m\u001b[0;34m\u001b[0m\u001b[0;34m\u001b[0m\u001b[0m\n\u001b[0;32m---> 54\u001b[0;31m     \u001b[0mf\u001b[0m\u001b[0;34m.\u001b[0m\u001b[0mwrite\u001b[0m\u001b[0;34m(\u001b[0m\u001b[0mfasta_to_flat\u001b[0m\u001b[0;34m(\u001b[0m\u001b[0mopen\u001b[0m\u001b[0;34m(\u001b[0m \u001b[0minput_file\u001b[0m\u001b[0;34m,\u001b[0m \u001b[0;34m'r'\u001b[0m\u001b[0;34m)\u001b[0m\u001b[0;34m)\u001b[0m\u001b[0;34m)\u001b[0m\u001b[0;34m\u001b[0m\u001b[0;34m\u001b[0m\u001b[0m\n\u001b[0m",
      "\u001b[0;31mFileNotFoundError\u001b[0m: [Errno 2] No such file or directory: '.fasta'"
     ]
    }
   ],
   "source": [
    "def fasta_to_flat(input):\n",
    "    '''\n",
    "    The function which does a line by line conversion of .gb file to .fasta file\n",
    "\n",
    "    Parameters :\n",
    "    ------------\n",
    "    definition : str\n",
    "\n",
    "    sequence : str\n",
    "    '''\n",
    "\n",
    "    ## Variables\n",
    "    definition, sequence = None, \"\"\n",
    "    \n",
    "    ## Seperating definitons and sequences\n",
    "    for _, strings in enumerate(input.readlines()):\n",
    "        if strings[:1] == '>':\n",
    "            definition = strings[1:].strip()\n",
    "        else:\n",
    "            sequence += strings.strip()\n",
    "\n",
    "\n",
    "    header = \"{:12s}{}\\n{:12s}{}\\n{:12s}{}\\n{:12s}{}\\n{:12s}{}\\n{:12s}{}\\n{:12s}{}\\n{:12s}{}\\n{:21s}{}\\n{:s}\\n\".format(\n",
    "        \"LOCUS\", definition.split(\" \")[0],\n",
    "        \"DEFINITION\", definition,\n",
    "        \"ACCESSION\",definition.split(\" \")[0].split(\".\")[0],\n",
    "        \"VERSION\", definition.split(\" \")[0],\n",
    "        \"KEYWORDS\", \".\",\n",
    "        \"SOURCE\", \".\",\n",
    "        \"  ORGANISM\", \".\",\n",
    "        \"\", \".\",\n",
    "        \"FEATURES\", \"Location/Qualifiers\",\n",
    "        \"ORIGIN\",\n",
    "    )\n",
    "\n",
    "    l = len(sequence)\n",
    "    for i in range(0,l - 60,60):\n",
    "        for j in range(i,min(i+60,l),10):\n",
    "            genome = '\\n'.join(['{:>9} {} {} {} {} {} {}'.format(i + 1, *[sequence[j : min(j + 10, l)]])])\n",
    "\n",
    "    return header + genome + '\\n'\n",
    "\n",
    "## Input and Output files\n",
    "## If file extension not provided, add it itself\n",
    "input_file = input(\"The input file name : \")\n",
    "if '.fasta' != input_file[-6:]:\n",
    "    input_file = input_file + '.fasta'\n",
    "\n",
    "output = input(\"The output file name : \")\n",
    "if '.gb' != output[-2:]:\n",
    "    output = output + '.gb'\n",
    "\n",
    "with open(output, 'w') as f:\n",
    "    f.write(fasta_to_flat(open( input_file, 'r')))"
   ]
  },
  {
   "cell_type": "code",
   "execution_count": null,
   "metadata": {},
   "outputs": [],
   "source": []
  }
 ]
}