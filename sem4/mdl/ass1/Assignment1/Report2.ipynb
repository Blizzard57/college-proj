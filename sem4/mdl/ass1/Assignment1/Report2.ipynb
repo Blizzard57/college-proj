{
 "cells": [
  {
   "cell_type": "markdown",
   "metadata": {},
   "source": [
    "# Assignment 1\n",
    "\n",
    "#### Roll Number : 2018113003, 2018114001\n",
    "\n",
    "## Question 2"
   ]
  },
  {
   "cell_type": "code",
   "execution_count": 1,
   "metadata": {},
   "outputs": [],
   "source": [
    "## Importing dependancies\n",
    "\n",
    "from sklearn import linear_model,preprocessing\n",
    "import numpy as np\n",
    "import math\n",
    "import pickle\n",
    "import matplotlib.pyplot as plt"
   ]
  },
  {
   "cell_type": "markdown",
   "metadata": {},
   "source": [
    "## Formatting the data\n",
    "\n",
    "Formatting the data in a manner, so as to make it compatible with the previous question model, to make the whole proces similar"
   ]
  },
  {
   "cell_type": "code",
   "execution_count": 2,
   "metadata": {},
   "outputs": [],
   "source": [
    "## Opening the dataset\n",
    "\n",
    "dataset = open(\"Q2_data/Fx_test.pkl\",'rb')\n",
    "test_y = pickle.load(dataset)\n",
    "dataset = open(\"Q2_data/X_test.pkl\",'rb')\n",
    "test_x = pickle.load(dataset)\n",
    "dataset = open(\"Q2_data/Y_train.pkl\",'rb')\n",
    "train_y = pickle.load(dataset)\n",
    "dataset = open(\"Q2_data/X_train.pkl\",'rb')\n",
    "train_x = pickle.load(dataset)"
   ]
  },
  {
   "cell_type": "code",
   "execution_count": 3,
   "metadata": {},
   "outputs": [],
   "source": [
    "## Making the dataset compatible with the previous code\n",
    "\n",
    "train_x = train_x.reshape(8000)\n",
    "train_y = train_y.reshape(8000)\n",
    "\n",
    "train = []\n",
    "for i in range(8000):\n",
    "    train.append([train_x[i],train_y[i]])\n",
    "    \n",
    "train = np.asarray(train)\n",
    "\n",
    "test_x = test_x.reshape(80)\n",
    "test_y = test_y.reshape(80)\n",
    "\n",
    "test = []\n",
    "for i in range(80):\n",
    "    test.append([test_x[i],test_y[i]])\n",
    "    \n",
    "test = np.asarray(test)\n",
    "\n",
    "## Lengths for dividing the training set into 20 datasets\n",
    "lengths = [[i,399 + i] for i in range(0,len(train),400)]"
   ]
  },
  {
   "cell_type": "markdown",
   "metadata": {},
   "source": [
    "## Getting a model\n",
    "\n",
    "Getting the polynomials required for predicting the values of the testing set, and raising the polynomial features of the x coordinate of the teting set for availing the predict() function.\n",
    "\n",
    "To do that:\n",
    "- Loop over all the degrees, and the datasets ( which in this case means looping ove the list which contained the ranges of the training sets ) \n",
    "- Generate an object which raises the features to the $i^{th}$ degree, after which append the raised features to the model list\n",
    "- Raise the features of the test set as well, so it can use the prdict() function"
   ]
  },
  {
   "cell_type": "code",
   "execution_count": 4,
   "metadata": {},
   "outputs": [],
   "source": [
    "## Modelling\n",
    "\n",
    "model = []\n",
    "X = []\n",
    "degree = 10\n",
    "for i in range(degree):\n",
    "    for l in lengths:\n",
    "        mult = preprocessing.PolynomialFeatures(i)\n",
    "        X.append(mult.fit_transform(train[l[0]:l[1],None,0]))\n",
    "        model.append(linear_model.LinearRegression().fit(X[-1],train[l[0]:l[1],None,1]))\n",
    "        \n",
    "test_raised = []\n",
    "for i in range(degree):\n",
    "    mult = preprocessing.PolynomialFeatures(i)\n",
    "    test_raised.append(mult.fit_transform(test[:,None,0]))"
   ]
  },
  {
   "cell_type": "code",
   "execution_count": 5,
   "metadata": {},
   "outputs": [
    {
     "data": {
      "image/png": "[encoded data removed]",
      "text/plain": [
       "<Figure size 432x288 with 1 Axes>"
      ]
     },
     "metadata": {
      "needs_background": "light"
     },
     "output_type": "display_data"
    }
   ],
   "source": [
    "plt.scatter(test[:,0],test[:,1],s=5)\n",
    "plt.plot(test[:,None,0], model[-1].predict(test_raised[-1]),\"r.\")\n",
    "plt.title('Curve Fitting')\n",
    "plt.legend(['Dataset','Curve'])\n",
    "plt.show()"
   ]
  },
  {
   "cell_type": "markdown",
   "metadata": {},
   "source": [
    "## Getting the prediction matrix\n",
    "\n",
    "Getting the matrix that has the prediction of every point across every model across every degree in a $10x10x500$ matrix, and making it a numpy array for vecorized operations\n",
    "\n",
    "To do that :\n",
    "- Loop across the models (100 of them), and append the matrix with the prediciton values.\n",
    "- After every 10 iterations, the degree of the model increases by 1, so append the matrix of the predictions per degree into the complete prediction matrix"
   ]
  },
  {
   "cell_type": "code",
   "execution_count": 17,
   "metadata": {},
   "outputs": [],
   "source": [
    "## Average, mean value of a point\n",
    "\n",
    "predict = []\n",
    "poly_degree = []\n",
    "for i in range(len(model)):\n",
    "    if i%20 == 0 and i!=0 or i == len(model) - 1:\n",
    "        poly_degree = np.asarray(poly_degree)\n",
    "        predict.append(poly_degree)\n",
    "        poly_degree = []\n",
    "    poly_degree.append(model[i].predict(test_raised[i//20]))\n",
    "predict = np.asarray(predict)"
   ]
  },
  {
   "cell_type": "markdown",
   "metadata": {},
   "source": [
    "## Calculating Bias\n",
    "\n",
    "For calculation of bias, first for every 10 models of a single degree, compute mean for every point. After that compute $E(y - \\sum f(x)/n)$ and make it for every degree.\n",
    "\n",
    "Hence, calculation of bias :\n",
    "\n",
    "$ bias = E(\\frac{\\sum_{x_i \\in degree} f(x_i)}{n} - y_i)$\n",
    "\n",
    "## Calculating Variance\n",
    "\n",
    "Similarly for the computation of bias, calculate the standard deviation at every point, and then average them over the common degree, after which plot it as a function of degree.\n",
    "\n",
    "Hence, the calculation of variance :\n",
    "\n",
    "$ var = Var(Avg (f(x_i)) $"
   ]
  },
  {
   "cell_type": "code",
   "execution_count": 7,
   "metadata": {},
   "outputs": [],
   "source": [
    "## Calculating Bias \n",
    "\n",
    "bias = [(predict[i].mean(axis = 0)) for i in range(len(predict))]\n",
    "bias = np.asarray(bias)\n",
    "bias = [np.absolute((bias[i] - test[:,None,1])**2).mean() for i in range(len(bias))]\n",
    "bias = np.asarray(bias)"
   ]
  },
  {
   "cell_type": "code",
   "execution_count": 8,
   "metadata": {},
   "outputs": [],
   "source": [
    "## Calculating Variance\n",
    "\n",
    "variance = [(predict[i].var(axis = 0)) for i in range(len(predict))]\n",
    "variance = [variance[i].mean() for i in range(len(variance))]\n",
    "variance = np.asarray(variance)"
   ]
  },
  {
   "cell_type": "code",
   "execution_count": 9,
   "metadata": {},
   "outputs": [
    {
     "name": "stdout",
     "output_type": "stream",
     "text": [
      "Bias Squared :\n",
      "[6759266.62171637  996850.66535577  952754.4819269     8702.84530966\n",
      "   10094.36392117    8523.34369643    9747.65509327    9764.94791248\n",
      "    9692.16991858   12645.36908885]\n",
      "\n",
      "Variance :\n",
      "[ 22785.7389557   69823.96649567 126654.26175119 150410.08905089\n",
      " 213079.08537276 276114.68264684 317583.15218268 358530.50836899\n",
      " 405238.82351891 451949.82876813]\n"
     ]
    }
   ],
   "source": [
    "## Values of the Bias and Variance\n",
    "\n",
    "print('Bias Squared :')\n",
    "print(bias)\n",
    "print()\n",
    "print('Variance :')\n",
    "print(variance)"
   ]
  },
  {
   "cell_type": "markdown",
   "metadata": {},
   "source": [
    "## Plotting\n",
    "\n",
    "Plotting the graphs of bias and variance, to get the general trends of the values using the graphs"
   ]
  },
  {
   "cell_type": "code",
   "execution_count": 10,
   "metadata": {},
   "outputs": [
    {
     "data": {
      "image/png": "[encoded data removed]",
      "text/plain": [
       "<Figure size 432x288 with 1 Axes>"
      ]
     },
     "metadata": {
      "needs_background": "light"
     },
     "output_type": "display_data"
    }
   ],
   "source": [
    "plt.plot(bias)\n",
    "plt.xlabel('Degree')\n",
    "plt.ylabel('Bias Squared')\n",
    "plt.title('Bias vs Degree')\n",
    "plt.show()"
   ]
  },
  {
   "cell_type": "code",
   "execution_count": 11,
   "metadata": {},
   "outputs": [
    {
     "data": {
      "image/png": "[encoded data removed]",
      "text/plain": [
       "<Figure size 432x288 with 1 Axes>"
      ]
     },
     "metadata": {
      "needs_background": "light"
     },
     "output_type": "display_data"
    }
   ],
   "source": [
    "plt.plot(variance)\n",
    "plt.xlabel('Degree')\n",
    "plt.ylabel('Variance')\n",
    "plt.title('Variance vs Degree')\n",
    "plt.show()"
   ]
  },
  {
   "cell_type": "markdown",
   "metadata": {},
   "source": [
    "## Bias - Variance Observations\n",
    "\n",
    "The dataset given, is a highly noisy $x^3$ curve, so the bet fitting og the dataset is at $degree = 3$. Due to that, the decrease in the value of bias at degree = 3 is very high, and it is an optimum of bias vs variance tradeoff, as can be seen from the graph below.\n",
    "\n",
    "It can also be seen that there is no noise in the training set, so curve fitting is really easy for an $x^3$ curve."
   ]
  },
  {
   "cell_type": "code",
   "execution_count": 13,
   "metadata": {},
   "outputs": [
    {
     "data": {
      "image/png": "[encoded data removed]",
      "text/plain": [
       "<Figure size 432x288 with 1 Axes>"
      ]
     },
     "metadata": {
      "needs_background": "light"
     },
     "output_type": "display_data"
    }
   ],
   "source": [
    "plt.plot(bias * (variance.max() / bias.max()))\n",
    "plt.plot(variance)\n",
    "plt.xlabel('Degree')\n",
    "plt.legend(['Bias','Variance'])\n",
    "plt.title('Variance vs Bias (Scaled)')\n",
    "plt.show()"
   ]
  }
 ],
 "metadata": {
  "kernelspec": {
   "display_name": "Python 3",
   "language": "python",
   "name": "python3"
  },
  "language_info": {
   "codemirror_mode": {
    "name": "ipython",
    "version": 3
   },
   "file_extension": ".py",
   "mimetype": "text/x-python",
   "name": "python",
   "nbconvert_exporter": "python",
   "pygments_lexer": "ipython3",
   "version": "3.7.3"
  }
 },
 "nbformat": 4,
 "nbformat_minor": 2
}
