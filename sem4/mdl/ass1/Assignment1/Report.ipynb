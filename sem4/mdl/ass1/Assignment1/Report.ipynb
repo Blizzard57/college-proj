{
 "cells": [
  {
   "cell_type": "markdown",
   "metadata": {},
   "source": [
    "# Assignment 1\n",
    "\n",
    "#### Roll Number : 2018113003, 2018114001\n",
    "\n",
    "## Question \n",
    "\n",
    "- Data Re-sampling    \n",
    "    - Divide the dataset into 90:10 set of training (90) and testing (10)\n",
    "    - Divide the training set into futher 10 equal parts (Getting 10 different datasets for the model)\n",
    "\n",
    "\n",
    "- Task\n",
    "    - Train a linear classifier on all these datasets, getting 10 different models\n",
    "    - Calculate the bias and variance\n",
    "    \n",
    "\n",
    "- Repeat the task for functions $ y = mx, y = ax^2 + bx + c, y = ax^3 + bx^2 + cx + d$, etc till degree 9 polynomial. ( Only using sklearn.linear_model.LinearRegression$()$.fit$()$ with default parameters )\n",
    "\n",
    "\n",
    "- Also plot the bias - variance tradeoff graph\n",
    "\n",
    "\n",
    "- Write a reprot for the same"
   ]
  },
  {
   "cell_type": "code",
   "execution_count": 3,
   "metadata": {},
   "outputs": [],
   "source": [
    "## Importing dependancies\n",
    "\n",
    "import sklearn\n",
    "import numpy as np\n",
    "import math\n",
    "import pickle"
   ]
  },
  {
   "cell_type": "code",
   "execution_count": 4,
   "metadata": {},
   "outputs": [],
   "source": [
    "## Opening the dataset\n",
    "\n",
    "dataset = open(\"Q1_data/data.pkl\",'rb')\n",
    "data = pickle.load(dataset)"
   ]
  },
  {
   "cell_type": "code",
   "execution_count": 6,
   "metadata": {},
   "outputs": [],
   "source": [
    "## Splitting the dataset into 90:10 ratio, randomly\n"
   ]
  },
  {
   "cell_type": "code",
   "execution_count": null,
   "metadata": {},
   "outputs": [],
   "source": []
  }
 ],
 "metadata": {
  "kernelspec": {
   "display_name": "Python 3",
   "language": "python",
   "name": "python3"
  },
  "language_info": {
   "codemirror_mode": {
    "name": "ipython",
    "version": 3
   },
   "file_extension": ".py",
   "mimetype": "text/x-python",
   "name": "python",
   "nbconvert_exporter": "python",
   "pygments_lexer": "ipython3",
   "version": "3.7.3-final"
  }
 },
 "nbformat": 4,
 "nbformat_minor": 2
}