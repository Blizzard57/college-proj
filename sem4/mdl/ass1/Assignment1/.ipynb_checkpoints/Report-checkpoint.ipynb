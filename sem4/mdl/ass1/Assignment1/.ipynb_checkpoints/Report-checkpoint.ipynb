{
 "cells": [
  {
   "cell_type": "markdown",
   "metadata": {},
   "source": [
    "# Assignment 1\n",
    "\n",
    "#### Roll Number : 2018113003, 2018114001\n",
    "\n",
    "## Question \n",
    "\n",
    "- Data Re-sampling    \n",
    "    - Divide the dataset into 90:10 set of training (90) and testing (10)\n",
    "    - Divide the training set into futher 10 equal parts (Getting 10 different datasets for the model)\n",
    "\n",
    "\n",
    "- Task\n",
    "    - Train a linear classifier on all these datasets, getting 10 different models\n",
    "    - Calculate the bias and variance, with a bull's eye diagram\n",
    "    \n",
    "\n",
    "- Repeat the task for functions $ y = mx, y = ax^2 + bx + c, y = ax^3 + bx^2 + cx + d$, etc till degree 9 polynomial. ( Only using sklearn.linear_model.LinearRegression$()$.fit$()$ with default parameters )\n",
    "\n",
    "\n",
    "- Also plot the bias - variance tradeoff graph\n",
    "\n",
    "\n",
    "- Write a reprt for the same"
   ]
  },
  {
   "cell_type": "code",
   "execution_count": 7,
   "metadata": {},
   "outputs": [],
   "source": [
    "## Importing dependancies\n",
    "\n",
    "import sklearn\n",
    "import numpy\n",
    "#import pickle"
   ]
  },
  {
   "cell_type": "code",
   "execution_count": 10,
   "metadata": {},
   "outputs": [
    {
     "ename": "NameError",
     "evalue": "name 'Q1_data' is not defined",
     "output_type": "error",
     "traceback": [
      "\u001b[0;31m---------------------------------------------------------------------------\u001b[0m",
      "\u001b[0;31mNameError\u001b[0m                                 Traceback (most recent call last)",
      "\u001b[0;32m<ipython-input-10-a19af72e4907>\u001b[0m in \u001b[0;36m<module>\u001b[0;34m()\u001b[0m\n\u001b[0;32m----> 1\u001b[0;31m \u001b[0mpickle\u001b[0m\u001b[0;34m.\u001b[0m\u001b[0mload\u001b[0m\u001b[0;34m(\u001b[0m\u001b[0mQ1_data\u001b[0m\u001b[0;34m/\u001b[0m\u001b[0mdata\u001b[0m\u001b[0;34m.\u001b[0m\u001b[0mpkl\u001b[0m\u001b[0;34m)\u001b[0m\u001b[0;34m\u001b[0m\u001b[0;34m\u001b[0m\u001b[0m\n\u001b[0m",
      "\u001b[0;31mNameError\u001b[0m: name 'Q1_data' is not defined"
     ]
    }
   ],
   "source": [
    "pickle.load(Q1_data/data.pkl)"
   ]
  },
  {
   "cell_type": "code",
   "execution_count": null,
   "metadata": {},
   "outputs": [],
   "source": []
  }
 ],
 "metadata": {
  "kernelspec": {
   "display_name": "Python 3",
   "language": "python",
   "name": "python3"
  },
  "language_info": {
   "codemirror_mode": {
    "name": "ipython",
    "version": 3
   },
   "file_extension": ".py",
   "mimetype": "text/x-python",
   "name": "python",
   "nbconvert_exporter": "python",
   "pygments_lexer": "ipython3",
   "version": "3.7.3"
  }
 },
 "nbformat": 4,
 "nbformat_minor": 2
}
