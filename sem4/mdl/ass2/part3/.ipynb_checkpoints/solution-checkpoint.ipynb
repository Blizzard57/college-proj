{
 "cells": [
  {
   "cell_type": "markdown",
   "metadata": {},
   "source": [
    "# To Do\n",
    "Solve the problem in Q2 with LP"
   ]
  },
  {
   "cell_type": "code",
   "execution_count": 1,
   "metadata": {},
   "outputs": [],
   "source": [
    "import numpy as np\n",
    "import pandas as pd\n",
    "import cvxpy as cp\n",
    "import seaborn as sns"
   ]
  },
  {
   "cell_type": "code",
   "execution_count": 2,
   "metadata": {},
   "outputs": [],
   "source": [
    "action = ['NOOP','SHOOT','DODGE','RECHARGE']\n",
    "X = 16\n",
    "Y = [0.5,1,2][X % 3]\n",
    "sample_state = ['enemy_health','no_of_arrows_left','stamina']\n",
    "start_state = [4,3,2]"
   ]
  },
  {
   "cell_type": "markdown",
   "metadata": {},
   "source": [
    "## Functions to solve the question"
   ]
  },
  {
   "cell_type": "code",
   "execution_count": 3,
   "metadata": {},
   "outputs": [],
   "source": [
    "def delta(init_state : list, final_state : list) -> float:\n",
    "    assert len(init_state) == 3\n",
    "    assert len(final_state) == 3\n",
    "    return int(init_state==final_state)\n",
    "\n",
    "def reward(state : list, action : str) -> float:\n",
    "    if action == 'NOOP':\n",
    "        return 0\n",
    "    return -10/Y\n",
    "\n",
    "def prob(init_state : list, action : str, final_state : list) -> float:\n",
    "    if action == 'NOOP':    \n",
    "        return 0\n",
    "    elif action == 'SHOOT':\n",
    "        if init_state[2] - final_state[2] == 1 and (init_state[0] - final_state[0] == 1 or init_state[0] == final_state[0]) and init_state[1] - final_state[1] == 1:\n",
    "            return 0.5\n",
    "        return 0\n",
    "    elif action == 'DODGE':\n",
    "        if init_state[0] != final_state[0]:\n",
    "            return 0\n",
    "        if init_state[1] == 3 and final_state[1] == 3:\n",
    "            prob_arrow = 1\n",
    "        elif init_state[1] - final_state[1] == -1:\n",
    "            prob_arrow = 0.8\n",
    "        elif init_state[1] == final_state[1]:\n",
    "            prob_arrow = 0.2\n",
    "        else :\n",
    "            return 0\n",
    "        if init_state[2] == 2 and final_state[2] == 1:\n",
    "            prob_stam = 0.8\n",
    "        elif init_state[2] == 2 and final_state[2] == 0:\n",
    "            prob_stam = 0.2\n",
    "        elif init_state[2] == 1 and final_state[2] == 0:\n",
    "            prob_stam = 1\n",
    "        else :\n",
    "            return 0\n",
    "        return prob_arrow * prob_stam\n",
    "    elif action == 'RECHARGE':\n",
    "        if init_state[0] != final_state[0] or init_state[1] != final_state[1]:\n",
    "            return 0\n",
    "        elif final_state[2] - init_state[2] == 1:\n",
    "            return 0.8\n",
    "        elif init_state[2] == final_state[2]:\n",
    "            return 0.2\n",
    "        return 0"
   ]
  },
  {
   "cell_type": "markdown",
   "metadata": {},
   "source": [
    "## Generating the states"
   ]
  },
  {
   "cell_type": "code",
   "execution_count": 4,
   "metadata": {},
   "outputs": [],
   "source": [
    "possible_states = []\n",
    "for i in range(5):\n",
    "    for j in range(4):\n",
    "        for k in range(3):\n",
    "            possible_states.append((i,j,k))\n",
    "\n",
    "possible_act = []\n",
    "for j in action:\n",
    "    for i in possible_states:\n",
    "        if j == 'NOOP':\n",
    "            if i[0] == 0:\n",
    "                possible_act.append((i,j))\n",
    "        elif j == 'SHOOT':\n",
    "            if i[0] != 0 and i[1] != 0 and i[2] != 0:\n",
    "                possible_act.append((i,j))\n",
    "        elif j == 'DODGE':\n",
    "            if i[0] != 0 and i[2] != 0:\n",
    "                possible_act.append((i,j))\n",
    "        else:\n",
    "            if i[0] != 0 and i[2] != 2:\n",
    "                possible_act.append((i,j))\n",
    "                \n",
    "r = np.asarray([0.0 for i,_ in enumerate(possible_act)])\n",
    "alpha = np.asarray([0.0 for i,_ in enumerate(possible_states)])\n",
    "A = np.zeros(shape=(len(possible_states), len(possible_act)))"
   ]
  },
  {
   "cell_type": "markdown",
   "metadata": {},
   "source": [
    "## Calculating the values of the matrices"
   ]
  },
  {
   "cell_type": "code",
   "execution_count": 5,
   "metadata": {},
   "outputs": [],
   "source": [
    "for i,_ in enumerate(possible_states):\n",
    "    for j,_ in enumerate(possible_act):\n",
    "        A[i, j] = delta(possible_states[i], possible_act[j][0]) - prob(possible_act[j][0],possible_act[j][1],possible_states[i])\n",
    "\n",
    "for i,_ in enumerate(possible_act):\n",
    "    r[i] = reward(possible_act[i][0],possible_act[i][1])\n",
    "\n",
    "alpha[-1] = 1"
   ]
  },
  {
   "cell_type": "code",
   "execution_count": 6,
   "metadata": {},
   "outputs": [
    {
     "name": "stdout",
     "output_type": "stream",
     "text": [
      "A :  [[ 1.   0.   0.  ...  0.   0.   0. ]\n",
      " [ 0.   1.   0.  ...  0.   0.   0. ]\n",
      " [ 0.   0.   1.  ...  0.   0.   0. ]\n",
      " ...\n",
      " [ 0.   0.   0.  ...  0.   0.8  0. ]\n",
      " [ 0.   0.   0.  ...  0.  -0.8  0.8]\n",
      " [ 0.   0.   0.  ...  0.   0.  -0.8]]\n",
      "Alpha :  [0. 0. 0. 0. 0. 0. 0. 0. 0. 0. 0. 0. 0. 0. 0. 0. 0. 0. 0. 0. 0. 0. 0. 0.\n",
      " 0. 0. 0. 0. 0. 0. 0. 0. 0. 0. 0. 0. 0. 0. 0. 0. 0. 0. 0. 0. 0. 0. 0. 0.\n",
      " 0. 0. 0. 0. 0. 0. 0. 0. 0. 0. 0. 1.]\n",
      "Reward :  [  0.   0.   0.   0.   0.   0.   0.   0.   0.   0.   0.   0. -10. -10.\n",
      " -10. -10. -10. -10. -10. -10. -10. -10. -10. -10. -10. -10. -10. -10.\n",
      " -10. -10. -10. -10. -10. -10. -10. -10. -10. -10. -10. -10. -10. -10.\n",
      " -10. -10. -10. -10. -10. -10. -10. -10. -10. -10. -10. -10. -10. -10.\n",
      " -10. -10. -10. -10. -10. -10. -10. -10. -10. -10. -10. -10. -10. -10.\n",
      " -10. -10. -10. -10. -10. -10. -10. -10. -10. -10. -10. -10. -10. -10.\n",
      " -10. -10. -10. -10. -10. -10. -10. -10. -10. -10. -10. -10. -10. -10.\n",
      " -10. -10.]\n"
     ]
    }
   ],
   "source": [
    "print('A : ',A)\n",
    "print('Alpha : ',alpha)\n",
    "print('Reward : ',r)"
   ]
  },
  {
   "cell_type": "code",
   "execution_count": 7,
   "metadata": {},
   "outputs": [],
   "source": [
    "def solve(A : list, alpha : str, r : str):\n",
    "    doables = A.shape[1]\n",
    "    x = cp.Variable(doables)\n",
    "    \n",
    "    objective = cp.Maximize(r @ x)\n",
    "    constraints = [A @ x == alpha, x >= 0]\n",
    "    prob = cp.Problem(objective, constraints)\n",
    "\n",
    "    result = prob.solve()\n",
    "    return x.value, prob.value\n",
    "\n",
    "x,v = solve(A,alpha,r)"
   ]
  },
  {
   "cell_type": "code",
   "execution_count": 12,
   "metadata": {},
   "outputs": [
    {
     "name": "stdout",
     "output_type": "stream",
     "text": [
      "[[[0, 0, 0], 'NOOP'], [[0, 0, 1], 'NOOP'], [[0, 0, 2], 'NOOP'], [[0, 1, 0], 'NOOP'], [[0, 1, 1], 'NOOP'], [[0, 1, 2], 'NOOP'], [[0, 2, 0], 'NOOP'], [[0, 2, 1], 'NOOP'], [[0, 2, 2], 'NOOP'], [[0, 3, 0], 'NOOP'], [[0, 3, 1], 'NOOP'], [[0, 3, 2], 'NOOP'], [[1, 0, 0], 'RECHARGE'], [[1, 0, 1], 'DODGE'], [[1, 0, 2], 'DODGE'], [[1, 1, 0], 'RECHARGE'], [[1, 1, 1], 'SHOOT'], [[1, 1, 2], 'SHOOT'], [[1, 2, 0], 'RECHARGE'], [[1, 2, 1], 'SHOOT'], [[1, 2, 2], 'SHOOT'], [[1, 3, 0], 'RECHARGE'], [[1, 3, 1], 'SHOOT'], [[1, 3, 2], 'SHOOT'], [[2, 0, 0], 'RECHARGE'], [[2, 0, 1], 'DODGE'], [[2, 0, 2], 'DODGE'], [[2, 1, 0], 'RECHARGE'], [[2, 1, 1], 'DODGE'], [[2, 1, 2], 'SHOOT'], [[2, 2, 0], 'RECHARGE'], [[2, 2, 1], 'RECHARGE'], [[2, 2, 2], 'SHOOT'], [[2, 3, 0], 'RECHARGE'], [[2, 3, 1], 'RECHARGE'], [[2, 3, 2], 'SHOOT'], [[3, 0, 0], 'RECHARGE'], [[3, 0, 1], 'DODGE'], [[3, 0, 2], 'DODGE'], [[3, 1, 0], 'RECHARGE'], [[3, 1, 1], 'DODGE'], [[3, 1, 2], 'SHOOT'], [[3, 2, 0], 'RECHARGE'], [[3, 2, 1], 'DODGE'], [[3, 2, 2], 'SHOOT'], [[3, 3, 0], 'RECHARGE'], [[3, 3, 1], 'RECHARGE'], [[3, 3, 2], 'SHOOT'], [[4, 0, 0], 'RECHARGE'], [[4, 0, 1], 'DODGE'], [[4, 0, 2], 'DODGE'], [[4, 1, 0], 'RECHARGE'], [[4, 1, 1], 'RECHARGE'], [[4, 1, 2], 'SHOOT'], [[4, 2, 0], 'RECHARGE'], [[4, 2, 1], 'DODGE'], [[4, 2, 2], 'SHOOT'], [[4, 3, 0], 'RECHARGE'], [[4, 3, 1], 'RECHARGE'], [[4, 3, 2], 'SHOOT']]\n"
     ]
    }
   ],
   "source": [
    "# Initialization of the policy dictionary\n",
    "policy = {state: ('-INF', -1e100) for state in possible_states}\n",
    "\n",
    "for i in range(len(possible_act)):\n",
    "    state, act = possible_act[i]\n",
    "    if policy[state][1] < x[i]:\n",
    "        policy[state] = (act, x[i])\n",
    "\n",
    "# Checking and printing\n",
    "print([[list(key), act[0]] for key, act in policy.items()])"
   ]
  },
  {
   "cell_type": "code",
   "execution_count": 13,
   "metadata": {},
   "outputs": [],
   "source": [
    "result = {\n",
    "    'a': A.tolist(),\n",
    "    'r': r.tolist(),\n",
    "    'alpha': alpha.tolist(),\n",
    "    'x': x.tolist(),\n",
    "    'policy': [[list(key), act[0]] for key, act in policy.items()],\n",
    "    'objective': v\n",
    "}"
   ]
  },
  {
   "cell_type": "code",
   "execution_count": 14,
   "metadata": {},
   "outputs": [],
   "source": [
    "import json\n",
    "with open('answers_tocheck.json', 'w') as f:\n",
    "    f.write(json.dumps(result))"
   ]
  },
  {
   "cell_type": "code",
   "execution_count": null,
   "metadata": {},
   "outputs": [],
   "source": []
  }
 ],
 "metadata": {
  "kernelspec": {
   "display_name": "Python 3",
   "language": "python",
   "name": "python3"
  },
  "language_info": {
   "codemirror_mode": {
    "name": "ipython",
    "version": 3
   },
   "file_extension": ".py",
   "mimetype": "text/x-python",
   "name": "python",
   "nbconvert_exporter": "python",
   "pygments_lexer": "ipython3",
   "version": "3.7.3"
  }
 },
 "nbformat": 4,
 "nbformat_minor": 2
}
