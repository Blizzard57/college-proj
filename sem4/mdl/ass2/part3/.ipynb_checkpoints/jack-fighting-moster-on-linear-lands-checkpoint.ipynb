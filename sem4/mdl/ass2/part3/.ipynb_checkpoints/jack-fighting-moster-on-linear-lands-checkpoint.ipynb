{
 "cells": [
  {
   "cell_type": "code",
   "execution_count": 1,
   "metadata": {
    "_cell_guid": "b1076dfc-b9ad-4769-8c92-a6c4dae69d19",
    "_uuid": "8f2839f25d086af736a60e9eeb907d3b93b6e0e5"
   },
   "outputs": [],
   "source": [
    "import numpy as np # linear algebra\n",
    "import pandas as pd # data processing, CSV file I/O (e.g. pd.read_csv)\n",
    "import cvxpy as cp\n",
    "import seaborn as sns"
   ]
  },
  {
   "cell_type": "markdown",
   "metadata": {},
   "source": [
    "# Defining the Game"
   ]
  },
  {
   "cell_type": "code",
   "execution_count": 2,
   "metadata": {},
   "outputs": [
    {
     "name": "stdout",
     "output_type": "stream",
     "text": [
      "States count: 60 & Actions count: 100\n",
      "*   States are: [(0, 0, 0), (0, 0, 1), (0, 0, 2), (0, 1, 0), (0, 1, 1), (0, 1, 2), (0, 2, 0), (0, 2, 1), (0, 2, 2), (0, 3, 0), (0, 3, 1), (0, 3, 2), (1, 0, 0), (1, 0, 1), (1, 0, 2), (1, 1, 0), (1, 1, 1), (1, 1, 2), (1, 2, 0), (1, 2, 1), (1, 2, 2), (1, 3, 0), (1, 3, 1), (1, 3, 2), (2, 0, 0), (2, 0, 1), (2, 0, 2), (2, 1, 0), (2, 1, 1), (2, 1, 2), (2, 2, 0), (2, 2, 1), (2, 2, 2), (2, 3, 0), (2, 3, 1), (2, 3, 2), (3, 0, 0), (3, 0, 1), (3, 0, 2), (3, 1, 0), (3, 1, 1), (3, 1, 2), (3, 2, 0), (3, 2, 1), (3, 2, 2), (3, 3, 0), (3, 3, 1), (3, 3, 2), (4, 0, 0), (4, 0, 1), (4, 0, 2), (4, 1, 0), (4, 1, 1), (4, 1, 2), (4, 2, 0), (4, 2, 1), (4, 2, 2), (4, 3, 0), (4, 3, 1), (4, 3, 2)]\n",
      "*   Actions are: [((0, 0, 0), 'NOOP'), ((0, 0, 1), 'NOOP'), ((0, 0, 2), 'NOOP'), ((0, 1, 0), 'NOOP'), ((0, 1, 1), 'NOOP'), ((0, 1, 2), 'NOOP'), ((0, 2, 0), 'NOOP'), ((0, 2, 1), 'NOOP'), ((0, 2, 2), 'NOOP'), ((0, 3, 0), 'NOOP'), ((0, 3, 1), 'NOOP'), ((0, 3, 2), 'NOOP'), ((1, 1, 1), 'SHOOT'), ((1, 1, 2), 'SHOOT'), ((1, 2, 1), 'SHOOT'), ((1, 2, 2), 'SHOOT'), ((1, 3, 1), 'SHOOT'), ((1, 3, 2), 'SHOOT'), ((2, 1, 1), 'SHOOT'), ((2, 1, 2), 'SHOOT'), ((2, 2, 1), 'SHOOT'), ((2, 2, 2), 'SHOOT'), ((2, 3, 1), 'SHOOT'), ((2, 3, 2), 'SHOOT'), ((3, 1, 1), 'SHOOT'), ((3, 1, 2), 'SHOOT'), ((3, 2, 1), 'SHOOT'), ((3, 2, 2), 'SHOOT'), ((3, 3, 1), 'SHOOT'), ((3, 3, 2), 'SHOOT'), ((4, 1, 1), 'SHOOT'), ((4, 1, 2), 'SHOOT'), ((4, 2, 1), 'SHOOT'), ((4, 2, 2), 'SHOOT'), ((4, 3, 1), 'SHOOT'), ((4, 3, 2), 'SHOOT'), ((1, 0, 1), 'DODGE'), ((1, 0, 2), 'DODGE'), ((1, 1, 1), 'DODGE'), ((1, 1, 2), 'DODGE'), ((1, 2, 1), 'DODGE'), ((1, 2, 2), 'DODGE'), ((1, 3, 1), 'DODGE'), ((1, 3, 2), 'DODGE'), ((2, 0, 1), 'DODGE'), ((2, 0, 2), 'DODGE'), ((2, 1, 1), 'DODGE'), ((2, 1, 2), 'DODGE'), ((2, 2, 1), 'DODGE'), ((2, 2, 2), 'DODGE'), ((2, 3, 1), 'DODGE'), ((2, 3, 2), 'DODGE'), ((3, 0, 1), 'DODGE'), ((3, 0, 2), 'DODGE'), ((3, 1, 1), 'DODGE'), ((3, 1, 2), 'DODGE'), ((3, 2, 1), 'DODGE'), ((3, 2, 2), 'DODGE'), ((3, 3, 1), 'DODGE'), ((3, 3, 2), 'DODGE'), ((4, 0, 1), 'DODGE'), ((4, 0, 2), 'DODGE'), ((4, 1, 1), 'DODGE'), ((4, 1, 2), 'DODGE'), ((4, 2, 1), 'DODGE'), ((4, 2, 2), 'DODGE'), ((4, 3, 1), 'DODGE'), ((4, 3, 2), 'DODGE'), ((1, 0, 0), 'RECHARGE'), ((1, 0, 1), 'RECHARGE'), ((1, 1, 0), 'RECHARGE'), ((1, 1, 1), 'RECHARGE'), ((1, 2, 0), 'RECHARGE'), ((1, 2, 1), 'RECHARGE'), ((1, 3, 0), 'RECHARGE'), ((1, 3, 1), 'RECHARGE'), ((2, 0, 0), 'RECHARGE'), ((2, 0, 1), 'RECHARGE'), ((2, 1, 0), 'RECHARGE'), ((2, 1, 1), 'RECHARGE'), ((2, 2, 0), 'RECHARGE'), ((2, 2, 1), 'RECHARGE'), ((2, 3, 0), 'RECHARGE'), ((2, 3, 1), 'RECHARGE'), ((3, 0, 0), 'RECHARGE'), ((3, 0, 1), 'RECHARGE'), ((3, 1, 0), 'RECHARGE'), ((3, 1, 1), 'RECHARGE'), ((3, 2, 0), 'RECHARGE'), ((3, 2, 1), 'RECHARGE'), ((3, 3, 0), 'RECHARGE'), ((3, 3, 1), 'RECHARGE'), ((4, 0, 0), 'RECHARGE'), ((4, 0, 1), 'RECHARGE'), ((4, 1, 0), 'RECHARGE'), ((4, 1, 1), 'RECHARGE'), ((4, 2, 0), 'RECHARGE'), ((4, 2, 1), 'RECHARGE'), ((4, 3, 0), 'RECHARGE'), ((4, 3, 1), 'RECHARGE')]\n"
     ]
    }
   ],
   "source": [
    "states = [(h, a, s) for h in [0, 1, 2, 3, 4] for a in [0, 1, 2, 3] for s in [0, 1, 2]]\n",
    "actions = [(state, 'NOOP') for state in states if state[0] == 0] + \\\n",
    "            [(state, 'SHOOT') for state in states if state[0] != 0 and state[1] != 0 and state[2] != 0] + \\\n",
    "            [(state, 'DODGE') for state in states if state[0] != 0 and state[2] != 0] + \\\n",
    "            [(state, 'RECHARGE') for state in states if state[0] != 0 and state[2] != 2]\n",
    "print('States count:', len(states), '& Actions count:', len(actions))\n",
    "print('*   States are:', states)\n",
    "print('*   Actions are:', actions)"
   ]
  },
  {
   "cell_type": "code",
   "execution_count": 3,
   "metadata": {},
   "outputs": [
    {
     "name": "stdout",
     "output_type": "stream",
     "text": [
      "On action ((0, 0, 0), 'NOOP') going to (0, 0, 0)\n",
      "    probability: 0.0\n",
      "    reward: 0.0\n",
      "    alpha: 0.0\n",
      "    kronecker delta: 1.0\n"
     ]
    }
   ],
   "source": [
    "def probability(state, action):\n",
    "    (hf, af, sf) = state\n",
    "    (hi, ai, si), act = action\n",
    "    if act == 'SHOOT':\n",
    "        if si - 1 == sf and (hi - 1 == hf or hi == hf) and ai - 1 == af:\n",
    "            return 0.5\n",
    "        else:\n",
    "            return 0\n",
    "    elif act == 'DODGE':\n",
    "        if hi != hf:\n",
    "            return 0\n",
    "        if ai == 3 and af == 3:\n",
    "            arrow_mult = 1.0\n",
    "        elif ai + 1 == af:\n",
    "            arrow_mult = 0.8\n",
    "        elif ai == af:\n",
    "            arrow_mult = 0.2\n",
    "        else:\n",
    "            arrow_mult = 0.0\n",
    "        if si == 2 and sf == 1:\n",
    "            stamn_mult = 0.8\n",
    "        elif si == 2 and sf == 0:\n",
    "            stamn_mult = 0.2\n",
    "        elif si == 1 and sf == 0:\n",
    "            stamn_mult = 1.0\n",
    "        else:\n",
    "            stamn_mult = 0.0\n",
    "        return arrow_mult * stamn_mult\n",
    "    elif act == 'RECHARGE':\n",
    "        if hi != hf or ai != af:\n",
    "            return 0.0\n",
    "        elif si + 1 == sf:\n",
    "            return 0.8\n",
    "        elif si == sf:\n",
    "            return 0.2 # Removing probabilities of the self loop\n",
    "        else:\n",
    "            return 0.0\n",
    "    elif act == 'NOOP':\n",
    "        if (hi, ai, si) == (hf, af, sf):\n",
    "            return 0.0\n",
    "        else:\n",
    "            return 0.0\n",
    "    else:\n",
    "        raise ValueError(\"Invalid Action specified: \" + act)\n",
    "\n",
    "def reward(action):\n",
    "    (hi, ai, si), act = action\n",
    "    if act == 'NOOP':\n",
    "        return 0.0\n",
    "    else:\n",
    "        return -20.0 # TODO: Determine using team number\n",
    "\n",
    "def initial(state):\n",
    "    return 1.0 if state == (4, 3, 2) else 0.0\n",
    "\n",
    "def delta(state, action):\n",
    "    (hf, af, sf) = state\n",
    "    (hi, ai, si), act = action\n",
    "    if hf == hi and af == ai and sf == si:\n",
    "        return 1.0\n",
    "    else:\n",
    "        return 0.0\n",
    "\n",
    "print('On action', actions[0], 'going to', states[0])\n",
    "print('    probability:', probability(states[0], actions[0]))\n",
    "print('    reward:', reward(actions[0]))\n",
    "print('    alpha:', initial(states[0]))\n",
    "print('    kronecker delta:', delta(states[0], actions[0]))"
   ]
  },
  {
   "cell_type": "markdown",
   "metadata": {},
   "source": [
    "# Linear Programming Solver"
   ]
  },
  {
   "cell_type": "code",
   "execution_count": 4,
   "metadata": {
    "_cell_guid": "79c7e3d0-c299-4dcb-8224-4455121ee9b0",
    "_uuid": "d629ff2d2480ee46fbb7e2d37f6b5fab8052498a"
   },
   "outputs": [
    {
     "name": "stdout",
     "output_type": "stream",
     "text": [
      "Solved with status optimal and value 20.0\n",
      "Variables and Values: (array([10., 10.]), 20.0)\n"
     ]
    }
   ],
   "source": [
    "def solve(a, b, r):\n",
    "    \"\"\"\n",
    "    Solves the Convex optimization problem \n",
    "    maximize rx under the constraint ax = b \n",
    "    \"\"\"\n",
    "    states, doables = a.shape[0], a.shape[1]\n",
    "    x = cp.Variable(doables)\n",
    "    \n",
    "    objective = cp.Maximize(r @ x)\n",
    "    constraints = [a @ x == b, x >= 0]\n",
    "    prob = cp.Problem(objective, constraints)\n",
    "\n",
    "    result = prob.solve()\n",
    "    print('Solved with status', prob.status, 'and value', prob.value)\n",
    "    return x.value, prob.value\n",
    "\n",
    "\n",
    "# Tiny little test to check if everything is working fine\n",
    "_a = np.array([[1, 1], [0, 1]])\n",
    "_b = np.array([20, 10])\n",
    "_r = np.array([1, 1])\n",
    "# max(x + y) under x + y = 20 and y = 10\n",
    "print(\"Variables and Values:\", solve(_a, _b, _r))"
   ]
  },
  {
   "cell_type": "code",
   "execution_count": 5,
   "metadata": {},
   "outputs": [
    {
     "name": "stdout",
     "output_type": "stream",
     "text": [
      "A: [[0.  0.  0.  ... 0.  0.  0. ]\n",
      " [0.  0.  0.  ... 0.  0.  0. ]\n",
      " [0.  0.  0.  ... 0.  0.  0. ]\n",
      " ...\n",
      " [0.  0.  0.  ... 0.  0.2 0. ]\n",
      " [0.  0.  0.  ... 0.  0.8 0.2]\n",
      " [0.  0.  0.  ... 0.  0.  0.8]]\n",
      "Alpha: [0. 0. 0. 0. 0. 0. 0. 0. 0. 0. 0. 0. 0. 0. 0. 0. 0. 0. 0. 0. 0. 0. 0. 0.\n",
      " 0. 0. 0. 0. 0. 0. 0. 0. 0. 0. 0. 0. 0. 0. 0. 0. 0. 0. 0. 0. 0. 0. 0. 0.\n",
      " 0. 0. 0. 0. 0. 0. 0. 0. 0. 0. 0. 1.]\n",
      "r: [  0.   0.   0.   0.   0.   0.   0.   0.   0.   0.   0.   0. -20. -20.\n",
      " -20. -20. -20. -20. -20. -20. -20. -20. -20. -20. -20. -20. -20. -20.\n",
      " -20. -20. -20. -20. -20. -20. -20. -20. -20. -20. -20. -20. -20. -20.\n",
      " -20. -20. -20. -20. -20. -20. -20. -20. -20. -20. -20. -20. -20. -20.\n",
      " -20. -20. -20. -20. -20. -20. -20. -20. -20. -20. -20. -20. -20. -20.\n",
      " -20. -20. -20. -20. -20. -20. -20. -20. -20. -20. -20. -20. -20. -20.\n",
      " -20. -20. -20. -20. -20. -20. -20. -20. -20. -20. -20. -20. -20. -20.\n",
      " -20. -20.]\n"
     ]
    }
   ],
   "source": [
    "n_states, n_actions = len(states), len(actions)\n",
    "a = np.zeros(shape=(n_states, n_actions))\n",
    "r = np.zeros(shape=(n_actions))\n",
    "b = np.zeros(shape=(n_states))\n",
    "\n",
    "for i in range(n_states):\n",
    "    for j in range(n_actions):\n",
    "        a[i, j] = probability(states[i], actions[j])\n",
    "for i in range(n_states):\n",
    "    b[i] = initial(states[i])\n",
    "for i in range(n_actions):\n",
    "    r[i] = reward(actions[i])\n",
    "    \n",
    "print('A:', a)\n",
    "print('Alpha:', b)\n",
    "print('r:', r)"
   ]
  },
  {
   "cell_type": "markdown",
   "metadata": {},
   "source": [
    "The following function just dumps the A matrix for checking manually against expected probabilities"
   ]
  },
  {
   "cell_type": "code",
   "execution_count": 6,
   "metadata": {},
   "outputs": [],
   "source": [
    "def dump_matrix():\n",
    "    import json\n",
    "    _a_test = a.tolist()\n",
    "    with open('matrix_true.test', 'w') as f:\n",
    "        f.write(json.dumps(_a_test))\n",
    "        \n",
    "dump_matrix()"
   ]
  },
  {
   "cell_type": "markdown",
   "metadata": {},
   "source": [
    "# Solving and Answering"
   ]
  },
  {
   "cell_type": "code",
   "execution_count": 7,
   "metadata": {},
   "outputs": [
    {
     "name": "stdout",
     "output_type": "stream",
     "text": [
      "Solved with status optimal and value -591.2499999897543\n",
      "Solution: [ 1.00000000e+00  4.52049865e-11  3.30743731e-13  4.10939347e-11\n",
      "  2.17291434e-11  3.30743731e-13 -2.65857323e-12  1.72326934e-11\n",
      "  3.30743731e-13  3.30743731e-13  3.30743731e-13  3.30743731e-13\n",
      "  2.00000000e+00  9.00082110e-11  8.19732698e-11  4.30519480e-11\n",
      " -5.73493105e-12  3.39838140e-11  4.42314549e-01  5.28197194e-01\n",
      "  3.96047867e-01  6.33440391e-01  1.61596974e-10  1.84246107e-10\n",
      "  3.15171649e-01  3.62373149e-01  2.67366766e-01  4.29117328e-01\n",
      "  2.70600147e-01  3.55370961e-01  1.23754931e-01  1.39079527e-01\n",
      "  1.86070954e-01  2.56026698e-01  1.52256571e-01  1.14281132e+00\n",
      "  1.85656984e+00  1.15935584e-10 -1.42841891e-11 -2.76549393e-11\n",
      "  5.91195558e-11 -2.38404245e-11 -4.91392931e-11 -5.03085664e-11\n",
      "  1.03003534e+00  2.68413363e-10  8.95628379e-01  5.43998155e-11\n",
      "  4.33243178e-10  5.26612866e-13 -4.37989397e-11 -3.95437514e-11\n",
      "  5.87737034e-01  2.62473001e-10  4.52419628e-01  1.70928543e-11\n",
      "  7.82463885e-01  4.12309261e-11 -4.67223232e-11 -3.70271167e-11\n",
      "  1.64271536e-01  4.73749632e-10  1.12039496e-01  9.85797607e-11\n",
      "  3.68834863e-01  4.52511119e-11 -5.93134613e-11 -5.64672167e-11\n",
      "  1.99058905e+00  1.44879791e-10  2.10409976e+00  7.74671219e-11\n",
      "  9.07576470e-11  2.37303396e-11 -2.00371060e-11 -2.07733404e-11\n",
      "  7.30937708e-01  3.35429674e-10  1.66857658e+00  6.60246492e-01\n",
      "  1.06475347e+00  7.91800488e-01  3.66170308e-10  1.79484142e-10\n",
      "  4.21263371e-01  3.28168406e-10  9.84240517e-01  4.52966436e-01\n",
      "  9.12321049e-01  5.36396660e-01  7.82463885e-01  4.44213701e-01\n",
      "  1.18414716e-01  5.93255704e-10  3.08575756e-01  1.73849408e-01\n",
      "  2.99408569e-01  3.20033373e-01  3.68834863e-01  1.78514150e-01]\n"
     ]
    }
   ],
   "source": [
    "x, v = solve(a, b, r)\n",
    "print('Solution:', x)"
   ]
  },
  {
   "cell_type": "code",
   "execution_count": 8,
   "metadata": {},
   "outputs": [
    {
     "name": "stdout",
     "output_type": "stream",
     "text": [
      "{(0, 0, 0): ('NOOP', 0.9999999998698197), (0, 0, 1): ('NOOP', 4.5204986463029785e-11), (0, 0, 2): ('NOOP', 3.3074373067535696e-13), (0, 1, 0): ('NOOP', 4.109393471745273e-11), (0, 1, 1): ('NOOP', 2.172914343771297e-11), (0, 1, 2): ('NOOP', 3.3074373067535696e-13), (0, 2, 0): ('NOOP', -2.658573232007977e-12), (0, 2, 1): ('NOOP', 1.7232693443773592e-11), (0, 2, 2): ('NOOP', 3.3074373067535696e-13), (0, 3, 0): ('NOOP', 3.3074373067535696e-13), (0, 3, 1): ('NOOP', 3.3074373067535696e-13), (0, 3, 2): ('NOOP', 3.3074373067535696e-13), (1, 0, 0): ('RECHARGE', 1.9905890523380603), (1, 0, 1): ('DODGE', 1.8565698385933689), (1, 0, 2): ('DODGE', 1.1593558398255208e-10), (1, 1, 0): ('RECHARGE', 2.104099755377974), (1, 1, 1): ('SHOOT', 1.999999999739638), (1, 1, 2): ('SHOOT', 9.000821101953051e-11), (1, 2, 0): ('RECHARGE', 9.075764703114352e-11), (1, 2, 1): ('SHOOT', 8.197326978236431e-11), (1, 2, 2): ('SHOOT', 4.3051948048433444e-11), (1, 3, 0): ('RECHARGE', -2.0037106033751463e-11), (1, 3, 1): ('SHOOT', -5.7349310468528895e-12), (1, 3, 2): ('SHOOT', 3.398381402509208e-11), (2, 0, 0): ('RECHARGE', 0.7309377078277622), (2, 0, 1): ('DODGE', 1.0300353372270716), (2, 0, 2): ('DODGE', 2.6841336325743506e-10), (2, 1, 0): ('RECHARGE', 1.6685765776736006), (2, 1, 1): ('DODGE', 0.8956283794483954), (2, 1, 2): ('SHOOT', 0.5281971935503909), (2, 2, 0): ('RECHARGE', 1.0647534717556715), (2, 2, 1): ('RECHARGE', 0.7918004884845719), (2, 2, 2): ('SHOOT', 0.6334403907871843), (2, 3, 0): ('RECHARGE', 3.6617030829271103e-10), (2, 3, 1): ('RECHARGE', 1.7948414248535077e-10), (2, 3, 2): ('SHOOT', 1.8424610703359374e-10), (3, 0, 0): ('RECHARGE', 0.42126337108645545), (3, 0, 1): ('DODGE', 0.5877370344113949), (3, 0, 2): ('DODGE', 2.624730014003781e-10), (3, 1, 0): ('RECHARGE', 0.9842405165916627), (3, 1, 1): ('RECHARGE', 0.45296643605887926), (3, 1, 2): ('SHOOT', 0.36237314882997357), (3, 2, 0): ('RECHARGE', 0.9123210485489249), (3, 2, 1): ('DODGE', 0.7824638852165051), (3, 2, 2): ('SHOOT', 0.42911732778922257), (3, 3, 0): ('RECHARGE', 0.7824638851570191), (3, 3, 1): ('RECHARGE', 0.4442137010372852), (3, 3, 2): ('SHOOT', 0.35537096086683784), (4, 0, 0): ('RECHARGE', 0.11841471571168309), (4, 0, 1): ('DODGE', 0.16427153551742762), (4, 0, 2): ('DODGE', 4.737496315033246e-10), (4, 1, 0): ('RECHARGE', 0.30857575591110686), (4, 1, 1): ('RECHARGE', 0.17384940849375835), (4, 1, 2): ('SHOOT', 0.13907952669574972), (4, 2, 0): ('RECHARGE', 0.2994085688289783), (4, 2, 1): ('DODGE', 0.36883486293027834), (4, 2, 2): ('SHOOT', 0.256026698106878), (4, 3, 0): ('RECHARGE', 0.3688348628503793), (4, 3, 1): ('RECHARGE', 0.17851414957374057), (4, 3, 2): ('SHOOT', 1.142811319715147)}\n"
     ]
    }
   ],
   "source": [
    "policy = {state: ('VOID', -1e100) for state in states}\n",
    "for i in range(len(actions)):\n",
    "    _s, _a = actions[i]\n",
    "    if policy[_s][1] < x[i]:\n",
    "        policy[_s] = (_a, x[i])\n",
    "print(policy)"
   ]
  },
  {
   "cell_type": "code",
   "execution_count": 9,
   "metadata": {},
   "outputs": [],
   "source": [
    "result = {\n",
    "    'a': a.tolist(),\n",
    "    'r': r.tolist(),\n",
    "    'alpha': b.tolist(),\n",
    "    'x': x.tolist(),\n",
    "    'policy': [[list(key), value[0]] for key, value in policy.items()],\n",
    "    'objective': v\n",
    "}"
   ]
  },
  {
   "cell_type": "code",
   "execution_count": 10,
   "metadata": {},
   "outputs": [],
   "source": [
    "import json\n",
    "with open('answers.json', 'w') as f:\n",
    "    f.write(json.dumps(result))"
   ]
  }
 ],
 "metadata": {
  "kernelspec": {
   "display_name": "Python 3",
   "language": "python",
   "name": "python3"
  },
  "language_info": {
   "codemirror_mode": {
    "name": "ipython",
    "version": 3
   },
   "file_extension": ".py",
   "mimetype": "text/x-python",
   "name": "python",
   "nbconvert_exporter": "python",
   "pygments_lexer": "ipython3",
   "version": "3.7.3"
  }
 },
 "nbformat": 4,
 "nbformat_minor": 4
}
