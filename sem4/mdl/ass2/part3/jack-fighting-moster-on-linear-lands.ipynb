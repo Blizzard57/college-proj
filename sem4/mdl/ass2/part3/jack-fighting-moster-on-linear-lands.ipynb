{
 "cells": [
  {
   "cell_type": "code",
   "execution_count": 1,
   "metadata": {
    "_cell_guid": "b1076dfc-b9ad-4769-8c92-a6c4dae69d19",
    "_uuid": "8f2839f25d086af736a60e9eeb907d3b93b6e0e5"
   },
   "outputs": [],
   "source": [
    "import numpy as np # linear algebra\n",
    "import pandas as pd # data processing, CSV file I/O (e.g. pd.read_csv)\n",
    "import cvxpy as cp\n",
    "import seaborn as sns"
   ]
  },
  {
   "cell_type": "markdown",
   "metadata": {},
   "source": [
    "# Defining the Game"
   ]
  },
  {
   "cell_type": "code",
   "execution_count": 2,
   "metadata": {},
   "outputs": [
    {
     "name": "stdout",
     "output_type": "stream",
     "text": [
      "States count: 60 & Actions count: 100\n",
      "*   States are: [(0, 0, 0), (0, 0, 1), (0, 0, 2), (0, 1, 0), (0, 1, 1), (0, 1, 2), (0, 2, 0), (0, 2, 1), (0, 2, 2), (0, 3, 0), (0, 3, 1), (0, 3, 2), (1, 0, 0), (1, 0, 1), (1, 0, 2), (1, 1, 0), (1, 1, 1), (1, 1, 2), (1, 2, 0), (1, 2, 1), (1, 2, 2), (1, 3, 0), (1, 3, 1), (1, 3, 2), (2, 0, 0), (2, 0, 1), (2, 0, 2), (2, 1, 0), (2, 1, 1), (2, 1, 2), (2, 2, 0), (2, 2, 1), (2, 2, 2), (2, 3, 0), (2, 3, 1), (2, 3, 2), (3, 0, 0), (3, 0, 1), (3, 0, 2), (3, 1, 0), (3, 1, 1), (3, 1, 2), (3, 2, 0), (3, 2, 1), (3, 2, 2), (3, 3, 0), (3, 3, 1), (3, 3, 2), (4, 0, 0), (4, 0, 1), (4, 0, 2), (4, 1, 0), (4, 1, 1), (4, 1, 2), (4, 2, 0), (4, 2, 1), (4, 2, 2), (4, 3, 0), (4, 3, 1), (4, 3, 2)]\n",
      "*   Actions are: [((0, 0, 0), 'NOOP'), ((0, 0, 1), 'NOOP'), ((0, 0, 2), 'NOOP'), ((0, 1, 0), 'NOOP'), ((0, 1, 1), 'NOOP'), ((0, 1, 2), 'NOOP'), ((0, 2, 0), 'NOOP'), ((0, 2, 1), 'NOOP'), ((0, 2, 2), 'NOOP'), ((0, 3, 0), 'NOOP'), ((0, 3, 1), 'NOOP'), ((0, 3, 2), 'NOOP'), ((1, 1, 1), 'SHOOT'), ((1, 1, 2), 'SHOOT'), ((1, 2, 1), 'SHOOT'), ((1, 2, 2), 'SHOOT'), ((1, 3, 1), 'SHOOT'), ((1, 3, 2), 'SHOOT'), ((2, 1, 1), 'SHOOT'), ((2, 1, 2), 'SHOOT'), ((2, 2, 1), 'SHOOT'), ((2, 2, 2), 'SHOOT'), ((2, 3, 1), 'SHOOT'), ((2, 3, 2), 'SHOOT'), ((3, 1, 1), 'SHOOT'), ((3, 1, 2), 'SHOOT'), ((3, 2, 1), 'SHOOT'), ((3, 2, 2), 'SHOOT'), ((3, 3, 1), 'SHOOT'), ((3, 3, 2), 'SHOOT'), ((4, 1, 1), 'SHOOT'), ((4, 1, 2), 'SHOOT'), ((4, 2, 1), 'SHOOT'), ((4, 2, 2), 'SHOOT'), ((4, 3, 1), 'SHOOT'), ((4, 3, 2), 'SHOOT'), ((1, 0, 1), 'DODGE'), ((1, 0, 2), 'DODGE'), ((1, 1, 1), 'DODGE'), ((1, 1, 2), 'DODGE'), ((1, 2, 1), 'DODGE'), ((1, 2, 2), 'DODGE'), ((1, 3, 1), 'DODGE'), ((1, 3, 2), 'DODGE'), ((2, 0, 1), 'DODGE'), ((2, 0, 2), 'DODGE'), ((2, 1, 1), 'DODGE'), ((2, 1, 2), 'DODGE'), ((2, 2, 1), 'DODGE'), ((2, 2, 2), 'DODGE'), ((2, 3, 1), 'DODGE'), ((2, 3, 2), 'DODGE'), ((3, 0, 1), 'DODGE'), ((3, 0, 2), 'DODGE'), ((3, 1, 1), 'DODGE'), ((3, 1, 2), 'DODGE'), ((3, 2, 1), 'DODGE'), ((3, 2, 2), 'DODGE'), ((3, 3, 1), 'DODGE'), ((3, 3, 2), 'DODGE'), ((4, 0, 1), 'DODGE'), ((4, 0, 2), 'DODGE'), ((4, 1, 1), 'DODGE'), ((4, 1, 2), 'DODGE'), ((4, 2, 1), 'DODGE'), ((4, 2, 2), 'DODGE'), ((4, 3, 1), 'DODGE'), ((4, 3, 2), 'DODGE'), ((1, 0, 0), 'RECHARGE'), ((1, 0, 1), 'RECHARGE'), ((1, 1, 0), 'RECHARGE'), ((1, 1, 1), 'RECHARGE'), ((1, 2, 0), 'RECHARGE'), ((1, 2, 1), 'RECHARGE'), ((1, 3, 0), 'RECHARGE'), ((1, 3, 1), 'RECHARGE'), ((2, 0, 0), 'RECHARGE'), ((2, 0, 1), 'RECHARGE'), ((2, 1, 0), 'RECHARGE'), ((2, 1, 1), 'RECHARGE'), ((2, 2, 0), 'RECHARGE'), ((2, 2, 1), 'RECHARGE'), ((2, 3, 0), 'RECHARGE'), ((2, 3, 1), 'RECHARGE'), ((3, 0, 0), 'RECHARGE'), ((3, 0, 1), 'RECHARGE'), ((3, 1, 0), 'RECHARGE'), ((3, 1, 1), 'RECHARGE'), ((3, 2, 0), 'RECHARGE'), ((3, 2, 1), 'RECHARGE'), ((3, 3, 0), 'RECHARGE'), ((3, 3, 1), 'RECHARGE'), ((4, 0, 0), 'RECHARGE'), ((4, 0, 1), 'RECHARGE'), ((4, 1, 0), 'RECHARGE'), ((4, 1, 1), 'RECHARGE'), ((4, 2, 0), 'RECHARGE'), ((4, 2, 1), 'RECHARGE'), ((4, 3, 0), 'RECHARGE'), ((4, 3, 1), 'RECHARGE')]\n"
     ]
    }
   ],
   "source": [
    "states = [(h, a, s) for h in [0, 1, 2, 3, 4] for a in [0, 1, 2, 3] for s in [0, 1, 2]]\n",
    "actions = [(state, 'NOOP') for state in states if state[0] == 0] + \\\n",
    "            [(state, 'SHOOT') for state in states if state[0] != 0 and state[1] != 0 and state[2] != 0] + \\\n",
    "            [(state, 'DODGE') for state in states if state[0] != 0 and state[2] != 0] + \\\n",
    "            [(state, 'RECHARGE') for state in states if state[0] != 0 and state[2] != 2]\n",
    "print('States count:', len(states), '& Actions count:', len(actions))\n",
    "print('*   States are:', states)\n",
    "print('*   Actions are:', actions)"
   ]
  },
  {
   "cell_type": "code",
   "execution_count": 3,
   "metadata": {},
   "outputs": [
    {
     "name": "stdout",
     "output_type": "stream",
     "text": [
      "On action ((0, 0, 0), 'NOOP') going to (0, 0, 0)\n",
      "    probability: 0.0\n",
      "    reward: 0.0\n",
      "    alpha: 0.0\n",
      "    kronecker delta: 1.0\n"
     ]
    }
   ],
   "source": [
    "def probability(state, action):\n",
    "    (hf, af, sf) = state\n",
    "    (hi, ai, si), act = action\n",
    "    if act == 'SHOOT':\n",
    "        if si - 1 == sf and (hi - 1 == hf or hi == hf) and ai - 1 == af:\n",
    "            return 0.5\n",
    "        else:\n",
    "            return 0\n",
    "    elif act == 'DODGE':\n",
    "        if hi != hf:\n",
    "            return 0\n",
    "        if ai == 3 and af == 3:\n",
    "            arrow_mult = 1.0\n",
    "        elif ai + 1 == af:\n",
    "            arrow_mult = 0.8\n",
    "        elif ai == af:\n",
    "            arrow_mult = 0.2\n",
    "        else:\n",
    "            arrow_mult = 0.0\n",
    "        if si == 2 and sf == 1:\n",
    "            stamn_mult = 0.8\n",
    "        elif si == 2 and sf == 0:\n",
    "            stamn_mult = 0.2\n",
    "        elif si == 1 and sf == 0:\n",
    "            stamn_mult = 1.0\n",
    "        else:\n",
    "            stamn_mult = 0.0\n",
    "        return arrow_mult * stamn_mult\n",
    "    elif act == 'RECHARGE':\n",
    "        if hi != hf or ai != af:\n",
    "            return 0.0\n",
    "        elif si + 1 == sf:\n",
    "            return 0.8\n",
    "        elif si == sf:\n",
    "            return 0.2 # Removing probabilities of the self loop\n",
    "        else:\n",
    "            return 0.0\n",
    "    elif act == 'NOOP':\n",
    "        if (hi, ai, si) == (hf, af, sf):\n",
    "            return 0.0\n",
    "        else:\n",
    "            return 0.0\n",
    "    else:\n",
    "        raise ValueError(\"Invalid Action specified: \" + act)\n",
    "\n",
    "def reward(action):\n",
    "    (hi, ai, si), act = action\n",
    "    if act == 'NOOP':\n",
    "        return 0.0\n",
    "    else:\n",
    "        return -10.0 # TODO: Determine using team number\n",
    "\n",
    "def initial(state):\n",
    "    return 1.0 if state == (4, 3, 2) else 0.0\n",
    "\n",
    "def delta(state, action):\n",
    "    (hf, af, sf) = state\n",
    "    (hi, ai, si), act = action\n",
    "    if hf == hi and af == ai and sf == si:\n",
    "        return 1.0\n",
    "    else:\n",
    "        return 0.0\n",
    "\n",
    "print('On action', actions[0], 'going to', states[0])\n",
    "print('    probability:', probability(states[0], actions[0]))\n",
    "print('    reward:', reward(actions[0]))\n",
    "print('    alpha:', initial(states[0]))\n",
    "print('    kronecker delta:', delta(states[0], actions[0]))"
   ]
  },
  {
   "cell_type": "markdown",
   "metadata": {},
   "source": [
    "# Linear Programming Solver"
   ]
  },
  {
   "cell_type": "code",
   "execution_count": 4,
   "metadata": {
    "_cell_guid": "79c7e3d0-c299-4dcb-8224-4455121ee9b0",
    "_uuid": "d629ff2d2480ee46fbb7e2d37f6b5fab8052498a"
   },
   "outputs": [
    {
     "name": "stdout",
     "output_type": "stream",
     "text": [
      "Solved with status optimal and value 20.0\n",
      "Variables and Values: (array([10., 10.]), 20.0)\n"
     ]
    }
   ],
   "source": [
    "def solve(a, b, r):\n",
    "    \"\"\"\n",
    "    Solves the Convex optimization problem \n",
    "    maximize rx under the constraint ax = b \n",
    "    \"\"\"\n",
    "    states, doables = a.shape[0], a.shape[1]\n",
    "    x = cp.Variable(doables)\n",
    "    \n",
    "    objective = cp.Maximize(r @ x)\n",
    "    constraints = [a @ x == b, x >= 0]\n",
    "    prob = cp.Problem(objective, constraints)\n",
    "\n",
    "    result = prob.solve()\n",
    "    print('Solved with status', prob.status, 'and value', prob.value)\n",
    "    return x.value, prob.value\n",
    "\n",
    "\n",
    "# Tiny little test to check if everything is working fine\n",
    "_a = np.array([[1, 1], [0, 1]])\n",
    "_b = np.array([20, 10])\n",
    "_r = np.array([1, 1])\n",
    "# max(x + y) under x + y = 20 and y = 10\n",
    "print(\"Variables and Values:\", solve(_a, _b, _r))"
   ]
  },
  {
   "cell_type": "code",
   "execution_count": 5,
   "metadata": {},
   "outputs": [
    {
     "name": "stdout",
     "output_type": "stream",
     "text": [
      "A: [[ 1.   0.   0.  ...  0.   0.   0. ]\n",
      " [ 0.   1.   0.  ...  0.   0.   0. ]\n",
      " [ 0.   0.   1.  ...  0.   0.   0. ]\n",
      " ...\n",
      " [ 0.   0.   0.  ...  0.   0.8  0. ]\n",
      " [ 0.   0.   0.  ...  0.  -0.8  0.8]\n",
      " [ 0.   0.   0.  ...  0.   0.  -0.8]]\n",
      "Alpha: [0. 0. 0. 0. 0. 0. 0. 0. 0. 0. 0. 0. 0. 0. 0. 0. 0. 0. 0. 0. 0. 0. 0. 0.\n",
      " 0. 0. 0. 0. 0. 0. 0. 0. 0. 0. 0. 0. 0. 0. 0. 0. 0. 0. 0. 0. 0. 0. 0. 0.\n",
      " 0. 0. 0. 0. 0. 0. 0. 0. 0. 0. 0. 1.]\n",
      "r: [  0.   0.   0.   0.   0.   0.   0.   0.   0.   0.   0.   0. -10. -10.\n",
      " -10. -10. -10. -10. -10. -10. -10. -10. -10. -10. -10. -10. -10. -10.\n",
      " -10. -10. -10. -10. -10. -10. -10. -10. -10. -10. -10. -10. -10. -10.\n",
      " -10. -10. -10. -10. -10. -10. -10. -10. -10. -10. -10. -10. -10. -10.\n",
      " -10. -10. -10. -10. -10. -10. -10. -10. -10. -10. -10. -10. -10. -10.\n",
      " -10. -10. -10. -10. -10. -10. -10. -10. -10. -10. -10. -10. -10. -10.\n",
      " -10. -10. -10. -10. -10. -10. -10. -10. -10. -10. -10. -10. -10. -10.\n",
      " -10. -10.]\n"
     ]
    }
   ],
   "source": [
    "n_states, n_actions = len(states), len(actions)\n",
    "a = np.zeros(shape=(n_states, n_actions))\n",
    "r = np.zeros(shape=(n_actions))\n",
    "b = np.zeros(shape=(n_states))\n",
    "\n",
    "for i in range(n_states):\n",
    "    for j in range(n_actions):\n",
    "        a[i, j] = delta(states[i], actions[j]) - probability(states[i], actions[j])\n",
    "for i in range(n_states):\n",
    "    b[i] = initial(states[i])\n",
    "for i in range(n_actions):\n",
    "    r[i] = reward(actions[i])\n",
    "    \n",
    "print('A:', a)\n",
    "print('Alpha:', b)\n",
    "print('r:', r)"
   ]
  },
  {
   "cell_type": "markdown",
   "metadata": {},
   "source": [
    "The following function just dumps the A matrix for checking manually against expected probabilities"
   ]
  },
  {
   "cell_type": "code",
   "execution_count": 6,
   "metadata": {},
   "outputs": [],
   "source": [
    "def dump_matrix():\n",
    "    import json\n",
    "    _a_test = a.tolist()\n",
    "    with open('matrix_sol.test', 'w') as f:\n",
    "        f.write(json.dumps(_a_test))\n",
    "        \n",
    "dump_matrix()"
   ]
  },
  {
   "cell_type": "markdown",
   "metadata": {},
   "source": [
    "# Solving and Answering"
   ]
  },
  {
   "cell_type": "code",
   "execution_count": 7,
   "metadata": {},
   "outputs": [
    {
     "name": "stdout",
     "output_type": "stream",
     "text": [
      "Solved with status optimal and value -295.62499999556303\n",
      "Solution: [ 1.00000000e+00  4.67596490e-11  2.62815741e-13  4.26293184e-11\n",
      "  2.23713367e-11  2.62815741e-13 -3.38149282e-12  1.74638162e-11\n",
      "  2.62815741e-13  2.62815741e-13  2.62815741e-13  2.62815741e-13\n",
      "  2.00000000e+00  9.31952762e-11  8.50658718e-11  4.44081997e-11\n",
      " -7.09897351e-12  3.45439997e-11  4.42418857e-01  5.26411716e-01\n",
      "  4.00009629e-01  6.31159798e-01  1.69850016e-10  1.94067330e-10\n",
      "  3.14166700e-01  3.61092059e-01  2.69002682e-01  4.25701218e-01\n",
      "  2.72087877e-01  3.57949465e-01  1.24201960e-01  1.38980213e-01\n",
      "  1.86732562e-01  2.55345224e-01  1.51773354e-01  1.14296669e+00\n",
      "  1.85551911e+00  1.24890020e-10 -1.76568476e-11 -3.06727073e-11\n",
      "  6.07880513e-11 -2.65434066e-11 -5.21076341e-11 -5.34016789e-11\n",
      "  1.02755583e+00  2.78622646e-10  8.95188445e-01  5.68635535e-11\n",
      "  4.55692025e-10 -1.24039703e-13 -4.69502835e-11 -4.19255663e-11\n",
      "  5.86525583e-01  2.73211623e-10  4.52940687e-01  2.18617487e-11\n",
      "  7.87546677e-01  4.46654293e-11 -5.10747840e-11 -4.04022997e-11\n",
      "  1.64488858e-01  4.74715500e-10  1.11809758e-01  9.99164388e-11\n",
      "  3.68425051e-01  5.37872881e-11 -6.38522707e-11 -6.25385056e-11\n",
      "  1.99039156e+00  1.56113723e-10  2.10552513e+00  7.77659687e-11\n",
      "  9.14594535e-11  2.20896955e-11 -2.32990418e-11 -2.38768661e-11\n",
      "  7.29754931e-01  3.48244901e-10  1.66948564e+00  6.58014645e-01\n",
      "  1.06524337e+00  7.88949747e-01  3.84961082e-10  1.89126528e-10\n",
      "  4.20611808e-01  3.41565414e-10  9.84595282e-01  4.51365074e-01\n",
      "  9.14740626e-01  5.32126522e-01  7.87546677e-01  4.47436831e-01\n",
      "  1.18748440e-01  5.93994900e-10  3.09149149e-01  1.73725266e-01\n",
      "  2.98774367e-01  3.19181530e-01  3.68425051e-01  1.78708358e-01]\n"
     ]
    }
   ],
   "source": [
    "x, v = solve(a, b, r)\n",
    "print('Solution:', x)"
   ]
  },
  {
   "cell_type": "code",
   "execution_count": 8,
   "metadata": {},
   "outputs": [
    {
     "name": "stdout",
     "output_type": "stream",
     "text": [
      "{(0, 0, 0): ('NOOP', 0.9999999998699242), (0, 0, 1): ('NOOP', 4.6759648999919543e-11), (0, 0, 2): ('NOOP', 2.6281574140062107e-13), (0, 1, 0): ('NOOP', 4.2629318351434804e-11), (0, 1, 1): ('NOOP', 2.2371336698614843e-11), (0, 1, 2): ('NOOP', 2.6281574140062107e-13), (0, 2, 0): ('NOOP', -3.3814928249998106e-12), (0, 2, 1): ('NOOP', 1.7463816204340943e-11), (0, 2, 2): ('NOOP', 2.6281574140062107e-13), (0, 3, 0): ('NOOP', 2.6281574140062107e-13), (0, 3, 1): ('NOOP', 2.6281574140062107e-13), (0, 3, 2): ('NOOP', 2.6281574140062107e-13), (1, 0, 0): ('RECHARGE', 1.9903915624547792), (1, 0, 1): ('DODGE', 1.8555191078568578), (1, 0, 2): ('DODGE', 1.248900201076138e-10), (1, 1, 0): ('RECHARGE', 2.105525126126352), (1, 1, 1): ('SHOOT', 1.9999999997398465), (1, 1, 2): ('SHOOT', 9.319527621799763e-11), (1, 2, 0): ('RECHARGE', 9.145945352466877e-11), (1, 2, 1): ('SHOOT', 8.506587181271706e-11), (1, 2, 2): ('SHOOT', 4.440819972348678e-11), (1, 3, 0): ('RECHARGE', -2.32990417539963e-11), (1, 3, 1): ('SHOOT', -7.098973505580903e-12), (1, 3, 2): ('SHOOT', 3.454399968499935e-11), (2, 0, 0): ('RECHARGE', 0.7297549312630823), (2, 0, 1): ('DODGE', 1.0275558322484875), (2, 0, 2): ('DODGE', 2.7862264638825005e-10), (2, 1, 0): ('RECHARGE', 1.6694856379174676), (2, 1, 1): ('DODGE', 0.8951884452074131), (2, 1, 2): ('SHOOT', 0.5264117159026279), (2, 2, 0): ('RECHARGE', 1.0652433682535896), (2, 2, 1): ('RECHARGE', 0.7889497469650013), (2, 2, 2): ('SHOOT', 0.631159797572142), (2, 3, 0): ('RECHARGE', 3.8496108169826237e-10), (2, 3, 1): ('RECHARGE', 1.891265282159123e-10), (2, 3, 2): ('SHOOT', 1.9406732975191176e-10), (3, 0, 0): ('RECHARGE', 0.42061180837778395), (3, 0, 1): ('DODGE', 0.5865255825308255), (3, 0, 2): ('DODGE', 2.7321162313668787e-10), (3, 1, 0): ('RECHARGE', 0.9845952818911372), (3, 1, 1): ('DODGE', 0.45294068726879894), (3, 1, 2): ('SHOOT', 0.36109205904140157), (3, 2, 0): ('RECHARGE', 0.9147406257414876), (3, 2, 1): ('DODGE', 0.7875466766025233), (3, 2, 2): ('SHOOT', 0.4257012177888376), (3, 3, 0): ('RECHARGE', 0.7875466765374503), (3, 3, 1): ('RECHARGE', 0.4474368309671302), (3, 3, 2): ('SHOOT', 0.35794946481407797), (4, 0, 0): ('RECHARGE', 0.1187484396862097), (4, 0, 1): ('DODGE', 0.1644888578866776), (4, 0, 2): ('DODGE', 4.74715499936399e-10), (4, 1, 0): ('RECHARGE', 0.3091491487806061), (4, 1, 1): ('RECHARGE', 0.17372526646915956), (4, 1, 2): ('SHOOT', 0.13898021307502256), (4, 2, 0): ('RECHARGE', 0.2987743669288193), (4, 2, 1): ('DODGE', 0.3684250509307127), (4, 2, 2): ('SHOOT', 0.2553452236213897), (4, 3, 0): ('RECHARGE', 0.36842505084562527), (4, 3, 1): ('RECHARGE', 0.17870835790401), (4, 3, 2): ('SHOOT', 1.1429666863855545)}\n"
     ]
    }
   ],
   "source": [
    "policy = {state: ('VOID', -1e100) for state in states}\n",
    "for i in range(len(actions)):\n",
    "    _s, _a = actions[i]\n",
    "    if policy[_s][1] < x[i]:\n",
    "        policy[_s] = (_a, x[i])\n",
    "print(policy)"
   ]
  },
  {
   "cell_type": "code",
   "execution_count": 9,
   "metadata": {},
   "outputs": [],
   "source": [
    "result = {\n",
    "    'a': a.tolist(),\n",
    "    'r': r.tolist(),\n",
    "    'alpha': b.tolist(),\n",
    "    'x': x.tolist(),\n",
    "    'policy': [[list(key), value[0]] for key, value in policy.items()],\n",
    "    'objective': v\n",
    "}"
   ]
  },
  {
   "cell_type": "code",
   "execution_count": 10,
   "metadata": {},
   "outputs": [],
   "source": [
    "import json\n",
    "with open('answers.json', 'w') as f:\n",
    "    f.write(json.dumps(result))"
   ]
  },
  {
   "cell_type": "code",
   "execution_count": null,
   "metadata": {},
   "outputs": [],
   "source": []
  }
 ],
 "metadata": {
  "kernelspec": {
   "display_name": "Python 3",
   "language": "python",
   "name": "python3"
  },
  "language_info": {
   "codemirror_mode": {
    "name": "ipython",
    "version": 3
   },
   "file_extension": ".py",
   "mimetype": "text/x-python",
   "name": "python",
   "nbconvert_exporter": "python",
   "pygments_lexer": "ipython3",
   "version": "3.7.3"
  }
 },
 "nbformat": 4,
 "nbformat_minor": 4
}
