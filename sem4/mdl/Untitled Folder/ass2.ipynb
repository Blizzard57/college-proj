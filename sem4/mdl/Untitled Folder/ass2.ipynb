{
 "cells": [
  {
   "cell_type": "markdown",
   "metadata": {},
   "source": [
    "## MDL Assignment 2\n",
    "\n",
    "#### Roll No : 201811003, 2018114002"
   ]
  },
  {
   "cell_type": "code",
   "execution_count": 1,
   "metadata": {},
   "outputs": [],
   "source": [
    "import numpy as np"
   ]
  },
  {
   "cell_type": "code",
   "execution_count": 24,
   "metadata": {},
   "outputs": [],
   "source": [
    "# Global Constasts\n",
    "team_no = 16delta\n",
    "# Hence Y = 1\n",
    "# => Penalty = -10\n",
    "[penalty,gamma,delta] = [-10,0.99,10**-3]"
   ]
  },
  {
   "cell_type": "code",
   "execution_count": 27,
   "metadata": {},
   "outputs": [],
   "source": [
    "def prob(x):\n",
    "    return np.random.random() * 100 < x"
   ]
  },
  {
   "cell_type": "code",
   "execution_count": 28,
   "metadata": {},
   "outputs": [],
   "source": [
    "class Hero:\n",
    "    def __init__(self,char = 'lero'):\n",
    "        self.stamina = 100\n",
    "        self.arrows = 3\n",
    "        self.md_health = 100\n",
    "        self.state = 0\n",
    "        \n",
    "    def shoot(self):\n",
    "        if self.arrows > 0 and self.stamina > 0:\n",
    "            self.arrows -= 1\n",
    "            self.stamina -= 50\n",
    "            if prob(50):\n",
    "                self.md_health -= 25\n",
    "            return 0.50\n",
    "        return 1\n",
    "                \n",
    "    def dodge(self):\n",
    "        if self.stamina > 0:\n",
    "            if self.stamina == 100:\n",
    "                if prob(80):\n",
    "                    self.stamina = 50\n",
    "                    return 0.80\n",
    "                else:\n",
    "                    self.stamin = 0\n",
    "                    return 0.20\n",
    "            else:\n",
    "                self.stamina = 0\n",
    "                return 1\n",
    "            \n",
    "            if self.arrows < 3:\n",
    "                if prob(80):\n",
    "                    self.arrows += 1\n",
    "                    return 0.80\n",
    "                return 0.20\n",
    "            return 1\n",
    "        return 1\n",
    "                    \n",
    "    def recharge(self):\n",
    "        if self.stamina < 100:\n",
    "            if prob(80):\n",
    "                self.stamina += 50\n",
    "                return 0.80\n",
    "            return 0.20\n",
    "        return 1"
   ]
  },
  {
   "cell_type": "code",
   "execution_count": null,
   "metadata": {},
   "outputs": [],
   "source": [
    "## Table : shoot | dodge | recharge\n",
    "## Formula = penalty + gamma * sum ( prob(reaching) * val(state) )"
   ]
  }
 ],
 "metadata": {
  "kernelspec": {
   "display_name": "Python 3",
   "language": "python",
   "name": "python3"
  },
  "language_info": {
   "codemirror_mode": {
    "name": "ipython",
    "version": 3
   },
   "file_extension": ".py",
   "mimetype": "text/x-python",
   "name": "python",
   "nbconvert_exporter": "python",
   "pygments_lexer": "ipython3",
   "version": "3.7.3"
  }
 },
 "nbformat": 4,
 "nbformat_minor": 2
}
