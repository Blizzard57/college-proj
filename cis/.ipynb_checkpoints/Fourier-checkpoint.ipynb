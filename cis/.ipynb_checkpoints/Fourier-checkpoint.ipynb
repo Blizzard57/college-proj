{
 "cells": [
  {
   "cell_type": "code",
   "execution_count": 28,
   "metadata": {},
   "outputs": [],
   "source": [
    "import numpy as np\n",
    "import matplotlib.pyplot as plt\n",
    "import scipy.integrate"
   ]
  },
  {
   "cell_type": "markdown",
   "metadata": {},
   "source": [
    "## Original Function\n",
    "Plotting of the original data given"
   ]
  },
  {
   "cell_type": "code",
   "execution_count": 23,
   "metadata": {},
   "outputs": [
    {
     "data": {
      "text/plain": [
       "(-5.499974040416591,\n",
       " 5.499998763829361,\n",
       " -3.2999959206343714,\n",
       " 3.2999959206343714)"
      ]
     },
     "execution_count": 23,
     "metadata": {},
     "output_type": "execute_result"
    },
    {
     "data": {
      "image/png": "[encoded data removed]",
      "text/plain": [
       "<Figure size 432x288 with 1 Axes>"
      ]
     },
     "metadata": {},
     "output_type": "display_data"
    }
   ],
   "source": [
    "(a,b) = (5,3)\n",
    "x = np.array([])\n",
    "y = np.array([])\n",
    "for i in np.linspace(0,1,1000):\n",
    "    x = np.append(x,a*np.cos(i*2*np.pi))\n",
    "    y = np.append(y,b*np.sin(i*2*np.pi))\n",
    "plt.plot(x,y) #Equation of Ellipse\n",
    "plt.axis('scaled')"
   ]
  },
  {
   "cell_type": "code",
   "execution_count": 7,
   "metadata": {},
   "outputs": [],
   "source": [
    "c = np.array([])\n",
    "for m in range(2):\n",
    "    x = np.array([])\n",
    "    y = np.array([])\n",
    "    for i in np.linspace(0,1,1000):\n",
    "        x = np.append(x,a*np.cos(i*2*np.pi)*np.cos(2*np.pi*))\n",
    "        y = np.append(y,b*np.sin(i*2*np.pi))"
   ]
  },
  {
   "cell_type": "code",
   "execution_count": 36,
   "metadata": {},
   "outputs": [
    {
     "data": {
      "text/plain": [
       "5.683474524342813e-14"
      ]
     },
     "execution_count": 36,
     "metadata": {},
     "output_type": "execute_result"
    }
   ],
   "source": [
    "scipy.integrate.simps(y)"
   ]
  },
  {
   "cell_type": "code",
   "execution_count": null,
   "metadata": {},
   "outputs": [],
   "source": []
  }
 ],
 "metadata": {
  "kernelspec": {
   "display_name": "Python 3",
   "language": "python",
   "name": "python3"
  },
  "language_info": {
   "codemirror_mode": {
    "name": "ipython",
    "version": 3
   },
   "file_extension": ".py",
   "mimetype": "text/x-python",
   "name": "python",
   "nbconvert_exporter": "python",
   "pygments_lexer": "ipython3",
   "version": "3.6.7"
  }
 },
 "nbformat": 4,
 "nbformat_minor": 2
}
