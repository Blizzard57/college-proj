{
 "cells": [
  {
   "cell_type": "markdown",
   "metadata": {},
   "source": [
    "\n",
    "- Name : Kalp Shah\n",
    "- Roll No : 2018113003\n",
    "- Quiz : 18/03/2019"
   ]
  },
  {
   "cell_type": "markdown",
   "metadata": {},
   "source": [
    "## Requirements\n",
    "- Not allowed to use internet\n",
    "- Data on the computer can be accessed\n",
    "- Use markdown to explain code structure\n",
    "- Examples generated\n",
    "- Psuedocode\n",
    "- Doc String for function\n",
    "- Commenting of the code\n",
    "- Annotations in Graph\n",
    "- Correct Solution"
   ]
  },
  {
   "cell_type": "markdown",
   "metadata": {},
   "source": [
    "## Question \n",
    " To write a program that will balance a chemical equation, i.e. if given $H_2 + O_2 \\rightarrow H_2O$ balance it to $ H_2 + 0.5 O_2 \\rightarrow H_2O$"
   ]
  },
  {
   "cell_type": "markdown",
   "metadata": {},
   "source": [
    "## The Input Format\n",
    "Input will be taken in the format : \n",
    "\n",
    "Chemical formulae stored in different index of the numpy array. So if the chemcial Formulae is $K_2CrO_4$ write it as $K2,Cr1,O4$ with the first letter of the chemical Capital followed by the optional second letter in smalls followed by the Number(Required even if 1) followed by a comma(,)"
   ]
  },
  {
   "cell_type": "code",
   "execution_count": 88,
   "metadata": {},
   "outputs": [],
   "source": [
    "# Dependancies\n",
    "import numpy as np\n",
    "import re"
   ]
  },
  {
   "cell_type": "code",
   "execution_count": 268,
   "metadata": {},
   "outputs": [],
   "source": [
    "#Inputs\n",
    "\n",
    "reac = \"H2,O1\",\"O2,F2\",\"P2,O5\",\"C6,H12,O6\",\"H1,Cl1,O4\",\"K2,Cr2,O7\",\"H1,I1,O4\" ## Reactants \n",
    "prods = \"H2,O1\",\"P1,Br5\" ## Products\n",
    "len_reac = 7 ## No of Reactants\n",
    "len_prod = 2 ## No of Products"
   ]
  },
  {
   "cell_type": "markdown",
   "metadata": {},
   "source": [
    "## Explanation\n",
    "In the below piece of code, the original arrays are taken and split into individual Chemicals with thier number"
   ]
  },
  {
   "cell_type": "code",
   "execution_count": 274,
   "metadata": {},
   "outputs": [
    {
     "ename": "AttributeError",
     "evalue": "'numpy.ndarray' object has no attribute 'cols'",
     "output_type": "error",
     "traceback": [
      "\u001b[0;31m---------------------------------------------------------------------------\u001b[0m",
      "\u001b[0;31mAttributeError\u001b[0m                            Traceback (most recent call last)",
      "\u001b[0;32m<ipython-input-274-c8fea68ace69>\u001b[0m in \u001b[0;36m<module>\u001b[0;34m()\u001b[0m\n\u001b[1;32m     38\u001b[0m                 \u001b[0mtemp\u001b[0m \u001b[0;34m=\u001b[0m \u001b[0mnp\u001b[0m\u001b[0;34m.\u001b[0m\u001b[0mappend\u001b[0m\u001b[0;34m(\u001b[0m\u001b[0mtemp\u001b[0m\u001b[0;34m,\u001b[0m\u001b[0mint\u001b[0m\u001b[0;34m(\u001b[0m\u001b[0mitems\u001b[0m\u001b[0;34m[\u001b[0m\u001b[0;36m1\u001b[0m\u001b[0;34m]\u001b[0m\u001b[0;34m)\u001b[0m\u001b[0;34m)\u001b[0m\u001b[0;34m\u001b[0m\u001b[0;34m\u001b[0m\u001b[0m\n\u001b[1;32m     39\u001b[0m                 \u001b[0mtemp2\u001b[0m\u001b[0;34m=\u001b[0m\u001b[0mnp\u001b[0m\u001b[0;34m.\u001b[0m\u001b[0marray\u001b[0m\u001b[0;34m(\u001b[0m\u001b[0;34m[\u001b[0m\u001b[0mnp\u001b[0m\u001b[0;34m.\u001b[0m\u001b[0mzeros\u001b[0m\u001b[0;34m(\u001b[0m\u001b[0mi\u001b[0m\u001b[0;34m)\u001b[0m\u001b[0;34m]\u001b[0m\u001b[0;34m)\u001b[0m\u001b[0;34m\u001b[0m\u001b[0;34m\u001b[0m\u001b[0m\n\u001b[0;32m---> 40\u001b[0;31m                 \u001b[0mSolve\u001b[0m\u001b[0;34m.\u001b[0m\u001b[0mrow_insert\u001b[0m\u001b[0;34m(\u001b[0m\u001b[0;34m-\u001b[0m\u001b[0;36m1\u001b[0m\u001b[0;34m,\u001b[0m\u001b[0mtemp2\u001b[0m\u001b[0;34m)\u001b[0m\u001b[0;34m\u001b[0m\u001b[0;34m\u001b[0m\u001b[0m\n\u001b[0m\u001b[1;32m     41\u001b[0m             \u001b[0mprint\u001b[0m\u001b[0;34m(\u001b[0m\u001b[0mi\u001b[0m\u001b[0;34m)\u001b[0m\u001b[0;34m\u001b[0m\u001b[0;34m\u001b[0m\u001b[0m\n\u001b[1;32m     42\u001b[0m             \u001b[0mprint\u001b[0m\u001b[0;34m(\u001b[0m\u001b[0mtemp\u001b[0m\u001b[0;34m)\u001b[0m\u001b[0;34m\u001b[0m\u001b[0;34m\u001b[0m\u001b[0m\n",
      "\u001b[0;32m/usr/lib/python3/dist-packages/sympy/matrices/common.py\u001b[0m in \u001b[0;36mrow_insert\u001b[0;34m(self, pos, other)\u001b[0m\n\u001b[1;32m    448\u001b[0m             \u001b[0mpos\u001b[0m \u001b[0;34m=\u001b[0m \u001b[0mself\u001b[0m\u001b[0;34m.\u001b[0m\u001b[0mrows\u001b[0m\u001b[0;34m\u001b[0m\u001b[0;34m\u001b[0m\u001b[0m\n\u001b[1;32m    449\u001b[0m \u001b[0;34m\u001b[0m\u001b[0m\n\u001b[0;32m--> 450\u001b[0;31m         \u001b[0;32mif\u001b[0m \u001b[0mself\u001b[0m\u001b[0;34m.\u001b[0m\u001b[0mcols\u001b[0m \u001b[0;34m!=\u001b[0m \u001b[0mother\u001b[0m\u001b[0;34m.\u001b[0m\u001b[0mcols\u001b[0m\u001b[0;34m:\u001b[0m\u001b[0;34m\u001b[0m\u001b[0;34m\u001b[0m\u001b[0m\n\u001b[0m\u001b[1;32m    451\u001b[0m             raise ShapeError(\n\u001b[1;32m    452\u001b[0m                 \"`self` and `other` must have the same number of columns.\")\n",
      "\u001b[0;31mAttributeError\u001b[0m: 'numpy.ndarray' object has no attribute 'cols'"
     ]
    }
   ],
   "source": [
    "from sympy import *\n",
    "import re\n",
    "\n",
    "Solve=Matrix()\n",
    "Symbol=np.array([])\n",
    "\n",
    "## Seperation of Reactants\n",
    "if len_reac == 1:\n",
    "    n = np.array(reac.split(\",\"))\n",
    "    for i in range(n.size):\n",
    "        flag = 0\n",
    "        match = re.match(r\"([a-z]+)(\\d+)\", n[i], re.I)\n",
    "        if match:\n",
    "            items = match.groups()\n",
    "        for i in range(Symbol.size):\n",
    "            if items[0] == Symbol[i]:\n",
    "                flag = 1 \n",
    "                temp[i] = items[1]\n",
    "        if flag == 0:\n",
    "            Symbol=np.append(Symbol,items[0])\n",
    "            temp = np.append(temp,int(items[1]))\n",
    "else :\n",
    "    for i in range(len_reac):\n",
    "        n = reac[i].split(\",\")\n",
    "        Solve = Solve.col_insert(0,temp)\n",
    "        temp = np.zeros(Symbol.size)\n",
    "        for na in n:\n",
    "            flag = 0\n",
    "            match = re.match(r\"([a-z]+)(\\d+)\", na, re.I)\n",
    "            if match:\n",
    "                items = match.groups()\n",
    "            for i in range(Symbol.size):\n",
    "                if items[0] == Symbol[i]:\n",
    "                    flag = 1\n",
    "                    temp[i] = items[1]\n",
    "            if flag == 0 :\n",
    "                Symbol=np.append(Symbol,items[0])\n",
    "                temp = np.append(temp,int(items[1]))\n",
    "                temp2=np.array([np.zeros(i)])\n",
    "                Solve.row_insert(-1,temp2)\n",
    "            print(i)\n",
    "            print(temp)\n",
    "print(Symbol)\n",
    "                \n",
    "## Seperation of Products\n",
    "if len_prod == 1:\n",
    "    n = np.array(prods.split(\",\"))\n",
    "    for i in range(n.size):\n",
    "        flag = 0\n",
    "        match = re.match(r\"([a-z]+)(\\d+)\", n[i], re.I)\n",
    "        if match:\n",
    "            items = match.groups()\n",
    "        for i in range(Symbol.size):\n",
    "            if items[0] == Symbol[i]:\n",
    "                flag = 1\n",
    "                temp[i] = items[1]\n",
    "        if flag == 0:\n",
    "            print(\"System not Solvable\")\n",
    "else :\n",
    "    for i in range(len_prod):\n",
    "        n = prods[i].split(\",\")\n",
    "        for na in n:\n",
    "            flag=0\n",
    "            match = re.match(r\"([a-z]+)(\\d+)\", na, re.I)\n",
    "            if match:\n",
    "                items = match.groups()\n",
    "            for i in range(Symbol.size):\n",
    "                if items[0] == Symbol[i]:\n",
    "                    flag = 1\n",
    "                    temp[i] = items[1]\n",
    "            if flag == 0:\n",
    "                print(\"System not Solvable\")"
   ]
  },
  {
   "cell_type": "code",
   "execution_count": 152,
   "metadata": {},
   "outputs": [
    {
     "data": {
      "text/plain": [
       "['H2', 'O1']"
      ]
     },
     "execution_count": 152,
     "metadata": {},
     "output_type": "execute_result"
    }
   ],
   "source": [
    "prods.split(\",\")"
   ]
  },
  {
   "cell_type": "code",
   "execution_count": null,
   "metadata": {},
   "outputs": [],
   "source": []
  }
 ],
 "metadata": {
  "kernelspec": {
   "display_name": "Python 3",
   "language": "python",
   "name": "python3"
  },
  "language_info": {
   "codemirror_mode": {
    "name": "ipython",
    "version": 3
   },
   "file_extension": ".py",
   "mimetype": "text/x-python",
   "name": "python",
   "nbconvert_exporter": "python",
   "pygments_lexer": "ipython3",
   "version": "3.6.7"
  }
 },
 "nbformat": 4,
 "nbformat_minor": 2
}
